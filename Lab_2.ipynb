{
  "nbformat": 4,
  "nbformat_minor": 0,
  "metadata": {
    "colab": {
      "provenance": [],
      "gpuType": "T4"
    },
    "kernelspec": {
      "name": "python3",
      "display_name": "Python 3"
    },
    "language_info": {
      "name": "python"
    },
    "accelerator": "GPU",
    "widgets": {
      "application/vnd.jupyter.widget-state+json": {
        "3bd9232a672e414ca90247d170614f08": {
          "model_module": "@jupyter-widgets/controls",
          "model_name": "HBoxModel",
          "model_module_version": "1.5.0",
          "state": {
            "_dom_classes": [],
            "_model_module": "@jupyter-widgets/controls",
            "_model_module_version": "1.5.0",
            "_model_name": "HBoxModel",
            "_view_count": null,
            "_view_module": "@jupyter-widgets/controls",
            "_view_module_version": "1.5.0",
            "_view_name": "HBoxView",
            "box_style": "",
            "children": [
              "IPY_MODEL_92a2b5ce2f0141a882e7e4e999585a22",
              "IPY_MODEL_1a24d4711b2d47089e31aa4a96aecdec",
              "IPY_MODEL_4c5d6169390e441496ebdbd6d9e979d3"
            ],
            "layout": "IPY_MODEL_55f9409cf0544869a731e6fd29cd4d27"
          }
        },
        "92a2b5ce2f0141a882e7e4e999585a22": {
          "model_module": "@jupyter-widgets/controls",
          "model_name": "HTMLModel",
          "model_module_version": "1.5.0",
          "state": {
            "_dom_classes": [],
            "_model_module": "@jupyter-widgets/controls",
            "_model_module_version": "1.5.0",
            "_model_name": "HTMLModel",
            "_view_count": null,
            "_view_module": "@jupyter-widgets/controls",
            "_view_module_version": "1.5.0",
            "_view_name": "HTMLView",
            "description": "",
            "description_tooltip": null,
            "layout": "IPY_MODEL_f48d3bec59ed4772b6462bd44a87d93d",
            "placeholder": "​",
            "style": "IPY_MODEL_b6da0bb61760462eae55c5f132314ca8",
            "value": "100%"
          }
        },
        "1a24d4711b2d47089e31aa4a96aecdec": {
          "model_module": "@jupyter-widgets/controls",
          "model_name": "FloatProgressModel",
          "model_module_version": "1.5.0",
          "state": {
            "_dom_classes": [],
            "_model_module": "@jupyter-widgets/controls",
            "_model_module_version": "1.5.0",
            "_model_name": "FloatProgressModel",
            "_view_count": null,
            "_view_module": "@jupyter-widgets/controls",
            "_view_module_version": "1.5.0",
            "_view_name": "ProgressView",
            "bar_style": "success",
            "description": "",
            "description_tooltip": null,
            "layout": "IPY_MODEL_b24450ae8b7148e69beb17f531cf8b7a",
            "max": 158484,
            "min": 0,
            "orientation": "horizontal",
            "style": "IPY_MODEL_fb12f53ab2a34f4981b64b21bd4d9fff",
            "value": 158484
          }
        },
        "4c5d6169390e441496ebdbd6d9e979d3": {
          "model_module": "@jupyter-widgets/controls",
          "model_name": "HTMLModel",
          "model_module_version": "1.5.0",
          "state": {
            "_dom_classes": [],
            "_model_module": "@jupyter-widgets/controls",
            "_model_module_version": "1.5.0",
            "_model_name": "HTMLModel",
            "_view_count": null,
            "_view_module": "@jupyter-widgets/controls",
            "_view_module_version": "1.5.0",
            "_view_name": "HTMLView",
            "description": "",
            "description_tooltip": null,
            "layout": "IPY_MODEL_6b0bda22dc5d414bb68f81d3cdda4142",
            "placeholder": "​",
            "style": "IPY_MODEL_45863448fd674d33918906b023725bf6",
            "value": " 158484/158484 [00:13&lt;00:00, 15821.16it/s]"
          }
        },
        "55f9409cf0544869a731e6fd29cd4d27": {
          "model_module": "@jupyter-widgets/base",
          "model_name": "LayoutModel",
          "model_module_version": "1.2.0",
          "state": {
            "_model_module": "@jupyter-widgets/base",
            "_model_module_version": "1.2.0",
            "_model_name": "LayoutModel",
            "_view_count": null,
            "_view_module": "@jupyter-widgets/base",
            "_view_module_version": "1.2.0",
            "_view_name": "LayoutView",
            "align_content": null,
            "align_items": null,
            "align_self": null,
            "border": null,
            "bottom": null,
            "display": null,
            "flex": null,
            "flex_flow": null,
            "grid_area": null,
            "grid_auto_columns": null,
            "grid_auto_flow": null,
            "grid_auto_rows": null,
            "grid_column": null,
            "grid_gap": null,
            "grid_row": null,
            "grid_template_areas": null,
            "grid_template_columns": null,
            "grid_template_rows": null,
            "height": null,
            "justify_content": null,
            "justify_items": null,
            "left": null,
            "margin": null,
            "max_height": null,
            "max_width": null,
            "min_height": null,
            "min_width": null,
            "object_fit": null,
            "object_position": null,
            "order": null,
            "overflow": null,
            "overflow_x": null,
            "overflow_y": null,
            "padding": null,
            "right": null,
            "top": null,
            "visibility": null,
            "width": null
          }
        },
        "f48d3bec59ed4772b6462bd44a87d93d": {
          "model_module": "@jupyter-widgets/base",
          "model_name": "LayoutModel",
          "model_module_version": "1.2.0",
          "state": {
            "_model_module": "@jupyter-widgets/base",
            "_model_module_version": "1.2.0",
            "_model_name": "LayoutModel",
            "_view_count": null,
            "_view_module": "@jupyter-widgets/base",
            "_view_module_version": "1.2.0",
            "_view_name": "LayoutView",
            "align_content": null,
            "align_items": null,
            "align_self": null,
            "border": null,
            "bottom": null,
            "display": null,
            "flex": null,
            "flex_flow": null,
            "grid_area": null,
            "grid_auto_columns": null,
            "grid_auto_flow": null,
            "grid_auto_rows": null,
            "grid_column": null,
            "grid_gap": null,
            "grid_row": null,
            "grid_template_areas": null,
            "grid_template_columns": null,
            "grid_template_rows": null,
            "height": null,
            "justify_content": null,
            "justify_items": null,
            "left": null,
            "margin": null,
            "max_height": null,
            "max_width": null,
            "min_height": null,
            "min_width": null,
            "object_fit": null,
            "object_position": null,
            "order": null,
            "overflow": null,
            "overflow_x": null,
            "overflow_y": null,
            "padding": null,
            "right": null,
            "top": null,
            "visibility": null,
            "width": null
          }
        },
        "b6da0bb61760462eae55c5f132314ca8": {
          "model_module": "@jupyter-widgets/controls",
          "model_name": "DescriptionStyleModel",
          "model_module_version": "1.5.0",
          "state": {
            "_model_module": "@jupyter-widgets/controls",
            "_model_module_version": "1.5.0",
            "_model_name": "DescriptionStyleModel",
            "_view_count": null,
            "_view_module": "@jupyter-widgets/base",
            "_view_module_version": "1.2.0",
            "_view_name": "StyleView",
            "description_width": ""
          }
        },
        "b24450ae8b7148e69beb17f531cf8b7a": {
          "model_module": "@jupyter-widgets/base",
          "model_name": "LayoutModel",
          "model_module_version": "1.2.0",
          "state": {
            "_model_module": "@jupyter-widgets/base",
            "_model_module_version": "1.2.0",
            "_model_name": "LayoutModel",
            "_view_count": null,
            "_view_module": "@jupyter-widgets/base",
            "_view_module_version": "1.2.0",
            "_view_name": "LayoutView",
            "align_content": null,
            "align_items": null,
            "align_self": null,
            "border": null,
            "bottom": null,
            "display": null,
            "flex": null,
            "flex_flow": null,
            "grid_area": null,
            "grid_auto_columns": null,
            "grid_auto_flow": null,
            "grid_auto_rows": null,
            "grid_column": null,
            "grid_gap": null,
            "grid_row": null,
            "grid_template_areas": null,
            "grid_template_columns": null,
            "grid_template_rows": null,
            "height": null,
            "justify_content": null,
            "justify_items": null,
            "left": null,
            "margin": null,
            "max_height": null,
            "max_width": null,
            "min_height": null,
            "min_width": null,
            "object_fit": null,
            "object_position": null,
            "order": null,
            "overflow": null,
            "overflow_x": null,
            "overflow_y": null,
            "padding": null,
            "right": null,
            "top": null,
            "visibility": null,
            "width": null
          }
        },
        "fb12f53ab2a34f4981b64b21bd4d9fff": {
          "model_module": "@jupyter-widgets/controls",
          "model_name": "ProgressStyleModel",
          "model_module_version": "1.5.0",
          "state": {
            "_model_module": "@jupyter-widgets/controls",
            "_model_module_version": "1.5.0",
            "_model_name": "ProgressStyleModel",
            "_view_count": null,
            "_view_module": "@jupyter-widgets/base",
            "_view_module_version": "1.2.0",
            "_view_name": "StyleView",
            "bar_color": null,
            "description_width": ""
          }
        },
        "6b0bda22dc5d414bb68f81d3cdda4142": {
          "model_module": "@jupyter-widgets/base",
          "model_name": "LayoutModel",
          "model_module_version": "1.2.0",
          "state": {
            "_model_module": "@jupyter-widgets/base",
            "_model_module_version": "1.2.0",
            "_model_name": "LayoutModel",
            "_view_count": null,
            "_view_module": "@jupyter-widgets/base",
            "_view_module_version": "1.2.0",
            "_view_name": "LayoutView",
            "align_content": null,
            "align_items": null,
            "align_self": null,
            "border": null,
            "bottom": null,
            "display": null,
            "flex": null,
            "flex_flow": null,
            "grid_area": null,
            "grid_auto_columns": null,
            "grid_auto_flow": null,
            "grid_auto_rows": null,
            "grid_column": null,
            "grid_gap": null,
            "grid_row": null,
            "grid_template_areas": null,
            "grid_template_columns": null,
            "grid_template_rows": null,
            "height": null,
            "justify_content": null,
            "justify_items": null,
            "left": null,
            "margin": null,
            "max_height": null,
            "max_width": null,
            "min_height": null,
            "min_width": null,
            "object_fit": null,
            "object_position": null,
            "order": null,
            "overflow": null,
            "overflow_x": null,
            "overflow_y": null,
            "padding": null,
            "right": null,
            "top": null,
            "visibility": null,
            "width": null
          }
        },
        "45863448fd674d33918906b023725bf6": {
          "model_module": "@jupyter-widgets/controls",
          "model_name": "DescriptionStyleModel",
          "model_module_version": "1.5.0",
          "state": {
            "_model_module": "@jupyter-widgets/controls",
            "_model_module_version": "1.5.0",
            "_model_name": "DescriptionStyleModel",
            "_view_count": null,
            "_view_module": "@jupyter-widgets/base",
            "_view_module_version": "1.2.0",
            "_view_name": "StyleView",
            "description_width": ""
          }
        },
        "6cbd01d88e3b4a1da24a606475466788": {
          "model_module": "@jupyter-widgets/controls",
          "model_name": "HBoxModel",
          "model_module_version": "1.5.0",
          "state": {
            "_dom_classes": [],
            "_model_module": "@jupyter-widgets/controls",
            "_model_module_version": "1.5.0",
            "_model_name": "HBoxModel",
            "_view_count": null,
            "_view_module": "@jupyter-widgets/controls",
            "_view_module_version": "1.5.0",
            "_view_name": "HBoxView",
            "box_style": "",
            "children": [
              "IPY_MODEL_d2c8b25e18e641b0ad6b71c28d4557f4",
              "IPY_MODEL_e2d8f222915b4e3d812a31b76db4bf7c",
              "IPY_MODEL_276456b5706a4a6e84d0e949005bf18e"
            ],
            "layout": "IPY_MODEL_8a877663bf21400686c02c217ac4f78a"
          }
        },
        "d2c8b25e18e641b0ad6b71c28d4557f4": {
          "model_module": "@jupyter-widgets/controls",
          "model_name": "HTMLModel",
          "model_module_version": "1.5.0",
          "state": {
            "_dom_classes": [],
            "_model_module": "@jupyter-widgets/controls",
            "_model_module_version": "1.5.0",
            "_model_name": "HTMLModel",
            "_view_count": null,
            "_view_module": "@jupyter-widgets/controls",
            "_view_module_version": "1.5.0",
            "_view_name": "HTMLView",
            "description": "",
            "description_tooltip": null,
            "layout": "IPY_MODEL_e0226debad9b4b67a16e95c510b212f7",
            "placeholder": "​",
            "style": "IPY_MODEL_4979add95fc347289c91400f29a9e038",
            "value": "100%"
          }
        },
        "e2d8f222915b4e3d812a31b76db4bf7c": {
          "model_module": "@jupyter-widgets/controls",
          "model_name": "FloatProgressModel",
          "model_module_version": "1.5.0",
          "state": {
            "_dom_classes": [],
            "_model_module": "@jupyter-widgets/controls",
            "_model_module_version": "1.5.0",
            "_model_name": "FloatProgressModel",
            "_view_count": null,
            "_view_module": "@jupyter-widgets/controls",
            "_view_module_version": "1.5.0",
            "_view_name": "ProgressView",
            "bar_style": "success",
            "description": "",
            "description_tooltip": null,
            "layout": "IPY_MODEL_6e7dd8388e914f7c90f942db56913454",
            "max": 158484,
            "min": 0,
            "orientation": "horizontal",
            "style": "IPY_MODEL_e643028976c64f5ba437c00e792fd5ee",
            "value": 158484
          }
        },
        "276456b5706a4a6e84d0e949005bf18e": {
          "model_module": "@jupyter-widgets/controls",
          "model_name": "HTMLModel",
          "model_module_version": "1.5.0",
          "state": {
            "_dom_classes": [],
            "_model_module": "@jupyter-widgets/controls",
            "_model_module_version": "1.5.0",
            "_model_name": "HTMLModel",
            "_view_count": null,
            "_view_module": "@jupyter-widgets/controls",
            "_view_module_version": "1.5.0",
            "_view_name": "HTMLView",
            "description": "",
            "description_tooltip": null,
            "layout": "IPY_MODEL_7b4fe1469ebe4c7c9d419d7d302dfff7",
            "placeholder": "​",
            "style": "IPY_MODEL_58b3df9a80e04507af398284a73edc91",
            "value": " 158484/158484 [00:25&lt;00:00, 8300.42it/s]"
          }
        },
        "8a877663bf21400686c02c217ac4f78a": {
          "model_module": "@jupyter-widgets/base",
          "model_name": "LayoutModel",
          "model_module_version": "1.2.0",
          "state": {
            "_model_module": "@jupyter-widgets/base",
            "_model_module_version": "1.2.0",
            "_model_name": "LayoutModel",
            "_view_count": null,
            "_view_module": "@jupyter-widgets/base",
            "_view_module_version": "1.2.0",
            "_view_name": "LayoutView",
            "align_content": null,
            "align_items": null,
            "align_self": null,
            "border": null,
            "bottom": null,
            "display": null,
            "flex": null,
            "flex_flow": null,
            "grid_area": null,
            "grid_auto_columns": null,
            "grid_auto_flow": null,
            "grid_auto_rows": null,
            "grid_column": null,
            "grid_gap": null,
            "grid_row": null,
            "grid_template_areas": null,
            "grid_template_columns": null,
            "grid_template_rows": null,
            "height": null,
            "justify_content": null,
            "justify_items": null,
            "left": null,
            "margin": null,
            "max_height": null,
            "max_width": null,
            "min_height": null,
            "min_width": null,
            "object_fit": null,
            "object_position": null,
            "order": null,
            "overflow": null,
            "overflow_x": null,
            "overflow_y": null,
            "padding": null,
            "right": null,
            "top": null,
            "visibility": null,
            "width": null
          }
        },
        "e0226debad9b4b67a16e95c510b212f7": {
          "model_module": "@jupyter-widgets/base",
          "model_name": "LayoutModel",
          "model_module_version": "1.2.0",
          "state": {
            "_model_module": "@jupyter-widgets/base",
            "_model_module_version": "1.2.0",
            "_model_name": "LayoutModel",
            "_view_count": null,
            "_view_module": "@jupyter-widgets/base",
            "_view_module_version": "1.2.0",
            "_view_name": "LayoutView",
            "align_content": null,
            "align_items": null,
            "align_self": null,
            "border": null,
            "bottom": null,
            "display": null,
            "flex": null,
            "flex_flow": null,
            "grid_area": null,
            "grid_auto_columns": null,
            "grid_auto_flow": null,
            "grid_auto_rows": null,
            "grid_column": null,
            "grid_gap": null,
            "grid_row": null,
            "grid_template_areas": null,
            "grid_template_columns": null,
            "grid_template_rows": null,
            "height": null,
            "justify_content": null,
            "justify_items": null,
            "left": null,
            "margin": null,
            "max_height": null,
            "max_width": null,
            "min_height": null,
            "min_width": null,
            "object_fit": null,
            "object_position": null,
            "order": null,
            "overflow": null,
            "overflow_x": null,
            "overflow_y": null,
            "padding": null,
            "right": null,
            "top": null,
            "visibility": null,
            "width": null
          }
        },
        "4979add95fc347289c91400f29a9e038": {
          "model_module": "@jupyter-widgets/controls",
          "model_name": "DescriptionStyleModel",
          "model_module_version": "1.5.0",
          "state": {
            "_model_module": "@jupyter-widgets/controls",
            "_model_module_version": "1.5.0",
            "_model_name": "DescriptionStyleModel",
            "_view_count": null,
            "_view_module": "@jupyter-widgets/base",
            "_view_module_version": "1.2.0",
            "_view_name": "StyleView",
            "description_width": ""
          }
        },
        "6e7dd8388e914f7c90f942db56913454": {
          "model_module": "@jupyter-widgets/base",
          "model_name": "LayoutModel",
          "model_module_version": "1.2.0",
          "state": {
            "_model_module": "@jupyter-widgets/base",
            "_model_module_version": "1.2.0",
            "_model_name": "LayoutModel",
            "_view_count": null,
            "_view_module": "@jupyter-widgets/base",
            "_view_module_version": "1.2.0",
            "_view_name": "LayoutView",
            "align_content": null,
            "align_items": null,
            "align_self": null,
            "border": null,
            "bottom": null,
            "display": null,
            "flex": null,
            "flex_flow": null,
            "grid_area": null,
            "grid_auto_columns": null,
            "grid_auto_flow": null,
            "grid_auto_rows": null,
            "grid_column": null,
            "grid_gap": null,
            "grid_row": null,
            "grid_template_areas": null,
            "grid_template_columns": null,
            "grid_template_rows": null,
            "height": null,
            "justify_content": null,
            "justify_items": null,
            "left": null,
            "margin": null,
            "max_height": null,
            "max_width": null,
            "min_height": null,
            "min_width": null,
            "object_fit": null,
            "object_position": null,
            "order": null,
            "overflow": null,
            "overflow_x": null,
            "overflow_y": null,
            "padding": null,
            "right": null,
            "top": null,
            "visibility": null,
            "width": null
          }
        },
        "e643028976c64f5ba437c00e792fd5ee": {
          "model_module": "@jupyter-widgets/controls",
          "model_name": "ProgressStyleModel",
          "model_module_version": "1.5.0",
          "state": {
            "_model_module": "@jupyter-widgets/controls",
            "_model_module_version": "1.5.0",
            "_model_name": "ProgressStyleModel",
            "_view_count": null,
            "_view_module": "@jupyter-widgets/base",
            "_view_module_version": "1.2.0",
            "_view_name": "StyleView",
            "bar_color": null,
            "description_width": ""
          }
        },
        "7b4fe1469ebe4c7c9d419d7d302dfff7": {
          "model_module": "@jupyter-widgets/base",
          "model_name": "LayoutModel",
          "model_module_version": "1.2.0",
          "state": {
            "_model_module": "@jupyter-widgets/base",
            "_model_module_version": "1.2.0",
            "_model_name": "LayoutModel",
            "_view_count": null,
            "_view_module": "@jupyter-widgets/base",
            "_view_module_version": "1.2.0",
            "_view_name": "LayoutView",
            "align_content": null,
            "align_items": null,
            "align_self": null,
            "border": null,
            "bottom": null,
            "display": null,
            "flex": null,
            "flex_flow": null,
            "grid_area": null,
            "grid_auto_columns": null,
            "grid_auto_flow": null,
            "grid_auto_rows": null,
            "grid_column": null,
            "grid_gap": null,
            "grid_row": null,
            "grid_template_areas": null,
            "grid_template_columns": null,
            "grid_template_rows": null,
            "height": null,
            "justify_content": null,
            "justify_items": null,
            "left": null,
            "margin": null,
            "max_height": null,
            "max_width": null,
            "min_height": null,
            "min_width": null,
            "object_fit": null,
            "object_position": null,
            "order": null,
            "overflow": null,
            "overflow_x": null,
            "overflow_y": null,
            "padding": null,
            "right": null,
            "top": null,
            "visibility": null,
            "width": null
          }
        },
        "58b3df9a80e04507af398284a73edc91": {
          "model_module": "@jupyter-widgets/controls",
          "model_name": "DescriptionStyleModel",
          "model_module_version": "1.5.0",
          "state": {
            "_model_module": "@jupyter-widgets/controls",
            "_model_module_version": "1.5.0",
            "_model_name": "DescriptionStyleModel",
            "_view_count": null,
            "_view_module": "@jupyter-widgets/base",
            "_view_module_version": "1.2.0",
            "_view_name": "StyleView",
            "description_width": ""
          }
        },
        "151f5d65aca44c16a2400ba44c3589f3": {
          "model_module": "@jupyter-widgets/controls",
          "model_name": "HBoxModel",
          "model_module_version": "1.5.0",
          "state": {
            "_dom_classes": [],
            "_model_module": "@jupyter-widgets/controls",
            "_model_module_version": "1.5.0",
            "_model_name": "HBoxModel",
            "_view_count": null,
            "_view_module": "@jupyter-widgets/controls",
            "_view_module_version": "1.5.0",
            "_view_name": "HBoxView",
            "box_style": "",
            "children": [
              "IPY_MODEL_209c56202bd846a0970f44560cb4a3ad",
              "IPY_MODEL_45af8898aa3c44f7b906ffb023daeef7",
              "IPY_MODEL_1f1476e47dbe42d0b4dc6ccf7184a27a"
            ],
            "layout": "IPY_MODEL_0735782b6b344a3dbbead0b549e08ff6"
          }
        },
        "209c56202bd846a0970f44560cb4a3ad": {
          "model_module": "@jupyter-widgets/controls",
          "model_name": "HTMLModel",
          "model_module_version": "1.5.0",
          "state": {
            "_dom_classes": [],
            "_model_module": "@jupyter-widgets/controls",
            "_model_module_version": "1.5.0",
            "_model_name": "HTMLModel",
            "_view_count": null,
            "_view_module": "@jupyter-widgets/controls",
            "_view_module_version": "1.5.0",
            "_view_name": "HTMLView",
            "description": "",
            "description_tooltip": null,
            "layout": "IPY_MODEL_53d71eab29564bd4b21da914b301d596",
            "placeholder": "​",
            "style": "IPY_MODEL_06379dbc20fe4225babce2561c5fdb38",
            "value": "100%"
          }
        },
        "45af8898aa3c44f7b906ffb023daeef7": {
          "model_module": "@jupyter-widgets/controls",
          "model_name": "FloatProgressModel",
          "model_module_version": "1.5.0",
          "state": {
            "_dom_classes": [],
            "_model_module": "@jupyter-widgets/controls",
            "_model_module_version": "1.5.0",
            "_model_name": "FloatProgressModel",
            "_view_count": null,
            "_view_module": "@jupyter-widgets/controls",
            "_view_module_version": "1.5.0",
            "_view_name": "ProgressView",
            "bar_style": "success",
            "description": "",
            "description_tooltip": null,
            "layout": "IPY_MODEL_289ac806cb8047ce91efcefb37353192",
            "max": 157520,
            "min": 0,
            "orientation": "horizontal",
            "style": "IPY_MODEL_b1bb1a1f86754d5ea6134a08114213d1",
            "value": 157520
          }
        },
        "1f1476e47dbe42d0b4dc6ccf7184a27a": {
          "model_module": "@jupyter-widgets/controls",
          "model_name": "HTMLModel",
          "model_module_version": "1.5.0",
          "state": {
            "_dom_classes": [],
            "_model_module": "@jupyter-widgets/controls",
            "_model_module_version": "1.5.0",
            "_model_name": "HTMLModel",
            "_view_count": null,
            "_view_module": "@jupyter-widgets/controls",
            "_view_module_version": "1.5.0",
            "_view_name": "HTMLView",
            "description": "",
            "description_tooltip": null,
            "layout": "IPY_MODEL_ab998bafb03744319019fcf06eee135a",
            "placeholder": "​",
            "style": "IPY_MODEL_bf1f405276e74684a0d29ec17c8b7309",
            "value": " 157520/157520 [00:06&lt;00:00, 27061.53it/s]"
          }
        },
        "0735782b6b344a3dbbead0b549e08ff6": {
          "model_module": "@jupyter-widgets/base",
          "model_name": "LayoutModel",
          "model_module_version": "1.2.0",
          "state": {
            "_model_module": "@jupyter-widgets/base",
            "_model_module_version": "1.2.0",
            "_model_name": "LayoutModel",
            "_view_count": null,
            "_view_module": "@jupyter-widgets/base",
            "_view_module_version": "1.2.0",
            "_view_name": "LayoutView",
            "align_content": null,
            "align_items": null,
            "align_self": null,
            "border": null,
            "bottom": null,
            "display": null,
            "flex": null,
            "flex_flow": null,
            "grid_area": null,
            "grid_auto_columns": null,
            "grid_auto_flow": null,
            "grid_auto_rows": null,
            "grid_column": null,
            "grid_gap": null,
            "grid_row": null,
            "grid_template_areas": null,
            "grid_template_columns": null,
            "grid_template_rows": null,
            "height": null,
            "justify_content": null,
            "justify_items": null,
            "left": null,
            "margin": null,
            "max_height": null,
            "max_width": null,
            "min_height": null,
            "min_width": null,
            "object_fit": null,
            "object_position": null,
            "order": null,
            "overflow": null,
            "overflow_x": null,
            "overflow_y": null,
            "padding": null,
            "right": null,
            "top": null,
            "visibility": null,
            "width": null
          }
        },
        "53d71eab29564bd4b21da914b301d596": {
          "model_module": "@jupyter-widgets/base",
          "model_name": "LayoutModel",
          "model_module_version": "1.2.0",
          "state": {
            "_model_module": "@jupyter-widgets/base",
            "_model_module_version": "1.2.0",
            "_model_name": "LayoutModel",
            "_view_count": null,
            "_view_module": "@jupyter-widgets/base",
            "_view_module_version": "1.2.0",
            "_view_name": "LayoutView",
            "align_content": null,
            "align_items": null,
            "align_self": null,
            "border": null,
            "bottom": null,
            "display": null,
            "flex": null,
            "flex_flow": null,
            "grid_area": null,
            "grid_auto_columns": null,
            "grid_auto_flow": null,
            "grid_auto_rows": null,
            "grid_column": null,
            "grid_gap": null,
            "grid_row": null,
            "grid_template_areas": null,
            "grid_template_columns": null,
            "grid_template_rows": null,
            "height": null,
            "justify_content": null,
            "justify_items": null,
            "left": null,
            "margin": null,
            "max_height": null,
            "max_width": null,
            "min_height": null,
            "min_width": null,
            "object_fit": null,
            "object_position": null,
            "order": null,
            "overflow": null,
            "overflow_x": null,
            "overflow_y": null,
            "padding": null,
            "right": null,
            "top": null,
            "visibility": null,
            "width": null
          }
        },
        "06379dbc20fe4225babce2561c5fdb38": {
          "model_module": "@jupyter-widgets/controls",
          "model_name": "DescriptionStyleModel",
          "model_module_version": "1.5.0",
          "state": {
            "_model_module": "@jupyter-widgets/controls",
            "_model_module_version": "1.5.0",
            "_model_name": "DescriptionStyleModel",
            "_view_count": null,
            "_view_module": "@jupyter-widgets/base",
            "_view_module_version": "1.2.0",
            "_view_name": "StyleView",
            "description_width": ""
          }
        },
        "289ac806cb8047ce91efcefb37353192": {
          "model_module": "@jupyter-widgets/base",
          "model_name": "LayoutModel",
          "model_module_version": "1.2.0",
          "state": {
            "_model_module": "@jupyter-widgets/base",
            "_model_module_version": "1.2.0",
            "_model_name": "LayoutModel",
            "_view_count": null,
            "_view_module": "@jupyter-widgets/base",
            "_view_module_version": "1.2.0",
            "_view_name": "LayoutView",
            "align_content": null,
            "align_items": null,
            "align_self": null,
            "border": null,
            "bottom": null,
            "display": null,
            "flex": null,
            "flex_flow": null,
            "grid_area": null,
            "grid_auto_columns": null,
            "grid_auto_flow": null,
            "grid_auto_rows": null,
            "grid_column": null,
            "grid_gap": null,
            "grid_row": null,
            "grid_template_areas": null,
            "grid_template_columns": null,
            "grid_template_rows": null,
            "height": null,
            "justify_content": null,
            "justify_items": null,
            "left": null,
            "margin": null,
            "max_height": null,
            "max_width": null,
            "min_height": null,
            "min_width": null,
            "object_fit": null,
            "object_position": null,
            "order": null,
            "overflow": null,
            "overflow_x": null,
            "overflow_y": null,
            "padding": null,
            "right": null,
            "top": null,
            "visibility": null,
            "width": null
          }
        },
        "b1bb1a1f86754d5ea6134a08114213d1": {
          "model_module": "@jupyter-widgets/controls",
          "model_name": "ProgressStyleModel",
          "model_module_version": "1.5.0",
          "state": {
            "_model_module": "@jupyter-widgets/controls",
            "_model_module_version": "1.5.0",
            "_model_name": "ProgressStyleModel",
            "_view_count": null,
            "_view_module": "@jupyter-widgets/base",
            "_view_module_version": "1.2.0",
            "_view_name": "StyleView",
            "bar_color": null,
            "description_width": ""
          }
        },
        "ab998bafb03744319019fcf06eee135a": {
          "model_module": "@jupyter-widgets/base",
          "model_name": "LayoutModel",
          "model_module_version": "1.2.0",
          "state": {
            "_model_module": "@jupyter-widgets/base",
            "_model_module_version": "1.2.0",
            "_model_name": "LayoutModel",
            "_view_count": null,
            "_view_module": "@jupyter-widgets/base",
            "_view_module_version": "1.2.0",
            "_view_name": "LayoutView",
            "align_content": null,
            "align_items": null,
            "align_self": null,
            "border": null,
            "bottom": null,
            "display": null,
            "flex": null,
            "flex_flow": null,
            "grid_area": null,
            "grid_auto_columns": null,
            "grid_auto_flow": null,
            "grid_auto_rows": null,
            "grid_column": null,
            "grid_gap": null,
            "grid_row": null,
            "grid_template_areas": null,
            "grid_template_columns": null,
            "grid_template_rows": null,
            "height": null,
            "justify_content": null,
            "justify_items": null,
            "left": null,
            "margin": null,
            "max_height": null,
            "max_width": null,
            "min_height": null,
            "min_width": null,
            "object_fit": null,
            "object_position": null,
            "order": null,
            "overflow": null,
            "overflow_x": null,
            "overflow_y": null,
            "padding": null,
            "right": null,
            "top": null,
            "visibility": null,
            "width": null
          }
        },
        "bf1f405276e74684a0d29ec17c8b7309": {
          "model_module": "@jupyter-widgets/controls",
          "model_name": "DescriptionStyleModel",
          "model_module_version": "1.5.0",
          "state": {
            "_model_module": "@jupyter-widgets/controls",
            "_model_module_version": "1.5.0",
            "_model_name": "DescriptionStyleModel",
            "_view_count": null,
            "_view_module": "@jupyter-widgets/base",
            "_view_module_version": "1.2.0",
            "_view_name": "StyleView",
            "description_width": ""
          }
        },
        "eddda5ae13a04e478e5366495c962c37": {
          "model_module": "@jupyter-widgets/controls",
          "model_name": "HBoxModel",
          "model_module_version": "1.5.0",
          "state": {
            "_dom_classes": [],
            "_model_module": "@jupyter-widgets/controls",
            "_model_module_version": "1.5.0",
            "_model_name": "HBoxModel",
            "_view_count": null,
            "_view_module": "@jupyter-widgets/controls",
            "_view_module_version": "1.5.0",
            "_view_name": "HBoxView",
            "box_style": "",
            "children": [
              "IPY_MODEL_8769bf1fa80e4b6c94978a0f4e406ed8",
              "IPY_MODEL_b76452ed59a848b4b375ff6f90e9eb64",
              "IPY_MODEL_6652bfb2eccd45a79c2ef514fb3679b5"
            ],
            "layout": "IPY_MODEL_4c52173dba644fbcac43aacf482d78ac"
          }
        },
        "8769bf1fa80e4b6c94978a0f4e406ed8": {
          "model_module": "@jupyter-widgets/controls",
          "model_name": "HTMLModel",
          "model_module_version": "1.5.0",
          "state": {
            "_dom_classes": [],
            "_model_module": "@jupyter-widgets/controls",
            "_model_module_version": "1.5.0",
            "_model_name": "HTMLModel",
            "_view_count": null,
            "_view_module": "@jupyter-widgets/controls",
            "_view_module_version": "1.5.0",
            "_view_name": "HTMLView",
            "description": "",
            "description_tooltip": null,
            "layout": "IPY_MODEL_ab484a0c68fc410cb278cd0eac0472f4",
            "placeholder": "​",
            "style": "IPY_MODEL_f3f38466eeea4e2eaa49fb08525fbd19",
            "value": "100%"
          }
        },
        "b76452ed59a848b4b375ff6f90e9eb64": {
          "model_module": "@jupyter-widgets/controls",
          "model_name": "FloatProgressModel",
          "model_module_version": "1.5.0",
          "state": {
            "_dom_classes": [],
            "_model_module": "@jupyter-widgets/controls",
            "_model_module_version": "1.5.0",
            "_model_name": "FloatProgressModel",
            "_view_count": null,
            "_view_module": "@jupyter-widgets/controls",
            "_view_module_version": "1.5.0",
            "_view_name": "ProgressView",
            "bar_style": "success",
            "description": "",
            "description_tooltip": null,
            "layout": "IPY_MODEL_7feeb44a643242558df3336ea7f6452f",
            "max": 110264,
            "min": 0,
            "orientation": "horizontal",
            "style": "IPY_MODEL_20630f9ebe5f4236a92fcfd783c0a3f3",
            "value": 110264
          }
        },
        "6652bfb2eccd45a79c2ef514fb3679b5": {
          "model_module": "@jupyter-widgets/controls",
          "model_name": "HTMLModel",
          "model_module_version": "1.5.0",
          "state": {
            "_dom_classes": [],
            "_model_module": "@jupyter-widgets/controls",
            "_model_module_version": "1.5.0",
            "_model_name": "HTMLModel",
            "_view_count": null,
            "_view_module": "@jupyter-widgets/controls",
            "_view_module_version": "1.5.0",
            "_view_name": "HTMLView",
            "description": "",
            "description_tooltip": null,
            "layout": "IPY_MODEL_4c022558bf944e4fadb2d82dcc93f0af",
            "placeholder": "​",
            "style": "IPY_MODEL_03b72e00de7540f79f6704ee447ccc27",
            "value": " 110264/110264 [09:11&lt;00:00, 164.84it/s]"
          }
        },
        "4c52173dba644fbcac43aacf482d78ac": {
          "model_module": "@jupyter-widgets/base",
          "model_name": "LayoutModel",
          "model_module_version": "1.2.0",
          "state": {
            "_model_module": "@jupyter-widgets/base",
            "_model_module_version": "1.2.0",
            "_model_name": "LayoutModel",
            "_view_count": null,
            "_view_module": "@jupyter-widgets/base",
            "_view_module_version": "1.2.0",
            "_view_name": "LayoutView",
            "align_content": null,
            "align_items": null,
            "align_self": null,
            "border": null,
            "bottom": null,
            "display": null,
            "flex": null,
            "flex_flow": null,
            "grid_area": null,
            "grid_auto_columns": null,
            "grid_auto_flow": null,
            "grid_auto_rows": null,
            "grid_column": null,
            "grid_gap": null,
            "grid_row": null,
            "grid_template_areas": null,
            "grid_template_columns": null,
            "grid_template_rows": null,
            "height": null,
            "justify_content": null,
            "justify_items": null,
            "left": null,
            "margin": null,
            "max_height": null,
            "max_width": null,
            "min_height": null,
            "min_width": null,
            "object_fit": null,
            "object_position": null,
            "order": null,
            "overflow": null,
            "overflow_x": null,
            "overflow_y": null,
            "padding": null,
            "right": null,
            "top": null,
            "visibility": null,
            "width": null
          }
        },
        "ab484a0c68fc410cb278cd0eac0472f4": {
          "model_module": "@jupyter-widgets/base",
          "model_name": "LayoutModel",
          "model_module_version": "1.2.0",
          "state": {
            "_model_module": "@jupyter-widgets/base",
            "_model_module_version": "1.2.0",
            "_model_name": "LayoutModel",
            "_view_count": null,
            "_view_module": "@jupyter-widgets/base",
            "_view_module_version": "1.2.0",
            "_view_name": "LayoutView",
            "align_content": null,
            "align_items": null,
            "align_self": null,
            "border": null,
            "bottom": null,
            "display": null,
            "flex": null,
            "flex_flow": null,
            "grid_area": null,
            "grid_auto_columns": null,
            "grid_auto_flow": null,
            "grid_auto_rows": null,
            "grid_column": null,
            "grid_gap": null,
            "grid_row": null,
            "grid_template_areas": null,
            "grid_template_columns": null,
            "grid_template_rows": null,
            "height": null,
            "justify_content": null,
            "justify_items": null,
            "left": null,
            "margin": null,
            "max_height": null,
            "max_width": null,
            "min_height": null,
            "min_width": null,
            "object_fit": null,
            "object_position": null,
            "order": null,
            "overflow": null,
            "overflow_x": null,
            "overflow_y": null,
            "padding": null,
            "right": null,
            "top": null,
            "visibility": null,
            "width": null
          }
        },
        "f3f38466eeea4e2eaa49fb08525fbd19": {
          "model_module": "@jupyter-widgets/controls",
          "model_name": "DescriptionStyleModel",
          "model_module_version": "1.5.0",
          "state": {
            "_model_module": "@jupyter-widgets/controls",
            "_model_module_version": "1.5.0",
            "_model_name": "DescriptionStyleModel",
            "_view_count": null,
            "_view_module": "@jupyter-widgets/base",
            "_view_module_version": "1.2.0",
            "_view_name": "StyleView",
            "description_width": ""
          }
        },
        "7feeb44a643242558df3336ea7f6452f": {
          "model_module": "@jupyter-widgets/base",
          "model_name": "LayoutModel",
          "model_module_version": "1.2.0",
          "state": {
            "_model_module": "@jupyter-widgets/base",
            "_model_module_version": "1.2.0",
            "_model_name": "LayoutModel",
            "_view_count": null,
            "_view_module": "@jupyter-widgets/base",
            "_view_module_version": "1.2.0",
            "_view_name": "LayoutView",
            "align_content": null,
            "align_items": null,
            "align_self": null,
            "border": null,
            "bottom": null,
            "display": null,
            "flex": null,
            "flex_flow": null,
            "grid_area": null,
            "grid_auto_columns": null,
            "grid_auto_flow": null,
            "grid_auto_rows": null,
            "grid_column": null,
            "grid_gap": null,
            "grid_row": null,
            "grid_template_areas": null,
            "grid_template_columns": null,
            "grid_template_rows": null,
            "height": null,
            "justify_content": null,
            "justify_items": null,
            "left": null,
            "margin": null,
            "max_height": null,
            "max_width": null,
            "min_height": null,
            "min_width": null,
            "object_fit": null,
            "object_position": null,
            "order": null,
            "overflow": null,
            "overflow_x": null,
            "overflow_y": null,
            "padding": null,
            "right": null,
            "top": null,
            "visibility": null,
            "width": null
          }
        },
        "20630f9ebe5f4236a92fcfd783c0a3f3": {
          "model_module": "@jupyter-widgets/controls",
          "model_name": "ProgressStyleModel",
          "model_module_version": "1.5.0",
          "state": {
            "_model_module": "@jupyter-widgets/controls",
            "_model_module_version": "1.5.0",
            "_model_name": "ProgressStyleModel",
            "_view_count": null,
            "_view_module": "@jupyter-widgets/base",
            "_view_module_version": "1.2.0",
            "_view_name": "StyleView",
            "bar_color": null,
            "description_width": ""
          }
        },
        "4c022558bf944e4fadb2d82dcc93f0af": {
          "model_module": "@jupyter-widgets/base",
          "model_name": "LayoutModel",
          "model_module_version": "1.2.0",
          "state": {
            "_model_module": "@jupyter-widgets/base",
            "_model_module_version": "1.2.0",
            "_model_name": "LayoutModel",
            "_view_count": null,
            "_view_module": "@jupyter-widgets/base",
            "_view_module_version": "1.2.0",
            "_view_name": "LayoutView",
            "align_content": null,
            "align_items": null,
            "align_self": null,
            "border": null,
            "bottom": null,
            "display": null,
            "flex": null,
            "flex_flow": null,
            "grid_area": null,
            "grid_auto_columns": null,
            "grid_auto_flow": null,
            "grid_auto_rows": null,
            "grid_column": null,
            "grid_gap": null,
            "grid_row": null,
            "grid_template_areas": null,
            "grid_template_columns": null,
            "grid_template_rows": null,
            "height": null,
            "justify_content": null,
            "justify_items": null,
            "left": null,
            "margin": null,
            "max_height": null,
            "max_width": null,
            "min_height": null,
            "min_width": null,
            "object_fit": null,
            "object_position": null,
            "order": null,
            "overflow": null,
            "overflow_x": null,
            "overflow_y": null,
            "padding": null,
            "right": null,
            "top": null,
            "visibility": null,
            "width": null
          }
        },
        "03b72e00de7540f79f6704ee447ccc27": {
          "model_module": "@jupyter-widgets/controls",
          "model_name": "DescriptionStyleModel",
          "model_module_version": "1.5.0",
          "state": {
            "_model_module": "@jupyter-widgets/controls",
            "_model_module_version": "1.5.0",
            "_model_name": "DescriptionStyleModel",
            "_view_count": null,
            "_view_module": "@jupyter-widgets/base",
            "_view_module_version": "1.2.0",
            "_view_name": "StyleView",
            "description_width": ""
          }
        },
        "22df1fb4f18a49ba95ba352b4df086e3": {
          "model_module": "@jupyter-widgets/controls",
          "model_name": "HBoxModel",
          "model_module_version": "1.5.0",
          "state": {
            "_dom_classes": [],
            "_model_module": "@jupyter-widgets/controls",
            "_model_module_version": "1.5.0",
            "_model_name": "HBoxModel",
            "_view_count": null,
            "_view_module": "@jupyter-widgets/controls",
            "_view_module_version": "1.5.0",
            "_view_name": "HBoxView",
            "box_style": "",
            "children": [
              "IPY_MODEL_bd178fb741d342a79037e424a09fcfbb",
              "IPY_MODEL_ff7462b966144774a4e0961e753238ad",
              "IPY_MODEL_b50437c3a882475c9d545d5c89eba77b"
            ],
            "layout": "IPY_MODEL_b3b16a648bcc4cca9c22624c7ea20439"
          }
        },
        "bd178fb741d342a79037e424a09fcfbb": {
          "model_module": "@jupyter-widgets/controls",
          "model_name": "HTMLModel",
          "model_module_version": "1.5.0",
          "state": {
            "_dom_classes": [],
            "_model_module": "@jupyter-widgets/controls",
            "_model_module_version": "1.5.0",
            "_model_name": "HTMLModel",
            "_view_count": null,
            "_view_module": "@jupyter-widgets/controls",
            "_view_module_version": "1.5.0",
            "_view_name": "HTMLView",
            "description": "",
            "description_tooltip": null,
            "layout": "IPY_MODEL_f5667f35678b4036ae282c1f4dce2307",
            "placeholder": "​",
            "style": "IPY_MODEL_72607777ba04433aa9fe7501b36e48d0",
            "value": "100%"
          }
        },
        "ff7462b966144774a4e0961e753238ad": {
          "model_module": "@jupyter-widgets/controls",
          "model_name": "FloatProgressModel",
          "model_module_version": "1.5.0",
          "state": {
            "_dom_classes": [],
            "_model_module": "@jupyter-widgets/controls",
            "_model_module_version": "1.5.0",
            "_model_name": "FloatProgressModel",
            "_view_count": null,
            "_view_module": "@jupyter-widgets/controls",
            "_view_module_version": "1.5.0",
            "_view_name": "ProgressView",
            "bar_style": "success",
            "description": "",
            "description_tooltip": null,
            "layout": "IPY_MODEL_0c01e5cf120149a5948ea58f9f7c16ae",
            "max": 47256,
            "min": 0,
            "orientation": "horizontal",
            "style": "IPY_MODEL_aa801aa5027a42339d06bf95686be8b7",
            "value": 47256
          }
        },
        "b50437c3a882475c9d545d5c89eba77b": {
          "model_module": "@jupyter-widgets/controls",
          "model_name": "HTMLModel",
          "model_module_version": "1.5.0",
          "state": {
            "_dom_classes": [],
            "_model_module": "@jupyter-widgets/controls",
            "_model_module_version": "1.5.0",
            "_model_name": "HTMLModel",
            "_view_count": null,
            "_view_module": "@jupyter-widgets/controls",
            "_view_module_version": "1.5.0",
            "_view_name": "HTMLView",
            "description": "",
            "description_tooltip": null,
            "layout": "IPY_MODEL_ae9dad91e6d546f8ad779713621a7974",
            "placeholder": "​",
            "style": "IPY_MODEL_ee3befbf6bff4e2085b7aa5782c15f4d",
            "value": " 47256/47256 [03:49&lt;00:00, 223.05it/s]"
          }
        },
        "b3b16a648bcc4cca9c22624c7ea20439": {
          "model_module": "@jupyter-widgets/base",
          "model_name": "LayoutModel",
          "model_module_version": "1.2.0",
          "state": {
            "_model_module": "@jupyter-widgets/base",
            "_model_module_version": "1.2.0",
            "_model_name": "LayoutModel",
            "_view_count": null,
            "_view_module": "@jupyter-widgets/base",
            "_view_module_version": "1.2.0",
            "_view_name": "LayoutView",
            "align_content": null,
            "align_items": null,
            "align_self": null,
            "border": null,
            "bottom": null,
            "display": null,
            "flex": null,
            "flex_flow": null,
            "grid_area": null,
            "grid_auto_columns": null,
            "grid_auto_flow": null,
            "grid_auto_rows": null,
            "grid_column": null,
            "grid_gap": null,
            "grid_row": null,
            "grid_template_areas": null,
            "grid_template_columns": null,
            "grid_template_rows": null,
            "height": null,
            "justify_content": null,
            "justify_items": null,
            "left": null,
            "margin": null,
            "max_height": null,
            "max_width": null,
            "min_height": null,
            "min_width": null,
            "object_fit": null,
            "object_position": null,
            "order": null,
            "overflow": null,
            "overflow_x": null,
            "overflow_y": null,
            "padding": null,
            "right": null,
            "top": null,
            "visibility": null,
            "width": null
          }
        },
        "f5667f35678b4036ae282c1f4dce2307": {
          "model_module": "@jupyter-widgets/base",
          "model_name": "LayoutModel",
          "model_module_version": "1.2.0",
          "state": {
            "_model_module": "@jupyter-widgets/base",
            "_model_module_version": "1.2.0",
            "_model_name": "LayoutModel",
            "_view_count": null,
            "_view_module": "@jupyter-widgets/base",
            "_view_module_version": "1.2.0",
            "_view_name": "LayoutView",
            "align_content": null,
            "align_items": null,
            "align_self": null,
            "border": null,
            "bottom": null,
            "display": null,
            "flex": null,
            "flex_flow": null,
            "grid_area": null,
            "grid_auto_columns": null,
            "grid_auto_flow": null,
            "grid_auto_rows": null,
            "grid_column": null,
            "grid_gap": null,
            "grid_row": null,
            "grid_template_areas": null,
            "grid_template_columns": null,
            "grid_template_rows": null,
            "height": null,
            "justify_content": null,
            "justify_items": null,
            "left": null,
            "margin": null,
            "max_height": null,
            "max_width": null,
            "min_height": null,
            "min_width": null,
            "object_fit": null,
            "object_position": null,
            "order": null,
            "overflow": null,
            "overflow_x": null,
            "overflow_y": null,
            "padding": null,
            "right": null,
            "top": null,
            "visibility": null,
            "width": null
          }
        },
        "72607777ba04433aa9fe7501b36e48d0": {
          "model_module": "@jupyter-widgets/controls",
          "model_name": "DescriptionStyleModel",
          "model_module_version": "1.5.0",
          "state": {
            "_model_module": "@jupyter-widgets/controls",
            "_model_module_version": "1.5.0",
            "_model_name": "DescriptionStyleModel",
            "_view_count": null,
            "_view_module": "@jupyter-widgets/base",
            "_view_module_version": "1.2.0",
            "_view_name": "StyleView",
            "description_width": ""
          }
        },
        "0c01e5cf120149a5948ea58f9f7c16ae": {
          "model_module": "@jupyter-widgets/base",
          "model_name": "LayoutModel",
          "model_module_version": "1.2.0",
          "state": {
            "_model_module": "@jupyter-widgets/base",
            "_model_module_version": "1.2.0",
            "_model_name": "LayoutModel",
            "_view_count": null,
            "_view_module": "@jupyter-widgets/base",
            "_view_module_version": "1.2.0",
            "_view_name": "LayoutView",
            "align_content": null,
            "align_items": null,
            "align_self": null,
            "border": null,
            "bottom": null,
            "display": null,
            "flex": null,
            "flex_flow": null,
            "grid_area": null,
            "grid_auto_columns": null,
            "grid_auto_flow": null,
            "grid_auto_rows": null,
            "grid_column": null,
            "grid_gap": null,
            "grid_row": null,
            "grid_template_areas": null,
            "grid_template_columns": null,
            "grid_template_rows": null,
            "height": null,
            "justify_content": null,
            "justify_items": null,
            "left": null,
            "margin": null,
            "max_height": null,
            "max_width": null,
            "min_height": null,
            "min_width": null,
            "object_fit": null,
            "object_position": null,
            "order": null,
            "overflow": null,
            "overflow_x": null,
            "overflow_y": null,
            "padding": null,
            "right": null,
            "top": null,
            "visibility": null,
            "width": null
          }
        },
        "aa801aa5027a42339d06bf95686be8b7": {
          "model_module": "@jupyter-widgets/controls",
          "model_name": "ProgressStyleModel",
          "model_module_version": "1.5.0",
          "state": {
            "_model_module": "@jupyter-widgets/controls",
            "_model_module_version": "1.5.0",
            "_model_name": "ProgressStyleModel",
            "_view_count": null,
            "_view_module": "@jupyter-widgets/base",
            "_view_module_version": "1.2.0",
            "_view_name": "StyleView",
            "bar_color": null,
            "description_width": ""
          }
        },
        "ae9dad91e6d546f8ad779713621a7974": {
          "model_module": "@jupyter-widgets/base",
          "model_name": "LayoutModel",
          "model_module_version": "1.2.0",
          "state": {
            "_model_module": "@jupyter-widgets/base",
            "_model_module_version": "1.2.0",
            "_model_name": "LayoutModel",
            "_view_count": null,
            "_view_module": "@jupyter-widgets/base",
            "_view_module_version": "1.2.0",
            "_view_name": "LayoutView",
            "align_content": null,
            "align_items": null,
            "align_self": null,
            "border": null,
            "bottom": null,
            "display": null,
            "flex": null,
            "flex_flow": null,
            "grid_area": null,
            "grid_auto_columns": null,
            "grid_auto_flow": null,
            "grid_auto_rows": null,
            "grid_column": null,
            "grid_gap": null,
            "grid_row": null,
            "grid_template_areas": null,
            "grid_template_columns": null,
            "grid_template_rows": null,
            "height": null,
            "justify_content": null,
            "justify_items": null,
            "left": null,
            "margin": null,
            "max_height": null,
            "max_width": null,
            "min_height": null,
            "min_width": null,
            "object_fit": null,
            "object_position": null,
            "order": null,
            "overflow": null,
            "overflow_x": null,
            "overflow_y": null,
            "padding": null,
            "right": null,
            "top": null,
            "visibility": null,
            "width": null
          }
        },
        "ee3befbf6bff4e2085b7aa5782c15f4d": {
          "model_module": "@jupyter-widgets/controls",
          "model_name": "DescriptionStyleModel",
          "model_module_version": "1.5.0",
          "state": {
            "_model_module": "@jupyter-widgets/controls",
            "_model_module_version": "1.5.0",
            "_model_name": "DescriptionStyleModel",
            "_view_count": null,
            "_view_module": "@jupyter-widgets/base",
            "_view_module_version": "1.2.0",
            "_view_name": "StyleView",
            "description_width": ""
          }
        }
      }
    }
  },
  "cells": [
    {
      "cell_type": "markdown",
      "source": [
        "# Laboratory Work 2 (var 2)\n",
        "\n",
        "Multiclass Classification with CNN and RNN"
      ],
      "metadata": {
        "id": "QrGSKxI4Dt7H"
      }
    },
    {
      "cell_type": "code",
      "source": [
        "!pip install pymorphy3 -q"
      ],
      "metadata": {
        "colab": {
          "base_uri": "https://localhost:8080/"
        },
        "id": "8WDVQNmtc3dt",
        "outputId": "e13b07ca-41e4-4242-a7e4-1723ad4200ff"
      },
      "execution_count": null,
      "outputs": [
        {
          "output_type": "stream",
          "name": "stdout",
          "text": [
            "\u001b[2K     \u001b[90m━━━━━━━━━━━━━━━━━━━━━━━━━━━━━━━━━━━━━━━━\u001b[0m \u001b[32m53.2/53.2 kB\u001b[0m \u001b[31m1.3 MB/s\u001b[0m eta \u001b[36m0:00:00\u001b[0m\n",
            "\u001b[2K     \u001b[90m━━━━━━━━━━━━━━━━━━━━━━━━━━━━━━━━━━━━━━━━\u001b[0m \u001b[32m8.4/8.4 MB\u001b[0m \u001b[31m11.1 MB/s\u001b[0m eta \u001b[36m0:00:00\u001b[0m\n",
            "\u001b[?25h"
          ]
        }
      ]
    },
    {
      "cell_type": "code",
      "execution_count": null,
      "metadata": {
        "id": "NWuFGGyIDaMa"
      },
      "outputs": [],
      "source": [
        "# @title Imports {display-mode: \"form\"}\n",
        "\n",
        "import math\n",
        "import re\n",
        "from collections import Counter\n",
        "\n",
        "import matplotlib.pyplot as plt\n",
        "import numpy as np\n",
        "import pandas as pd\n",
        "import seaborn as sns\n",
        "import tensorflow as tf\n",
        "from google.colab import drive\n",
        "from pymystem3.mystem import Mystem\n",
        "from sklearn.decomposition import PCA\n",
        "from sklearn.metrics import classification_report\n",
        "from sklearn.model_selection import train_test_split\n",
        "from sklearn.utils.class_weight import compute_class_weight\n",
        "from tensorflow.keras import layers, callbacks\n",
        "from tqdm.notebook import tqdm"
      ]
    },
    {
      "cell_type": "code",
      "source": [
        "# @title Env Preparation {display-mode: \"form\"}\n",
        "\n",
        "pd.options.mode.chained_assignment = None\n",
        "tqdm.pandas()"
      ],
      "metadata": {
        "id": "eEpRisXWEBtN"
      },
      "execution_count": null,
      "outputs": []
    },
    {
      "cell_type": "markdown",
      "source": [
        "## Load Dataset"
      ],
      "metadata": {
        "id": "b6UbEhdbRZL9"
      }
    },
    {
      "cell_type": "code",
      "source": [
        "# @title Подключение диска {display-mode: \"form\"}\n",
        "\n",
        "drive.mount('/content/drive')"
      ],
      "metadata": {
        "colab": {
          "base_uri": "https://localhost:8080/"
        },
        "id": "ip1s-JckGVa3",
        "outputId": "b7675528-c2a0-40cb-8dbf-f7d4d748e11f"
      },
      "execution_count": null,
      "outputs": [
        {
          "output_type": "stream",
          "name": "stdout",
          "text": [
            "Mounted at /content/drive\n"
          ]
        }
      ]
    },
    {
      "cell_type": "code",
      "source": [
        "!unzip /content/drive/MyDrive/data/var2.zip -d /content"
      ],
      "metadata": {
        "colab": {
          "base_uri": "https://localhost:8080/"
        },
        "id": "TgQ4SAi7QFXO",
        "outputId": "29b864ff-635e-4e25-d111-7a2f470a1f10"
      },
      "execution_count": null,
      "outputs": [
        {
          "output_type": "stream",
          "name": "stdout",
          "text": [
            "Archive:  /content/drive/MyDrive/data/var2.zip\n",
            "  inflating: /content/lyrics.csv     \n"
          ]
        }
      ]
    },
    {
      "cell_type": "code",
      "source": [
        "df = pd.read_csv('lyrics.csv')\n",
        "df"
      ],
      "metadata": {
        "colab": {
          "base_uri": "https://localhost:8080/",
          "height": 424
        },
        "id": "sd0DTLnaQhoZ",
        "outputId": "1e7ce299-b3af-4fd4-c5ce-4768227cf8be"
      },
      "execution_count": null,
      "outputs": [
        {
          "output_type": "execute_result",
          "data": {
            "text/plain": [
              "        Unnamed: 0  year   tag  \\\n",
              "0            14072  2009   pop   \n",
              "1            22982  2001   rap   \n",
              "2            49151  2006   rap   \n",
              "3            50914  2011   rap   \n",
              "4            79951  2011   rap   \n",
              "...            ...   ...   ...   \n",
              "158967     5134804  2022  rock   \n",
              "158968     5134820  2021   pop   \n",
              "158969     5134830  2022   rap   \n",
              "158970     5134833  2022   rap   \n",
              "158971     5134846  2022  rock   \n",
              "\n",
              "                                                   lyrics  \\\n",
              "0       [Куплет 1]\\nТолько степь вздохнёт едва\\nКак Бо...   \n",
              "1       [Текст песни \"Direct\"]\\n\\n[Интро]\\n*Stop been ...   \n",
              "2       [Текст песни «Будущие мамы»]\\n\\n[Припев]\\nБуду...   \n",
              "3       Зимнее Утро\\n\\nКуплет 1\\n\\nЗимнее утро будильн...   \n",
              "4       [Текст песни «Жук в муравейнике» ft. Schokk]\\n...   \n",
              "...                                                   ...   \n",
              "158967  [Текст песни «Силуэт»]\\n\\n[Куплет 1: потери.]\\...   \n",
              "158968  Я не могу найти Милкис с дорой\\nКупи пожалуйст...   \n",
              "158969  [Текст песни «На завод!»]\\n\\n[Интро]\\nМутный м...   \n",
              "158970  Интро\\n\\nEvil empire –\\nLaughing all the way t...   \n",
              "158971  [Куплет 1]\\nЗнаешь, тут так темно\\nКажется нет...   \n",
              "\n",
              "                                         title  \n",
              "0                                   Степь Step  \n",
              "1                             Gang Bangin Shit  \n",
              "2                  Будущие мамы Expectant Moms  \n",
              "3                    Zimnee Utro - Зимнее Утро  \n",
              "4       Жук в муравейнике Beetle in an anthill  \n",
              "...                                        ...  \n",
              "158967                         Силуэт A shadow  \n",
              "158968                          Милкис с Дорой  \n",
              "158969                     На завод to factory  \n",
              "158970                               Dont STOP  \n",
              "158971                           Сбежал Escape  \n",
              "\n",
              "[158972 rows x 5 columns]"
            ],
            "text/html": [
              "\n",
              "  <div id=\"df-c685431e-5baa-47b3-b53f-e647d86eb7a2\" class=\"colab-df-container\">\n",
              "    <div>\n",
              "<style scoped>\n",
              "    .dataframe tbody tr th:only-of-type {\n",
              "        vertical-align: middle;\n",
              "    }\n",
              "\n",
              "    .dataframe tbody tr th {\n",
              "        vertical-align: top;\n",
              "    }\n",
              "\n",
              "    .dataframe thead th {\n",
              "        text-align: right;\n",
              "    }\n",
              "</style>\n",
              "<table border=\"1\" class=\"dataframe\">\n",
              "  <thead>\n",
              "    <tr style=\"text-align: right;\">\n",
              "      <th></th>\n",
              "      <th>Unnamed: 0</th>\n",
              "      <th>year</th>\n",
              "      <th>tag</th>\n",
              "      <th>lyrics</th>\n",
              "      <th>title</th>\n",
              "    </tr>\n",
              "  </thead>\n",
              "  <tbody>\n",
              "    <tr>\n",
              "      <th>0</th>\n",
              "      <td>14072</td>\n",
              "      <td>2009</td>\n",
              "      <td>pop</td>\n",
              "      <td>[Куплет 1]\\nТолько степь вздохнёт едва\\nКак Бо...</td>\n",
              "      <td>Степь Step</td>\n",
              "    </tr>\n",
              "    <tr>\n",
              "      <th>1</th>\n",
              "      <td>22982</td>\n",
              "      <td>2001</td>\n",
              "      <td>rap</td>\n",
              "      <td>[Текст песни \"Direct\"]\\n\\n[Интро]\\n*Stop been ...</td>\n",
              "      <td>Gang Bangin Shit</td>\n",
              "    </tr>\n",
              "    <tr>\n",
              "      <th>2</th>\n",
              "      <td>49151</td>\n",
              "      <td>2006</td>\n",
              "      <td>rap</td>\n",
              "      <td>[Текст песни «Будущие мамы»]\\n\\n[Припев]\\nБуду...</td>\n",
              "      <td>Будущие мамы Expectant Moms</td>\n",
              "    </tr>\n",
              "    <tr>\n",
              "      <th>3</th>\n",
              "      <td>50914</td>\n",
              "      <td>2011</td>\n",
              "      <td>rap</td>\n",
              "      <td>Зимнее Утро\\n\\nКуплет 1\\n\\nЗимнее утро будильн...</td>\n",
              "      <td>Zimnee Utro - Зимнее Утро</td>\n",
              "    </tr>\n",
              "    <tr>\n",
              "      <th>4</th>\n",
              "      <td>79951</td>\n",
              "      <td>2011</td>\n",
              "      <td>rap</td>\n",
              "      <td>[Текст песни «Жук в муравейнике» ft. Schokk]\\n...</td>\n",
              "      <td>Жук в муравейнике Beetle in an anthill</td>\n",
              "    </tr>\n",
              "    <tr>\n",
              "      <th>...</th>\n",
              "      <td>...</td>\n",
              "      <td>...</td>\n",
              "      <td>...</td>\n",
              "      <td>...</td>\n",
              "      <td>...</td>\n",
              "    </tr>\n",
              "    <tr>\n",
              "      <th>158967</th>\n",
              "      <td>5134804</td>\n",
              "      <td>2022</td>\n",
              "      <td>rock</td>\n",
              "      <td>[Текст песни «Силуэт»]\\n\\n[Куплет 1: потери.]\\...</td>\n",
              "      <td>Силуэт A shadow</td>\n",
              "    </tr>\n",
              "    <tr>\n",
              "      <th>158968</th>\n",
              "      <td>5134820</td>\n",
              "      <td>2021</td>\n",
              "      <td>pop</td>\n",
              "      <td>Я не могу найти Милкис с дорой\\nКупи пожалуйст...</td>\n",
              "      <td>Милкис с Дорой</td>\n",
              "    </tr>\n",
              "    <tr>\n",
              "      <th>158969</th>\n",
              "      <td>5134830</td>\n",
              "      <td>2022</td>\n",
              "      <td>rap</td>\n",
              "      <td>[Текст песни «На завод!»]\\n\\n[Интро]\\nМутный м...</td>\n",
              "      <td>На завод to factory</td>\n",
              "    </tr>\n",
              "    <tr>\n",
              "      <th>158970</th>\n",
              "      <td>5134833</td>\n",
              "      <td>2022</td>\n",
              "      <td>rap</td>\n",
              "      <td>Интро\\n\\nEvil empire –\\nLaughing all the way t...</td>\n",
              "      <td>Dont STOP</td>\n",
              "    </tr>\n",
              "    <tr>\n",
              "      <th>158971</th>\n",
              "      <td>5134846</td>\n",
              "      <td>2022</td>\n",
              "      <td>rock</td>\n",
              "      <td>[Куплет 1]\\nЗнаешь, тут так темно\\nКажется нет...</td>\n",
              "      <td>Сбежал Escape</td>\n",
              "    </tr>\n",
              "  </tbody>\n",
              "</table>\n",
              "<p>158972 rows × 5 columns</p>\n",
              "</div>\n",
              "    <div class=\"colab-df-buttons\">\n",
              "\n",
              "  <div class=\"colab-df-container\">\n",
              "    <button class=\"colab-df-convert\" onclick=\"convertToInteractive('df-c685431e-5baa-47b3-b53f-e647d86eb7a2')\"\n",
              "            title=\"Convert this dataframe to an interactive table.\"\n",
              "            style=\"display:none;\">\n",
              "\n",
              "  <svg xmlns=\"http://www.w3.org/2000/svg\" height=\"24px\" viewBox=\"0 -960 960 960\">\n",
              "    <path d=\"M120-120v-720h720v720H120Zm60-500h600v-160H180v160Zm220 220h160v-160H400v160Zm0 220h160v-160H400v160ZM180-400h160v-160H180v160Zm440 0h160v-160H620v160ZM180-180h160v-160H180v160Zm440 0h160v-160H620v160Z\"/>\n",
              "  </svg>\n",
              "    </button>\n",
              "\n",
              "  <style>\n",
              "    .colab-df-container {\n",
              "      display:flex;\n",
              "      gap: 12px;\n",
              "    }\n",
              "\n",
              "    .colab-df-convert {\n",
              "      background-color: #E8F0FE;\n",
              "      border: none;\n",
              "      border-radius: 50%;\n",
              "      cursor: pointer;\n",
              "      display: none;\n",
              "      fill: #1967D2;\n",
              "      height: 32px;\n",
              "      padding: 0 0 0 0;\n",
              "      width: 32px;\n",
              "    }\n",
              "\n",
              "    .colab-df-convert:hover {\n",
              "      background-color: #E2EBFA;\n",
              "      box-shadow: 0px 1px 2px rgba(60, 64, 67, 0.3), 0px 1px 3px 1px rgba(60, 64, 67, 0.15);\n",
              "      fill: #174EA6;\n",
              "    }\n",
              "\n",
              "    .colab-df-buttons div {\n",
              "      margin-bottom: 4px;\n",
              "    }\n",
              "\n",
              "    [theme=dark] .colab-df-convert {\n",
              "      background-color: #3B4455;\n",
              "      fill: #D2E3FC;\n",
              "    }\n",
              "\n",
              "    [theme=dark] .colab-df-convert:hover {\n",
              "      background-color: #434B5C;\n",
              "      box-shadow: 0px 1px 3px 1px rgba(0, 0, 0, 0.15);\n",
              "      filter: drop-shadow(0px 1px 2px rgba(0, 0, 0, 0.3));\n",
              "      fill: #FFFFFF;\n",
              "    }\n",
              "  </style>\n",
              "\n",
              "    <script>\n",
              "      const buttonEl =\n",
              "        document.querySelector('#df-c685431e-5baa-47b3-b53f-e647d86eb7a2 button.colab-df-convert');\n",
              "      buttonEl.style.display =\n",
              "        google.colab.kernel.accessAllowed ? 'block' : 'none';\n",
              "\n",
              "      async function convertToInteractive(key) {\n",
              "        const element = document.querySelector('#df-c685431e-5baa-47b3-b53f-e647d86eb7a2');\n",
              "        const dataTable =\n",
              "          await google.colab.kernel.invokeFunction('convertToInteractive',\n",
              "                                                    [key], {});\n",
              "        if (!dataTable) return;\n",
              "\n",
              "        const docLinkHtml = 'Like what you see? Visit the ' +\n",
              "          '<a target=\"_blank\" href=https://colab.research.google.com/notebooks/data_table.ipynb>data table notebook</a>'\n",
              "          + ' to learn more about interactive tables.';\n",
              "        element.innerHTML = '';\n",
              "        dataTable['output_type'] = 'display_data';\n",
              "        await google.colab.output.renderOutput(dataTable, element);\n",
              "        const docLink = document.createElement('div');\n",
              "        docLink.innerHTML = docLinkHtml;\n",
              "        element.appendChild(docLink);\n",
              "      }\n",
              "    </script>\n",
              "  </div>\n",
              "\n",
              "\n",
              "<div id=\"df-4e4767f6-28cb-4e41-b12c-2c12f77d0f10\">\n",
              "  <button class=\"colab-df-quickchart\" onclick=\"quickchart('df-4e4767f6-28cb-4e41-b12c-2c12f77d0f10')\"\n",
              "            title=\"Suggest charts\"\n",
              "            style=\"display:none;\">\n",
              "\n",
              "<svg xmlns=\"http://www.w3.org/2000/svg\" height=\"24px\"viewBox=\"0 0 24 24\"\n",
              "     width=\"24px\">\n",
              "    <g>\n",
              "        <path d=\"M19 3H5c-1.1 0-2 .9-2 2v14c0 1.1.9 2 2 2h14c1.1 0 2-.9 2-2V5c0-1.1-.9-2-2-2zM9 17H7v-7h2v7zm4 0h-2V7h2v10zm4 0h-2v-4h2v4z\"/>\n",
              "    </g>\n",
              "</svg>\n",
              "  </button>\n",
              "\n",
              "<style>\n",
              "  .colab-df-quickchart {\n",
              "      --bg-color: #E8F0FE;\n",
              "      --fill-color: #1967D2;\n",
              "      --hover-bg-color: #E2EBFA;\n",
              "      --hover-fill-color: #174EA6;\n",
              "      --disabled-fill-color: #AAA;\n",
              "      --disabled-bg-color: #DDD;\n",
              "  }\n",
              "\n",
              "  [theme=dark] .colab-df-quickchart {\n",
              "      --bg-color: #3B4455;\n",
              "      --fill-color: #D2E3FC;\n",
              "      --hover-bg-color: #434B5C;\n",
              "      --hover-fill-color: #FFFFFF;\n",
              "      --disabled-bg-color: #3B4455;\n",
              "      --disabled-fill-color: #666;\n",
              "  }\n",
              "\n",
              "  .colab-df-quickchart {\n",
              "    background-color: var(--bg-color);\n",
              "    border: none;\n",
              "    border-radius: 50%;\n",
              "    cursor: pointer;\n",
              "    display: none;\n",
              "    fill: var(--fill-color);\n",
              "    height: 32px;\n",
              "    padding: 0;\n",
              "    width: 32px;\n",
              "  }\n",
              "\n",
              "  .colab-df-quickchart:hover {\n",
              "    background-color: var(--hover-bg-color);\n",
              "    box-shadow: 0 1px 2px rgba(60, 64, 67, 0.3), 0 1px 3px 1px rgba(60, 64, 67, 0.15);\n",
              "    fill: var(--button-hover-fill-color);\n",
              "  }\n",
              "\n",
              "  .colab-df-quickchart-complete:disabled,\n",
              "  .colab-df-quickchart-complete:disabled:hover {\n",
              "    background-color: var(--disabled-bg-color);\n",
              "    fill: var(--disabled-fill-color);\n",
              "    box-shadow: none;\n",
              "  }\n",
              "\n",
              "  .colab-df-spinner {\n",
              "    border: 2px solid var(--fill-color);\n",
              "    border-color: transparent;\n",
              "    border-bottom-color: var(--fill-color);\n",
              "    animation:\n",
              "      spin 1s steps(1) infinite;\n",
              "  }\n",
              "\n",
              "  @keyframes spin {\n",
              "    0% {\n",
              "      border-color: transparent;\n",
              "      border-bottom-color: var(--fill-color);\n",
              "      border-left-color: var(--fill-color);\n",
              "    }\n",
              "    20% {\n",
              "      border-color: transparent;\n",
              "      border-left-color: var(--fill-color);\n",
              "      border-top-color: var(--fill-color);\n",
              "    }\n",
              "    30% {\n",
              "      border-color: transparent;\n",
              "      border-left-color: var(--fill-color);\n",
              "      border-top-color: var(--fill-color);\n",
              "      border-right-color: var(--fill-color);\n",
              "    }\n",
              "    40% {\n",
              "      border-color: transparent;\n",
              "      border-right-color: var(--fill-color);\n",
              "      border-top-color: var(--fill-color);\n",
              "    }\n",
              "    60% {\n",
              "      border-color: transparent;\n",
              "      border-right-color: var(--fill-color);\n",
              "    }\n",
              "    80% {\n",
              "      border-color: transparent;\n",
              "      border-right-color: var(--fill-color);\n",
              "      border-bottom-color: var(--fill-color);\n",
              "    }\n",
              "    90% {\n",
              "      border-color: transparent;\n",
              "      border-bottom-color: var(--fill-color);\n",
              "    }\n",
              "  }\n",
              "</style>\n",
              "\n",
              "  <script>\n",
              "    async function quickchart(key) {\n",
              "      const quickchartButtonEl =\n",
              "        document.querySelector('#' + key + ' button');\n",
              "      quickchartButtonEl.disabled = true;  // To prevent multiple clicks.\n",
              "      quickchartButtonEl.classList.add('colab-df-spinner');\n",
              "      try {\n",
              "        const charts = await google.colab.kernel.invokeFunction(\n",
              "            'suggestCharts', [key], {});\n",
              "      } catch (error) {\n",
              "        console.error('Error during call to suggestCharts:', error);\n",
              "      }\n",
              "      quickchartButtonEl.classList.remove('colab-df-spinner');\n",
              "      quickchartButtonEl.classList.add('colab-df-quickchart-complete');\n",
              "    }\n",
              "    (() => {\n",
              "      let quickchartButtonEl =\n",
              "        document.querySelector('#df-4e4767f6-28cb-4e41-b12c-2c12f77d0f10 button');\n",
              "      quickchartButtonEl.style.display =\n",
              "        google.colab.kernel.accessAllowed ? 'block' : 'none';\n",
              "    })();\n",
              "  </script>\n",
              "</div>\n",
              "    </div>\n",
              "  </div>\n"
            ]
          },
          "metadata": {},
          "execution_count": 6
        }
      ]
    },
    {
      "cell_type": "code",
      "source": [
        "df.drop(columns=['Unnamed: 0', 'year', 'title'], inplace=True, errors='ignore')\n",
        "df.head()"
      ],
      "metadata": {
        "colab": {
          "base_uri": "https://localhost:8080/",
          "height": 206
        },
        "id": "710YW6x6RE61",
        "outputId": "381434f3-e3c2-4bec-b7ea-367504e7b218"
      },
      "execution_count": null,
      "outputs": [
        {
          "output_type": "execute_result",
          "data": {
            "text/plain": [
              "   tag                                             lyrics\n",
              "0  pop  [Куплет 1]\\nТолько степь вздохнёт едва\\nКак Бо...\n",
              "1  rap  [Текст песни \"Direct\"]\\n\\n[Интро]\\n*Stop been ...\n",
              "2  rap  [Текст песни «Будущие мамы»]\\n\\n[Припев]\\nБуду...\n",
              "3  rap  Зимнее Утро\\n\\nКуплет 1\\n\\nЗимнее утро будильн...\n",
              "4  rap  [Текст песни «Жук в муравейнике» ft. Schokk]\\n..."
            ],
            "text/html": [
              "\n",
              "  <div id=\"df-f654e9cb-68f2-41f9-b8f8-646051a28b54\" class=\"colab-df-container\">\n",
              "    <div>\n",
              "<style scoped>\n",
              "    .dataframe tbody tr th:only-of-type {\n",
              "        vertical-align: middle;\n",
              "    }\n",
              "\n",
              "    .dataframe tbody tr th {\n",
              "        vertical-align: top;\n",
              "    }\n",
              "\n",
              "    .dataframe thead th {\n",
              "        text-align: right;\n",
              "    }\n",
              "</style>\n",
              "<table border=\"1\" class=\"dataframe\">\n",
              "  <thead>\n",
              "    <tr style=\"text-align: right;\">\n",
              "      <th></th>\n",
              "      <th>tag</th>\n",
              "      <th>lyrics</th>\n",
              "    </tr>\n",
              "  </thead>\n",
              "  <tbody>\n",
              "    <tr>\n",
              "      <th>0</th>\n",
              "      <td>pop</td>\n",
              "      <td>[Куплет 1]\\nТолько степь вздохнёт едва\\nКак Бо...</td>\n",
              "    </tr>\n",
              "    <tr>\n",
              "      <th>1</th>\n",
              "      <td>rap</td>\n",
              "      <td>[Текст песни \"Direct\"]\\n\\n[Интро]\\n*Stop been ...</td>\n",
              "    </tr>\n",
              "    <tr>\n",
              "      <th>2</th>\n",
              "      <td>rap</td>\n",
              "      <td>[Текст песни «Будущие мамы»]\\n\\n[Припев]\\nБуду...</td>\n",
              "    </tr>\n",
              "    <tr>\n",
              "      <th>3</th>\n",
              "      <td>rap</td>\n",
              "      <td>Зимнее Утро\\n\\nКуплет 1\\n\\nЗимнее утро будильн...</td>\n",
              "    </tr>\n",
              "    <tr>\n",
              "      <th>4</th>\n",
              "      <td>rap</td>\n",
              "      <td>[Текст песни «Жук в муравейнике» ft. Schokk]\\n...</td>\n",
              "    </tr>\n",
              "  </tbody>\n",
              "</table>\n",
              "</div>\n",
              "    <div class=\"colab-df-buttons\">\n",
              "\n",
              "  <div class=\"colab-df-container\">\n",
              "    <button class=\"colab-df-convert\" onclick=\"convertToInteractive('df-f654e9cb-68f2-41f9-b8f8-646051a28b54')\"\n",
              "            title=\"Convert this dataframe to an interactive table.\"\n",
              "            style=\"display:none;\">\n",
              "\n",
              "  <svg xmlns=\"http://www.w3.org/2000/svg\" height=\"24px\" viewBox=\"0 -960 960 960\">\n",
              "    <path d=\"M120-120v-720h720v720H120Zm60-500h600v-160H180v160Zm220 220h160v-160H400v160Zm0 220h160v-160H400v160ZM180-400h160v-160H180v160Zm440 0h160v-160H620v160ZM180-180h160v-160H180v160Zm440 0h160v-160H620v160Z\"/>\n",
              "  </svg>\n",
              "    </button>\n",
              "\n",
              "  <style>\n",
              "    .colab-df-container {\n",
              "      display:flex;\n",
              "      gap: 12px;\n",
              "    }\n",
              "\n",
              "    .colab-df-convert {\n",
              "      background-color: #E8F0FE;\n",
              "      border: none;\n",
              "      border-radius: 50%;\n",
              "      cursor: pointer;\n",
              "      display: none;\n",
              "      fill: #1967D2;\n",
              "      height: 32px;\n",
              "      padding: 0 0 0 0;\n",
              "      width: 32px;\n",
              "    }\n",
              "\n",
              "    .colab-df-convert:hover {\n",
              "      background-color: #E2EBFA;\n",
              "      box-shadow: 0px 1px 2px rgba(60, 64, 67, 0.3), 0px 1px 3px 1px rgba(60, 64, 67, 0.15);\n",
              "      fill: #174EA6;\n",
              "    }\n",
              "\n",
              "    .colab-df-buttons div {\n",
              "      margin-bottom: 4px;\n",
              "    }\n",
              "\n",
              "    [theme=dark] .colab-df-convert {\n",
              "      background-color: #3B4455;\n",
              "      fill: #D2E3FC;\n",
              "    }\n",
              "\n",
              "    [theme=dark] .colab-df-convert:hover {\n",
              "      background-color: #434B5C;\n",
              "      box-shadow: 0px 1px 3px 1px rgba(0, 0, 0, 0.15);\n",
              "      filter: drop-shadow(0px 1px 2px rgba(0, 0, 0, 0.3));\n",
              "      fill: #FFFFFF;\n",
              "    }\n",
              "  </style>\n",
              "\n",
              "    <script>\n",
              "      const buttonEl =\n",
              "        document.querySelector('#df-f654e9cb-68f2-41f9-b8f8-646051a28b54 button.colab-df-convert');\n",
              "      buttonEl.style.display =\n",
              "        google.colab.kernel.accessAllowed ? 'block' : 'none';\n",
              "\n",
              "      async function convertToInteractive(key) {\n",
              "        const element = document.querySelector('#df-f654e9cb-68f2-41f9-b8f8-646051a28b54');\n",
              "        const dataTable =\n",
              "          await google.colab.kernel.invokeFunction('convertToInteractive',\n",
              "                                                    [key], {});\n",
              "        if (!dataTable) return;\n",
              "\n",
              "        const docLinkHtml = 'Like what you see? Visit the ' +\n",
              "          '<a target=\"_blank\" href=https://colab.research.google.com/notebooks/data_table.ipynb>data table notebook</a>'\n",
              "          + ' to learn more about interactive tables.';\n",
              "        element.innerHTML = '';\n",
              "        dataTable['output_type'] = 'display_data';\n",
              "        await google.colab.output.renderOutput(dataTable, element);\n",
              "        const docLink = document.createElement('div');\n",
              "        docLink.innerHTML = docLinkHtml;\n",
              "        element.appendChild(docLink);\n",
              "      }\n",
              "    </script>\n",
              "  </div>\n",
              "\n",
              "\n",
              "<div id=\"df-9cb40847-3968-4a8d-bed6-78f7995f3921\">\n",
              "  <button class=\"colab-df-quickchart\" onclick=\"quickchart('df-9cb40847-3968-4a8d-bed6-78f7995f3921')\"\n",
              "            title=\"Suggest charts\"\n",
              "            style=\"display:none;\">\n",
              "\n",
              "<svg xmlns=\"http://www.w3.org/2000/svg\" height=\"24px\"viewBox=\"0 0 24 24\"\n",
              "     width=\"24px\">\n",
              "    <g>\n",
              "        <path d=\"M19 3H5c-1.1 0-2 .9-2 2v14c0 1.1.9 2 2 2h14c1.1 0 2-.9 2-2V5c0-1.1-.9-2-2-2zM9 17H7v-7h2v7zm4 0h-2V7h2v10zm4 0h-2v-4h2v4z\"/>\n",
              "    </g>\n",
              "</svg>\n",
              "  </button>\n",
              "\n",
              "<style>\n",
              "  .colab-df-quickchart {\n",
              "      --bg-color: #E8F0FE;\n",
              "      --fill-color: #1967D2;\n",
              "      --hover-bg-color: #E2EBFA;\n",
              "      --hover-fill-color: #174EA6;\n",
              "      --disabled-fill-color: #AAA;\n",
              "      --disabled-bg-color: #DDD;\n",
              "  }\n",
              "\n",
              "  [theme=dark] .colab-df-quickchart {\n",
              "      --bg-color: #3B4455;\n",
              "      --fill-color: #D2E3FC;\n",
              "      --hover-bg-color: #434B5C;\n",
              "      --hover-fill-color: #FFFFFF;\n",
              "      --disabled-bg-color: #3B4455;\n",
              "      --disabled-fill-color: #666;\n",
              "  }\n",
              "\n",
              "  .colab-df-quickchart {\n",
              "    background-color: var(--bg-color);\n",
              "    border: none;\n",
              "    border-radius: 50%;\n",
              "    cursor: pointer;\n",
              "    display: none;\n",
              "    fill: var(--fill-color);\n",
              "    height: 32px;\n",
              "    padding: 0;\n",
              "    width: 32px;\n",
              "  }\n",
              "\n",
              "  .colab-df-quickchart:hover {\n",
              "    background-color: var(--hover-bg-color);\n",
              "    box-shadow: 0 1px 2px rgba(60, 64, 67, 0.3), 0 1px 3px 1px rgba(60, 64, 67, 0.15);\n",
              "    fill: var(--button-hover-fill-color);\n",
              "  }\n",
              "\n",
              "  .colab-df-quickchart-complete:disabled,\n",
              "  .colab-df-quickchart-complete:disabled:hover {\n",
              "    background-color: var(--disabled-bg-color);\n",
              "    fill: var(--disabled-fill-color);\n",
              "    box-shadow: none;\n",
              "  }\n",
              "\n",
              "  .colab-df-spinner {\n",
              "    border: 2px solid var(--fill-color);\n",
              "    border-color: transparent;\n",
              "    border-bottom-color: var(--fill-color);\n",
              "    animation:\n",
              "      spin 1s steps(1) infinite;\n",
              "  }\n",
              "\n",
              "  @keyframes spin {\n",
              "    0% {\n",
              "      border-color: transparent;\n",
              "      border-bottom-color: var(--fill-color);\n",
              "      border-left-color: var(--fill-color);\n",
              "    }\n",
              "    20% {\n",
              "      border-color: transparent;\n",
              "      border-left-color: var(--fill-color);\n",
              "      border-top-color: var(--fill-color);\n",
              "    }\n",
              "    30% {\n",
              "      border-color: transparent;\n",
              "      border-left-color: var(--fill-color);\n",
              "      border-top-color: var(--fill-color);\n",
              "      border-right-color: var(--fill-color);\n",
              "    }\n",
              "    40% {\n",
              "      border-color: transparent;\n",
              "      border-right-color: var(--fill-color);\n",
              "      border-top-color: var(--fill-color);\n",
              "    }\n",
              "    60% {\n",
              "      border-color: transparent;\n",
              "      border-right-color: var(--fill-color);\n",
              "    }\n",
              "    80% {\n",
              "      border-color: transparent;\n",
              "      border-right-color: var(--fill-color);\n",
              "      border-bottom-color: var(--fill-color);\n",
              "    }\n",
              "    90% {\n",
              "      border-color: transparent;\n",
              "      border-bottom-color: var(--fill-color);\n",
              "    }\n",
              "  }\n",
              "</style>\n",
              "\n",
              "  <script>\n",
              "    async function quickchart(key) {\n",
              "      const quickchartButtonEl =\n",
              "        document.querySelector('#' + key + ' button');\n",
              "      quickchartButtonEl.disabled = true;  // To prevent multiple clicks.\n",
              "      quickchartButtonEl.classList.add('colab-df-spinner');\n",
              "      try {\n",
              "        const charts = await google.colab.kernel.invokeFunction(\n",
              "            'suggestCharts', [key], {});\n",
              "      } catch (error) {\n",
              "        console.error('Error during call to suggestCharts:', error);\n",
              "      }\n",
              "      quickchartButtonEl.classList.remove('colab-df-spinner');\n",
              "      quickchartButtonEl.classList.add('colab-df-quickchart-complete');\n",
              "    }\n",
              "    (() => {\n",
              "      let quickchartButtonEl =\n",
              "        document.querySelector('#df-9cb40847-3968-4a8d-bed6-78f7995f3921 button');\n",
              "      quickchartButtonEl.style.display =\n",
              "        google.colab.kernel.accessAllowed ? 'block' : 'none';\n",
              "    })();\n",
              "  </script>\n",
              "</div>\n",
              "    </div>\n",
              "  </div>\n"
            ]
          },
          "metadata": {},
          "execution_count": 7
        }
      ]
    },
    {
      "cell_type": "markdown",
      "source": [
        "## EDA"
      ],
      "metadata": {
        "id": "khSSV1XFRPg9"
      }
    },
    {
      "cell_type": "markdown",
      "source": [
        "### Overview"
      ],
      "metadata": {
        "id": "7wDKZAmRRtXt"
      }
    },
    {
      "cell_type": "markdown",
      "source": [
        "Проверим, присутствуют ли в датасете пустые ячейки и строки длиной 0"
      ],
      "metadata": {
        "id": "yD2ngA07XGdB"
      }
    },
    {
      "cell_type": "code",
      "source": [
        "df.replace('', np.nan, inplace=True)"
      ],
      "metadata": {
        "id": "nnBgwXhXV7g5"
      },
      "execution_count": null,
      "outputs": []
    },
    {
      "cell_type": "code",
      "source": [
        "df.info()"
      ],
      "metadata": {
        "colab": {
          "base_uri": "https://localhost:8080/"
        },
        "id": "iBSwwJ_oRsfi",
        "outputId": "397c5b5b-fa28-434d-dbb5-741931d7313b"
      },
      "execution_count": null,
      "outputs": [
        {
          "output_type": "stream",
          "name": "stdout",
          "text": [
            "<class 'pandas.core.frame.DataFrame'>\n",
            "RangeIndex: 158972 entries, 0 to 158971\n",
            "Data columns (total 2 columns):\n",
            " #   Column  Non-Null Count   Dtype \n",
            "---  ------  --------------   ----- \n",
            " 0   tag     158972 non-null  object\n",
            " 1   lyrics  158972 non-null  object\n",
            "dtypes: object(2)\n",
            "memory usage: 2.4+ MB\n"
          ]
        }
      ]
    },
    {
      "cell_type": "markdown",
      "source": [
        "В датасете отсутствуют пустые строки"
      ],
      "metadata": {
        "id": "8dK5dwtpShUs"
      }
    },
    {
      "cell_type": "code",
      "source": [
        "df.describe()"
      ],
      "metadata": {
        "colab": {
          "base_uri": "https://localhost:8080/",
          "height": 175
        },
        "id": "rtdXSOm2S60F",
        "outputId": "631992ee-f79c-4929-cc84-b2fa6a230fc2"
      },
      "execution_count": null,
      "outputs": [
        {
          "output_type": "execute_result",
          "data": {
            "text/plain": [
              "           tag                                             lyrics\n",
              "count   158972                                             158972\n",
              "unique       3                                             158484\n",
              "top        rap  Данная оболочка создана для того, чтобы систем...\n",
              "freq    108904                                                 17"
            ],
            "text/html": [
              "\n",
              "  <div id=\"df-469978ef-d2d8-4890-b145-259312d902e9\" class=\"colab-df-container\">\n",
              "    <div>\n",
              "<style scoped>\n",
              "    .dataframe tbody tr th:only-of-type {\n",
              "        vertical-align: middle;\n",
              "    }\n",
              "\n",
              "    .dataframe tbody tr th {\n",
              "        vertical-align: top;\n",
              "    }\n",
              "\n",
              "    .dataframe thead th {\n",
              "        text-align: right;\n",
              "    }\n",
              "</style>\n",
              "<table border=\"1\" class=\"dataframe\">\n",
              "  <thead>\n",
              "    <tr style=\"text-align: right;\">\n",
              "      <th></th>\n",
              "      <th>tag</th>\n",
              "      <th>lyrics</th>\n",
              "    </tr>\n",
              "  </thead>\n",
              "  <tbody>\n",
              "    <tr>\n",
              "      <th>count</th>\n",
              "      <td>158972</td>\n",
              "      <td>158972</td>\n",
              "    </tr>\n",
              "    <tr>\n",
              "      <th>unique</th>\n",
              "      <td>3</td>\n",
              "      <td>158484</td>\n",
              "    </tr>\n",
              "    <tr>\n",
              "      <th>top</th>\n",
              "      <td>rap</td>\n",
              "      <td>Данная оболочка создана для того, чтобы систем...</td>\n",
              "    </tr>\n",
              "    <tr>\n",
              "      <th>freq</th>\n",
              "      <td>108904</td>\n",
              "      <td>17</td>\n",
              "    </tr>\n",
              "  </tbody>\n",
              "</table>\n",
              "</div>\n",
              "    <div class=\"colab-df-buttons\">\n",
              "\n",
              "  <div class=\"colab-df-container\">\n",
              "    <button class=\"colab-df-convert\" onclick=\"convertToInteractive('df-469978ef-d2d8-4890-b145-259312d902e9')\"\n",
              "            title=\"Convert this dataframe to an interactive table.\"\n",
              "            style=\"display:none;\">\n",
              "\n",
              "  <svg xmlns=\"http://www.w3.org/2000/svg\" height=\"24px\" viewBox=\"0 -960 960 960\">\n",
              "    <path d=\"M120-120v-720h720v720H120Zm60-500h600v-160H180v160Zm220 220h160v-160H400v160Zm0 220h160v-160H400v160ZM180-400h160v-160H180v160Zm440 0h160v-160H620v160ZM180-180h160v-160H180v160Zm440 0h160v-160H620v160Z\"/>\n",
              "  </svg>\n",
              "    </button>\n",
              "\n",
              "  <style>\n",
              "    .colab-df-container {\n",
              "      display:flex;\n",
              "      gap: 12px;\n",
              "    }\n",
              "\n",
              "    .colab-df-convert {\n",
              "      background-color: #E8F0FE;\n",
              "      border: none;\n",
              "      border-radius: 50%;\n",
              "      cursor: pointer;\n",
              "      display: none;\n",
              "      fill: #1967D2;\n",
              "      height: 32px;\n",
              "      padding: 0 0 0 0;\n",
              "      width: 32px;\n",
              "    }\n",
              "\n",
              "    .colab-df-convert:hover {\n",
              "      background-color: #E2EBFA;\n",
              "      box-shadow: 0px 1px 2px rgba(60, 64, 67, 0.3), 0px 1px 3px 1px rgba(60, 64, 67, 0.15);\n",
              "      fill: #174EA6;\n",
              "    }\n",
              "\n",
              "    .colab-df-buttons div {\n",
              "      margin-bottom: 4px;\n",
              "    }\n",
              "\n",
              "    [theme=dark] .colab-df-convert {\n",
              "      background-color: #3B4455;\n",
              "      fill: #D2E3FC;\n",
              "    }\n",
              "\n",
              "    [theme=dark] .colab-df-convert:hover {\n",
              "      background-color: #434B5C;\n",
              "      box-shadow: 0px 1px 3px 1px rgba(0, 0, 0, 0.15);\n",
              "      filter: drop-shadow(0px 1px 2px rgba(0, 0, 0, 0.3));\n",
              "      fill: #FFFFFF;\n",
              "    }\n",
              "  </style>\n",
              "\n",
              "    <script>\n",
              "      const buttonEl =\n",
              "        document.querySelector('#df-469978ef-d2d8-4890-b145-259312d902e9 button.colab-df-convert');\n",
              "      buttonEl.style.display =\n",
              "        google.colab.kernel.accessAllowed ? 'block' : 'none';\n",
              "\n",
              "      async function convertToInteractive(key) {\n",
              "        const element = document.querySelector('#df-469978ef-d2d8-4890-b145-259312d902e9');\n",
              "        const dataTable =\n",
              "          await google.colab.kernel.invokeFunction('convertToInteractive',\n",
              "                                                    [key], {});\n",
              "        if (!dataTable) return;\n",
              "\n",
              "        const docLinkHtml = 'Like what you see? Visit the ' +\n",
              "          '<a target=\"_blank\" href=https://colab.research.google.com/notebooks/data_table.ipynb>data table notebook</a>'\n",
              "          + ' to learn more about interactive tables.';\n",
              "        element.innerHTML = '';\n",
              "        dataTable['output_type'] = 'display_data';\n",
              "        await google.colab.output.renderOutput(dataTable, element);\n",
              "        const docLink = document.createElement('div');\n",
              "        docLink.innerHTML = docLinkHtml;\n",
              "        element.appendChild(docLink);\n",
              "      }\n",
              "    </script>\n",
              "  </div>\n",
              "\n",
              "\n",
              "<div id=\"df-b532605a-342c-42aa-9da1-154c1c220a41\">\n",
              "  <button class=\"colab-df-quickchart\" onclick=\"quickchart('df-b532605a-342c-42aa-9da1-154c1c220a41')\"\n",
              "            title=\"Suggest charts\"\n",
              "            style=\"display:none;\">\n",
              "\n",
              "<svg xmlns=\"http://www.w3.org/2000/svg\" height=\"24px\"viewBox=\"0 0 24 24\"\n",
              "     width=\"24px\">\n",
              "    <g>\n",
              "        <path d=\"M19 3H5c-1.1 0-2 .9-2 2v14c0 1.1.9 2 2 2h14c1.1 0 2-.9 2-2V5c0-1.1-.9-2-2-2zM9 17H7v-7h2v7zm4 0h-2V7h2v10zm4 0h-2v-4h2v4z\"/>\n",
              "    </g>\n",
              "</svg>\n",
              "  </button>\n",
              "\n",
              "<style>\n",
              "  .colab-df-quickchart {\n",
              "      --bg-color: #E8F0FE;\n",
              "      --fill-color: #1967D2;\n",
              "      --hover-bg-color: #E2EBFA;\n",
              "      --hover-fill-color: #174EA6;\n",
              "      --disabled-fill-color: #AAA;\n",
              "      --disabled-bg-color: #DDD;\n",
              "  }\n",
              "\n",
              "  [theme=dark] .colab-df-quickchart {\n",
              "      --bg-color: #3B4455;\n",
              "      --fill-color: #D2E3FC;\n",
              "      --hover-bg-color: #434B5C;\n",
              "      --hover-fill-color: #FFFFFF;\n",
              "      --disabled-bg-color: #3B4455;\n",
              "      --disabled-fill-color: #666;\n",
              "  }\n",
              "\n",
              "  .colab-df-quickchart {\n",
              "    background-color: var(--bg-color);\n",
              "    border: none;\n",
              "    border-radius: 50%;\n",
              "    cursor: pointer;\n",
              "    display: none;\n",
              "    fill: var(--fill-color);\n",
              "    height: 32px;\n",
              "    padding: 0;\n",
              "    width: 32px;\n",
              "  }\n",
              "\n",
              "  .colab-df-quickchart:hover {\n",
              "    background-color: var(--hover-bg-color);\n",
              "    box-shadow: 0 1px 2px rgba(60, 64, 67, 0.3), 0 1px 3px 1px rgba(60, 64, 67, 0.15);\n",
              "    fill: var(--button-hover-fill-color);\n",
              "  }\n",
              "\n",
              "  .colab-df-quickchart-complete:disabled,\n",
              "  .colab-df-quickchart-complete:disabled:hover {\n",
              "    background-color: var(--disabled-bg-color);\n",
              "    fill: var(--disabled-fill-color);\n",
              "    box-shadow: none;\n",
              "  }\n",
              "\n",
              "  .colab-df-spinner {\n",
              "    border: 2px solid var(--fill-color);\n",
              "    border-color: transparent;\n",
              "    border-bottom-color: var(--fill-color);\n",
              "    animation:\n",
              "      spin 1s steps(1) infinite;\n",
              "  }\n",
              "\n",
              "  @keyframes spin {\n",
              "    0% {\n",
              "      border-color: transparent;\n",
              "      border-bottom-color: var(--fill-color);\n",
              "      border-left-color: var(--fill-color);\n",
              "    }\n",
              "    20% {\n",
              "      border-color: transparent;\n",
              "      border-left-color: var(--fill-color);\n",
              "      border-top-color: var(--fill-color);\n",
              "    }\n",
              "    30% {\n",
              "      border-color: transparent;\n",
              "      border-left-color: var(--fill-color);\n",
              "      border-top-color: var(--fill-color);\n",
              "      border-right-color: var(--fill-color);\n",
              "    }\n",
              "    40% {\n",
              "      border-color: transparent;\n",
              "      border-right-color: var(--fill-color);\n",
              "      border-top-color: var(--fill-color);\n",
              "    }\n",
              "    60% {\n",
              "      border-color: transparent;\n",
              "      border-right-color: var(--fill-color);\n",
              "    }\n",
              "    80% {\n",
              "      border-color: transparent;\n",
              "      border-right-color: var(--fill-color);\n",
              "      border-bottom-color: var(--fill-color);\n",
              "    }\n",
              "    90% {\n",
              "      border-color: transparent;\n",
              "      border-bottom-color: var(--fill-color);\n",
              "    }\n",
              "  }\n",
              "</style>\n",
              "\n",
              "  <script>\n",
              "    async function quickchart(key) {\n",
              "      const quickchartButtonEl =\n",
              "        document.querySelector('#' + key + ' button');\n",
              "      quickchartButtonEl.disabled = true;  // To prevent multiple clicks.\n",
              "      quickchartButtonEl.classList.add('colab-df-spinner');\n",
              "      try {\n",
              "        const charts = await google.colab.kernel.invokeFunction(\n",
              "            'suggestCharts', [key], {});\n",
              "      } catch (error) {\n",
              "        console.error('Error during call to suggestCharts:', error);\n",
              "      }\n",
              "      quickchartButtonEl.classList.remove('colab-df-spinner');\n",
              "      quickchartButtonEl.classList.add('colab-df-quickchart-complete');\n",
              "    }\n",
              "    (() => {\n",
              "      let quickchartButtonEl =\n",
              "        document.querySelector('#df-b532605a-342c-42aa-9da1-154c1c220a41 button');\n",
              "      quickchartButtonEl.style.display =\n",
              "        google.colab.kernel.accessAllowed ? 'block' : 'none';\n",
              "    })();\n",
              "  </script>\n",
              "</div>\n",
              "    </div>\n",
              "  </div>\n"
            ]
          },
          "metadata": {},
          "execution_count": 10
        }
      ]
    },
    {
      "cell_type": "markdown",
      "source": [
        "Наблюдения:\n",
        "1. Тексты поделены на 3 класса, будем решать задачу многоклассовой классификации\n",
        "2. Самый частотный тэг -- rap с частотой 108_904. Учитывая то, что в датасете всего 158_972 текста, очевидно, что датасет несбалансирован\n",
        "3. В текстах присутствуют дубликаты. Можно сразу избавиться от них, хотя после предобработки датасета нужно будет снова их дропнуть"
      ],
      "metadata": {
        "id": "1Kh9dUd2TuNs"
      }
    },
    {
      "cell_type": "code",
      "source": [
        "df.drop_duplicates(subset='lyrics', inplace=True, ignore_index=True)\n",
        "df"
      ],
      "metadata": {
        "colab": {
          "base_uri": "https://localhost:8080/",
          "height": 424
        },
        "id": "MLosrLkRYGhu",
        "outputId": "e0b66507-6f30-4bd9-82c8-3d06c64fba61"
      },
      "execution_count": null,
      "outputs": [
        {
          "output_type": "execute_result",
          "data": {
            "text/plain": [
              "         tag                                             lyrics\n",
              "0        pop  [Куплет 1]\\nТолько степь вздохнёт едва\\nКак Бо...\n",
              "1        rap  [Текст песни \"Direct\"]\\n\\n[Интро]\\n*Stop been ...\n",
              "2        rap  [Текст песни «Будущие мамы»]\\n\\n[Припев]\\nБуду...\n",
              "3        rap  Зимнее Утро\\n\\nКуплет 1\\n\\nЗимнее утро будильн...\n",
              "4        rap  [Текст песни «Жук в муравейнике» ft. Schokk]\\n...\n",
              "...      ...                                                ...\n",
              "158479  rock  [Текст песни «Силуэт»]\\n\\n[Куплет 1: потери.]\\...\n",
              "158480   pop  Я не могу найти Милкис с дорой\\nКупи пожалуйст...\n",
              "158481   rap  [Текст песни «На завод!»]\\n\\n[Интро]\\nМутный м...\n",
              "158482   rap  Интро\\n\\nEvil empire –\\nLaughing all the way t...\n",
              "158483  rock  [Куплет 1]\\nЗнаешь, тут так темно\\nКажется нет...\n",
              "\n",
              "[158484 rows x 2 columns]"
            ],
            "text/html": [
              "\n",
              "  <div id=\"df-eecd1d8b-5d37-4278-b779-17fe01dc1f32\" class=\"colab-df-container\">\n",
              "    <div>\n",
              "<style scoped>\n",
              "    .dataframe tbody tr th:only-of-type {\n",
              "        vertical-align: middle;\n",
              "    }\n",
              "\n",
              "    .dataframe tbody tr th {\n",
              "        vertical-align: top;\n",
              "    }\n",
              "\n",
              "    .dataframe thead th {\n",
              "        text-align: right;\n",
              "    }\n",
              "</style>\n",
              "<table border=\"1\" class=\"dataframe\">\n",
              "  <thead>\n",
              "    <tr style=\"text-align: right;\">\n",
              "      <th></th>\n",
              "      <th>tag</th>\n",
              "      <th>lyrics</th>\n",
              "    </tr>\n",
              "  </thead>\n",
              "  <tbody>\n",
              "    <tr>\n",
              "      <th>0</th>\n",
              "      <td>pop</td>\n",
              "      <td>[Куплет 1]\\nТолько степь вздохнёт едва\\nКак Бо...</td>\n",
              "    </tr>\n",
              "    <tr>\n",
              "      <th>1</th>\n",
              "      <td>rap</td>\n",
              "      <td>[Текст песни \"Direct\"]\\n\\n[Интро]\\n*Stop been ...</td>\n",
              "    </tr>\n",
              "    <tr>\n",
              "      <th>2</th>\n",
              "      <td>rap</td>\n",
              "      <td>[Текст песни «Будущие мамы»]\\n\\n[Припев]\\nБуду...</td>\n",
              "    </tr>\n",
              "    <tr>\n",
              "      <th>3</th>\n",
              "      <td>rap</td>\n",
              "      <td>Зимнее Утро\\n\\nКуплет 1\\n\\nЗимнее утро будильн...</td>\n",
              "    </tr>\n",
              "    <tr>\n",
              "      <th>4</th>\n",
              "      <td>rap</td>\n",
              "      <td>[Текст песни «Жук в муравейнике» ft. Schokk]\\n...</td>\n",
              "    </tr>\n",
              "    <tr>\n",
              "      <th>...</th>\n",
              "      <td>...</td>\n",
              "      <td>...</td>\n",
              "    </tr>\n",
              "    <tr>\n",
              "      <th>158479</th>\n",
              "      <td>rock</td>\n",
              "      <td>[Текст песни «Силуэт»]\\n\\n[Куплет 1: потери.]\\...</td>\n",
              "    </tr>\n",
              "    <tr>\n",
              "      <th>158480</th>\n",
              "      <td>pop</td>\n",
              "      <td>Я не могу найти Милкис с дорой\\nКупи пожалуйст...</td>\n",
              "    </tr>\n",
              "    <tr>\n",
              "      <th>158481</th>\n",
              "      <td>rap</td>\n",
              "      <td>[Текст песни «На завод!»]\\n\\n[Интро]\\nМутный м...</td>\n",
              "    </tr>\n",
              "    <tr>\n",
              "      <th>158482</th>\n",
              "      <td>rap</td>\n",
              "      <td>Интро\\n\\nEvil empire –\\nLaughing all the way t...</td>\n",
              "    </tr>\n",
              "    <tr>\n",
              "      <th>158483</th>\n",
              "      <td>rock</td>\n",
              "      <td>[Куплет 1]\\nЗнаешь, тут так темно\\nКажется нет...</td>\n",
              "    </tr>\n",
              "  </tbody>\n",
              "</table>\n",
              "<p>158484 rows × 2 columns</p>\n",
              "</div>\n",
              "    <div class=\"colab-df-buttons\">\n",
              "\n",
              "  <div class=\"colab-df-container\">\n",
              "    <button class=\"colab-df-convert\" onclick=\"convertToInteractive('df-eecd1d8b-5d37-4278-b779-17fe01dc1f32')\"\n",
              "            title=\"Convert this dataframe to an interactive table.\"\n",
              "            style=\"display:none;\">\n",
              "\n",
              "  <svg xmlns=\"http://www.w3.org/2000/svg\" height=\"24px\" viewBox=\"0 -960 960 960\">\n",
              "    <path d=\"M120-120v-720h720v720H120Zm60-500h600v-160H180v160Zm220 220h160v-160H400v160Zm0 220h160v-160H400v160ZM180-400h160v-160H180v160Zm440 0h160v-160H620v160ZM180-180h160v-160H180v160Zm440 0h160v-160H620v160Z\"/>\n",
              "  </svg>\n",
              "    </button>\n",
              "\n",
              "  <style>\n",
              "    .colab-df-container {\n",
              "      display:flex;\n",
              "      gap: 12px;\n",
              "    }\n",
              "\n",
              "    .colab-df-convert {\n",
              "      background-color: #E8F0FE;\n",
              "      border: none;\n",
              "      border-radius: 50%;\n",
              "      cursor: pointer;\n",
              "      display: none;\n",
              "      fill: #1967D2;\n",
              "      height: 32px;\n",
              "      padding: 0 0 0 0;\n",
              "      width: 32px;\n",
              "    }\n",
              "\n",
              "    .colab-df-convert:hover {\n",
              "      background-color: #E2EBFA;\n",
              "      box-shadow: 0px 1px 2px rgba(60, 64, 67, 0.3), 0px 1px 3px 1px rgba(60, 64, 67, 0.15);\n",
              "      fill: #174EA6;\n",
              "    }\n",
              "\n",
              "    .colab-df-buttons div {\n",
              "      margin-bottom: 4px;\n",
              "    }\n",
              "\n",
              "    [theme=dark] .colab-df-convert {\n",
              "      background-color: #3B4455;\n",
              "      fill: #D2E3FC;\n",
              "    }\n",
              "\n",
              "    [theme=dark] .colab-df-convert:hover {\n",
              "      background-color: #434B5C;\n",
              "      box-shadow: 0px 1px 3px 1px rgba(0, 0, 0, 0.15);\n",
              "      filter: drop-shadow(0px 1px 2px rgba(0, 0, 0, 0.3));\n",
              "      fill: #FFFFFF;\n",
              "    }\n",
              "  </style>\n",
              "\n",
              "    <script>\n",
              "      const buttonEl =\n",
              "        document.querySelector('#df-eecd1d8b-5d37-4278-b779-17fe01dc1f32 button.colab-df-convert');\n",
              "      buttonEl.style.display =\n",
              "        google.colab.kernel.accessAllowed ? 'block' : 'none';\n",
              "\n",
              "      async function convertToInteractive(key) {\n",
              "        const element = document.querySelector('#df-eecd1d8b-5d37-4278-b779-17fe01dc1f32');\n",
              "        const dataTable =\n",
              "          await google.colab.kernel.invokeFunction('convertToInteractive',\n",
              "                                                    [key], {});\n",
              "        if (!dataTable) return;\n",
              "\n",
              "        const docLinkHtml = 'Like what you see? Visit the ' +\n",
              "          '<a target=\"_blank\" href=https://colab.research.google.com/notebooks/data_table.ipynb>data table notebook</a>'\n",
              "          + ' to learn more about interactive tables.';\n",
              "        element.innerHTML = '';\n",
              "        dataTable['output_type'] = 'display_data';\n",
              "        await google.colab.output.renderOutput(dataTable, element);\n",
              "        const docLink = document.createElement('div');\n",
              "        docLink.innerHTML = docLinkHtml;\n",
              "        element.appendChild(docLink);\n",
              "      }\n",
              "    </script>\n",
              "  </div>\n",
              "\n",
              "\n",
              "<div id=\"df-8c0b2ba0-edca-4fbe-86cc-58ae09b2e831\">\n",
              "  <button class=\"colab-df-quickchart\" onclick=\"quickchart('df-8c0b2ba0-edca-4fbe-86cc-58ae09b2e831')\"\n",
              "            title=\"Suggest charts\"\n",
              "            style=\"display:none;\">\n",
              "\n",
              "<svg xmlns=\"http://www.w3.org/2000/svg\" height=\"24px\"viewBox=\"0 0 24 24\"\n",
              "     width=\"24px\">\n",
              "    <g>\n",
              "        <path d=\"M19 3H5c-1.1 0-2 .9-2 2v14c0 1.1.9 2 2 2h14c1.1 0 2-.9 2-2V5c0-1.1-.9-2-2-2zM9 17H7v-7h2v7zm4 0h-2V7h2v10zm4 0h-2v-4h2v4z\"/>\n",
              "    </g>\n",
              "</svg>\n",
              "  </button>\n",
              "\n",
              "<style>\n",
              "  .colab-df-quickchart {\n",
              "      --bg-color: #E8F0FE;\n",
              "      --fill-color: #1967D2;\n",
              "      --hover-bg-color: #E2EBFA;\n",
              "      --hover-fill-color: #174EA6;\n",
              "      --disabled-fill-color: #AAA;\n",
              "      --disabled-bg-color: #DDD;\n",
              "  }\n",
              "\n",
              "  [theme=dark] .colab-df-quickchart {\n",
              "      --bg-color: #3B4455;\n",
              "      --fill-color: #D2E3FC;\n",
              "      --hover-bg-color: #434B5C;\n",
              "      --hover-fill-color: #FFFFFF;\n",
              "      --disabled-bg-color: #3B4455;\n",
              "      --disabled-fill-color: #666;\n",
              "  }\n",
              "\n",
              "  .colab-df-quickchart {\n",
              "    background-color: var(--bg-color);\n",
              "    border: none;\n",
              "    border-radius: 50%;\n",
              "    cursor: pointer;\n",
              "    display: none;\n",
              "    fill: var(--fill-color);\n",
              "    height: 32px;\n",
              "    padding: 0;\n",
              "    width: 32px;\n",
              "  }\n",
              "\n",
              "  .colab-df-quickchart:hover {\n",
              "    background-color: var(--hover-bg-color);\n",
              "    box-shadow: 0 1px 2px rgba(60, 64, 67, 0.3), 0 1px 3px 1px rgba(60, 64, 67, 0.15);\n",
              "    fill: var(--button-hover-fill-color);\n",
              "  }\n",
              "\n",
              "  .colab-df-quickchart-complete:disabled,\n",
              "  .colab-df-quickchart-complete:disabled:hover {\n",
              "    background-color: var(--disabled-bg-color);\n",
              "    fill: var(--disabled-fill-color);\n",
              "    box-shadow: none;\n",
              "  }\n",
              "\n",
              "  .colab-df-spinner {\n",
              "    border: 2px solid var(--fill-color);\n",
              "    border-color: transparent;\n",
              "    border-bottom-color: var(--fill-color);\n",
              "    animation:\n",
              "      spin 1s steps(1) infinite;\n",
              "  }\n",
              "\n",
              "  @keyframes spin {\n",
              "    0% {\n",
              "      border-color: transparent;\n",
              "      border-bottom-color: var(--fill-color);\n",
              "      border-left-color: var(--fill-color);\n",
              "    }\n",
              "    20% {\n",
              "      border-color: transparent;\n",
              "      border-left-color: var(--fill-color);\n",
              "      border-top-color: var(--fill-color);\n",
              "    }\n",
              "    30% {\n",
              "      border-color: transparent;\n",
              "      border-left-color: var(--fill-color);\n",
              "      border-top-color: var(--fill-color);\n",
              "      border-right-color: var(--fill-color);\n",
              "    }\n",
              "    40% {\n",
              "      border-color: transparent;\n",
              "      border-right-color: var(--fill-color);\n",
              "      border-top-color: var(--fill-color);\n",
              "    }\n",
              "    60% {\n",
              "      border-color: transparent;\n",
              "      border-right-color: var(--fill-color);\n",
              "    }\n",
              "    80% {\n",
              "      border-color: transparent;\n",
              "      border-right-color: var(--fill-color);\n",
              "      border-bottom-color: var(--fill-color);\n",
              "    }\n",
              "    90% {\n",
              "      border-color: transparent;\n",
              "      border-bottom-color: var(--fill-color);\n",
              "    }\n",
              "  }\n",
              "</style>\n",
              "\n",
              "  <script>\n",
              "    async function quickchart(key) {\n",
              "      const quickchartButtonEl =\n",
              "        document.querySelector('#' + key + ' button');\n",
              "      quickchartButtonEl.disabled = true;  // To prevent multiple clicks.\n",
              "      quickchartButtonEl.classList.add('colab-df-spinner');\n",
              "      try {\n",
              "        const charts = await google.colab.kernel.invokeFunction(\n",
              "            'suggestCharts', [key], {});\n",
              "      } catch (error) {\n",
              "        console.error('Error during call to suggestCharts:', error);\n",
              "      }\n",
              "      quickchartButtonEl.classList.remove('colab-df-spinner');\n",
              "      quickchartButtonEl.classList.add('colab-df-quickchart-complete');\n",
              "    }\n",
              "    (() => {\n",
              "      let quickchartButtonEl =\n",
              "        document.querySelector('#df-8c0b2ba0-edca-4fbe-86cc-58ae09b2e831 button');\n",
              "      quickchartButtonEl.style.display =\n",
              "        google.colab.kernel.accessAllowed ? 'block' : 'none';\n",
              "    })();\n",
              "  </script>\n",
              "</div>\n",
              "    </div>\n",
              "  </div>\n"
            ]
          },
          "metadata": {},
          "execution_count": 11
        }
      ]
    },
    {
      "cell_type": "markdown",
      "source": [
        "Из выведенных примеров видим пару вещей:\n",
        "* Во-первых, тексты песен содержат своего рода мета-информацию о структурных частях песен. Стоит проверить их количество и разнообразие, потому как они могут дать информацию о жанрах песен.\n",
        "* Во-вторых, некоторые песни содержат слова на английском языке. Есть смысл посмотреть на распределение англоязычных слов по текстам, потому что может оказаться, что они характерны только для рэп-композиций."
      ],
      "metadata": {
        "id": "rgZSyz-Jr_ls"
      }
    },
    {
      "cell_type": "markdown",
      "source": [
        "### Working with texts info"
      ],
      "metadata": {
        "id": "JteJcfBBrxpN"
      }
    },
    {
      "cell_type": "code",
      "source": [
        "df_with_meta = df.loc[df['lyrics'].str.contains(r'\\[.+\\]')]\n",
        "df_with_meta.shape"
      ],
      "metadata": {
        "colab": {
          "base_uri": "https://localhost:8080/"
        },
        "id": "Y3E-N0metMuT",
        "outputId": "6fe63473-1c84-4563-ab72-556badab33c0"
      },
      "execution_count": null,
      "outputs": [
        {
          "output_type": "execute_result",
          "data": {
            "text/plain": [
              "(122955, 2)"
            ]
          },
          "metadata": {},
          "execution_count": 11
        }
      ]
    },
    {
      "cell_type": "markdown",
      "source": [
        "Как видим, мета-информация содержится в 122_955 текстах из 158_484. Соответственно, просто заменять все одним плейсхолдером не имеет особого смысла."
      ],
      "metadata": {
        "id": "SWWeW2kQuB4O"
      }
    },
    {
      "cell_type": "markdown",
      "source": [
        "Подсчитаем, сколько раз встречаются те или иные мета-данные"
      ],
      "metadata": {
        "id": "N14ZdRACwFD1"
      }
    },
    {
      "cell_type": "code",
      "source": [
        "meta_pattern = re.compile(r'\\[.+\\]')\n",
        "meta_counter = Counter()\n",
        "for row in df_with_meta.iterrows():\n",
        "  meta_counter.update(meta_pattern.findall(row[1]['lyrics']))\n",
        "\n",
        "len(list(meta_counter))"
      ],
      "metadata": {
        "colab": {
          "base_uri": "https://localhost:8080/"
        },
        "id": "cBsObiYvwOpa",
        "outputId": "3ab8857b-36ce-4123-b995-b227d80b732d"
      },
      "execution_count": null,
      "outputs": [
        {
          "output_type": "execute_result",
          "data": {
            "text/plain": [
              "137862"
            ]
          },
          "metadata": {},
          "execution_count": 12
        }
      ]
    },
    {
      "cell_type": "markdown",
      "source": [
        "Большое разнообразие. Выведем несколько наиболее и наименее частотных элементов"
      ],
      "metadata": {
        "id": "MG3FinCfzmF7"
      }
    },
    {
      "cell_type": "code",
      "source": [
        "meta_counter.most_common(10)"
      ],
      "metadata": {
        "colab": {
          "base_uri": "https://localhost:8080/"
        },
        "id": "g4SnyvlPzv5G",
        "outputId": "a4dfae88-92b3-4073-9578-4bdf2c19569a"
      },
      "execution_count": null,
      "outputs": [
        {
          "output_type": "execute_result",
          "data": {
            "text/plain": [
              "[('[Припев]', 139573),\n",
              " ('[Куплет 1]', 44656),\n",
              " ('[Куплет 2]', 42758),\n",
              " ('[Куплет]', 30188),\n",
              " ('[Интро]', 23722),\n",
              " ('[Бридж]', 19339),\n",
              " ('[Аутро]', 18190),\n",
              " ('[?]', 16021),\n",
              " ('[Куплет 3]', 8383),\n",
              " ('[Hook]', 7900)]"
            ]
          },
          "metadata": {},
          "execution_count": 13
        }
      ]
    },
    {
      "cell_type": "code",
      "source": [
        "meta_counter.most_common()[:-11:-1]"
      ],
      "metadata": {
        "colab": {
          "base_uri": "https://localhost:8080/"
        },
        "id": "gc8qj9N90ALb",
        "outputId": "4fed9605-765e-47c9-b3f0-ee337a930455"
      },
      "execution_count": null,
      "outputs": [
        {
          "output_type": "execute_result",
          "data": {
            "text/plain": [
              "[('[Текст песни «На завод!»]', 1),\n",
              " ('[Куплет 2: фрэнк?]', 1),\n",
              " ('[Куплет 1: потери.]', 1),\n",
              " ('[1 Куплет: Knxten]', 1),\n",
              " ('[Текст песни \"So Icy Vamp K\"]', 1),\n",
              " ('[Текст песни «08:00 утра»]', 1),\n",
              " ('[Текст песни «Сваи»]', 1),\n",
              " ('[Куплет (ASHRAFOV)]', 1),\n",
              " ('[Куплет (LERDOS)]', 1),\n",
              " ('[Текст песни «Drugdealer»]', 1)]"
            ]
          },
          "metadata": {},
          "execution_count": 14
        }
      ]
    },
    {
      "cell_type": "markdown",
      "source": [
        "Также рассмотрим средние значения"
      ],
      "metadata": {
        "id": "dOI8bmGA0b2q"
      }
    },
    {
      "cell_type": "code",
      "source": [
        "meta_counter.most_common()[60_000:60_011:]"
      ],
      "metadata": {
        "colab": {
          "base_uri": "https://localhost:8080/"
        },
        "id": "XFpSNLvl0fTU",
        "outputId": "3b3fe5dd-9f1b-442e-9fda-57ece819a3d8"
      },
      "execution_count": null,
      "outputs": [
        {
          "output_type": "execute_result",
          "data": {
            "text/plain": [
              "[('[Куплет 6: Хайтайм]', 1),\n",
              " ('[Текст песни \"Шашлычки\"]', 1),\n",
              " ('[Текст песни «Як 2»]', 1),\n",
              " ('[Текст песни «Колёса»]', 1),\n",
              " ('[Loqiemean | In Person]', 1),\n",
              " ('[Текст песни «Инструкция памяти»]', 1),\n",
              " ('[Текст песни «Девочка снова на трапе*»]', 1),\n",
              " ('[Verse 2: Ваня Светло]', 1),\n",
              " ('[Verse 3: МЦ Джиглипуф]', 1),\n",
              " ('[Verse 4: Бабачёк]', 1),\n",
              " ('[Текст песни «Надвое вены»]', 1)]"
            ]
          },
          "metadata": {},
          "execution_count": 15
        }
      ]
    },
    {
      "cell_type": "markdown",
      "source": [
        "Этой информации явно не хватает однообразия"
      ],
      "metadata": {
        "id": "zyAAultm1CnA"
      }
    },
    {
      "cell_type": "markdown",
      "source": [
        "Возможно, если смотреть только на первое слово, то это даст более полезную информацию"
      ],
      "metadata": {
        "id": "iiKkMrtC1iG_"
      }
    },
    {
      "cell_type": "code",
      "source": [
        "meta_pattern = re.compile(r'\\[\\w+')\n",
        "meta_counter = Counter()\n",
        "for row in df_with_meta.iterrows():\n",
        "  meta_counter.update(meta_pattern.findall(row[1]['lyrics']))\n",
        "\n",
        "len(list(meta_counter))"
      ],
      "metadata": {
        "colab": {
          "base_uri": "https://localhost:8080/"
        },
        "id": "_Vb09K-UJSnZ",
        "outputId": "b03e61eb-b6ae-4689-b7b7-91a0e956099c"
      },
      "execution_count": null,
      "outputs": [
        {
          "output_type": "execute_result",
          "data": {
            "text/plain": [
              "6671"
            ]
          },
          "metadata": {},
          "execution_count": 16
        }
      ]
    },
    {
      "cell_type": "markdown",
      "source": [
        "Стао гораздо лучше. Снова посмотрим, что у нас собралось"
      ],
      "metadata": {
        "id": "q08o_4gWJfE6"
      }
    },
    {
      "cell_type": "code",
      "source": [
        "meta_counter.most_common(10)"
      ],
      "metadata": {
        "colab": {
          "base_uri": "https://localhost:8080/"
        },
        "id": "38wzO56rJmyO",
        "outputId": "aae21d74-4e4c-42f2-fbe4-352301ce40ff"
      },
      "execution_count": null,
      "outputs": [
        {
          "output_type": "execute_result",
          "data": {
            "text/plain": [
              "[('[Припев', 191891),\n",
              " ('[Куплет', 187318),\n",
              " ('[Текст', 69369),\n",
              " ('[Интро', 31806),\n",
              " ('[Бридж', 26280),\n",
              " ('[Аутро', 23485),\n",
              " ('[Verse', 18115),\n",
              " ('[Hook', 11779),\n",
              " ('[Предприпев', 8640),\n",
              " ('[Chorus', 8365)]"
            ]
          },
          "metadata": {},
          "execution_count": 17
        }
      ]
    },
    {
      "cell_type": "code",
      "source": [
        "meta_counter.most_common()[:-11:-1]"
      ],
      "metadata": {
        "colab": {
          "base_uri": "https://localhost:8080/"
        },
        "id": "5Pp0N31QJt7Q",
        "outputId": "dd189aaf-64a4-4e99-f561-e4f2e53e6095"
      },
      "execution_count": null,
      "outputs": [
        {
          "output_type": "execute_result",
          "data": {
            "text/plain": [
              "[('[Scatias', 1),\n",
              " ('[Куплем', 1),\n",
              " ('[Развитие', 1),\n",
              " ('[moneycash', 1),\n",
              " ('[Virtual', 1),\n",
              " ('[YNW', 1),\n",
              " ('[Stacy', 1),\n",
              " ('[HYPERPOP', 1),\n",
              " ('[Будет', 1),\n",
              " ('[Акаманах', 1)]"
            ]
          },
          "metadata": {},
          "execution_count": 18
        }
      ]
    },
    {
      "cell_type": "markdown",
      "source": [
        "Есть ощущение, что тут есть как такие варианты, которые не дадут никакой информации, поскольку они встречаются в слишком многом или, наоборот, в слишком малом количестве песен, как и такие, которые действительно могут дать какую-то полезную информацию."
      ],
      "metadata": {
        "id": "niD-q7ewKuuB"
      }
    },
    {
      "cell_type": "code",
      "source": [
        "in_rap = round(len(df_with_meta.loc[(df_with_meta['tag'] == 'rap') & (df_with_meta['lyrics'].str.contains(r'\\[припев', flags=re.IGNORECASE))]) / len(df_with_meta.loc[df_with_meta['tag'] == 'rap']), 2)\n",
        "in_pop = round(len(df_with_meta.loc[(df_with_meta['tag'] == 'pop') & (df_with_meta['lyrics'].str.contains(r'\\[припев', flags=re.IGNORECASE))]) / len(df_with_meta.loc[df_with_meta['tag'] == 'pop']), 2)\n",
        "in_rock = round(len(df_with_meta.loc[(df_with_meta['tag'] == 'rock') & (df_with_meta['lyrics'].str.contains(r'\\[припев', flags=re.IGNORECASE))]) / len(df_with_meta.loc[df_with_meta['tag'] == 'rock']), 2)\n",
        "\n",
        "print(f'''ПРИПЕВ:\n",
        "in rap: {in_rap}\n",
        "in pop: {in_pop}\n",
        "in_rock: {in_rock}''')"
      ],
      "metadata": {
        "colab": {
          "base_uri": "https://localhost:8080/"
        },
        "id": "OADG02-lMW0W",
        "outputId": "7f2e13f7-2cdc-4e11-84c0-567058e0317e"
      },
      "execution_count": null,
      "outputs": [
        {
          "output_type": "stream",
          "name": "stdout",
          "text": [
            "ПРИПЕВ:\n",
            "in rap: 0.68\n",
            "in pop: 0.75\n",
            "in_rock: 0.75\n"
          ]
        }
      ]
    },
    {
      "cell_type": "markdown",
      "source": [
        "Мета о припеве встречается слишком часто во всех классах. Проверим менее частотные варианты."
      ],
      "metadata": {
        "id": "hPpfwVY3SR0H"
      }
    },
    {
      "cell_type": "code",
      "source": [
        "in_rap = round(len(df_with_meta.loc[(df_with_meta['tag'] == 'rap') & (df_with_meta['lyrics'].str.contains(r'\\[Бридж', flags=re.IGNORECASE))]) / len(df_with_meta.loc[df_with_meta['tag'] == 'rap']), 2)\n",
        "in_pop = round(len(df_with_meta.loc[(df_with_meta['tag'] == 'pop') & (df_with_meta['lyrics'].str.contains(r'\\[Бридж', flags=re.IGNORECASE))]) / len(df_with_meta.loc[df_with_meta['tag'] == 'pop']), 2)\n",
        "in_rock = round(len(df_with_meta.loc[(df_with_meta['tag'] == 'rock') & (df_with_meta['lyrics'].str.contains(r'\\[Бридж', flags=re.IGNORECASE))]) / len(df_with_meta.loc[df_with_meta['tag'] == 'rock']), 2)\n",
        "\n",
        "print(f'''БРИДЖ:\n",
        "in rap: {in_rap}\n",
        "in pop: {in_pop}\n",
        "in_rock: {in_rock}''')"
      ],
      "metadata": {
        "colab": {
          "base_uri": "https://localhost:8080/"
        },
        "id": "jnIxlbd_Sbcb",
        "outputId": "1b99554f-afca-4a4d-ce24-7d1760028670"
      },
      "execution_count": null,
      "outputs": [
        {
          "output_type": "stream",
          "name": "stdout",
          "text": [
            "БРИДЖ:\n",
            "in rap: 0.16\n",
            "in pop: 0.19\n",
            "in_rock: 0.19\n"
          ]
        }
      ]
    },
    {
      "cell_type": "markdown",
      "source": [
        "Эта информация уже встречается слишком редко, и в примерно равной степени для всех тэгов."
      ],
      "metadata": {
        "id": "3whBcufgSlV8"
      }
    },
    {
      "cell_type": "code",
      "source": [
        "in_rap = round(len(df_with_meta.loc[(df_with_meta['tag'] == 'rap') & (df_with_meta['lyrics'].str.contains(r'\\[Текст', flags=re.IGNORECASE))]) / len(df_with_meta.loc[df_with_meta['tag'] == 'rap']), 2)\n",
        "in_pop = round(len(df_with_meta.loc[(df_with_meta['tag'] == 'pop') & (df_with_meta['lyrics'].str.contains(r'\\[Текст', flags=re.IGNORECASE))]) / len(df_with_meta.loc[df_with_meta['tag'] == 'pop']), 2)\n",
        "in_rock = round(len(df_with_meta.loc[(df_with_meta['tag'] == 'rock') & (df_with_meta['lyrics'].str.contains(r'\\[Текст', flags=re.IGNORECASE))]) / len(df_with_meta.loc[df_with_meta['tag'] == 'rock']), 2)\n",
        "\n",
        "print(f'''ТЕКСТ\n",
        "in rap: {in_rap}\n",
        "in pop: {in_pop}\n",
        "in_rock: {in_rock}''')"
      ],
      "metadata": {
        "colab": {
          "base_uri": "https://localhost:8080/"
        },
        "id": "MzObMbttSreW",
        "outputId": "0717a75d-afda-4508-b43d-640d28211947"
      },
      "execution_count": null,
      "outputs": [
        {
          "output_type": "stream",
          "name": "stdout",
          "text": [
            "ТЕКСТ\n",
            "in rap: 0.51\n",
            "in pop: 0.67\n",
            "in_rock: 0.7\n"
          ]
        }
      ]
    },
    {
      "cell_type": "code",
      "source": [
        "in_rap = round(len(df_with_meta.loc[(df_with_meta['tag'] == 'rap') & (df_with_meta['lyrics'].str.contains(r'\\[Интро', flags=re.IGNORECASE))]) / len(df_with_meta.loc[df_with_meta['tag'] == 'rap']), 2)\n",
        "in_pop = round(len(df_with_meta.loc[(df_with_meta['tag'] == 'pop') & (df_with_meta['lyrics'].str.contains(r'\\[Интро', flags=re.IGNORECASE))]) / len(df_with_meta.loc[df_with_meta['tag'] == 'pop']), 2)\n",
        "in_rock = round(len(df_with_meta.loc[(df_with_meta['tag'] == 'rock') & (df_with_meta['lyrics'].str.contains(r'\\[Интро', flags=re.IGNORECASE))]) / len(df_with_meta.loc[df_with_meta['tag'] == 'rock']), 2)\n",
        "\n",
        "print(f'''ИНТРО\n",
        "in rap: {in_rap}\n",
        "in pop: {in_pop}\n",
        "in_rock: {in_rock}''')"
      ],
      "metadata": {
        "colab": {
          "base_uri": "https://localhost:8080/"
        },
        "id": "xjz02gOjS6R_",
        "outputId": "d213795f-f4ea-41bd-a10c-04a559b7569f"
      },
      "execution_count": null,
      "outputs": [
        {
          "output_type": "stream",
          "name": "stdout",
          "text": [
            "ИНТРО\n",
            "in rap: 0.31\n",
            "in pop: 0.17\n",
            "in_rock: 0.11\n"
          ]
        }
      ]
    },
    {
      "cell_type": "markdown",
      "source": [
        "Рассмотрев разные варианты, я делаю вывод, что мета-информацию проще будет удалить, потому как она, по-видимому, не даст нам дополнительной информации о жанре песен"
      ],
      "metadata": {
        "id": "tuOXTt-_TCtg"
      }
    },
    {
      "cell_type": "markdown",
      "source": [
        "### Working with english texts"
      ],
      "metadata": {
        "id": "Vm608YHKTVlk"
      }
    },
    {
      "cell_type": "code",
      "source": [
        "in_rap = round(len(df_with_meta.loc[(df_with_meta['tag'] == 'rap') & (df_with_meta['lyrics'].str.contains(r'[a-z]', flags=re.IGNORECASE))]) / len(df_with_meta.loc[df_with_meta['tag'] == 'rap']), 2)\n",
        "in_pop = round(len(df_with_meta.loc[(df_with_meta['tag'] == 'pop') & (df_with_meta['lyrics'].str.contains(r'[a-z]', flags=re.IGNORECASE))]) / len(df_with_meta.loc[df_with_meta['tag'] == 'pop']), 2)\n",
        "in_rock = round(len(df_with_meta.loc[(df_with_meta['tag'] == 'rock') & (df_with_meta['lyrics'].str.contains(r'[a-z]', flags=re.IGNORECASE))]) / len(df_with_meta.loc[df_with_meta['tag'] == 'rock']), 2)\n",
        "\n",
        "print(f'''English лангуадже\n",
        "in rap: {in_rap}\n",
        "in pop: {in_pop}\n",
        "in_rock: {in_rock}''')"
      ],
      "metadata": {
        "colab": {
          "base_uri": "https://localhost:8080/"
        },
        "id": "euG_eIugTf2B",
        "outputId": "4f3eb53b-8365-4dae-f590-bb24af3bb962"
      },
      "execution_count": null,
      "outputs": [
        {
          "output_type": "stream",
          "name": "stdout",
          "text": [
            "English лангуадже\n",
            "in rap: 0.79\n",
            "in pop: 0.42\n",
            "in_rock: 0.27\n"
          ]
        }
      ]
    },
    {
      "cell_type": "markdown",
      "source": [
        "С англоязычными словами ситуация интереснее. Кажется, английский чаще всего встречается в рэпе, в то время как в (видимо, русском) роке к его применению прибегают редко. Однако, здесь мы не учитываем, находится английский текст в мета-информации или вне её. Есть смысл дополнительно проверить распределение англоязычных слов ещё раз после удаления меты."
      ],
      "metadata": {
        "id": "gOAoG8h8T6N4"
      }
    },
    {
      "cell_type": "markdown",
      "source": [
        "### Labels Distribution"
      ],
      "metadata": {
        "id": "lf7xr320ZYqS"
      }
    },
    {
      "cell_type": "code",
      "source": [
        "df['tag'].value_counts()"
      ],
      "metadata": {
        "colab": {
          "base_uri": "https://localhost:8080/"
        },
        "id": "Cg04XWpaZb4J",
        "outputId": "f77de9c0-3b8a-4ba8-f424-61c2e43ccec0"
      },
      "execution_count": null,
      "outputs": [
        {
          "output_type": "execute_result",
          "data": {
            "text/plain": [
              "rap     108654\n",
              "pop      30603\n",
              "rock     19227\n",
              "Name: tag, dtype: int64"
            ]
          },
          "metadata": {},
          "execution_count": 40
        }
      ]
    },
    {
      "cell_type": "markdown",
      "source": [
        "Наблюдается сильный дисбаланс классов в сторону рэпа."
      ],
      "metadata": {
        "id": "t1GLRV-AZtGi"
      }
    },
    {
      "cell_type": "markdown",
      "source": [
        "## Preprocessing"
      ],
      "metadata": {
        "id": "L5un9R5Yibad"
      }
    },
    {
      "cell_type": "markdown",
      "source": [
        "Лемматизация проводится батчами с применением программы MyStem. При этом было принято решение не отбрасывать стоп-слова, поскольку они могут дать полезную информацию для данного типа текстов."
      ],
      "metadata": {
        "id": "OerKmD6u1LUY"
      }
    },
    {
      "cell_type": "code",
      "source": [
        "def del_meta(text: str) -> str:\n",
        "  return re.sub(r'\\[.+\\]', '', text)\n",
        "\n",
        "\n",
        "def clear(text: str) -> list:\n",
        "  return ' '.join(re.findall('\\w+', text.lower()))\n",
        "\n",
        "\n",
        "def replace_eng(text: str) -> str:\n",
        "  return re.sub('[a-z]+', 'ENG', text, flags=re.I)\n",
        "\n",
        "'''def lemmatize(tokens: list) -> str:\n",
        "  morph = MorphAnalyzer()\n",
        "  return ' '.join([morph.parse(token)[0].normal_form for token in tokens])'''\n",
        "\n",
        "def lemmatize_mystem(texts: pd.Series, lemmatizer) -> str:\n",
        "  batch_size = 1000\n",
        "  batch_n = 0\n",
        "  lemmatized_texts = []\n",
        "  while batch_n < math.ceil(len(df) / batch_size):\n",
        "    batch_n += 1\n",
        "    batch = texts[batch_size * (batch_n - 1):batch_size * batch_n]\n",
        "    lemmatized_texts.extend(''.join(lemmatizer.lemmatize(' DELIMETER '.join(batch))).split(' DELIMETER '))\n",
        "    print(f'texts lemmatized: {batch_size * batch_n} out of {len(df)}')\n",
        "  return lemmatized_texts\n",
        "\n",
        "def preprocess(text: str) -> str:\n",
        "  return replace_eng(del_meta(text))"
      ],
      "metadata": {
        "id": "3ouKMPkvZ7q6"
      },
      "execution_count": null,
      "outputs": []
    },
    {
      "cell_type": "markdown",
      "source": [
        "Англоязычные слова заменяются плейсхолдером."
      ],
      "metadata": {
        "id": "dCVb9gwfh5U_"
      }
    },
    {
      "cell_type": "code",
      "source": [
        "df['lyrics'] = df['lyrics'].progress_apply(preprocess)\n",
        "df.head()"
      ],
      "metadata": {
        "colab": {
          "base_uri": "https://localhost:8080/",
          "height": 238,
          "referenced_widgets": [
            "3bd9232a672e414ca90247d170614f08",
            "92a2b5ce2f0141a882e7e4e999585a22",
            "1a24d4711b2d47089e31aa4a96aecdec",
            "4c5d6169390e441496ebdbd6d9e979d3",
            "55f9409cf0544869a731e6fd29cd4d27",
            "f48d3bec59ed4772b6462bd44a87d93d",
            "b6da0bb61760462eae55c5f132314ca8",
            "b24450ae8b7148e69beb17f531cf8b7a",
            "fb12f53ab2a34f4981b64b21bd4d9fff",
            "6b0bda22dc5d414bb68f81d3cdda4142",
            "45863448fd674d33918906b023725bf6"
          ]
        },
        "id": "rwoiolmwiR5b",
        "outputId": "b2c48c3f-f5b3-4acb-b220-06ad6431d3af"
      },
      "execution_count": null,
      "outputs": [
        {
          "output_type": "display_data",
          "data": {
            "text/plain": [
              "  0%|          | 0/158484 [00:00<?, ?it/s]"
            ],
            "application/vnd.jupyter.widget-view+json": {
              "version_major": 2,
              "version_minor": 0,
              "model_id": "3bd9232a672e414ca90247d170614f08"
            }
          },
          "metadata": {}
        },
        {
          "output_type": "execute_result",
          "data": {
            "text/plain": [
              "   tag                                             lyrics\n",
              "0  pop  \\nТолько степь вздохнёт едва\\nКак Божию росой ...\n",
              "1  rap  \\n\\n\\n*ENG ENG ENG ENG' ENG*\\nЕ, ENG ENG'ENG E...\n",
              "2  rap  \\n\\n\\nБудущие мамы, хвастайте телами\\nПарни, н...\n",
              "3  rap  Зимнее Утро\\n\\nКуплет 1\\n\\nЗимнее утро будильн...\n",
              "4  rap  \\n\\n\\nЯ помню в детстве миг, как девственник\\n..."
            ],
            "text/html": [
              "\n",
              "  <div id=\"df-0b64b662-18a2-4d83-894d-2b85c5d5fa92\" class=\"colab-df-container\">\n",
              "    <div>\n",
              "<style scoped>\n",
              "    .dataframe tbody tr th:only-of-type {\n",
              "        vertical-align: middle;\n",
              "    }\n",
              "\n",
              "    .dataframe tbody tr th {\n",
              "        vertical-align: top;\n",
              "    }\n",
              "\n",
              "    .dataframe thead th {\n",
              "        text-align: right;\n",
              "    }\n",
              "</style>\n",
              "<table border=\"1\" class=\"dataframe\">\n",
              "  <thead>\n",
              "    <tr style=\"text-align: right;\">\n",
              "      <th></th>\n",
              "      <th>tag</th>\n",
              "      <th>lyrics</th>\n",
              "    </tr>\n",
              "  </thead>\n",
              "  <tbody>\n",
              "    <tr>\n",
              "      <th>0</th>\n",
              "      <td>pop</td>\n",
              "      <td>\\nТолько степь вздохнёт едва\\nКак Божию росой ...</td>\n",
              "    </tr>\n",
              "    <tr>\n",
              "      <th>1</th>\n",
              "      <td>rap</td>\n",
              "      <td>\\n\\n\\n*ENG ENG ENG ENG' ENG*\\nЕ, ENG ENG'ENG E...</td>\n",
              "    </tr>\n",
              "    <tr>\n",
              "      <th>2</th>\n",
              "      <td>rap</td>\n",
              "      <td>\\n\\n\\nБудущие мамы, хвастайте телами\\nПарни, н...</td>\n",
              "    </tr>\n",
              "    <tr>\n",
              "      <th>3</th>\n",
              "      <td>rap</td>\n",
              "      <td>Зимнее Утро\\n\\nКуплет 1\\n\\nЗимнее утро будильн...</td>\n",
              "    </tr>\n",
              "    <tr>\n",
              "      <th>4</th>\n",
              "      <td>rap</td>\n",
              "      <td>\\n\\n\\nЯ помню в детстве миг, как девственник\\n...</td>\n",
              "    </tr>\n",
              "  </tbody>\n",
              "</table>\n",
              "</div>\n",
              "    <div class=\"colab-df-buttons\">\n",
              "\n",
              "  <div class=\"colab-df-container\">\n",
              "    <button class=\"colab-df-convert\" onclick=\"convertToInteractive('df-0b64b662-18a2-4d83-894d-2b85c5d5fa92')\"\n",
              "            title=\"Convert this dataframe to an interactive table.\"\n",
              "            style=\"display:none;\">\n",
              "\n",
              "  <svg xmlns=\"http://www.w3.org/2000/svg\" height=\"24px\" viewBox=\"0 -960 960 960\">\n",
              "    <path d=\"M120-120v-720h720v720H120Zm60-500h600v-160H180v160Zm220 220h160v-160H400v160Zm0 220h160v-160H400v160ZM180-400h160v-160H180v160Zm440 0h160v-160H620v160ZM180-180h160v-160H180v160Zm440 0h160v-160H620v160Z\"/>\n",
              "  </svg>\n",
              "    </button>\n",
              "\n",
              "  <style>\n",
              "    .colab-df-container {\n",
              "      display:flex;\n",
              "      gap: 12px;\n",
              "    }\n",
              "\n",
              "    .colab-df-convert {\n",
              "      background-color: #E8F0FE;\n",
              "      border: none;\n",
              "      border-radius: 50%;\n",
              "      cursor: pointer;\n",
              "      display: none;\n",
              "      fill: #1967D2;\n",
              "      height: 32px;\n",
              "      padding: 0 0 0 0;\n",
              "      width: 32px;\n",
              "    }\n",
              "\n",
              "    .colab-df-convert:hover {\n",
              "      background-color: #E2EBFA;\n",
              "      box-shadow: 0px 1px 2px rgba(60, 64, 67, 0.3), 0px 1px 3px 1px rgba(60, 64, 67, 0.15);\n",
              "      fill: #174EA6;\n",
              "    }\n",
              "\n",
              "    .colab-df-buttons div {\n",
              "      margin-bottom: 4px;\n",
              "    }\n",
              "\n",
              "    [theme=dark] .colab-df-convert {\n",
              "      background-color: #3B4455;\n",
              "      fill: #D2E3FC;\n",
              "    }\n",
              "\n",
              "    [theme=dark] .colab-df-convert:hover {\n",
              "      background-color: #434B5C;\n",
              "      box-shadow: 0px 1px 3px 1px rgba(0, 0, 0, 0.15);\n",
              "      filter: drop-shadow(0px 1px 2px rgba(0, 0, 0, 0.3));\n",
              "      fill: #FFFFFF;\n",
              "    }\n",
              "  </style>\n",
              "\n",
              "    <script>\n",
              "      const buttonEl =\n",
              "        document.querySelector('#df-0b64b662-18a2-4d83-894d-2b85c5d5fa92 button.colab-df-convert');\n",
              "      buttonEl.style.display =\n",
              "        google.colab.kernel.accessAllowed ? 'block' : 'none';\n",
              "\n",
              "      async function convertToInteractive(key) {\n",
              "        const element = document.querySelector('#df-0b64b662-18a2-4d83-894d-2b85c5d5fa92');\n",
              "        const dataTable =\n",
              "          await google.colab.kernel.invokeFunction('convertToInteractive',\n",
              "                                                    [key], {});\n",
              "        if (!dataTable) return;\n",
              "\n",
              "        const docLinkHtml = 'Like what you see? Visit the ' +\n",
              "          '<a target=\"_blank\" href=https://colab.research.google.com/notebooks/data_table.ipynb>data table notebook</a>'\n",
              "          + ' to learn more about interactive tables.';\n",
              "        element.innerHTML = '';\n",
              "        dataTable['output_type'] = 'display_data';\n",
              "        await google.colab.output.renderOutput(dataTable, element);\n",
              "        const docLink = document.createElement('div');\n",
              "        docLink.innerHTML = docLinkHtml;\n",
              "        element.appendChild(docLink);\n",
              "      }\n",
              "    </script>\n",
              "  </div>\n",
              "\n",
              "\n",
              "<div id=\"df-3fb6f848-fe89-4ef9-98d0-0b4b759beae8\">\n",
              "  <button class=\"colab-df-quickchart\" onclick=\"quickchart('df-3fb6f848-fe89-4ef9-98d0-0b4b759beae8')\"\n",
              "            title=\"Suggest charts\"\n",
              "            style=\"display:none;\">\n",
              "\n",
              "<svg xmlns=\"http://www.w3.org/2000/svg\" height=\"24px\"viewBox=\"0 0 24 24\"\n",
              "     width=\"24px\">\n",
              "    <g>\n",
              "        <path d=\"M19 3H5c-1.1 0-2 .9-2 2v14c0 1.1.9 2 2 2h14c1.1 0 2-.9 2-2V5c0-1.1-.9-2-2-2zM9 17H7v-7h2v7zm4 0h-2V7h2v10zm4 0h-2v-4h2v4z\"/>\n",
              "    </g>\n",
              "</svg>\n",
              "  </button>\n",
              "\n",
              "<style>\n",
              "  .colab-df-quickchart {\n",
              "      --bg-color: #E8F0FE;\n",
              "      --fill-color: #1967D2;\n",
              "      --hover-bg-color: #E2EBFA;\n",
              "      --hover-fill-color: #174EA6;\n",
              "      --disabled-fill-color: #AAA;\n",
              "      --disabled-bg-color: #DDD;\n",
              "  }\n",
              "\n",
              "  [theme=dark] .colab-df-quickchart {\n",
              "      --bg-color: #3B4455;\n",
              "      --fill-color: #D2E3FC;\n",
              "      --hover-bg-color: #434B5C;\n",
              "      --hover-fill-color: #FFFFFF;\n",
              "      --disabled-bg-color: #3B4455;\n",
              "      --disabled-fill-color: #666;\n",
              "  }\n",
              "\n",
              "  .colab-df-quickchart {\n",
              "    background-color: var(--bg-color);\n",
              "    border: none;\n",
              "    border-radius: 50%;\n",
              "    cursor: pointer;\n",
              "    display: none;\n",
              "    fill: var(--fill-color);\n",
              "    height: 32px;\n",
              "    padding: 0;\n",
              "    width: 32px;\n",
              "  }\n",
              "\n",
              "  .colab-df-quickchart:hover {\n",
              "    background-color: var(--hover-bg-color);\n",
              "    box-shadow: 0 1px 2px rgba(60, 64, 67, 0.3), 0 1px 3px 1px rgba(60, 64, 67, 0.15);\n",
              "    fill: var(--button-hover-fill-color);\n",
              "  }\n",
              "\n",
              "  .colab-df-quickchart-complete:disabled,\n",
              "  .colab-df-quickchart-complete:disabled:hover {\n",
              "    background-color: var(--disabled-bg-color);\n",
              "    fill: var(--disabled-fill-color);\n",
              "    box-shadow: none;\n",
              "  }\n",
              "\n",
              "  .colab-df-spinner {\n",
              "    border: 2px solid var(--fill-color);\n",
              "    border-color: transparent;\n",
              "    border-bottom-color: var(--fill-color);\n",
              "    animation:\n",
              "      spin 1s steps(1) infinite;\n",
              "  }\n",
              "\n",
              "  @keyframes spin {\n",
              "    0% {\n",
              "      border-color: transparent;\n",
              "      border-bottom-color: var(--fill-color);\n",
              "      border-left-color: var(--fill-color);\n",
              "    }\n",
              "    20% {\n",
              "      border-color: transparent;\n",
              "      border-left-color: var(--fill-color);\n",
              "      border-top-color: var(--fill-color);\n",
              "    }\n",
              "    30% {\n",
              "      border-color: transparent;\n",
              "      border-left-color: var(--fill-color);\n",
              "      border-top-color: var(--fill-color);\n",
              "      border-right-color: var(--fill-color);\n",
              "    }\n",
              "    40% {\n",
              "      border-color: transparent;\n",
              "      border-right-color: var(--fill-color);\n",
              "      border-top-color: var(--fill-color);\n",
              "    }\n",
              "    60% {\n",
              "      border-color: transparent;\n",
              "      border-right-color: var(--fill-color);\n",
              "    }\n",
              "    80% {\n",
              "      border-color: transparent;\n",
              "      border-right-color: var(--fill-color);\n",
              "      border-bottom-color: var(--fill-color);\n",
              "    }\n",
              "    90% {\n",
              "      border-color: transparent;\n",
              "      border-bottom-color: var(--fill-color);\n",
              "    }\n",
              "  }\n",
              "</style>\n",
              "\n",
              "  <script>\n",
              "    async function quickchart(key) {\n",
              "      const quickchartButtonEl =\n",
              "        document.querySelector('#' + key + ' button');\n",
              "      quickchartButtonEl.disabled = true;  // To prevent multiple clicks.\n",
              "      quickchartButtonEl.classList.add('colab-df-spinner');\n",
              "      try {\n",
              "        const charts = await google.colab.kernel.invokeFunction(\n",
              "            'suggestCharts', [key], {});\n",
              "      } catch (error) {\n",
              "        console.error('Error during call to suggestCharts:', error);\n",
              "      }\n",
              "      quickchartButtonEl.classList.remove('colab-df-spinner');\n",
              "      quickchartButtonEl.classList.add('colab-df-quickchart-complete');\n",
              "    }\n",
              "    (() => {\n",
              "      let quickchartButtonEl =\n",
              "        document.querySelector('#df-3fb6f848-fe89-4ef9-98d0-0b4b759beae8 button');\n",
              "      quickchartButtonEl.style.display =\n",
              "        google.colab.kernel.accessAllowed ? 'block' : 'none';\n",
              "    })();\n",
              "  </script>\n",
              "</div>\n",
              "    </div>\n",
              "  </div>\n"
            ]
          },
          "metadata": {},
          "execution_count": 17
        }
      ]
    },
    {
      "cell_type": "code",
      "source": [
        "mystem = Mystem()\n",
        "lemmatized_texts = lemmatize_mystem(df['lyrics'], mystem)\n",
        "len(lemmatized_texts)"
      ],
      "metadata": {
        "id": "wR02M2ajynd5"
      },
      "execution_count": null,
      "outputs": []
    },
    {
      "cell_type": "code",
      "source": [
        "lemmatized_texts[:2]"
      ],
      "metadata": {
        "colab": {
          "base_uri": "https://localhost:8080/"
        },
        "id": "HE0Fhvw03BVO",
        "outputId": "cd49919a-e938-4be6-aed5-5cb4a86441f0"
      },
      "execution_count": null,
      "outputs": [
        {
          "output_type": "execute_result",
          "data": {
            "text/plain": [
              "['\\nтолько степь вздыхать едва\\nкак божий роса трава\\nомывать нога в стремя\\nочнуться река время\\n\\n\\nсмотреть: нестись конница\\nстепной вольница\\nполк суровый казак\\nиз тьма век\\n\\n\\nночь молить останавливаться\\nмесяц брить скула-лицо\\nвиться над папаха чуб\\nхлестать ус, сверкать зуб\\n\\n\\nстепь шальной войско мчать\\nворон гибельный кричать\\nлететь, рисковать голова, казак лихой!\\n\\nмать-отец рыдать оставлять\\nнавсегда постель заправлять\\nк сердце - горсть земля родимый\\nда взасос - уста любимый\\n\\n\\nс правда-матка под уздцы\\nуезжать молодец\\nотведывать желчь полынный-\\nсудьба фамильный...\\nи степь шальной войско мчать\\nворон гибельный кричать\\nлететь, рисковать голова, казак лихой!\\n\\n\\nконь ржать, котел бурлиться\\nдым от трубочка клубиться\\nкаша-брага-песня-пляс\\nи зыбкий в предрассветный час\\n\\n\\nой, казак, гулять пока\\nдавать поспать свой враг\\nно в поле дикий есаул\\nопять звать в заря\\nи вновь нестись конница\\nстепной вольница\\nлететь, рисковать голова, казак лихой!\\nтам степь шальной войско мчать\\nворон гибельный кричать\\nлететь, рисковать голова\\nказак лихой, казак лихой!',\n",
              " '\\n\\n\\n*ENG ENG ENG ENG\\' ENG*\\nе, ENG ENG\\'ENG ENG, ENG\\n*ENG*\\n\\n\\nона сосать я без рука, будто есть ENG ENG\\nи палить ENG параллельно (ENG ENG)\\nнет, она не скучно, она писать ENG\\nспрашивать, быть ли она верный (е, ENG)\\nпинать дерьмо, будто бы я ENG\\nсо я ENG ENG, он ты кикать\\nсука катать шар ловко справляться с кий\\nно завтра лететь назад в киев (ENG)\\nлюбить иностранка, особенно ENG\\nя нравиться ее характер\\nENG ENG на ENG, мы делать ENG\\nвокруг много вода, я нужный свой катер (е, е)\\nона давать я мозги хорошистка чисто за бартер\\nпять сук на я, ENG ENG\\nENG и ENG сделать бит\\nу-у-у, я он выбивать на партер\\n\\nпау-пау, ENG\\'ENG ENG ENG ENG, е\\nда, я срочно нужный ENG ENG на мой запястье, е (ENG ENG)\\nENG ENG трясти свой жопа, будто ты ENG ENG (ENG\\'ENG ENG)\\nвидеть, в мой рука ENG, ENG ENG ENG ENG ENG ENG\\nENG очень длинный — не спрятать в штаны\\nпрятать в тот сук и слышать стон (ENG\\'ENG ENG, ENG\\'ENG ENG)\\nвесь этот сука, они, будто клон (е, е)\\nвесь этот сучка брать я на проба\\nсчитать цифра, но нахуй учеба\\nс я вода, как в плохой погода\\nты у я вызывать зевота\\nENG на я перебивать твой рота\\n\\n\\nона сосать я без рука, будто есть ENG ENG\\nи палить ENG параллельно (ENG ENG)\\nнет, она не скучно, она писать ENG\\nспрашивать, быть ли она верный (е, ENG)\\nпинать дерьмо, будто бы я ENG\\nсо я ENG ENG, он ты кикать\\nсука катать шар, ловко справляться с кий\\nно завтра лететь назад в киев (ENG)\\nлюбить иностранка, особенно ENG\\nя нравиться ее характер\\nENG ENG на ENG, мы делать ENG\\nвокруг много вода, я нужный свой катер (е, е)\\nона давать я мозги хорошистка чисто за бартер\\nпять сук на я, ENG ENG\\nENG и ENG сделать бит\\nу-у-у, я он выбивать на партер\\n\\nсука так хотеть мой дом (ха)\\nговорить тот сук: \"ENG\" (ENG)\\nдевочка, мы не в кино (нет)\\nмного такой, как ты ENG (ENG)\\nкрутить мы новенький ENG (е)\\nпрыгать в новенький ENG (ENG)\\nдалеко ENG ENG прямой на шоу (ENG)\\nи мы там делать шоу (е)\\nдуть будто вентилятор (у)\\nехать наверх — элеватор (зу-у)\\nу ты кент — гладиатор (ха)\\nу я — док-аллигатор (ар-р)\\nподжигать я новый шатл (е)\\nя будто юра гагарин (ENG?)\\nгде сейчас я сам не знать (ха)\\nно она со я щас в спальня (ENG\\'ENG ENG)\\n\\n\\nона сосать я без рука, будто есть ENG ENG\\nи палить ENG параллельно (ENG ENG)\\nнет, она не скучно, она писать ENG\\nспрашивать, быть ли она верный (е, ENG)\\nпинать дерьмо, будто бы я ENG\\nсо я ENG ENG, он ты кикать\\nсука катать шар, ловко справляться с кий\\nно завтра лететь назад в киев (ENG)\\nлюбить иностранка, особенно ENG\\nя нравиться ее характер\\nENG ENG на ENG, мы делать ENG\\nвокруг много вода, я нужный свой катер (е, е)\\nона давать я мозги хорошистка чисто за бартер\\nпять сук на я, ENG ENG\\nENG и ENG сделать бит\\nу-у-у, я он выбивать на партер']"
            ]
          },
          "metadata": {},
          "execution_count": 29
        }
      ]
    },
    {
      "cell_type": "code",
      "source": [
        "df['lyrics'] = lemmatized_texts\n",
        "df.head()"
      ],
      "metadata": {
        "colab": {
          "base_uri": "https://localhost:8080/",
          "height": 206
        },
        "id": "Gf4wwkLp28VL",
        "outputId": "076806fe-a5fb-4aa0-a70f-fb27de2efc6f"
      },
      "execution_count": null,
      "outputs": [
        {
          "output_type": "execute_result",
          "data": {
            "text/plain": [
              "   tag                                             lyrics\n",
              "0  pop  \\nтолько степь вздыхать едва\\nкак божий роса т...\n",
              "1  rap  \\n\\n\\n*ENG ENG ENG ENG' ENG*\\nе, ENG ENG'ENG E...\n",
              "2  rap  \\n\\n\\nбудущий мама, хвастать тело\\nпарень, не ...\n",
              "3  rap  зимний утро\\n\\nкуплет 1\\n\\nзимний утро будильн...\n",
              "4  rap  \\n\\n\\nя помнить в детство миг, как девственник..."
            ],
            "text/html": [
              "\n",
              "  <div id=\"df-8590c9b0-c483-4b56-bd32-d9bed876eb65\" class=\"colab-df-container\">\n",
              "    <div>\n",
              "<style scoped>\n",
              "    .dataframe tbody tr th:only-of-type {\n",
              "        vertical-align: middle;\n",
              "    }\n",
              "\n",
              "    .dataframe tbody tr th {\n",
              "        vertical-align: top;\n",
              "    }\n",
              "\n",
              "    .dataframe thead th {\n",
              "        text-align: right;\n",
              "    }\n",
              "</style>\n",
              "<table border=\"1\" class=\"dataframe\">\n",
              "  <thead>\n",
              "    <tr style=\"text-align: right;\">\n",
              "      <th></th>\n",
              "      <th>tag</th>\n",
              "      <th>lyrics</th>\n",
              "    </tr>\n",
              "  </thead>\n",
              "  <tbody>\n",
              "    <tr>\n",
              "      <th>0</th>\n",
              "      <td>pop</td>\n",
              "      <td>\\nтолько степь вздыхать едва\\nкак божий роса т...</td>\n",
              "    </tr>\n",
              "    <tr>\n",
              "      <th>1</th>\n",
              "      <td>rap</td>\n",
              "      <td>\\n\\n\\n*ENG ENG ENG ENG' ENG*\\nе, ENG ENG'ENG E...</td>\n",
              "    </tr>\n",
              "    <tr>\n",
              "      <th>2</th>\n",
              "      <td>rap</td>\n",
              "      <td>\\n\\n\\nбудущий мама, хвастать тело\\nпарень, не ...</td>\n",
              "    </tr>\n",
              "    <tr>\n",
              "      <th>3</th>\n",
              "      <td>rap</td>\n",
              "      <td>зимний утро\\n\\nкуплет 1\\n\\nзимний утро будильн...</td>\n",
              "    </tr>\n",
              "    <tr>\n",
              "      <th>4</th>\n",
              "      <td>rap</td>\n",
              "      <td>\\n\\n\\nя помнить в детство миг, как девственник...</td>\n",
              "    </tr>\n",
              "  </tbody>\n",
              "</table>\n",
              "</div>\n",
              "    <div class=\"colab-df-buttons\">\n",
              "\n",
              "  <div class=\"colab-df-container\">\n",
              "    <button class=\"colab-df-convert\" onclick=\"convertToInteractive('df-8590c9b0-c483-4b56-bd32-d9bed876eb65')\"\n",
              "            title=\"Convert this dataframe to an interactive table.\"\n",
              "            style=\"display:none;\">\n",
              "\n",
              "  <svg xmlns=\"http://www.w3.org/2000/svg\" height=\"24px\" viewBox=\"0 -960 960 960\">\n",
              "    <path d=\"M120-120v-720h720v720H120Zm60-500h600v-160H180v160Zm220 220h160v-160H400v160Zm0 220h160v-160H400v160ZM180-400h160v-160H180v160Zm440 0h160v-160H620v160ZM180-180h160v-160H180v160Zm440 0h160v-160H620v160Z\"/>\n",
              "  </svg>\n",
              "    </button>\n",
              "\n",
              "  <style>\n",
              "    .colab-df-container {\n",
              "      display:flex;\n",
              "      gap: 12px;\n",
              "    }\n",
              "\n",
              "    .colab-df-convert {\n",
              "      background-color: #E8F0FE;\n",
              "      border: none;\n",
              "      border-radius: 50%;\n",
              "      cursor: pointer;\n",
              "      display: none;\n",
              "      fill: #1967D2;\n",
              "      height: 32px;\n",
              "      padding: 0 0 0 0;\n",
              "      width: 32px;\n",
              "    }\n",
              "\n",
              "    .colab-df-convert:hover {\n",
              "      background-color: #E2EBFA;\n",
              "      box-shadow: 0px 1px 2px rgba(60, 64, 67, 0.3), 0px 1px 3px 1px rgba(60, 64, 67, 0.15);\n",
              "      fill: #174EA6;\n",
              "    }\n",
              "\n",
              "    .colab-df-buttons div {\n",
              "      margin-bottom: 4px;\n",
              "    }\n",
              "\n",
              "    [theme=dark] .colab-df-convert {\n",
              "      background-color: #3B4455;\n",
              "      fill: #D2E3FC;\n",
              "    }\n",
              "\n",
              "    [theme=dark] .colab-df-convert:hover {\n",
              "      background-color: #434B5C;\n",
              "      box-shadow: 0px 1px 3px 1px rgba(0, 0, 0, 0.15);\n",
              "      filter: drop-shadow(0px 1px 2px rgba(0, 0, 0, 0.3));\n",
              "      fill: #FFFFFF;\n",
              "    }\n",
              "  </style>\n",
              "\n",
              "    <script>\n",
              "      const buttonEl =\n",
              "        document.querySelector('#df-8590c9b0-c483-4b56-bd32-d9bed876eb65 button.colab-df-convert');\n",
              "      buttonEl.style.display =\n",
              "        google.colab.kernel.accessAllowed ? 'block' : 'none';\n",
              "\n",
              "      async function convertToInteractive(key) {\n",
              "        const element = document.querySelector('#df-8590c9b0-c483-4b56-bd32-d9bed876eb65');\n",
              "        const dataTable =\n",
              "          await google.colab.kernel.invokeFunction('convertToInteractive',\n",
              "                                                    [key], {});\n",
              "        if (!dataTable) return;\n",
              "\n",
              "        const docLinkHtml = 'Like what you see? Visit the ' +\n",
              "          '<a target=\"_blank\" href=https://colab.research.google.com/notebooks/data_table.ipynb>data table notebook</a>'\n",
              "          + ' to learn more about interactive tables.';\n",
              "        element.innerHTML = '';\n",
              "        dataTable['output_type'] = 'display_data';\n",
              "        await google.colab.output.renderOutput(dataTable, element);\n",
              "        const docLink = document.createElement('div');\n",
              "        docLink.innerHTML = docLinkHtml;\n",
              "        element.appendChild(docLink);\n",
              "      }\n",
              "    </script>\n",
              "  </div>\n",
              "\n",
              "\n",
              "<div id=\"df-f6829fee-27ab-48b5-9838-5eeae9927292\">\n",
              "  <button class=\"colab-df-quickchart\" onclick=\"quickchart('df-f6829fee-27ab-48b5-9838-5eeae9927292')\"\n",
              "            title=\"Suggest charts\"\n",
              "            style=\"display:none;\">\n",
              "\n",
              "<svg xmlns=\"http://www.w3.org/2000/svg\" height=\"24px\"viewBox=\"0 0 24 24\"\n",
              "     width=\"24px\">\n",
              "    <g>\n",
              "        <path d=\"M19 3H5c-1.1 0-2 .9-2 2v14c0 1.1.9 2 2 2h14c1.1 0 2-.9 2-2V5c0-1.1-.9-2-2-2zM9 17H7v-7h2v7zm4 0h-2V7h2v10zm4 0h-2v-4h2v4z\"/>\n",
              "    </g>\n",
              "</svg>\n",
              "  </button>\n",
              "\n",
              "<style>\n",
              "  .colab-df-quickchart {\n",
              "      --bg-color: #E8F0FE;\n",
              "      --fill-color: #1967D2;\n",
              "      --hover-bg-color: #E2EBFA;\n",
              "      --hover-fill-color: #174EA6;\n",
              "      --disabled-fill-color: #AAA;\n",
              "      --disabled-bg-color: #DDD;\n",
              "  }\n",
              "\n",
              "  [theme=dark] .colab-df-quickchart {\n",
              "      --bg-color: #3B4455;\n",
              "      --fill-color: #D2E3FC;\n",
              "      --hover-bg-color: #434B5C;\n",
              "      --hover-fill-color: #FFFFFF;\n",
              "      --disabled-bg-color: #3B4455;\n",
              "      --disabled-fill-color: #666;\n",
              "  }\n",
              "\n",
              "  .colab-df-quickchart {\n",
              "    background-color: var(--bg-color);\n",
              "    border: none;\n",
              "    border-radius: 50%;\n",
              "    cursor: pointer;\n",
              "    display: none;\n",
              "    fill: var(--fill-color);\n",
              "    height: 32px;\n",
              "    padding: 0;\n",
              "    width: 32px;\n",
              "  }\n",
              "\n",
              "  .colab-df-quickchart:hover {\n",
              "    background-color: var(--hover-bg-color);\n",
              "    box-shadow: 0 1px 2px rgba(60, 64, 67, 0.3), 0 1px 3px 1px rgba(60, 64, 67, 0.15);\n",
              "    fill: var(--button-hover-fill-color);\n",
              "  }\n",
              "\n",
              "  .colab-df-quickchart-complete:disabled,\n",
              "  .colab-df-quickchart-complete:disabled:hover {\n",
              "    background-color: var(--disabled-bg-color);\n",
              "    fill: var(--disabled-fill-color);\n",
              "    box-shadow: none;\n",
              "  }\n",
              "\n",
              "  .colab-df-spinner {\n",
              "    border: 2px solid var(--fill-color);\n",
              "    border-color: transparent;\n",
              "    border-bottom-color: var(--fill-color);\n",
              "    animation:\n",
              "      spin 1s steps(1) infinite;\n",
              "  }\n",
              "\n",
              "  @keyframes spin {\n",
              "    0% {\n",
              "      border-color: transparent;\n",
              "      border-bottom-color: var(--fill-color);\n",
              "      border-left-color: var(--fill-color);\n",
              "    }\n",
              "    20% {\n",
              "      border-color: transparent;\n",
              "      border-left-color: var(--fill-color);\n",
              "      border-top-color: var(--fill-color);\n",
              "    }\n",
              "    30% {\n",
              "      border-color: transparent;\n",
              "      border-left-color: var(--fill-color);\n",
              "      border-top-color: var(--fill-color);\n",
              "      border-right-color: var(--fill-color);\n",
              "    }\n",
              "    40% {\n",
              "      border-color: transparent;\n",
              "      border-right-color: var(--fill-color);\n",
              "      border-top-color: var(--fill-color);\n",
              "    }\n",
              "    60% {\n",
              "      border-color: transparent;\n",
              "      border-right-color: var(--fill-color);\n",
              "    }\n",
              "    80% {\n",
              "      border-color: transparent;\n",
              "      border-right-color: var(--fill-color);\n",
              "      border-bottom-color: var(--fill-color);\n",
              "    }\n",
              "    90% {\n",
              "      border-color: transparent;\n",
              "      border-bottom-color: var(--fill-color);\n",
              "    }\n",
              "  }\n",
              "</style>\n",
              "\n",
              "  <script>\n",
              "    async function quickchart(key) {\n",
              "      const quickchartButtonEl =\n",
              "        document.querySelector('#' + key + ' button');\n",
              "      quickchartButtonEl.disabled = true;  // To prevent multiple clicks.\n",
              "      quickchartButtonEl.classList.add('colab-df-spinner');\n",
              "      try {\n",
              "        const charts = await google.colab.kernel.invokeFunction(\n",
              "            'suggestCharts', [key], {});\n",
              "      } catch (error) {\n",
              "        console.error('Error during call to suggestCharts:', error);\n",
              "      }\n",
              "      quickchartButtonEl.classList.remove('colab-df-spinner');\n",
              "      quickchartButtonEl.classList.add('colab-df-quickchart-complete');\n",
              "    }\n",
              "    (() => {\n",
              "      let quickchartButtonEl =\n",
              "        document.querySelector('#df-f6829fee-27ab-48b5-9838-5eeae9927292 button');\n",
              "      quickchartButtonEl.style.display =\n",
              "        google.colab.kernel.accessAllowed ? 'block' : 'none';\n",
              "    })();\n",
              "  </script>\n",
              "</div>\n",
              "    </div>\n",
              "  </div>\n"
            ]
          },
          "metadata": {},
          "execution_count": 31
        }
      ]
    },
    {
      "cell_type": "code",
      "source": [
        "df['lyrics'] = df['lyrics'].progress_apply(clear)\n",
        "df.head(2)"
      ],
      "metadata": {
        "colab": {
          "base_uri": "https://localhost:8080/",
          "height": 144,
          "referenced_widgets": [
            "6cbd01d88e3b4a1da24a606475466788",
            "d2c8b25e18e641b0ad6b71c28d4557f4",
            "e2d8f222915b4e3d812a31b76db4bf7c",
            "276456b5706a4a6e84d0e949005bf18e",
            "8a877663bf21400686c02c217ac4f78a",
            "e0226debad9b4b67a16e95c510b212f7",
            "4979add95fc347289c91400f29a9e038",
            "6e7dd8388e914f7c90f942db56913454",
            "e643028976c64f5ba437c00e792fd5ee",
            "7b4fe1469ebe4c7c9d419d7d302dfff7",
            "58b3df9a80e04507af398284a73edc91"
          ]
        },
        "id": "Akv6YxVl38J1",
        "outputId": "53de22d7-e899-4b4c-c5fa-2ef568cc2507"
      },
      "execution_count": null,
      "outputs": [
        {
          "output_type": "display_data",
          "data": {
            "text/plain": [
              "  0%|          | 0/158484 [00:00<?, ?it/s]"
            ],
            "application/vnd.jupyter.widget-view+json": {
              "version_major": 2,
              "version_minor": 0,
              "model_id": "6cbd01d88e3b4a1da24a606475466788"
            }
          },
          "metadata": {}
        },
        {
          "output_type": "execute_result",
          "data": {
            "text/plain": [
              "   tag                                             lyrics\n",
              "0  pop  только степь вздыхать едва как божий роса трав...\n",
              "1  rap  eng eng eng eng eng е eng eng eng eng eng eng ..."
            ],
            "text/html": [
              "\n",
              "  <div id=\"df-14320c42-8c79-462f-95c9-213247875d3f\" class=\"colab-df-container\">\n",
              "    <div>\n",
              "<style scoped>\n",
              "    .dataframe tbody tr th:only-of-type {\n",
              "        vertical-align: middle;\n",
              "    }\n",
              "\n",
              "    .dataframe tbody tr th {\n",
              "        vertical-align: top;\n",
              "    }\n",
              "\n",
              "    .dataframe thead th {\n",
              "        text-align: right;\n",
              "    }\n",
              "</style>\n",
              "<table border=\"1\" class=\"dataframe\">\n",
              "  <thead>\n",
              "    <tr style=\"text-align: right;\">\n",
              "      <th></th>\n",
              "      <th>tag</th>\n",
              "      <th>lyrics</th>\n",
              "    </tr>\n",
              "  </thead>\n",
              "  <tbody>\n",
              "    <tr>\n",
              "      <th>0</th>\n",
              "      <td>pop</td>\n",
              "      <td>только степь вздыхать едва как божий роса трав...</td>\n",
              "    </tr>\n",
              "    <tr>\n",
              "      <th>1</th>\n",
              "      <td>rap</td>\n",
              "      <td>eng eng eng eng eng е eng eng eng eng eng eng ...</td>\n",
              "    </tr>\n",
              "  </tbody>\n",
              "</table>\n",
              "</div>\n",
              "    <div class=\"colab-df-buttons\">\n",
              "\n",
              "  <div class=\"colab-df-container\">\n",
              "    <button class=\"colab-df-convert\" onclick=\"convertToInteractive('df-14320c42-8c79-462f-95c9-213247875d3f')\"\n",
              "            title=\"Convert this dataframe to an interactive table.\"\n",
              "            style=\"display:none;\">\n",
              "\n",
              "  <svg xmlns=\"http://www.w3.org/2000/svg\" height=\"24px\" viewBox=\"0 -960 960 960\">\n",
              "    <path d=\"M120-120v-720h720v720H120Zm60-500h600v-160H180v160Zm220 220h160v-160H400v160Zm0 220h160v-160H400v160ZM180-400h160v-160H180v160Zm440 0h160v-160H620v160ZM180-180h160v-160H180v160Zm440 0h160v-160H620v160Z\"/>\n",
              "  </svg>\n",
              "    </button>\n",
              "\n",
              "  <style>\n",
              "    .colab-df-container {\n",
              "      display:flex;\n",
              "      gap: 12px;\n",
              "    }\n",
              "\n",
              "    .colab-df-convert {\n",
              "      background-color: #E8F0FE;\n",
              "      border: none;\n",
              "      border-radius: 50%;\n",
              "      cursor: pointer;\n",
              "      display: none;\n",
              "      fill: #1967D2;\n",
              "      height: 32px;\n",
              "      padding: 0 0 0 0;\n",
              "      width: 32px;\n",
              "    }\n",
              "\n",
              "    .colab-df-convert:hover {\n",
              "      background-color: #E2EBFA;\n",
              "      box-shadow: 0px 1px 2px rgba(60, 64, 67, 0.3), 0px 1px 3px 1px rgba(60, 64, 67, 0.15);\n",
              "      fill: #174EA6;\n",
              "    }\n",
              "\n",
              "    .colab-df-buttons div {\n",
              "      margin-bottom: 4px;\n",
              "    }\n",
              "\n",
              "    [theme=dark] .colab-df-convert {\n",
              "      background-color: #3B4455;\n",
              "      fill: #D2E3FC;\n",
              "    }\n",
              "\n",
              "    [theme=dark] .colab-df-convert:hover {\n",
              "      background-color: #434B5C;\n",
              "      box-shadow: 0px 1px 3px 1px rgba(0, 0, 0, 0.15);\n",
              "      filter: drop-shadow(0px 1px 2px rgba(0, 0, 0, 0.3));\n",
              "      fill: #FFFFFF;\n",
              "    }\n",
              "  </style>\n",
              "\n",
              "    <script>\n",
              "      const buttonEl =\n",
              "        document.querySelector('#df-14320c42-8c79-462f-95c9-213247875d3f button.colab-df-convert');\n",
              "      buttonEl.style.display =\n",
              "        google.colab.kernel.accessAllowed ? 'block' : 'none';\n",
              "\n",
              "      async function convertToInteractive(key) {\n",
              "        const element = document.querySelector('#df-14320c42-8c79-462f-95c9-213247875d3f');\n",
              "        const dataTable =\n",
              "          await google.colab.kernel.invokeFunction('convertToInteractive',\n",
              "                                                    [key], {});\n",
              "        if (!dataTable) return;\n",
              "\n",
              "        const docLinkHtml = 'Like what you see? Visit the ' +\n",
              "          '<a target=\"_blank\" href=https://colab.research.google.com/notebooks/data_table.ipynb>data table notebook</a>'\n",
              "          + ' to learn more about interactive tables.';\n",
              "        element.innerHTML = '';\n",
              "        dataTable['output_type'] = 'display_data';\n",
              "        await google.colab.output.renderOutput(dataTable, element);\n",
              "        const docLink = document.createElement('div');\n",
              "        docLink.innerHTML = docLinkHtml;\n",
              "        element.appendChild(docLink);\n",
              "      }\n",
              "    </script>\n",
              "  </div>\n",
              "\n",
              "\n",
              "<div id=\"df-0f513ce5-0553-4eeb-8e3c-ee79542d4ced\">\n",
              "  <button class=\"colab-df-quickchart\" onclick=\"quickchart('df-0f513ce5-0553-4eeb-8e3c-ee79542d4ced')\"\n",
              "            title=\"Suggest charts\"\n",
              "            style=\"display:none;\">\n",
              "\n",
              "<svg xmlns=\"http://www.w3.org/2000/svg\" height=\"24px\"viewBox=\"0 0 24 24\"\n",
              "     width=\"24px\">\n",
              "    <g>\n",
              "        <path d=\"M19 3H5c-1.1 0-2 .9-2 2v14c0 1.1.9 2 2 2h14c1.1 0 2-.9 2-2V5c0-1.1-.9-2-2-2zM9 17H7v-7h2v7zm4 0h-2V7h2v10zm4 0h-2v-4h2v4z\"/>\n",
              "    </g>\n",
              "</svg>\n",
              "  </button>\n",
              "\n",
              "<style>\n",
              "  .colab-df-quickchart {\n",
              "      --bg-color: #E8F0FE;\n",
              "      --fill-color: #1967D2;\n",
              "      --hover-bg-color: #E2EBFA;\n",
              "      --hover-fill-color: #174EA6;\n",
              "      --disabled-fill-color: #AAA;\n",
              "      --disabled-bg-color: #DDD;\n",
              "  }\n",
              "\n",
              "  [theme=dark] .colab-df-quickchart {\n",
              "      --bg-color: #3B4455;\n",
              "      --fill-color: #D2E3FC;\n",
              "      --hover-bg-color: #434B5C;\n",
              "      --hover-fill-color: #FFFFFF;\n",
              "      --disabled-bg-color: #3B4455;\n",
              "      --disabled-fill-color: #666;\n",
              "  }\n",
              "\n",
              "  .colab-df-quickchart {\n",
              "    background-color: var(--bg-color);\n",
              "    border: none;\n",
              "    border-radius: 50%;\n",
              "    cursor: pointer;\n",
              "    display: none;\n",
              "    fill: var(--fill-color);\n",
              "    height: 32px;\n",
              "    padding: 0;\n",
              "    width: 32px;\n",
              "  }\n",
              "\n",
              "  .colab-df-quickchart:hover {\n",
              "    background-color: var(--hover-bg-color);\n",
              "    box-shadow: 0 1px 2px rgba(60, 64, 67, 0.3), 0 1px 3px 1px rgba(60, 64, 67, 0.15);\n",
              "    fill: var(--button-hover-fill-color);\n",
              "  }\n",
              "\n",
              "  .colab-df-quickchart-complete:disabled,\n",
              "  .colab-df-quickchart-complete:disabled:hover {\n",
              "    background-color: var(--disabled-bg-color);\n",
              "    fill: var(--disabled-fill-color);\n",
              "    box-shadow: none;\n",
              "  }\n",
              "\n",
              "  .colab-df-spinner {\n",
              "    border: 2px solid var(--fill-color);\n",
              "    border-color: transparent;\n",
              "    border-bottom-color: var(--fill-color);\n",
              "    animation:\n",
              "      spin 1s steps(1) infinite;\n",
              "  }\n",
              "\n",
              "  @keyframes spin {\n",
              "    0% {\n",
              "      border-color: transparent;\n",
              "      border-bottom-color: var(--fill-color);\n",
              "      border-left-color: var(--fill-color);\n",
              "    }\n",
              "    20% {\n",
              "      border-color: transparent;\n",
              "      border-left-color: var(--fill-color);\n",
              "      border-top-color: var(--fill-color);\n",
              "    }\n",
              "    30% {\n",
              "      border-color: transparent;\n",
              "      border-left-color: var(--fill-color);\n",
              "      border-top-color: var(--fill-color);\n",
              "      border-right-color: var(--fill-color);\n",
              "    }\n",
              "    40% {\n",
              "      border-color: transparent;\n",
              "      border-right-color: var(--fill-color);\n",
              "      border-top-color: var(--fill-color);\n",
              "    }\n",
              "    60% {\n",
              "      border-color: transparent;\n",
              "      border-right-color: var(--fill-color);\n",
              "    }\n",
              "    80% {\n",
              "      border-color: transparent;\n",
              "      border-right-color: var(--fill-color);\n",
              "      border-bottom-color: var(--fill-color);\n",
              "    }\n",
              "    90% {\n",
              "      border-color: transparent;\n",
              "      border-bottom-color: var(--fill-color);\n",
              "    }\n",
              "  }\n",
              "</style>\n",
              "\n",
              "  <script>\n",
              "    async function quickchart(key) {\n",
              "      const quickchartButtonEl =\n",
              "        document.querySelector('#' + key + ' button');\n",
              "      quickchartButtonEl.disabled = true;  // To prevent multiple clicks.\n",
              "      quickchartButtonEl.classList.add('colab-df-spinner');\n",
              "      try {\n",
              "        const charts = await google.colab.kernel.invokeFunction(\n",
              "            'suggestCharts', [key], {});\n",
              "      } catch (error) {\n",
              "        console.error('Error during call to suggestCharts:', error);\n",
              "      }\n",
              "      quickchartButtonEl.classList.remove('colab-df-spinner');\n",
              "      quickchartButtonEl.classList.add('colab-df-quickchart-complete');\n",
              "    }\n",
              "    (() => {\n",
              "      let quickchartButtonEl =\n",
              "        document.querySelector('#df-0f513ce5-0553-4eeb-8e3c-ee79542d4ced button');\n",
              "      quickchartButtonEl.style.display =\n",
              "        google.colab.kernel.accessAllowed ? 'block' : 'none';\n",
              "    })();\n",
              "  </script>\n",
              "</div>\n",
              "    </div>\n",
              "  </div>\n"
            ]
          },
          "metadata": {},
          "execution_count": 35
        }
      ]
    },
    {
      "cell_type": "markdown",
      "source": [
        "О, это же Эминем"
      ],
      "metadata": {
        "id": "IIAppFlVDdJ8"
      }
    },
    {
      "cell_type": "markdown",
      "source": [
        "### Check for Eng labels again"
      ],
      "metadata": {
        "id": "BS09XrRo4Yyx"
      }
    },
    {
      "cell_type": "code",
      "source": [
        "in_rap = round(len(df.loc[(df['tag'] == 'rap') & (df['lyrics'].str.contains('eng'))]) / len(df.loc[df['tag'] == 'rap']), 2)\n",
        "in_pop = round(len(df[(df['tag'] == 'pop') & (df['lyrics'].str.contains('eng'))]) / len(df.loc[df['tag'] == 'pop']), 2)\n",
        "in_rock = round(len(df.loc[(df['tag'] == 'rock') & (df['lyrics'].str.contains('eng'))]) / len(df.loc[df['tag'] == 'rock']), 2)\n",
        "\n",
        "print(f'''English лангуадже\n",
        "in rap: {in_rap}\n",
        "in pop: {in_pop}\n",
        "in_rock: {in_rock}''')"
      ],
      "metadata": {
        "colab": {
          "base_uri": "https://localhost:8080/"
        },
        "id": "_yMBYm_w4gCQ",
        "outputId": "e3e677cd-ae52-4d4f-caf6-fe2b94ff5d82"
      },
      "execution_count": null,
      "outputs": [
        {
          "output_type": "stream",
          "name": "stdout",
          "text": [
            "English лангуадже\n",
            "in rap: 0.67\n",
            "in pop: 0.26\n",
            "in_rock: 0.16\n"
          ]
        }
      ]
    },
    {
      "cell_type": "markdown",
      "source": [
        "Исходя из информации о распределении англоязычных слов, имеет смысл оставить плейсхолдеры"
      ],
      "metadata": {
        "id": "gaNSRvJZEZ05"
      }
    },
    {
      "cell_type": "markdown",
      "source": [
        "### Checkpoint"
      ],
      "metadata": {
        "id": "SBXJ2MKUCNy8"
      }
    },
    {
      "cell_type": "code",
      "source": [
        "# SAVE\n",
        "df.to_csv('/content/drive/MyDrive/data/preprocessed.csv')"
      ],
      "metadata": {
        "id": "M-9QV3EC2TVd"
      },
      "execution_count": null,
      "outputs": []
    },
    {
      "cell_type": "code",
      "source": [
        "# LOAD\n",
        "df = pd.read_csv('/content/drive/MyDrive/data/preprocessed.csv').drop(columns=['Unnamed: 0'])\n",
        "df.head()"
      ],
      "metadata": {
        "colab": {
          "base_uri": "https://localhost:8080/",
          "height": 206
        },
        "id": "X3gEYtr2CfZP",
        "outputId": "6f67f54f-6e75-4f4d-b7bf-3017581dde90"
      },
      "execution_count": null,
      "outputs": [
        {
          "output_type": "execute_result",
          "data": {
            "text/plain": [
              "   tag                                             lyrics\n",
              "0  pop  только степь вздыхать едва как божий роса трав...\n",
              "1  rap  eng eng eng eng eng е eng eng eng eng eng eng ...\n",
              "2  rap  будущий мама хвастать тело парень не бояться о...\n",
              "3  rap  зимний утро куплет 1 зимний утро будильник шес...\n",
              "4  rap  я помнить в детство миг как девственник занима..."
            ],
            "text/html": [
              "\n",
              "  <div id=\"df-ebe25fd6-0ec2-429c-9a6b-ff01dea39c25\" class=\"colab-df-container\">\n",
              "    <div>\n",
              "<style scoped>\n",
              "    .dataframe tbody tr th:only-of-type {\n",
              "        vertical-align: middle;\n",
              "    }\n",
              "\n",
              "    .dataframe tbody tr th {\n",
              "        vertical-align: top;\n",
              "    }\n",
              "\n",
              "    .dataframe thead th {\n",
              "        text-align: right;\n",
              "    }\n",
              "</style>\n",
              "<table border=\"1\" class=\"dataframe\">\n",
              "  <thead>\n",
              "    <tr style=\"text-align: right;\">\n",
              "      <th></th>\n",
              "      <th>tag</th>\n",
              "      <th>lyrics</th>\n",
              "    </tr>\n",
              "  </thead>\n",
              "  <tbody>\n",
              "    <tr>\n",
              "      <th>0</th>\n",
              "      <td>pop</td>\n",
              "      <td>только степь вздыхать едва как божий роса трав...</td>\n",
              "    </tr>\n",
              "    <tr>\n",
              "      <th>1</th>\n",
              "      <td>rap</td>\n",
              "      <td>eng eng eng eng eng е eng eng eng eng eng eng ...</td>\n",
              "    </tr>\n",
              "    <tr>\n",
              "      <th>2</th>\n",
              "      <td>rap</td>\n",
              "      <td>будущий мама хвастать тело парень не бояться о...</td>\n",
              "    </tr>\n",
              "    <tr>\n",
              "      <th>3</th>\n",
              "      <td>rap</td>\n",
              "      <td>зимний утро куплет 1 зимний утро будильник шес...</td>\n",
              "    </tr>\n",
              "    <tr>\n",
              "      <th>4</th>\n",
              "      <td>rap</td>\n",
              "      <td>я помнить в детство миг как девственник занима...</td>\n",
              "    </tr>\n",
              "  </tbody>\n",
              "</table>\n",
              "</div>\n",
              "    <div class=\"colab-df-buttons\">\n",
              "\n",
              "  <div class=\"colab-df-container\">\n",
              "    <button class=\"colab-df-convert\" onclick=\"convertToInteractive('df-ebe25fd6-0ec2-429c-9a6b-ff01dea39c25')\"\n",
              "            title=\"Convert this dataframe to an interactive table.\"\n",
              "            style=\"display:none;\">\n",
              "\n",
              "  <svg xmlns=\"http://www.w3.org/2000/svg\" height=\"24px\" viewBox=\"0 -960 960 960\">\n",
              "    <path d=\"M120-120v-720h720v720H120Zm60-500h600v-160H180v160Zm220 220h160v-160H400v160Zm0 220h160v-160H400v160ZM180-400h160v-160H180v160Zm440 0h160v-160H620v160ZM180-180h160v-160H180v160Zm440 0h160v-160H620v160Z\"/>\n",
              "  </svg>\n",
              "    </button>\n",
              "\n",
              "  <style>\n",
              "    .colab-df-container {\n",
              "      display:flex;\n",
              "      gap: 12px;\n",
              "    }\n",
              "\n",
              "    .colab-df-convert {\n",
              "      background-color: #E8F0FE;\n",
              "      border: none;\n",
              "      border-radius: 50%;\n",
              "      cursor: pointer;\n",
              "      display: none;\n",
              "      fill: #1967D2;\n",
              "      height: 32px;\n",
              "      padding: 0 0 0 0;\n",
              "      width: 32px;\n",
              "    }\n",
              "\n",
              "    .colab-df-convert:hover {\n",
              "      background-color: #E2EBFA;\n",
              "      box-shadow: 0px 1px 2px rgba(60, 64, 67, 0.3), 0px 1px 3px 1px rgba(60, 64, 67, 0.15);\n",
              "      fill: #174EA6;\n",
              "    }\n",
              "\n",
              "    .colab-df-buttons div {\n",
              "      margin-bottom: 4px;\n",
              "    }\n",
              "\n",
              "    [theme=dark] .colab-df-convert {\n",
              "      background-color: #3B4455;\n",
              "      fill: #D2E3FC;\n",
              "    }\n",
              "\n",
              "    [theme=dark] .colab-df-convert:hover {\n",
              "      background-color: #434B5C;\n",
              "      box-shadow: 0px 1px 3px 1px rgba(0, 0, 0, 0.15);\n",
              "      filter: drop-shadow(0px 1px 2px rgba(0, 0, 0, 0.3));\n",
              "      fill: #FFFFFF;\n",
              "    }\n",
              "  </style>\n",
              "\n",
              "    <script>\n",
              "      const buttonEl =\n",
              "        document.querySelector('#df-ebe25fd6-0ec2-429c-9a6b-ff01dea39c25 button.colab-df-convert');\n",
              "      buttonEl.style.display =\n",
              "        google.colab.kernel.accessAllowed ? 'block' : 'none';\n",
              "\n",
              "      async function convertToInteractive(key) {\n",
              "        const element = document.querySelector('#df-ebe25fd6-0ec2-429c-9a6b-ff01dea39c25');\n",
              "        const dataTable =\n",
              "          await google.colab.kernel.invokeFunction('convertToInteractive',\n",
              "                                                    [key], {});\n",
              "        if (!dataTable) return;\n",
              "\n",
              "        const docLinkHtml = 'Like what you see? Visit the ' +\n",
              "          '<a target=\"_blank\" href=https://colab.research.google.com/notebooks/data_table.ipynb>data table notebook</a>'\n",
              "          + ' to learn more about interactive tables.';\n",
              "        element.innerHTML = '';\n",
              "        dataTable['output_type'] = 'display_data';\n",
              "        await google.colab.output.renderOutput(dataTable, element);\n",
              "        const docLink = document.createElement('div');\n",
              "        docLink.innerHTML = docLinkHtml;\n",
              "        element.appendChild(docLink);\n",
              "      }\n",
              "    </script>\n",
              "  </div>\n",
              "\n",
              "\n",
              "<div id=\"df-b423cab4-c51c-43e0-8604-85cba099cdba\">\n",
              "  <button class=\"colab-df-quickchart\" onclick=\"quickchart('df-b423cab4-c51c-43e0-8604-85cba099cdba')\"\n",
              "            title=\"Suggest charts\"\n",
              "            style=\"display:none;\">\n",
              "\n",
              "<svg xmlns=\"http://www.w3.org/2000/svg\" height=\"24px\"viewBox=\"0 0 24 24\"\n",
              "     width=\"24px\">\n",
              "    <g>\n",
              "        <path d=\"M19 3H5c-1.1 0-2 .9-2 2v14c0 1.1.9 2 2 2h14c1.1 0 2-.9 2-2V5c0-1.1-.9-2-2-2zM9 17H7v-7h2v7zm4 0h-2V7h2v10zm4 0h-2v-4h2v4z\"/>\n",
              "    </g>\n",
              "</svg>\n",
              "  </button>\n",
              "\n",
              "<style>\n",
              "  .colab-df-quickchart {\n",
              "      --bg-color: #E8F0FE;\n",
              "      --fill-color: #1967D2;\n",
              "      --hover-bg-color: #E2EBFA;\n",
              "      --hover-fill-color: #174EA6;\n",
              "      --disabled-fill-color: #AAA;\n",
              "      --disabled-bg-color: #DDD;\n",
              "  }\n",
              "\n",
              "  [theme=dark] .colab-df-quickchart {\n",
              "      --bg-color: #3B4455;\n",
              "      --fill-color: #D2E3FC;\n",
              "      --hover-bg-color: #434B5C;\n",
              "      --hover-fill-color: #FFFFFF;\n",
              "      --disabled-bg-color: #3B4455;\n",
              "      --disabled-fill-color: #666;\n",
              "  }\n",
              "\n",
              "  .colab-df-quickchart {\n",
              "    background-color: var(--bg-color);\n",
              "    border: none;\n",
              "    border-radius: 50%;\n",
              "    cursor: pointer;\n",
              "    display: none;\n",
              "    fill: var(--fill-color);\n",
              "    height: 32px;\n",
              "    padding: 0;\n",
              "    width: 32px;\n",
              "  }\n",
              "\n",
              "  .colab-df-quickchart:hover {\n",
              "    background-color: var(--hover-bg-color);\n",
              "    box-shadow: 0 1px 2px rgba(60, 64, 67, 0.3), 0 1px 3px 1px rgba(60, 64, 67, 0.15);\n",
              "    fill: var(--button-hover-fill-color);\n",
              "  }\n",
              "\n",
              "  .colab-df-quickchart-complete:disabled,\n",
              "  .colab-df-quickchart-complete:disabled:hover {\n",
              "    background-color: var(--disabled-bg-color);\n",
              "    fill: var(--disabled-fill-color);\n",
              "    box-shadow: none;\n",
              "  }\n",
              "\n",
              "  .colab-df-spinner {\n",
              "    border: 2px solid var(--fill-color);\n",
              "    border-color: transparent;\n",
              "    border-bottom-color: var(--fill-color);\n",
              "    animation:\n",
              "      spin 1s steps(1) infinite;\n",
              "  }\n",
              "\n",
              "  @keyframes spin {\n",
              "    0% {\n",
              "      border-color: transparent;\n",
              "      border-bottom-color: var(--fill-color);\n",
              "      border-left-color: var(--fill-color);\n",
              "    }\n",
              "    20% {\n",
              "      border-color: transparent;\n",
              "      border-left-color: var(--fill-color);\n",
              "      border-top-color: var(--fill-color);\n",
              "    }\n",
              "    30% {\n",
              "      border-color: transparent;\n",
              "      border-left-color: var(--fill-color);\n",
              "      border-top-color: var(--fill-color);\n",
              "      border-right-color: var(--fill-color);\n",
              "    }\n",
              "    40% {\n",
              "      border-color: transparent;\n",
              "      border-right-color: var(--fill-color);\n",
              "      border-top-color: var(--fill-color);\n",
              "    }\n",
              "    60% {\n",
              "      border-color: transparent;\n",
              "      border-right-color: var(--fill-color);\n",
              "    }\n",
              "    80% {\n",
              "      border-color: transparent;\n",
              "      border-right-color: var(--fill-color);\n",
              "      border-bottom-color: var(--fill-color);\n",
              "    }\n",
              "    90% {\n",
              "      border-color: transparent;\n",
              "      border-bottom-color: var(--fill-color);\n",
              "    }\n",
              "  }\n",
              "</style>\n",
              "\n",
              "  <script>\n",
              "    async function quickchart(key) {\n",
              "      const quickchartButtonEl =\n",
              "        document.querySelector('#' + key + ' button');\n",
              "      quickchartButtonEl.disabled = true;  // To prevent multiple clicks.\n",
              "      quickchartButtonEl.classList.add('colab-df-spinner');\n",
              "      try {\n",
              "        const charts = await google.colab.kernel.invokeFunction(\n",
              "            'suggestCharts', [key], {});\n",
              "      } catch (error) {\n",
              "        console.error('Error during call to suggestCharts:', error);\n",
              "      }\n",
              "      quickchartButtonEl.classList.remove('colab-df-spinner');\n",
              "      quickchartButtonEl.classList.add('colab-df-quickchart-complete');\n",
              "    }\n",
              "    (() => {\n",
              "      let quickchartButtonEl =\n",
              "        document.querySelector('#df-b423cab4-c51c-43e0-8604-85cba099cdba button');\n",
              "      quickchartButtonEl.style.display =\n",
              "        google.colab.kernel.accessAllowed ? 'block' : 'none';\n",
              "    })();\n",
              "  </script>\n",
              "</div>\n",
              "    </div>\n",
              "  </div>\n"
            ]
          },
          "metadata": {},
          "execution_count": 51
        }
      ]
    },
    {
      "cell_type": "code",
      "source": [
        "df['lyrics'].duplicated().sum()"
      ],
      "metadata": {
        "colab": {
          "base_uri": "https://localhost:8080/"
        },
        "id": "MOaw-VNmWkXF",
        "outputId": "5246fae7-82f4-42f0-c0e8-51f5d7d0850d"
      },
      "execution_count": null,
      "outputs": [
        {
          "output_type": "execute_result",
          "data": {
            "text/plain": [
              "964"
            ]
          },
          "metadata": {},
          "execution_count": 75
        }
      ]
    },
    {
      "cell_type": "markdown",
      "source": [
        "После предобработки датасета появились новые дубликаты. Удалим их"
      ],
      "metadata": {
        "id": "Fw3DJujMW5qY"
      }
    },
    {
      "cell_type": "code",
      "source": [
        "df.drop_duplicates(subset='lyrics', inplace=True, ignore_index=True)\n",
        "df"
      ],
      "metadata": {
        "colab": {
          "base_uri": "https://localhost:8080/",
          "height": 424
        },
        "id": "Wu3PNUquW_zt",
        "outputId": "65e561d5-6899-4917-fade-a901a58bfae8"
      },
      "execution_count": null,
      "outputs": [
        {
          "output_type": "execute_result",
          "data": {
            "text/plain": [
              "         tag                                             lyrics\n",
              "0        pop  только степь вздыхать едва как божий роса трав...\n",
              "1        rap  eng eng eng eng eng е eng eng eng eng eng eng ...\n",
              "2        rap  будущий мама хвастать тело парень не бояться о...\n",
              "3        rap  зимний утро куплет 1 зимний утро будильник шес...\n",
              "4        rap  я помнить в детство миг как девственник занима...\n",
              "...      ...                                                ...\n",
              "157515  rock  сколько история весь жизнь на повтор вернуться...\n",
              "157516   pop  я не мочь находить милкис с дорыть купить пожа...\n",
              "157517   rap  мутный мрак eng камоловский синдикат eng на то...\n",
              "157518   rap  интро eng eng eng eng eng eng eng eng eng eng ...\n",
              "157519  rock  знать тут так темно кажется нет ничто а еще и ...\n",
              "\n",
              "[157520 rows x 2 columns]"
            ],
            "text/html": [
              "\n",
              "  <div id=\"df-fdc59d92-a16f-4a88-b628-bb9d5c579c4e\" class=\"colab-df-container\">\n",
              "    <div>\n",
              "<style scoped>\n",
              "    .dataframe tbody tr th:only-of-type {\n",
              "        vertical-align: middle;\n",
              "    }\n",
              "\n",
              "    .dataframe tbody tr th {\n",
              "        vertical-align: top;\n",
              "    }\n",
              "\n",
              "    .dataframe thead th {\n",
              "        text-align: right;\n",
              "    }\n",
              "</style>\n",
              "<table border=\"1\" class=\"dataframe\">\n",
              "  <thead>\n",
              "    <tr style=\"text-align: right;\">\n",
              "      <th></th>\n",
              "      <th>tag</th>\n",
              "      <th>lyrics</th>\n",
              "    </tr>\n",
              "  </thead>\n",
              "  <tbody>\n",
              "    <tr>\n",
              "      <th>0</th>\n",
              "      <td>pop</td>\n",
              "      <td>только степь вздыхать едва как божий роса трав...</td>\n",
              "    </tr>\n",
              "    <tr>\n",
              "      <th>1</th>\n",
              "      <td>rap</td>\n",
              "      <td>eng eng eng eng eng е eng eng eng eng eng eng ...</td>\n",
              "    </tr>\n",
              "    <tr>\n",
              "      <th>2</th>\n",
              "      <td>rap</td>\n",
              "      <td>будущий мама хвастать тело парень не бояться о...</td>\n",
              "    </tr>\n",
              "    <tr>\n",
              "      <th>3</th>\n",
              "      <td>rap</td>\n",
              "      <td>зимний утро куплет 1 зимний утро будильник шес...</td>\n",
              "    </tr>\n",
              "    <tr>\n",
              "      <th>4</th>\n",
              "      <td>rap</td>\n",
              "      <td>я помнить в детство миг как девственник занима...</td>\n",
              "    </tr>\n",
              "    <tr>\n",
              "      <th>...</th>\n",
              "      <td>...</td>\n",
              "      <td>...</td>\n",
              "    </tr>\n",
              "    <tr>\n",
              "      <th>157515</th>\n",
              "      <td>rock</td>\n",
              "      <td>сколько история весь жизнь на повтор вернуться...</td>\n",
              "    </tr>\n",
              "    <tr>\n",
              "      <th>157516</th>\n",
              "      <td>pop</td>\n",
              "      <td>я не мочь находить милкис с дорыть купить пожа...</td>\n",
              "    </tr>\n",
              "    <tr>\n",
              "      <th>157517</th>\n",
              "      <td>rap</td>\n",
              "      <td>мутный мрак eng камоловский синдикат eng на то...</td>\n",
              "    </tr>\n",
              "    <tr>\n",
              "      <th>157518</th>\n",
              "      <td>rap</td>\n",
              "      <td>интро eng eng eng eng eng eng eng eng eng eng ...</td>\n",
              "    </tr>\n",
              "    <tr>\n",
              "      <th>157519</th>\n",
              "      <td>rock</td>\n",
              "      <td>знать тут так темно кажется нет ничто а еще и ...</td>\n",
              "    </tr>\n",
              "  </tbody>\n",
              "</table>\n",
              "<p>157520 rows × 2 columns</p>\n",
              "</div>\n",
              "    <div class=\"colab-df-buttons\">\n",
              "\n",
              "  <div class=\"colab-df-container\">\n",
              "    <button class=\"colab-df-convert\" onclick=\"convertToInteractive('df-fdc59d92-a16f-4a88-b628-bb9d5c579c4e')\"\n",
              "            title=\"Convert this dataframe to an interactive table.\"\n",
              "            style=\"display:none;\">\n",
              "\n",
              "  <svg xmlns=\"http://www.w3.org/2000/svg\" height=\"24px\" viewBox=\"0 -960 960 960\">\n",
              "    <path d=\"M120-120v-720h720v720H120Zm60-500h600v-160H180v160Zm220 220h160v-160H400v160Zm0 220h160v-160H400v160ZM180-400h160v-160H180v160Zm440 0h160v-160H620v160ZM180-180h160v-160H180v160Zm440 0h160v-160H620v160Z\"/>\n",
              "  </svg>\n",
              "    </button>\n",
              "\n",
              "  <style>\n",
              "    .colab-df-container {\n",
              "      display:flex;\n",
              "      gap: 12px;\n",
              "    }\n",
              "\n",
              "    .colab-df-convert {\n",
              "      background-color: #E8F0FE;\n",
              "      border: none;\n",
              "      border-radius: 50%;\n",
              "      cursor: pointer;\n",
              "      display: none;\n",
              "      fill: #1967D2;\n",
              "      height: 32px;\n",
              "      padding: 0 0 0 0;\n",
              "      width: 32px;\n",
              "    }\n",
              "\n",
              "    .colab-df-convert:hover {\n",
              "      background-color: #E2EBFA;\n",
              "      box-shadow: 0px 1px 2px rgba(60, 64, 67, 0.3), 0px 1px 3px 1px rgba(60, 64, 67, 0.15);\n",
              "      fill: #174EA6;\n",
              "    }\n",
              "\n",
              "    .colab-df-buttons div {\n",
              "      margin-bottom: 4px;\n",
              "    }\n",
              "\n",
              "    [theme=dark] .colab-df-convert {\n",
              "      background-color: #3B4455;\n",
              "      fill: #D2E3FC;\n",
              "    }\n",
              "\n",
              "    [theme=dark] .colab-df-convert:hover {\n",
              "      background-color: #434B5C;\n",
              "      box-shadow: 0px 1px 3px 1px rgba(0, 0, 0, 0.15);\n",
              "      filter: drop-shadow(0px 1px 2px rgba(0, 0, 0, 0.3));\n",
              "      fill: #FFFFFF;\n",
              "    }\n",
              "  </style>\n",
              "\n",
              "    <script>\n",
              "      const buttonEl =\n",
              "        document.querySelector('#df-fdc59d92-a16f-4a88-b628-bb9d5c579c4e button.colab-df-convert');\n",
              "      buttonEl.style.display =\n",
              "        google.colab.kernel.accessAllowed ? 'block' : 'none';\n",
              "\n",
              "      async function convertToInteractive(key) {\n",
              "        const element = document.querySelector('#df-fdc59d92-a16f-4a88-b628-bb9d5c579c4e');\n",
              "        const dataTable =\n",
              "          await google.colab.kernel.invokeFunction('convertToInteractive',\n",
              "                                                    [key], {});\n",
              "        if (!dataTable) return;\n",
              "\n",
              "        const docLinkHtml = 'Like what you see? Visit the ' +\n",
              "          '<a target=\"_blank\" href=https://colab.research.google.com/notebooks/data_table.ipynb>data table notebook</a>'\n",
              "          + ' to learn more about interactive tables.';\n",
              "        element.innerHTML = '';\n",
              "        dataTable['output_type'] = 'display_data';\n",
              "        await google.colab.output.renderOutput(dataTable, element);\n",
              "        const docLink = document.createElement('div');\n",
              "        docLink.innerHTML = docLinkHtml;\n",
              "        element.appendChild(docLink);\n",
              "      }\n",
              "    </script>\n",
              "  </div>\n",
              "\n",
              "\n",
              "<div id=\"df-0de7ecae-801f-427a-93f5-a1cce76d5047\">\n",
              "  <button class=\"colab-df-quickchart\" onclick=\"quickchart('df-0de7ecae-801f-427a-93f5-a1cce76d5047')\"\n",
              "            title=\"Suggest charts\"\n",
              "            style=\"display:none;\">\n",
              "\n",
              "<svg xmlns=\"http://www.w3.org/2000/svg\" height=\"24px\"viewBox=\"0 0 24 24\"\n",
              "     width=\"24px\">\n",
              "    <g>\n",
              "        <path d=\"M19 3H5c-1.1 0-2 .9-2 2v14c0 1.1.9 2 2 2h14c1.1 0 2-.9 2-2V5c0-1.1-.9-2-2-2zM9 17H7v-7h2v7zm4 0h-2V7h2v10zm4 0h-2v-4h2v4z\"/>\n",
              "    </g>\n",
              "</svg>\n",
              "  </button>\n",
              "\n",
              "<style>\n",
              "  .colab-df-quickchart {\n",
              "      --bg-color: #E8F0FE;\n",
              "      --fill-color: #1967D2;\n",
              "      --hover-bg-color: #E2EBFA;\n",
              "      --hover-fill-color: #174EA6;\n",
              "      --disabled-fill-color: #AAA;\n",
              "      --disabled-bg-color: #DDD;\n",
              "  }\n",
              "\n",
              "  [theme=dark] .colab-df-quickchart {\n",
              "      --bg-color: #3B4455;\n",
              "      --fill-color: #D2E3FC;\n",
              "      --hover-bg-color: #434B5C;\n",
              "      --hover-fill-color: #FFFFFF;\n",
              "      --disabled-bg-color: #3B4455;\n",
              "      --disabled-fill-color: #666;\n",
              "  }\n",
              "\n",
              "  .colab-df-quickchart {\n",
              "    background-color: var(--bg-color);\n",
              "    border: none;\n",
              "    border-radius: 50%;\n",
              "    cursor: pointer;\n",
              "    display: none;\n",
              "    fill: var(--fill-color);\n",
              "    height: 32px;\n",
              "    padding: 0;\n",
              "    width: 32px;\n",
              "  }\n",
              "\n",
              "  .colab-df-quickchart:hover {\n",
              "    background-color: var(--hover-bg-color);\n",
              "    box-shadow: 0 1px 2px rgba(60, 64, 67, 0.3), 0 1px 3px 1px rgba(60, 64, 67, 0.15);\n",
              "    fill: var(--button-hover-fill-color);\n",
              "  }\n",
              "\n",
              "  .colab-df-quickchart-complete:disabled,\n",
              "  .colab-df-quickchart-complete:disabled:hover {\n",
              "    background-color: var(--disabled-bg-color);\n",
              "    fill: var(--disabled-fill-color);\n",
              "    box-shadow: none;\n",
              "  }\n",
              "\n",
              "  .colab-df-spinner {\n",
              "    border: 2px solid var(--fill-color);\n",
              "    border-color: transparent;\n",
              "    border-bottom-color: var(--fill-color);\n",
              "    animation:\n",
              "      spin 1s steps(1) infinite;\n",
              "  }\n",
              "\n",
              "  @keyframes spin {\n",
              "    0% {\n",
              "      border-color: transparent;\n",
              "      border-bottom-color: var(--fill-color);\n",
              "      border-left-color: var(--fill-color);\n",
              "    }\n",
              "    20% {\n",
              "      border-color: transparent;\n",
              "      border-left-color: var(--fill-color);\n",
              "      border-top-color: var(--fill-color);\n",
              "    }\n",
              "    30% {\n",
              "      border-color: transparent;\n",
              "      border-left-color: var(--fill-color);\n",
              "      border-top-color: var(--fill-color);\n",
              "      border-right-color: var(--fill-color);\n",
              "    }\n",
              "    40% {\n",
              "      border-color: transparent;\n",
              "      border-right-color: var(--fill-color);\n",
              "      border-top-color: var(--fill-color);\n",
              "    }\n",
              "    60% {\n",
              "      border-color: transparent;\n",
              "      border-right-color: var(--fill-color);\n",
              "    }\n",
              "    80% {\n",
              "      border-color: transparent;\n",
              "      border-right-color: var(--fill-color);\n",
              "      border-bottom-color: var(--fill-color);\n",
              "    }\n",
              "    90% {\n",
              "      border-color: transparent;\n",
              "      border-bottom-color: var(--fill-color);\n",
              "    }\n",
              "  }\n",
              "</style>\n",
              "\n",
              "  <script>\n",
              "    async function quickchart(key) {\n",
              "      const quickchartButtonEl =\n",
              "        document.querySelector('#' + key + ' button');\n",
              "      quickchartButtonEl.disabled = true;  // To prevent multiple clicks.\n",
              "      quickchartButtonEl.classList.add('colab-df-spinner');\n",
              "      try {\n",
              "        const charts = await google.colab.kernel.invokeFunction(\n",
              "            'suggestCharts', [key], {});\n",
              "      } catch (error) {\n",
              "        console.error('Error during call to suggestCharts:', error);\n",
              "      }\n",
              "      quickchartButtonEl.classList.remove('colab-df-spinner');\n",
              "      quickchartButtonEl.classList.add('colab-df-quickchart-complete');\n",
              "    }\n",
              "    (() => {\n",
              "      let quickchartButtonEl =\n",
              "        document.querySelector('#df-0de7ecae-801f-427a-93f5-a1cce76d5047 button');\n",
              "      quickchartButtonEl.style.display =\n",
              "        google.colab.kernel.accessAllowed ? 'block' : 'none';\n",
              "    })();\n",
              "  </script>\n",
              "</div>\n",
              "    </div>\n",
              "  </div>\n"
            ]
          },
          "metadata": {},
          "execution_count": 77
        }
      ]
    },
    {
      "cell_type": "markdown",
      "source": [
        "## Vectorization"
      ],
      "metadata": {
        "id": "iuEoc_hABQBl"
      }
    },
    {
      "cell_type": "markdown",
      "source": [
        "Пришло время векторизовать тексты, но для начала надо выбрать, какой длины будут наши векторы. Для этого смотрим на распределение длин токенизированных текстов"
      ],
      "metadata": {
        "id": "LC5WV-y_Eul0"
      }
    },
    {
      "cell_type": "markdown",
      "source": [
        "### Check Lengths"
      ],
      "metadata": {
        "id": "zbEV6iPzBiFH"
      }
    },
    {
      "cell_type": "code",
      "source": [
        "text_lengths = df['lyrics'].progress_apply(lambda x: len(x.split()))\n",
        "\n",
        "plt.figure(figsize=(10, 4))\n",
        "sns.histplot(text_lengths)\n",
        "plt.title('Распределнеие длин текстов')\n",
        "plt.axvline(x=np.mean(text_lengths), ymin=0, ymax=0.75, color='r')\n",
        "plt.text(np.mean(text_lengths), 3000, f'Mean={int(np.mean(text_lengths))}')\n",
        "plt.show()"
      ],
      "metadata": {
        "colab": {
          "base_uri": "https://localhost:8080/",
          "height": 442,
          "referenced_widgets": [
            "151f5d65aca44c16a2400ba44c3589f3",
            "209c56202bd846a0970f44560cb4a3ad",
            "45af8898aa3c44f7b906ffb023daeef7",
            "1f1476e47dbe42d0b4dc6ccf7184a27a",
            "0735782b6b344a3dbbead0b549e08ff6",
            "53d71eab29564bd4b21da914b301d596",
            "06379dbc20fe4225babce2561c5fdb38",
            "289ac806cb8047ce91efcefb37353192",
            "b1bb1a1f86754d5ea6134a08114213d1",
            "ab998bafb03744319019fcf06eee135a",
            "bf1f405276e74684a0d29ec17c8b7309"
          ]
        },
        "id": "EwfeEHYyBTMN",
        "outputId": "ae3f3f64-0efd-4d19-a480-6a6de677de7b"
      },
      "execution_count": null,
      "outputs": [
        {
          "output_type": "display_data",
          "data": {
            "text/plain": [
              "  0%|          | 0/157520 [00:00<?, ?it/s]"
            ],
            "application/vnd.jupyter.widget-view+json": {
              "version_major": 2,
              "version_minor": 0,
              "model_id": "151f5d65aca44c16a2400ba44c3589f3"
            }
          },
          "metadata": {}
        },
        {
          "output_type": "display_data",
          "data": {
            "text/plain": [
              "<Figure size 1000x400 with 1 Axes>"
            ],
            "image/png": "[encoded data removed]"
          },
          "metadata": {}
        }
      ]
    },
    {
      "cell_type": "markdown",
      "source": [
        "У нас определённо есть исключения -- очень длинные тексты, но не думаю, что это проблема. Сделаем вектора размерностью 250."
      ],
      "metadata": {
        "id": "noflnbI9FrAZ"
      }
    },
    {
      "cell_type": "markdown",
      "source": [
        "Для векторизации было принято решение использовать `TextVectrization` из библиотеки `Keras`. Однако его необходимо обучать на тренировочной выборке, поэтому сначала нужно разделить датасет.\n",
        "\n"
      ],
      "metadata": {
        "id": "5kyTlSJJGPz7"
      }
    },
    {
      "cell_type": "markdown",
      "source": [
        "### Split dataset"
      ],
      "metadata": {
        "id": "mJYdZkIoOKv3"
      }
    },
    {
      "cell_type": "code",
      "source": [
        "df['tag'] = pd.factorize(df['tag'])[0]\n",
        "df.head()"
      ],
      "metadata": {
        "colab": {
          "base_uri": "https://localhost:8080/",
          "height": 206
        },
        "id": "ebpflGvafhXU",
        "outputId": "9474541a-b6e9-40c0-e466-5fbbd5b14db5"
      },
      "execution_count": null,
      "outputs": [
        {
          "output_type": "execute_result",
          "data": {
            "text/plain": [
              "   tag                                             lyrics\n",
              "0    0  только степь вздыхать едва как божий роса трав...\n",
              "1    1  eng eng eng eng eng е eng eng eng eng eng eng ...\n",
              "2    1  будущий мама хвастать тело парень не бояться о...\n",
              "3    1  зимний утро куплет 1 зимний утро будильник шес...\n",
              "4    1  я помнить в детство миг как девственник занима..."
            ],
            "text/html": [
              "\n",
              "  <div id=\"df-7f7b3617-9342-4188-8c75-4bf1981bb61d\" class=\"colab-df-container\">\n",
              "    <div>\n",
              "<style scoped>\n",
              "    .dataframe tbody tr th:only-of-type {\n",
              "        vertical-align: middle;\n",
              "    }\n",
              "\n",
              "    .dataframe tbody tr th {\n",
              "        vertical-align: top;\n",
              "    }\n",
              "\n",
              "    .dataframe thead th {\n",
              "        text-align: right;\n",
              "    }\n",
              "</style>\n",
              "<table border=\"1\" class=\"dataframe\">\n",
              "  <thead>\n",
              "    <tr style=\"text-align: right;\">\n",
              "      <th></th>\n",
              "      <th>tag</th>\n",
              "      <th>lyrics</th>\n",
              "    </tr>\n",
              "  </thead>\n",
              "  <tbody>\n",
              "    <tr>\n",
              "      <th>0</th>\n",
              "      <td>0</td>\n",
              "      <td>только степь вздыхать едва как божий роса трав...</td>\n",
              "    </tr>\n",
              "    <tr>\n",
              "      <th>1</th>\n",
              "      <td>1</td>\n",
              "      <td>eng eng eng eng eng е eng eng eng eng eng eng ...</td>\n",
              "    </tr>\n",
              "    <tr>\n",
              "      <th>2</th>\n",
              "      <td>1</td>\n",
              "      <td>будущий мама хвастать тело парень не бояться о...</td>\n",
              "    </tr>\n",
              "    <tr>\n",
              "      <th>3</th>\n",
              "      <td>1</td>\n",
              "      <td>зимний утро куплет 1 зимний утро будильник шес...</td>\n",
              "    </tr>\n",
              "    <tr>\n",
              "      <th>4</th>\n",
              "      <td>1</td>\n",
              "      <td>я помнить в детство миг как девственник занима...</td>\n",
              "    </tr>\n",
              "  </tbody>\n",
              "</table>\n",
              "</div>\n",
              "    <div class=\"colab-df-buttons\">\n",
              "\n",
              "  <div class=\"colab-df-container\">\n",
              "    <button class=\"colab-df-convert\" onclick=\"convertToInteractive('df-7f7b3617-9342-4188-8c75-4bf1981bb61d')\"\n",
              "            title=\"Convert this dataframe to an interactive table.\"\n",
              "            style=\"display:none;\">\n",
              "\n",
              "  <svg xmlns=\"http://www.w3.org/2000/svg\" height=\"24px\" viewBox=\"0 -960 960 960\">\n",
              "    <path d=\"M120-120v-720h720v720H120Zm60-500h600v-160H180v160Zm220 220h160v-160H400v160Zm0 220h160v-160H400v160ZM180-400h160v-160H180v160Zm440 0h160v-160H620v160ZM180-180h160v-160H180v160Zm440 0h160v-160H620v160Z\"/>\n",
              "  </svg>\n",
              "    </button>\n",
              "\n",
              "  <style>\n",
              "    .colab-df-container {\n",
              "      display:flex;\n",
              "      gap: 12px;\n",
              "    }\n",
              "\n",
              "    .colab-df-convert {\n",
              "      background-color: #E8F0FE;\n",
              "      border: none;\n",
              "      border-radius: 50%;\n",
              "      cursor: pointer;\n",
              "      display: none;\n",
              "      fill: #1967D2;\n",
              "      height: 32px;\n",
              "      padding: 0 0 0 0;\n",
              "      width: 32px;\n",
              "    }\n",
              "\n",
              "    .colab-df-convert:hover {\n",
              "      background-color: #E2EBFA;\n",
              "      box-shadow: 0px 1px 2px rgba(60, 64, 67, 0.3), 0px 1px 3px 1px rgba(60, 64, 67, 0.15);\n",
              "      fill: #174EA6;\n",
              "    }\n",
              "\n",
              "    .colab-df-buttons div {\n",
              "      margin-bottom: 4px;\n",
              "    }\n",
              "\n",
              "    [theme=dark] .colab-df-convert {\n",
              "      background-color: #3B4455;\n",
              "      fill: #D2E3FC;\n",
              "    }\n",
              "\n",
              "    [theme=dark] .colab-df-convert:hover {\n",
              "      background-color: #434B5C;\n",
              "      box-shadow: 0px 1px 3px 1px rgba(0, 0, 0, 0.15);\n",
              "      filter: drop-shadow(0px 1px 2px rgba(0, 0, 0, 0.3));\n",
              "      fill: #FFFFFF;\n",
              "    }\n",
              "  </style>\n",
              "\n",
              "    <script>\n",
              "      const buttonEl =\n",
              "        document.querySelector('#df-7f7b3617-9342-4188-8c75-4bf1981bb61d button.colab-df-convert');\n",
              "      buttonEl.style.display =\n",
              "        google.colab.kernel.accessAllowed ? 'block' : 'none';\n",
              "\n",
              "      async function convertToInteractive(key) {\n",
              "        const element = document.querySelector('#df-7f7b3617-9342-4188-8c75-4bf1981bb61d');\n",
              "        const dataTable =\n",
              "          await google.colab.kernel.invokeFunction('convertToInteractive',\n",
              "                                                    [key], {});\n",
              "        if (!dataTable) return;\n",
              "\n",
              "        const docLinkHtml = 'Like what you see? Visit the ' +\n",
              "          '<a target=\"_blank\" href=https://colab.research.google.com/notebooks/data_table.ipynb>data table notebook</a>'\n",
              "          + ' to learn more about interactive tables.';\n",
              "        element.innerHTML = '';\n",
              "        dataTable['output_type'] = 'display_data';\n",
              "        await google.colab.output.renderOutput(dataTable, element);\n",
              "        const docLink = document.createElement('div');\n",
              "        docLink.innerHTML = docLinkHtml;\n",
              "        element.appendChild(docLink);\n",
              "      }\n",
              "    </script>\n",
              "  </div>\n",
              "\n",
              "\n",
              "<div id=\"df-61c6521b-773d-44b9-8b57-d3f6795bfe63\">\n",
              "  <button class=\"colab-df-quickchart\" onclick=\"quickchart('df-61c6521b-773d-44b9-8b57-d3f6795bfe63')\"\n",
              "            title=\"Suggest charts\"\n",
              "            style=\"display:none;\">\n",
              "\n",
              "<svg xmlns=\"http://www.w3.org/2000/svg\" height=\"24px\"viewBox=\"0 0 24 24\"\n",
              "     width=\"24px\">\n",
              "    <g>\n",
              "        <path d=\"M19 3H5c-1.1 0-2 .9-2 2v14c0 1.1.9 2 2 2h14c1.1 0 2-.9 2-2V5c0-1.1-.9-2-2-2zM9 17H7v-7h2v7zm4 0h-2V7h2v10zm4 0h-2v-4h2v4z\"/>\n",
              "    </g>\n",
              "</svg>\n",
              "  </button>\n",
              "\n",
              "<style>\n",
              "  .colab-df-quickchart {\n",
              "      --bg-color: #E8F0FE;\n",
              "      --fill-color: #1967D2;\n",
              "      --hover-bg-color: #E2EBFA;\n",
              "      --hover-fill-color: #174EA6;\n",
              "      --disabled-fill-color: #AAA;\n",
              "      --disabled-bg-color: #DDD;\n",
              "  }\n",
              "\n",
              "  [theme=dark] .colab-df-quickchart {\n",
              "      --bg-color: #3B4455;\n",
              "      --fill-color: #D2E3FC;\n",
              "      --hover-bg-color: #434B5C;\n",
              "      --hover-fill-color: #FFFFFF;\n",
              "      --disabled-bg-color: #3B4455;\n",
              "      --disabled-fill-color: #666;\n",
              "  }\n",
              "\n",
              "  .colab-df-quickchart {\n",
              "    background-color: var(--bg-color);\n",
              "    border: none;\n",
              "    border-radius: 50%;\n",
              "    cursor: pointer;\n",
              "    display: none;\n",
              "    fill: var(--fill-color);\n",
              "    height: 32px;\n",
              "    padding: 0;\n",
              "    width: 32px;\n",
              "  }\n",
              "\n",
              "  .colab-df-quickchart:hover {\n",
              "    background-color: var(--hover-bg-color);\n",
              "    box-shadow: 0 1px 2px rgba(60, 64, 67, 0.3), 0 1px 3px 1px rgba(60, 64, 67, 0.15);\n",
              "    fill: var(--button-hover-fill-color);\n",
              "  }\n",
              "\n",
              "  .colab-df-quickchart-complete:disabled,\n",
              "  .colab-df-quickchart-complete:disabled:hover {\n",
              "    background-color: var(--disabled-bg-color);\n",
              "    fill: var(--disabled-fill-color);\n",
              "    box-shadow: none;\n",
              "  }\n",
              "\n",
              "  .colab-df-spinner {\n",
              "    border: 2px solid var(--fill-color);\n",
              "    border-color: transparent;\n",
              "    border-bottom-color: var(--fill-color);\n",
              "    animation:\n",
              "      spin 1s steps(1) infinite;\n",
              "  }\n",
              "\n",
              "  @keyframes spin {\n",
              "    0% {\n",
              "      border-color: transparent;\n",
              "      border-bottom-color: var(--fill-color);\n",
              "      border-left-color: var(--fill-color);\n",
              "    }\n",
              "    20% {\n",
              "      border-color: transparent;\n",
              "      border-left-color: var(--fill-color);\n",
              "      border-top-color: var(--fill-color);\n",
              "    }\n",
              "    30% {\n",
              "      border-color: transparent;\n",
              "      border-left-color: var(--fill-color);\n",
              "      border-top-color: var(--fill-color);\n",
              "      border-right-color: var(--fill-color);\n",
              "    }\n",
              "    40% {\n",
              "      border-color: transparent;\n",
              "      border-right-color: var(--fill-color);\n",
              "      border-top-color: var(--fill-color);\n",
              "    }\n",
              "    60% {\n",
              "      border-color: transparent;\n",
              "      border-right-color: var(--fill-color);\n",
              "    }\n",
              "    80% {\n",
              "      border-color: transparent;\n",
              "      border-right-color: var(--fill-color);\n",
              "      border-bottom-color: var(--fill-color);\n",
              "    }\n",
              "    90% {\n",
              "      border-color: transparent;\n",
              "      border-bottom-color: var(--fill-color);\n",
              "    }\n",
              "  }\n",
              "</style>\n",
              "\n",
              "  <script>\n",
              "    async function quickchart(key) {\n",
              "      const quickchartButtonEl =\n",
              "        document.querySelector('#' + key + ' button');\n",
              "      quickchartButtonEl.disabled = true;  // To prevent multiple clicks.\n",
              "      quickchartButtonEl.classList.add('colab-df-spinner');\n",
              "      try {\n",
              "        const charts = await google.colab.kernel.invokeFunction(\n",
              "            'suggestCharts', [key], {});\n",
              "      } catch (error) {\n",
              "        console.error('Error during call to suggestCharts:', error);\n",
              "      }\n",
              "      quickchartButtonEl.classList.remove('colab-df-spinner');\n",
              "      quickchartButtonEl.classList.add('colab-df-quickchart-complete');\n",
              "    }\n",
              "    (() => {\n",
              "      let quickchartButtonEl =\n",
              "        document.querySelector('#df-61c6521b-773d-44b9-8b57-d3f6795bfe63 button');\n",
              "      quickchartButtonEl.style.display =\n",
              "        google.colab.kernel.accessAllowed ? 'block' : 'none';\n",
              "    })();\n",
              "  </script>\n",
              "</div>\n",
              "    </div>\n",
              "  </div>\n"
            ]
          },
          "metadata": {},
          "execution_count": 84
        }
      ]
    },
    {
      "cell_type": "code",
      "source": [
        "x_train, x_test, y_train, y_test = train_test_split(df['lyrics'], df['tag'], test_size=0.3, random_state=42)\n",
        "print(x_train.shape, y_train.shape, x_test.shape, y_test.shape)"
      ],
      "metadata": {
        "colab": {
          "base_uri": "https://localhost:8080/"
        },
        "id": "0EHdK4pvOM6Q",
        "outputId": "c1e107a5-22f9-4c41-f7dd-2460157f2041"
      },
      "execution_count": null,
      "outputs": [
        {
          "output_type": "stream",
          "name": "stdout",
          "text": [
            "(110264,) (110264,) (47256,) (47256,)\n"
          ]
        }
      ]
    },
    {
      "cell_type": "markdown",
      "source": [
        "### Vectorize"
      ],
      "metadata": {
        "id": "DV49fGlUGCh9"
      }
    },
    {
      "cell_type": "code",
      "source": [
        "vocab_size = 500\n",
        "vectors_size = 250\n",
        "\n",
        "vectorizer = layers.TextVectorization(\n",
        "    max_tokens=vocab_size,\n",
        "    standardize=None,\n",
        "    output_mode='int',\n",
        "    output_sequence_length=vectors_size\n",
        "    )\n",
        "\n",
        "vectorizer.adapt(x_train.to_numpy())"
      ],
      "metadata": {
        "id": "aIqfCvesGE9T"
      },
      "execution_count": null,
      "outputs": []
    },
    {
      "cell_type": "code",
      "source": [
        "def vectorize(text: str):\n",
        "  return vectorizer(tf.expand_dims(text, -1))"
      ],
      "metadata": {
        "id": "iAJgNG3uQCG6"
      },
      "execution_count": null,
      "outputs": []
    },
    {
      "cell_type": "code",
      "source": [
        "x_train = x_train.progress_apply(vectorize)\n",
        "x_test = x_test.progress_apply(vectorize)\n",
        "print(x_train.shape, x_test.shape)"
      ],
      "metadata": {
        "colab": {
          "base_uri": "https://localhost:8080/",
          "height": 98,
          "referenced_widgets": [
            "eddda5ae13a04e478e5366495c962c37",
            "8769bf1fa80e4b6c94978a0f4e406ed8",
            "b76452ed59a848b4b375ff6f90e9eb64",
            "6652bfb2eccd45a79c2ef514fb3679b5",
            "4c52173dba644fbcac43aacf482d78ac",
            "ab484a0c68fc410cb278cd0eac0472f4",
            "f3f38466eeea4e2eaa49fb08525fbd19",
            "7feeb44a643242558df3336ea7f6452f",
            "20630f9ebe5f4236a92fcfd783c0a3f3",
            "4c022558bf944e4fadb2d82dcc93f0af",
            "03b72e00de7540f79f6704ee447ccc27",
            "22df1fb4f18a49ba95ba352b4df086e3",
            "bd178fb741d342a79037e424a09fcfbb",
            "ff7462b966144774a4e0961e753238ad",
            "b50437c3a882475c9d545d5c89eba77b",
            "b3b16a648bcc4cca9c22624c7ea20439",
            "f5667f35678b4036ae282c1f4dce2307",
            "72607777ba04433aa9fe7501b36e48d0",
            "0c01e5cf120149a5948ea58f9f7c16ae",
            "aa801aa5027a42339d06bf95686be8b7",
            "ae9dad91e6d546f8ad779713621a7974",
            "ee3befbf6bff4e2085b7aa5782c15f4d"
          ]
        },
        "id": "SSEr21xFQUcf",
        "outputId": "b0aaa759-45da-4ca9-8e1e-6ac4d4ffdce9"
      },
      "execution_count": null,
      "outputs": [
        {
          "output_type": "display_data",
          "data": {
            "text/plain": [
              "  0%|          | 0/110264 [00:00<?, ?it/s]"
            ],
            "application/vnd.jupyter.widget-view+json": {
              "version_major": 2,
              "version_minor": 0,
              "model_id": "eddda5ae13a04e478e5366495c962c37"
            }
          },
          "metadata": {}
        },
        {
          "output_type": "display_data",
          "data": {
            "text/plain": [
              "  0%|          | 0/47256 [00:00<?, ?it/s]"
            ],
            "application/vnd.jupyter.widget-view+json": {
              "version_major": 2,
              "version_minor": 0,
              "model_id": "22df1fb4f18a49ba95ba352b4df086e3"
            }
          },
          "metadata": {}
        },
        {
          "output_type": "stream",
          "name": "stdout",
          "text": [
            "(110264,) (47256,)\n"
          ]
        }
      ]
    },
    {
      "cell_type": "markdown",
      "source": [
        "#### Visualization"
      ],
      "metadata": {
        "id": "0pohI9Xbl0zv"
      }
    },
    {
      "cell_type": "markdown",
      "source": [
        "Посмотрим на отображение векторов в 2D пространстве."
      ],
      "metadata": {
        "id": "CMyn9KlCl5aj"
      }
    },
    {
      "cell_type": "code",
      "source": [
        "np.asarray([tensor.numpy() for tensor in x_train]).shape"
      ],
      "metadata": {
        "colab": {
          "base_uri": "https://localhost:8080/"
        },
        "id": "ia_tF21bklSC",
        "outputId": "ce858a7c-0931-4084-d8cd-979a94b79463"
      },
      "execution_count": null,
      "outputs": [
        {
          "output_type": "execute_result",
          "data": {
            "text/plain": [
              "(110264, 1, 250)"
            ]
          },
          "metadata": {},
          "execution_count": 110
        }
      ]
    },
    {
      "cell_type": "code",
      "source": [
        "pca = PCA(n_components=2, random_state=42)\n",
        "d2 = pca.fit_transform(np.reshape(np.asarray([tensor.numpy() for tensor in x_train]), (len(x_train), 250)))\n",
        "color_palette = sns.color_palette('rainbow', 12)\n",
        "\n",
        "plt.scatter(\n",
        "    d2[:, 0],\n",
        "    d2[:, 1],\n",
        "    c=[color_palette[int(x) * 5] for x in y_train])\n",
        "plt.title('Vectors projection', fontsize=12)\n",
        "plt.show()"
      ],
      "metadata": {
        "colab": {
          "base_uri": "https://localhost:8080/",
          "height": 452
        },
        "id": "froeA9NcjoIS",
        "outputId": "fc379db8-9292-4ffa-9fca-e923e299284a"
      },
      "execution_count": null,
      "outputs": [
        {
          "output_type": "display_data",
          "data": {
            "text/plain": [
              "<Figure size 640x480 with 1 Axes>"
            ],
            "image/png": "[encoded data removed]"
          },
          "metadata": {}
        }
      ]
    },
    {
      "cell_type": "markdown",
      "source": [
        "На 2D графике классы предстают трудноразделимыми."
      ],
      "metadata": {
        "id": "I8ZulMuJmJ9j"
      }
    },
    {
      "cell_type": "markdown",
      "source": [
        "## Models"
      ],
      "metadata": {
        "id": "jMEjE2-znMuJ"
      }
    },
    {
      "cell_type": "code",
      "source": [
        "callback = callbacks.EarlyStopping(\n",
        "    monitor='val_loss',\n",
        "    patience=5,\n",
        "    restore_best_weights=True\n",
        "    )"
      ],
      "metadata": {
        "id": "K1iutJcBt_8m"
      },
      "execution_count": null,
      "outputs": []
    },
    {
      "cell_type": "code",
      "source": [
        "weights = compute_class_weight(\n",
        "    class_weight='balanced',\n",
        "    classes=np.unique(y_train),\n",
        "    y=y_train\n",
        "    )"
      ],
      "metadata": {
        "id": "6kmtwgQsuk6M"
      },
      "execution_count": null,
      "outputs": []
    },
    {
      "cell_type": "markdown",
      "source": [
        "### CNN"
      ],
      "metadata": {
        "id": "t2Cm4zUKolhZ"
      }
    },
    {
      "cell_type": "code",
      "source": [
        "model = tf.keras.Sequential()\n",
        "model.add(layers.Embedding(vocab_size, 256, input_length=vectors_size))\n",
        "model.add(layers.Conv1D(filters=32, kernel_size=3, activation='relu'))\n",
        "model.add(layers.Dropout(.5))\n",
        "model.add(layers.Conv1D(filters=16, kernel_size=6, activation='relu'))\n",
        "model.add(layers.GlobalMaxPooling1D())\n",
        "model.add(layers.Dense(10, activation='relu'))\n",
        "model.add(layers.Dense(3, activation='softmax'))\n",
        "\n",
        "model.compile(optimizer='adam', loss='sparse_categorical_crossentropy', metrics=['accuracy'])\n",
        "model.summary()"
      ],
      "metadata": {
        "colab": {
          "base_uri": "https://localhost:8080/"
        },
        "id": "aaIlQD5Ooi7d",
        "outputId": "ce79e141-25d7-47f5-f4e5-dc70bd5c3825"
      },
      "execution_count": null,
      "outputs": [
        {
          "output_type": "stream",
          "name": "stdout",
          "text": [
            "Model: \"sequential_19\"\n",
            "_________________________________________________________________\n",
            " Layer (type)                Output Shape              Param #   \n",
            "=================================================================\n",
            " embedding_18 (Embedding)    (None, 250, 256)          128000    \n",
            "                                                                 \n",
            " conv1d_35 (Conv1D)          (None, 248, 32)           24608     \n",
            "                                                                 \n",
            " dropout_29 (Dropout)        (None, 248, 32)           0         \n",
            "                                                                 \n",
            " conv1d_36 (Conv1D)          (None, 243, 16)           3088      \n",
            "                                                                 \n",
            " global_max_pooling1d_16 (G  (None, 16)                0         \n",
            " lobalMaxPooling1D)                                              \n",
            "                                                                 \n",
            " dense_35 (Dense)            (None, 10)                170       \n",
            "                                                                 \n",
            " dense_36 (Dense)            (None, 3)                 33        \n",
            "                                                                 \n",
            "=================================================================\n",
            "Total params: 155899 (608.98 KB)\n",
            "Trainable params: 155899 (608.98 KB)\n",
            "Non-trainable params: 0 (0.00 Byte)\n",
            "_________________________________________________________________\n"
          ]
        }
      ]
    },
    {
      "cell_type": "code",
      "source": [
        "with tf.device('/gpu:0'):\n",
        "  history = model.fit(\n",
        "      np.reshape(np.asarray([tensor.numpy() for tensor in x_train]), (len(x_train), vectors_size)),\n",
        "      y_train.to_numpy(),\n",
        "      epochs=50,\n",
        "      batch_size=64,\n",
        "      validation_split=.2,\n",
        "      callbacks=[callback],\n",
        "      class_weight=dict(enumerate(weights))\n",
        "      )"
      ],
      "metadata": {
        "colab": {
          "base_uri": "https://localhost:8080/"
        },
        "id": "6JcJXVOItFSD",
        "outputId": "990192d3-3635-4404-a258-f7fb0bd9f4c3"
      },
      "execution_count": null,
      "outputs": [
        {
          "output_type": "stream",
          "name": "stdout",
          "text": [
            "Epoch 1/50\n",
            "1379/1379 [==============================] - 13s 9ms/step - loss: 0.9081 - accuracy: 0.6416 - val_loss: 0.7244 - val_accuracy: 0.7124\n",
            "Epoch 2/50\n",
            "1379/1379 [==============================] - 9s 6ms/step - loss: 0.8444 - accuracy: 0.6831 - val_loss: 0.7010 - val_accuracy: 0.7223\n",
            "Epoch 3/50\n",
            "1379/1379 [==============================] - 9s 6ms/step - loss: 0.8288 - accuracy: 0.6906 - val_loss: 0.6744 - val_accuracy: 0.7394\n",
            "Epoch 4/50\n",
            "1379/1379 [==============================] - 9s 6ms/step - loss: 0.8188 - accuracy: 0.6948 - val_loss: 0.6980 - val_accuracy: 0.7253\n",
            "Epoch 5/50\n",
            "1379/1379 [==============================] - 8s 6ms/step - loss: 0.8122 - accuracy: 0.6948 - val_loss: 0.7361 - val_accuracy: 0.7023\n",
            "Epoch 6/50\n",
            "1379/1379 [==============================] - 8s 6ms/step - loss: 0.8095 - accuracy: 0.6960 - val_loss: 0.6916 - val_accuracy: 0.7283\n",
            "Epoch 7/50\n",
            "1379/1379 [==============================] - 9s 7ms/step - loss: 0.8036 - accuracy: 0.6973 - val_loss: 0.6357 - val_accuracy: 0.7455\n",
            "Epoch 8/50\n",
            "1379/1379 [==============================] - 8s 6ms/step - loss: 0.7966 - accuracy: 0.6992 - val_loss: 0.6931 - val_accuracy: 0.7107\n",
            "Epoch 9/50\n",
            "1379/1379 [==============================] - 9s 6ms/step - loss: 0.7956 - accuracy: 0.6994 - val_loss: 0.6968 - val_accuracy: 0.7095\n",
            "Epoch 10/50\n",
            "1379/1379 [==============================] - 9s 6ms/step - loss: 0.7928 - accuracy: 0.7013 - val_loss: 0.7039 - val_accuracy: 0.7119\n",
            "Epoch 11/50\n",
            "1379/1379 [==============================] - 9s 6ms/step - loss: 0.7870 - accuracy: 0.7009 - val_loss: 0.6713 - val_accuracy: 0.7231\n",
            "Epoch 12/50\n",
            "1379/1379 [==============================] - 8s 6ms/step - loss: 0.7827 - accuracy: 0.7035 - val_loss: 0.7124 - val_accuracy: 0.7019\n"
          ]
        }
      ]
    },
    {
      "cell_type": "code",
      "source": [
        "plt.plot(history.history['val_loss'], label='val')\n",
        "plt.plot(history.history['loss'], label='train')\n",
        "plt.legend(loc='upper right')\n",
        "plt.show()"
      ],
      "metadata": {
        "colab": {
          "base_uri": "https://localhost:8080/",
          "height": 430
        },
        "id": "HvMfm6xTvMY6",
        "outputId": "b14204ed-e4b3-4e67-db49-dae0669d0ce3"
      },
      "execution_count": null,
      "outputs": [
        {
          "output_type": "display_data",
          "data": {
            "text/plain": [
              "<Figure size 640x480 with 1 Axes>"
            ],
            "image/png": "[encoded data removed]"
          },
          "metadata": {}
        }
      ]
    },
    {
      "cell_type": "code",
      "source": [
        "predicted = model.predict(np.reshape([tensor.numpy() for tensor in x_test], (x_test.shape[0], vectors_size)))\n",
        "prediction = np.argmax(predicted, axis=1)\n",
        "print(classification_report(y_test.to_numpy(), prediction))"
      ],
      "metadata": {
        "colab": {
          "base_uri": "https://localhost:8080/"
        },
        "id": "DDnOR24kvUgY",
        "outputId": "1b92ba85-c426-427e-ff2a-149e554fd618"
      },
      "execution_count": null,
      "outputs": [
        {
          "output_type": "stream",
          "name": "stdout",
          "text": [
            "1477/1477 [==============================] - 4s 3ms/step\n",
            "              precision    recall  f1-score   support\n",
            "\n",
            "           0       0.57      0.42      0.48      9043\n",
            "           1       0.85      0.89      0.87     32607\n",
            "           2       0.41      0.48      0.44      5606\n",
            "\n",
            "    accuracy                           0.75     47256\n",
            "   macro avg       0.61      0.59      0.60     47256\n",
            "weighted avg       0.74      0.75      0.74     47256\n",
            "\n"
          ]
        }
      ]
    },
    {
      "cell_type": "markdown",
      "source": [
        "Обучение CNN идёт плохо, не уверен, проблема с тем, что модель слишком сложная, или же с самими данными. Лосс функция остаётся большой как для валидации, так и для трейна."
      ],
      "metadata": {
        "id": "zT2a-8nXIWHM"
      }
    },
    {
      "cell_type": "markdown",
      "source": [
        "### RNN"
      ],
      "metadata": {
        "id": "ycCtObVBJwcr"
      }
    },
    {
      "cell_type": "markdown",
      "source": [
        "Собираю GRU, потому что LSTM, возможно, будет слишком сложной моделью для этой задачи, а SimpleRNN, как оказалось, не использует ГПУ."
      ],
      "metadata": {
        "id": "IOAlFDFpKyxI"
      }
    },
    {
      "cell_type": "code",
      "source": [
        "model = tf.keras.Sequential()\n",
        "model.add(layers.Embedding(vocab_size, 100, input_length=vectors_size))\n",
        "model.add(layers.GRU(128, return_sequences=False))\n",
        "model.add(layers.Dropout(0.5))\n",
        "model.add(layers.Dense(3, activation='softmax'))\n",
        "\n",
        "model.compile(optimizer='adam', loss='sparse_categorical_crossentropy', metrics=['accuracy'])\n",
        "model.summary()"
      ],
      "metadata": {
        "colab": {
          "base_uri": "https://localhost:8080/"
        },
        "id": "OVnHh_z7Js0H",
        "outputId": "5e75f091-1450-4af7-8ba9-bba39d618d60"
      },
      "execution_count": null,
      "outputs": [
        {
          "output_type": "stream",
          "name": "stdout",
          "text": [
            "Model: \"sequential_25\"\n",
            "_________________________________________________________________\n",
            " Layer (type)                Output Shape              Param #   \n",
            "=================================================================\n",
            " embedding_24 (Embedding)    (None, 250, 100)          50000     \n",
            "                                                                 \n",
            " gru_4 (GRU)                 (None, 128)               88320     \n",
            "                                                                 \n",
            " dropout_34 (Dropout)        (None, 128)               0         \n",
            "                                                                 \n",
            " dense_40 (Dense)            (None, 3)                 387       \n",
            "                                                                 \n",
            "=================================================================\n",
            "Total params: 138707 (541.82 KB)\n",
            "Trainable params: 138707 (541.82 KB)\n",
            "Non-trainable params: 0 (0.00 Byte)\n",
            "_________________________________________________________________\n"
          ]
        }
      ]
    },
    {
      "cell_type": "code",
      "source": [
        "with tf.device('/gpu:0'):\n",
        "  history = model.fit(\n",
        "      np.reshape(np.asarray([tensor.numpy() for tensor in x_train]), (len(x_train), vectors_size)),\n",
        "      y_train.to_numpy(),\n",
        "      epochs=50,\n",
        "      batch_size=64,\n",
        "      validation_split=.2,\n",
        "      callbacks=[callback],\n",
        "      class_weight=dict(enumerate(weights))\n",
        "      )"
      ],
      "metadata": {
        "colab": {
          "base_uri": "https://localhost:8080/"
        },
        "id": "oWYUw3hdKrZG",
        "outputId": "00187954-d447-4ff6-ecdb-3538c44e210d"
      },
      "execution_count": null,
      "outputs": [
        {
          "output_type": "stream",
          "name": "stdout",
          "text": [
            "Epoch 1/50\n",
            "1379/1379 [==============================] - 25s 17ms/step - loss: 0.9709 - accuracy: 0.5782 - val_loss: 0.8125 - val_accuracy: 0.6638\n",
            "Epoch 2/50\n",
            "1379/1379 [==============================] - 18s 13ms/step - loss: 0.8421 - accuracy: 0.6850 - val_loss: 0.7180 - val_accuracy: 0.7043\n",
            "Epoch 3/50\n",
            "1379/1379 [==============================] - 19s 13ms/step - loss: 0.7999 - accuracy: 0.6973 - val_loss: 0.7407 - val_accuracy: 0.6955\n",
            "Epoch 4/50\n",
            "1379/1379 [==============================] - 18s 13ms/step - loss: 0.7860 - accuracy: 0.7026 - val_loss: 0.7271 - val_accuracy: 0.6950\n",
            "Epoch 5/50\n",
            "1379/1379 [==============================] - 19s 14ms/step - loss: 0.7743 - accuracy: 0.7063 - val_loss: 0.7353 - val_accuracy: 0.6912\n",
            "Epoch 6/50\n",
            "1379/1379 [==============================] - 19s 14ms/step - loss: 0.7655 - accuracy: 0.7075 - val_loss: 0.6891 - val_accuracy: 0.7116\n",
            "Epoch 7/50\n",
            "1379/1379 [==============================] - 18s 13ms/step - loss: 0.7545 - accuracy: 0.7115 - val_loss: 0.7254 - val_accuracy: 0.6929\n",
            "Epoch 8/50\n",
            "1379/1379 [==============================] - 18s 13ms/step - loss: 0.7419 - accuracy: 0.7152 - val_loss: 0.7118 - val_accuracy: 0.6957\n",
            "Epoch 9/50\n",
            "1379/1379 [==============================] - 18s 13ms/step - loss: 0.7313 - accuracy: 0.7160 - val_loss: 0.7179 - val_accuracy: 0.7056\n",
            "Epoch 10/50\n",
            "1379/1379 [==============================] - 19s 14ms/step - loss: 0.7148 - accuracy: 0.7234 - val_loss: 0.7608 - val_accuracy: 0.6748\n",
            "Epoch 11/50\n",
            "1379/1379 [==============================] - 18s 13ms/step - loss: 0.6997 - accuracy: 0.7262 - val_loss: 0.7184 - val_accuracy: 0.6913\n"
          ]
        }
      ]
    },
    {
      "cell_type": "code",
      "source": [
        "plt.plot(history.history['val_loss'], label='val')\n",
        "plt.plot(history.history['loss'], label='train')\n",
        "plt.legend(loc='upper right')\n",
        "plt.show()"
      ],
      "metadata": {
        "colab": {
          "base_uri": "https://localhost:8080/",
          "height": 430
        },
        "id": "242FJ02mLLwh",
        "outputId": "4f02696a-e05b-4a14-b462-7fd5910a89b8"
      },
      "execution_count": null,
      "outputs": [
        {
          "output_type": "display_data",
          "data": {
            "text/plain": [
              "<Figure size 640x480 with 1 Axes>"
            ],
            "image/png": "[encoded data removed]"
          },
          "metadata": {}
        }
      ]
    },
    {
      "cell_type": "code",
      "source": [
        "predicted = model.predict(np.reshape([tensor.numpy() for tensor in x_test], (x_test.shape[0], vectors_size)))\n",
        "prediction = np.argmax(predicted, axis=1)\n",
        "print(classification_report(y_test.to_numpy(), prediction))"
      ],
      "metadata": {
        "colab": {
          "base_uri": "https://localhost:8080/"
        },
        "id": "TiE6BT0wLNhJ",
        "outputId": "21a9d4a5-d43f-44ec-9fde-701c481b89d7"
      },
      "execution_count": null,
      "outputs": [
        {
          "output_type": "stream",
          "name": "stdout",
          "text": [
            "1477/1477 [==============================] - 7s 4ms/step\n",
            "              precision    recall  f1-score   support\n",
            "\n",
            "           0       0.51      0.53      0.52      9043\n",
            "           1       0.90      0.79      0.84     32607\n",
            "           2       0.36      0.60      0.45      5606\n",
            "\n",
            "    accuracy                           0.72     47256\n",
            "   macro avg       0.59      0.64      0.60     47256\n",
            "weighted avg       0.76      0.72      0.73     47256\n",
            "\n"
          ]
        }
      ]
    },
    {
      "cell_type": "markdown",
      "source": [
        "Видно, что модель переобучается очень быстро. В целом, результаты на уровне с CNN, выше поднять не получилось"
      ],
      "metadata": {
        "id": "ldMy2UyKROel"
      }
    },
    {
      "cell_type": "markdown",
      "source": [
        "### Combined"
      ],
      "metadata": {
        "id": "Dyyp8zrSR5iU"
      }
    },
    {
      "cell_type": "code",
      "source": [
        "model = tf.keras.Sequential()\n",
        "model.add(layers.Embedding(vocab_size, 100, input_length=vectors_size))\n",
        "model.add(layers.Conv1D(filters=128, kernel_size=5, activation='relu'))\n",
        "model.add(layers.MaxPooling1D())\n",
        "model.add(layers.GRU(100, dropout=0.5))\n",
        "model.add(layers.Dense(3, activation='softmax'))\n",
        "\n",
        "model.compile(optimizer='adam', loss='sparse_categorical_crossentropy', metrics=['accuracy'])\n",
        "model.summary()"
      ],
      "metadata": {
        "colab": {
          "base_uri": "https://localhost:8080/"
        },
        "id": "YuT8CqcHR7ap",
        "outputId": "fd14898a-d1a4-4c15-bdb2-de0a71ecc64d"
      },
      "execution_count": null,
      "outputs": [
        {
          "output_type": "stream",
          "name": "stdout",
          "text": [
            "Model: \"sequential_32\"\n",
            "_________________________________________________________________\n",
            " Layer (type)                Output Shape              Param #   \n",
            "=================================================================\n",
            " embedding_31 (Embedding)    (None, 250, 100)          50000     \n",
            "                                                                 \n",
            " conv1d_43 (Conv1D)          (None, 246, 128)          64128     \n",
            "                                                                 \n",
            " max_pooling1d_6 (MaxPoolin  (None, 123, 128)          0         \n",
            " g1D)                                                            \n",
            "                                                                 \n",
            " gru_11 (GRU)                (None, 100)               69000     \n",
            "                                                                 \n",
            " dense_45 (Dense)            (None, 3)                 303       \n",
            "                                                                 \n",
            "=================================================================\n",
            "Total params: 183431 (716.53 KB)\n",
            "Trainable params: 183431 (716.53 KB)\n",
            "Non-trainable params: 0 (0.00 Byte)\n",
            "_________________________________________________________________\n"
          ]
        }
      ]
    },
    {
      "cell_type": "code",
      "source": [
        "with tf.device('/gpu:0'):\n",
        "  history = model.fit(\n",
        "      np.reshape(np.asarray([tensor.numpy() for tensor in x_train]), (len(x_train), vectors_size)),\n",
        "      y_train.to_numpy(),\n",
        "      epochs=50,\n",
        "      batch_size=64,\n",
        "      validation_split=.2,\n",
        "      callbacks=[callback],\n",
        "      class_weight=dict(enumerate(weights))\n",
        "      )"
      ],
      "metadata": {
        "colab": {
          "base_uri": "https://localhost:8080/"
        },
        "id": "1y58jqeJScS2",
        "outputId": "3519fe48-2654-4291-edf2-fd5dd93b4aa9"
      },
      "execution_count": null,
      "outputs": [
        {
          "output_type": "stream",
          "name": "stdout",
          "text": [
            "Epoch 1/50\n",
            "1379/1379 [==============================] - 23s 14ms/step - loss: 0.9121 - accuracy: 0.6320 - val_loss: 0.8260 - val_accuracy: 0.6538\n",
            "Epoch 2/50\n",
            "1379/1379 [==============================] - 16s 11ms/step - loss: 0.8127 - accuracy: 0.6948 - val_loss: 0.7411 - val_accuracy: 0.6923\n",
            "Epoch 3/50\n",
            "1379/1379 [==============================] - 16s 11ms/step - loss: 0.7883 - accuracy: 0.7023 - val_loss: 0.7558 - val_accuracy: 0.6888\n",
            "Epoch 4/50\n",
            "1379/1379 [==============================] - 15s 11ms/step - loss: 0.7749 - accuracy: 0.7071 - val_loss: 0.7479 - val_accuracy: 0.6898\n",
            "Epoch 5/50\n",
            "1379/1379 [==============================] - 17s 12ms/step - loss: 0.7617 - accuracy: 0.7104 - val_loss: 0.7575 - val_accuracy: 0.6778\n",
            "Epoch 6/50\n",
            "1379/1379 [==============================] - 15s 11ms/step - loss: 0.7508 - accuracy: 0.7142 - val_loss: 0.7727 - val_accuracy: 0.6739\n",
            "Epoch 7/50\n",
            "1379/1379 [==============================] - 16s 11ms/step - loss: 0.7374 - accuracy: 0.7178 - val_loss: 0.7351 - val_accuracy: 0.6867\n",
            "Epoch 8/50\n",
            "1379/1379 [==============================] - 15s 11ms/step - loss: 0.7254 - accuracy: 0.7220 - val_loss: 0.6604 - val_accuracy: 0.7240\n",
            "Epoch 9/50\n",
            "1379/1379 [==============================] - 17s 12ms/step - loss: 0.7108 - accuracy: 0.7255 - val_loss: 0.6894 - val_accuracy: 0.7135\n",
            "Epoch 10/50\n",
            "1379/1379 [==============================] - 15s 11ms/step - loss: 0.6967 - accuracy: 0.7294 - val_loss: 0.6629 - val_accuracy: 0.7221\n",
            "Epoch 11/50\n",
            "1379/1379 [==============================] - 16s 12ms/step - loss: 0.6833 - accuracy: 0.7321 - val_loss: 0.6572 - val_accuracy: 0.7253\n",
            "Epoch 12/50\n",
            "1379/1379 [==============================] - 15s 11ms/step - loss: 0.6692 - accuracy: 0.7370 - val_loss: 0.6918 - val_accuracy: 0.7126\n",
            "Epoch 13/50\n",
            "1379/1379 [==============================] - 16s 12ms/step - loss: 0.6554 - accuracy: 0.7413 - val_loss: 0.7745 - val_accuracy: 0.6692\n",
            "Epoch 14/50\n",
            "1379/1379 [==============================] - 16s 11ms/step - loss: 0.6385 - accuracy: 0.7450 - val_loss: 0.7534 - val_accuracy: 0.6843\n",
            "Epoch 15/50\n",
            "1379/1379 [==============================] - 17s 12ms/step - loss: 0.6278 - accuracy: 0.7475 - val_loss: 0.6907 - val_accuracy: 0.7132\n",
            "Epoch 16/50\n",
            "1379/1379 [==============================] - 17s 12ms/step - loss: 0.6144 - accuracy: 0.7509 - val_loss: 0.7358 - val_accuracy: 0.6998\n"
          ]
        }
      ]
    },
    {
      "cell_type": "code",
      "source": [
        "plt.plot(history.history['val_loss'], label='val')\n",
        "plt.plot(history.history['loss'], label='train')\n",
        "plt.legend(loc='upper right')\n",
        "plt.show()"
      ],
      "metadata": {
        "colab": {
          "base_uri": "https://localhost:8080/",
          "height": 430
        },
        "id": "knCso5jNSehw",
        "outputId": "db73bf50-ce44-4031-f4f9-387c65eca696"
      },
      "execution_count": null,
      "outputs": [
        {
          "output_type": "display_data",
          "data": {
            "text/plain": [
              "<Figure size 640x480 with 1 Axes>"
            ],
            "image/png": "[encoded data removed]"
          },
          "metadata": {}
        }
      ]
    },
    {
      "cell_type": "code",
      "source": [
        "predicted = model.predict(np.reshape([tensor.numpy() for tensor in x_test], (x_test.shape[0], vectors_size)))\n",
        "prediction = np.argmax(predicted, axis=1)\n",
        "print(classification_report(y_test.to_numpy(), prediction))"
      ],
      "metadata": {
        "colab": {
          "base_uri": "https://localhost:8080/"
        },
        "id": "fzrgVtG3Swyy",
        "outputId": "b747bedf-9075-4fe4-a28c-d9740b8175c2"
      },
      "execution_count": null,
      "outputs": [
        {
          "output_type": "stream",
          "name": "stdout",
          "text": [
            "1477/1477 [==============================] - 5s 3ms/step\n",
            "              precision    recall  f1-score   support\n",
            "\n",
            "           0       0.51      0.54      0.52      9043\n",
            "           1       0.90      0.81      0.85     32607\n",
            "           2       0.38      0.58      0.45      5606\n",
            "\n",
            "    accuracy                           0.73     47256\n",
            "   macro avg       0.60      0.64      0.61     47256\n",
            "weighted avg       0.76      0.73      0.74     47256\n",
            "\n"
          ]
        }
      ]
    },
    {
      "cell_type": "markdown",
      "source": [
        "Обучение данной модели, кажется, прошло получше, чем у разделённых моделек. Val loss продолжает колебаться, но я сомневаюсь, что он может упасть сильнее."
      ],
      "metadata": {
        "id": "Ydf7avpmWEcW"
      }
    },
    {
      "cell_type": "markdown",
      "source": [
        "## Conclusion"
      ],
      "metadata": {
        "id": "9Ds_aCpEW0Sa"
      }
    },
    {
      "cell_type": "markdown",
      "source": [
        "Не особо понятно, что делать с переобучением: дропауты и уменьшение количества слоёв помогают, но результаты улучшаются не сильно. Возможно, проблема с векторами, не уверен, но это вероятно. Может, андерсэмплингом можно было бы добиться лучших результатов, но в этом я тоже сомневаюсь -- много данных пропадёт. По метрикам видно, что маленькие классы определяются значительно хуже, чем класс с рэпом."
      ],
      "metadata": {
        "id": "YZfU5sLWW4U4"
      }
    }
  ]
}