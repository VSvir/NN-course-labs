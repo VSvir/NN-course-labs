{
  "nbformat": 4,
  "nbformat_minor": 0,
  "metadata": {
    "colab": {
      "provenance": [],
      "collapsed_sections": [
        "71H59_UvdAD5"
      ]
    },
    "kernelspec": {
      "name": "python3",
      "display_name": "Python 3"
    },
    "language_info": {
      "name": "python"
    },
    "widgets": {
      "application/vnd.jupyter.widget-state+json": {
        "e7cc31da35a24bda9f1cd901f1cfaa16": {
          "model_module": "@jupyter-widgets/controls",
          "model_name": "HBoxModel",
          "model_module_version": "1.5.0",
          "state": {
            "_dom_classes": [],
            "_model_module": "@jupyter-widgets/controls",
            "_model_module_version": "1.5.0",
            "_model_name": "HBoxModel",
            "_view_count": null,
            "_view_module": "@jupyter-widgets/controls",
            "_view_module_version": "1.5.0",
            "_view_name": "HBoxView",
            "box_style": "",
            "children": [
              "IPY_MODEL_e3b1ecccd8184b8fb766b60f6a35287c",
              "IPY_MODEL_e53c430bfc0b4ea9a1cada5a5ed0c9f2",
              "IPY_MODEL_89fad7d2b0804751a24618ed0e43acda"
            ],
            "layout": "IPY_MODEL_9160a06033bb4d8a87abaf4738f03ac5"
          }
        },
        "e3b1ecccd8184b8fb766b60f6a35287c": {
          "model_module": "@jupyter-widgets/controls",
          "model_name": "HTMLModel",
          "model_module_version": "1.5.0",
          "state": {
            "_dom_classes": [],
            "_model_module": "@jupyter-widgets/controls",
            "_model_module_version": "1.5.0",
            "_model_name": "HTMLModel",
            "_view_count": null,
            "_view_module": "@jupyter-widgets/controls",
            "_view_module_version": "1.5.0",
            "_view_name": "HTMLView",
            "description": "",
            "description_tooltip": null,
            "layout": "IPY_MODEL_289279dcce0645688aa6d6c0904b9038",
            "placeholder": "​",
            "style": "IPY_MODEL_aae54b89aa6847ecba06140a06ae05c4",
            "value": "Downloading readme: 100%"
          }
        },
        "e53c430bfc0b4ea9a1cada5a5ed0c9f2": {
          "model_module": "@jupyter-widgets/controls",
          "model_name": "FloatProgressModel",
          "model_module_version": "1.5.0",
          "state": {
            "_dom_classes": [],
            "_model_module": "@jupyter-widgets/controls",
            "_model_module_version": "1.5.0",
            "_model_name": "FloatProgressModel",
            "_view_count": null,
            "_view_module": "@jupyter-widgets/controls",
            "_view_module_version": "1.5.0",
            "_view_name": "ProgressView",
            "bar_style": "success",
            "description": "",
            "description_tooltip": null,
            "layout": "IPY_MODEL_30e04884e216421697c291db68f10875",
            "max": 6734,
            "min": 0,
            "orientation": "horizontal",
            "style": "IPY_MODEL_0a8dedb96cb9428abf5055ec01d72ac4",
            "value": 6734
          }
        },
        "89fad7d2b0804751a24618ed0e43acda": {
          "model_module": "@jupyter-widgets/controls",
          "model_name": "HTMLModel",
          "model_module_version": "1.5.0",
          "state": {
            "_dom_classes": [],
            "_model_module": "@jupyter-widgets/controls",
            "_model_module_version": "1.5.0",
            "_model_name": "HTMLModel",
            "_view_count": null,
            "_view_module": "@jupyter-widgets/controls",
            "_view_module_version": "1.5.0",
            "_view_name": "HTMLView",
            "description": "",
            "description_tooltip": null,
            "layout": "IPY_MODEL_c7ac982ce70d46a58828b42e526f38a6",
            "placeholder": "​",
            "style": "IPY_MODEL_eedbbf1b64d54b8780ea28f30247eaae",
            "value": " 6.73k/6.73k [00:00&lt;00:00, 122kB/s]"
          }
        },
        "9160a06033bb4d8a87abaf4738f03ac5": {
          "model_module": "@jupyter-widgets/base",
          "model_name": "LayoutModel",
          "model_module_version": "1.2.0",
          "state": {
            "_model_module": "@jupyter-widgets/base",
            "_model_module_version": "1.2.0",
            "_model_name": "LayoutModel",
            "_view_count": null,
            "_view_module": "@jupyter-widgets/base",
            "_view_module_version": "1.2.0",
            "_view_name": "LayoutView",
            "align_content": null,
            "align_items": null,
            "align_self": null,
            "border": null,
            "bottom": null,
            "display": null,
            "flex": null,
            "flex_flow": null,
            "grid_area": null,
            "grid_auto_columns": null,
            "grid_auto_flow": null,
            "grid_auto_rows": null,
            "grid_column": null,
            "grid_gap": null,
            "grid_row": null,
            "grid_template_areas": null,
            "grid_template_columns": null,
            "grid_template_rows": null,
            "height": null,
            "justify_content": null,
            "justify_items": null,
            "left": null,
            "margin": null,
            "max_height": null,
            "max_width": null,
            "min_height": null,
            "min_width": null,
            "object_fit": null,
            "object_position": null,
            "order": null,
            "overflow": null,
            "overflow_x": null,
            "overflow_y": null,
            "padding": null,
            "right": null,
            "top": null,
            "visibility": null,
            "width": null
          }
        },
        "289279dcce0645688aa6d6c0904b9038": {
          "model_module": "@jupyter-widgets/base",
          "model_name": "LayoutModel",
          "model_module_version": "1.2.0",
          "state": {
            "_model_module": "@jupyter-widgets/base",
            "_model_module_version": "1.2.0",
            "_model_name": "LayoutModel",
            "_view_count": null,
            "_view_module": "@jupyter-widgets/base",
            "_view_module_version": "1.2.0",
            "_view_name": "LayoutView",
            "align_content": null,
            "align_items": null,
            "align_self": null,
            "border": null,
            "bottom": null,
            "display": null,
            "flex": null,
            "flex_flow": null,
            "grid_area": null,
            "grid_auto_columns": null,
            "grid_auto_flow": null,
            "grid_auto_rows": null,
            "grid_column": null,
            "grid_gap": null,
            "grid_row": null,
            "grid_template_areas": null,
            "grid_template_columns": null,
            "grid_template_rows": null,
            "height": null,
            "justify_content": null,
            "justify_items": null,
            "left": null,
            "margin": null,
            "max_height": null,
            "max_width": null,
            "min_height": null,
            "min_width": null,
            "object_fit": null,
            "object_position": null,
            "order": null,
            "overflow": null,
            "overflow_x": null,
            "overflow_y": null,
            "padding": null,
            "right": null,
            "top": null,
            "visibility": null,
            "width": null
          }
        },
        "aae54b89aa6847ecba06140a06ae05c4": {
          "model_module": "@jupyter-widgets/controls",
          "model_name": "DescriptionStyleModel",
          "model_module_version": "1.5.0",
          "state": {
            "_model_module": "@jupyter-widgets/controls",
            "_model_module_version": "1.5.0",
            "_model_name": "DescriptionStyleModel",
            "_view_count": null,
            "_view_module": "@jupyter-widgets/base",
            "_view_module_version": "1.2.0",
            "_view_name": "StyleView",
            "description_width": ""
          }
        },
        "30e04884e216421697c291db68f10875": {
          "model_module": "@jupyter-widgets/base",
          "model_name": "LayoutModel",
          "model_module_version": "1.2.0",
          "state": {
            "_model_module": "@jupyter-widgets/base",
            "_model_module_version": "1.2.0",
            "_model_name": "LayoutModel",
            "_view_count": null,
            "_view_module": "@jupyter-widgets/base",
            "_view_module_version": "1.2.0",
            "_view_name": "LayoutView",
            "align_content": null,
            "align_items": null,
            "align_self": null,
            "border": null,
            "bottom": null,
            "display": null,
            "flex": null,
            "flex_flow": null,
            "grid_area": null,
            "grid_auto_columns": null,
            "grid_auto_flow": null,
            "grid_auto_rows": null,
            "grid_column": null,
            "grid_gap": null,
            "grid_row": null,
            "grid_template_areas": null,
            "grid_template_columns": null,
            "grid_template_rows": null,
            "height": null,
            "justify_content": null,
            "justify_items": null,
            "left": null,
            "margin": null,
            "max_height": null,
            "max_width": null,
            "min_height": null,
            "min_width": null,
            "object_fit": null,
            "object_position": null,
            "order": null,
            "overflow": null,
            "overflow_x": null,
            "overflow_y": null,
            "padding": null,
            "right": null,
            "top": null,
            "visibility": null,
            "width": null
          }
        },
        "0a8dedb96cb9428abf5055ec01d72ac4": {
          "model_module": "@jupyter-widgets/controls",
          "model_name": "ProgressStyleModel",
          "model_module_version": "1.5.0",
          "state": {
            "_model_module": "@jupyter-widgets/controls",
            "_model_module_version": "1.5.0",
            "_model_name": "ProgressStyleModel",
            "_view_count": null,
            "_view_module": "@jupyter-widgets/base",
            "_view_module_version": "1.2.0",
            "_view_name": "StyleView",
            "bar_color": null,
            "description_width": ""
          }
        },
        "c7ac982ce70d46a58828b42e526f38a6": {
          "model_module": "@jupyter-widgets/base",
          "model_name": "LayoutModel",
          "model_module_version": "1.2.0",
          "state": {
            "_model_module": "@jupyter-widgets/base",
            "_model_module_version": "1.2.0",
            "_model_name": "LayoutModel",
            "_view_count": null,
            "_view_module": "@jupyter-widgets/base",
            "_view_module_version": "1.2.0",
            "_view_name": "LayoutView",
            "align_content": null,
            "align_items": null,
            "align_self": null,
            "border": null,
            "bottom": null,
            "display": null,
            "flex": null,
            "flex_flow": null,
            "grid_area": null,
            "grid_auto_columns": null,
            "grid_auto_flow": null,
            "grid_auto_rows": null,
            "grid_column": null,
            "grid_gap": null,
            "grid_row": null,
            "grid_template_areas": null,
            "grid_template_columns": null,
            "grid_template_rows": null,
            "height": null,
            "justify_content": null,
            "justify_items": null,
            "left": null,
            "margin": null,
            "max_height": null,
            "max_width": null,
            "min_height": null,
            "min_width": null,
            "object_fit": null,
            "object_position": null,
            "order": null,
            "overflow": null,
            "overflow_x": null,
            "overflow_y": null,
            "padding": null,
            "right": null,
            "top": null,
            "visibility": null,
            "width": null
          }
        },
        "eedbbf1b64d54b8780ea28f30247eaae": {
          "model_module": "@jupyter-widgets/controls",
          "model_name": "DescriptionStyleModel",
          "model_module_version": "1.5.0",
          "state": {
            "_model_module": "@jupyter-widgets/controls",
            "_model_module_version": "1.5.0",
            "_model_name": "DescriptionStyleModel",
            "_view_count": null,
            "_view_module": "@jupyter-widgets/base",
            "_view_module_version": "1.2.0",
            "_view_name": "StyleView",
            "description_width": ""
          }
        },
        "549d5f90eeb24bbf97fe1dad29fa0780": {
          "model_module": "@jupyter-widgets/controls",
          "model_name": "HBoxModel",
          "model_module_version": "1.5.0",
          "state": {
            "_dom_classes": [],
            "_model_module": "@jupyter-widgets/controls",
            "_model_module_version": "1.5.0",
            "_model_name": "HBoxModel",
            "_view_count": null,
            "_view_module": "@jupyter-widgets/controls",
            "_view_module_version": "1.5.0",
            "_view_name": "HBoxView",
            "box_style": "",
            "children": [
              "IPY_MODEL_139ff9251e49456eb105620b3dc36d93",
              "IPY_MODEL_b3dc5b4a135f42588d183e200e574e0d",
              "IPY_MODEL_0fcb13dde25047178da2b1afc0375ae1"
            ],
            "layout": "IPY_MODEL_6fa37092c2cd420688e591ca0a190814"
          }
        },
        "139ff9251e49456eb105620b3dc36d93": {
          "model_module": "@jupyter-widgets/controls",
          "model_name": "HTMLModel",
          "model_module_version": "1.5.0",
          "state": {
            "_dom_classes": [],
            "_model_module": "@jupyter-widgets/controls",
            "_model_module_version": "1.5.0",
            "_model_name": "HTMLModel",
            "_view_count": null,
            "_view_module": "@jupyter-widgets/controls",
            "_view_module_version": "1.5.0",
            "_view_name": "HTMLView",
            "description": "",
            "description_tooltip": null,
            "layout": "IPY_MODEL_0a7fcb8ea4dd42f9a560eadb300cc71f",
            "placeholder": "​",
            "style": "IPY_MODEL_9b24e5c3b60b44548ce176b0435f5420",
            "value": "Downloading metadata: 100%"
          }
        },
        "b3dc5b4a135f42588d183e200e574e0d": {
          "model_module": "@jupyter-widgets/controls",
          "model_name": "FloatProgressModel",
          "model_module_version": "1.5.0",
          "state": {
            "_dom_classes": [],
            "_model_module": "@jupyter-widgets/controls",
            "_model_module_version": "1.5.0",
            "_model_name": "FloatProgressModel",
            "_view_count": null,
            "_view_module": "@jupyter-widgets/controls",
            "_view_module_version": "1.5.0",
            "_view_name": "ProgressView",
            "bar_style": "success",
            "description": "",
            "description_tooltip": null,
            "layout": "IPY_MODEL_0013642e371948acad0442983cb4de2c",
            "max": 1030,
            "min": 0,
            "orientation": "horizontal",
            "style": "IPY_MODEL_df0c2d8a120e4c4b91aa74524a849fb6",
            "value": 1030
          }
        },
        "0fcb13dde25047178da2b1afc0375ae1": {
          "model_module": "@jupyter-widgets/controls",
          "model_name": "HTMLModel",
          "model_module_version": "1.5.0",
          "state": {
            "_dom_classes": [],
            "_model_module": "@jupyter-widgets/controls",
            "_model_module_version": "1.5.0",
            "_model_name": "HTMLModel",
            "_view_count": null,
            "_view_module": "@jupyter-widgets/controls",
            "_view_module_version": "1.5.0",
            "_view_name": "HTMLView",
            "description": "",
            "description_tooltip": null,
            "layout": "IPY_MODEL_d29bcfa401a746a4b180b006cd271b6e",
            "placeholder": "​",
            "style": "IPY_MODEL_fdceba0cfb1d4b0cadf7f2acccada267",
            "value": " 1.03k/1.03k [00:00&lt;00:00, 11.5kB/s]"
          }
        },
        "6fa37092c2cd420688e591ca0a190814": {
          "model_module": "@jupyter-widgets/base",
          "model_name": "LayoutModel",
          "model_module_version": "1.2.0",
          "state": {
            "_model_module": "@jupyter-widgets/base",
            "_model_module_version": "1.2.0",
            "_model_name": "LayoutModel",
            "_view_count": null,
            "_view_module": "@jupyter-widgets/base",
            "_view_module_version": "1.2.0",
            "_view_name": "LayoutView",
            "align_content": null,
            "align_items": null,
            "align_self": null,
            "border": null,
            "bottom": null,
            "display": null,
            "flex": null,
            "flex_flow": null,
            "grid_area": null,
            "grid_auto_columns": null,
            "grid_auto_flow": null,
            "grid_auto_rows": null,
            "grid_column": null,
            "grid_gap": null,
            "grid_row": null,
            "grid_template_areas": null,
            "grid_template_columns": null,
            "grid_template_rows": null,
            "height": null,
            "justify_content": null,
            "justify_items": null,
            "left": null,
            "margin": null,
            "max_height": null,
            "max_width": null,
            "min_height": null,
            "min_width": null,
            "object_fit": null,
            "object_position": null,
            "order": null,
            "overflow": null,
            "overflow_x": null,
            "overflow_y": null,
            "padding": null,
            "right": null,
            "top": null,
            "visibility": null,
            "width": null
          }
        },
        "0a7fcb8ea4dd42f9a560eadb300cc71f": {
          "model_module": "@jupyter-widgets/base",
          "model_name": "LayoutModel",
          "model_module_version": "1.2.0",
          "state": {
            "_model_module": "@jupyter-widgets/base",
            "_model_module_version": "1.2.0",
            "_model_name": "LayoutModel",
            "_view_count": null,
            "_view_module": "@jupyter-widgets/base",
            "_view_module_version": "1.2.0",
            "_view_name": "LayoutView",
            "align_content": null,
            "align_items": null,
            "align_self": null,
            "border": null,
            "bottom": null,
            "display": null,
            "flex": null,
            "flex_flow": null,
            "grid_area": null,
            "grid_auto_columns": null,
            "grid_auto_flow": null,
            "grid_auto_rows": null,
            "grid_column": null,
            "grid_gap": null,
            "grid_row": null,
            "grid_template_areas": null,
            "grid_template_columns": null,
            "grid_template_rows": null,
            "height": null,
            "justify_content": null,
            "justify_items": null,
            "left": null,
            "margin": null,
            "max_height": null,
            "max_width": null,
            "min_height": null,
            "min_width": null,
            "object_fit": null,
            "object_position": null,
            "order": null,
            "overflow": null,
            "overflow_x": null,
            "overflow_y": null,
            "padding": null,
            "right": null,
            "top": null,
            "visibility": null,
            "width": null
          }
        },
        "9b24e5c3b60b44548ce176b0435f5420": {
          "model_module": "@jupyter-widgets/controls",
          "model_name": "DescriptionStyleModel",
          "model_module_version": "1.5.0",
          "state": {
            "_model_module": "@jupyter-widgets/controls",
            "_model_module_version": "1.5.0",
            "_model_name": "DescriptionStyleModel",
            "_view_count": null,
            "_view_module": "@jupyter-widgets/base",
            "_view_module_version": "1.2.0",
            "_view_name": "StyleView",
            "description_width": ""
          }
        },
        "0013642e371948acad0442983cb4de2c": {
          "model_module": "@jupyter-widgets/base",
          "model_name": "LayoutModel",
          "model_module_version": "1.2.0",
          "state": {
            "_model_module": "@jupyter-widgets/base",
            "_model_module_version": "1.2.0",
            "_model_name": "LayoutModel",
            "_view_count": null,
            "_view_module": "@jupyter-widgets/base",
            "_view_module_version": "1.2.0",
            "_view_name": "LayoutView",
            "align_content": null,
            "align_items": null,
            "align_self": null,
            "border": null,
            "bottom": null,
            "display": null,
            "flex": null,
            "flex_flow": null,
            "grid_area": null,
            "grid_auto_columns": null,
            "grid_auto_flow": null,
            "grid_auto_rows": null,
            "grid_column": null,
            "grid_gap": null,
            "grid_row": null,
            "grid_template_areas": null,
            "grid_template_columns": null,
            "grid_template_rows": null,
            "height": null,
            "justify_content": null,
            "justify_items": null,
            "left": null,
            "margin": null,
            "max_height": null,
            "max_width": null,
            "min_height": null,
            "min_width": null,
            "object_fit": null,
            "object_position": null,
            "order": null,
            "overflow": null,
            "overflow_x": null,
            "overflow_y": null,
            "padding": null,
            "right": null,
            "top": null,
            "visibility": null,
            "width": null
          }
        },
        "df0c2d8a120e4c4b91aa74524a849fb6": {
          "model_module": "@jupyter-widgets/controls",
          "model_name": "ProgressStyleModel",
          "model_module_version": "1.5.0",
          "state": {
            "_model_module": "@jupyter-widgets/controls",
            "_model_module_version": "1.5.0",
            "_model_name": "ProgressStyleModel",
            "_view_count": null,
            "_view_module": "@jupyter-widgets/base",
            "_view_module_version": "1.2.0",
            "_view_name": "StyleView",
            "bar_color": null,
            "description_width": ""
          }
        },
        "d29bcfa401a746a4b180b006cd271b6e": {
          "model_module": "@jupyter-widgets/base",
          "model_name": "LayoutModel",
          "model_module_version": "1.2.0",
          "state": {
            "_model_module": "@jupyter-widgets/base",
            "_model_module_version": "1.2.0",
            "_model_name": "LayoutModel",
            "_view_count": null,
            "_view_module": "@jupyter-widgets/base",
            "_view_module_version": "1.2.0",
            "_view_name": "LayoutView",
            "align_content": null,
            "align_items": null,
            "align_self": null,
            "border": null,
            "bottom": null,
            "display": null,
            "flex": null,
            "flex_flow": null,
            "grid_area": null,
            "grid_auto_columns": null,
            "grid_auto_flow": null,
            "grid_auto_rows": null,
            "grid_column": null,
            "grid_gap": null,
            "grid_row": null,
            "grid_template_areas": null,
            "grid_template_columns": null,
            "grid_template_rows": null,
            "height": null,
            "justify_content": null,
            "justify_items": null,
            "left": null,
            "margin": null,
            "max_height": null,
            "max_width": null,
            "min_height": null,
            "min_width": null,
            "object_fit": null,
            "object_position": null,
            "order": null,
            "overflow": null,
            "overflow_x": null,
            "overflow_y": null,
            "padding": null,
            "right": null,
            "top": null,
            "visibility": null,
            "width": null
          }
        },
        "fdceba0cfb1d4b0cadf7f2acccada267": {
          "model_module": "@jupyter-widgets/controls",
          "model_name": "DescriptionStyleModel",
          "model_module_version": "1.5.0",
          "state": {
            "_model_module": "@jupyter-widgets/controls",
            "_model_module_version": "1.5.0",
            "_model_name": "DescriptionStyleModel",
            "_view_count": null,
            "_view_module": "@jupyter-widgets/base",
            "_view_module_version": "1.2.0",
            "_view_name": "StyleView",
            "description_width": ""
          }
        },
        "ef961cc13006461496488bbb0b0c5b5a": {
          "model_module": "@jupyter-widgets/controls",
          "model_name": "HBoxModel",
          "model_module_version": "1.5.0",
          "state": {
            "_dom_classes": [],
            "_model_module": "@jupyter-widgets/controls",
            "_model_module_version": "1.5.0",
            "_model_name": "HBoxModel",
            "_view_count": null,
            "_view_module": "@jupyter-widgets/controls",
            "_view_module_version": "1.5.0",
            "_view_name": "HBoxView",
            "box_style": "",
            "children": [
              "IPY_MODEL_c62caf69cc27409cbc6886fcd9465ddd",
              "IPY_MODEL_cfcd67f1fdc146d4a97de80bdde346f8",
              "IPY_MODEL_52e4718f484344dab5908f91a40bed1a"
            ],
            "layout": "IPY_MODEL_028231f0efae43da811746c44e4f62b8"
          }
        },
        "c62caf69cc27409cbc6886fcd9465ddd": {
          "model_module": "@jupyter-widgets/controls",
          "model_name": "HTMLModel",
          "model_module_version": "1.5.0",
          "state": {
            "_dom_classes": [],
            "_model_module": "@jupyter-widgets/controls",
            "_model_module_version": "1.5.0",
            "_model_name": "HTMLModel",
            "_view_count": null,
            "_view_module": "@jupyter-widgets/controls",
            "_view_module_version": "1.5.0",
            "_view_name": "HTMLView",
            "description": "",
            "description_tooltip": null,
            "layout": "IPY_MODEL_d044f7c03f3e4dec99e4e56dc8644fe0",
            "placeholder": "​",
            "style": "IPY_MODEL_3aaced19dd5246f1947ccbfa40fc0134",
            "value": "Downloading data: 100%"
          }
        },
        "cfcd67f1fdc146d4a97de80bdde346f8": {
          "model_module": "@jupyter-widgets/controls",
          "model_name": "FloatProgressModel",
          "model_module_version": "1.5.0",
          "state": {
            "_dom_classes": [],
            "_model_module": "@jupyter-widgets/controls",
            "_model_module_version": "1.5.0",
            "_model_name": "FloatProgressModel",
            "_view_count": null,
            "_view_module": "@jupyter-widgets/controls",
            "_view_module_version": "1.5.0",
            "_view_name": "ProgressView",
            "bar_style": "success",
            "description": "",
            "description_tooltip": null,
            "layout": "IPY_MODEL_6bff155d6f114998959df9cf86c40437",
            "max": 38790951,
            "min": 0,
            "orientation": "horizontal",
            "style": "IPY_MODEL_ff6efb6c165d421fa9c396b263efe0dc",
            "value": 38790951
          }
        },
        "52e4718f484344dab5908f91a40bed1a": {
          "model_module": "@jupyter-widgets/controls",
          "model_name": "HTMLModel",
          "model_module_version": "1.5.0",
          "state": {
            "_dom_classes": [],
            "_model_module": "@jupyter-widgets/controls",
            "_model_module_version": "1.5.0",
            "_model_name": "HTMLModel",
            "_view_count": null,
            "_view_module": "@jupyter-widgets/controls",
            "_view_module_version": "1.5.0",
            "_view_name": "HTMLView",
            "description": "",
            "description_tooltip": null,
            "layout": "IPY_MODEL_fe602abe284242ffb09ede32f7930c84",
            "placeholder": "​",
            "style": "IPY_MODEL_8091f3e1d75a4f73871a504b44952368",
            "value": " 38.8M/38.8M [00:02&lt;00:00, 15.0MB/s]"
          }
        },
        "028231f0efae43da811746c44e4f62b8": {
          "model_module": "@jupyter-widgets/base",
          "model_name": "LayoutModel",
          "model_module_version": "1.2.0",
          "state": {
            "_model_module": "@jupyter-widgets/base",
            "_model_module_version": "1.2.0",
            "_model_name": "LayoutModel",
            "_view_count": null,
            "_view_module": "@jupyter-widgets/base",
            "_view_module_version": "1.2.0",
            "_view_name": "LayoutView",
            "align_content": null,
            "align_items": null,
            "align_self": null,
            "border": null,
            "bottom": null,
            "display": null,
            "flex": null,
            "flex_flow": null,
            "grid_area": null,
            "grid_auto_columns": null,
            "grid_auto_flow": null,
            "grid_auto_rows": null,
            "grid_column": null,
            "grid_gap": null,
            "grid_row": null,
            "grid_template_areas": null,
            "grid_template_columns": null,
            "grid_template_rows": null,
            "height": null,
            "justify_content": null,
            "justify_items": null,
            "left": null,
            "margin": null,
            "max_height": null,
            "max_width": null,
            "min_height": null,
            "min_width": null,
            "object_fit": null,
            "object_position": null,
            "order": null,
            "overflow": null,
            "overflow_x": null,
            "overflow_y": null,
            "padding": null,
            "right": null,
            "top": null,
            "visibility": null,
            "width": null
          }
        },
        "d044f7c03f3e4dec99e4e56dc8644fe0": {
          "model_module": "@jupyter-widgets/base",
          "model_name": "LayoutModel",
          "model_module_version": "1.2.0",
          "state": {
            "_model_module": "@jupyter-widgets/base",
            "_model_module_version": "1.2.0",
            "_model_name": "LayoutModel",
            "_view_count": null,
            "_view_module": "@jupyter-widgets/base",
            "_view_module_version": "1.2.0",
            "_view_name": "LayoutView",
            "align_content": null,
            "align_items": null,
            "align_self": null,
            "border": null,
            "bottom": null,
            "display": null,
            "flex": null,
            "flex_flow": null,
            "grid_area": null,
            "grid_auto_columns": null,
            "grid_auto_flow": null,
            "grid_auto_rows": null,
            "grid_column": null,
            "grid_gap": null,
            "grid_row": null,
            "grid_template_areas": null,
            "grid_template_columns": null,
            "grid_template_rows": null,
            "height": null,
            "justify_content": null,
            "justify_items": null,
            "left": null,
            "margin": null,
            "max_height": null,
            "max_width": null,
            "min_height": null,
            "min_width": null,
            "object_fit": null,
            "object_position": null,
            "order": null,
            "overflow": null,
            "overflow_x": null,
            "overflow_y": null,
            "padding": null,
            "right": null,
            "top": null,
            "visibility": null,
            "width": null
          }
        },
        "3aaced19dd5246f1947ccbfa40fc0134": {
          "model_module": "@jupyter-widgets/controls",
          "model_name": "DescriptionStyleModel",
          "model_module_version": "1.5.0",
          "state": {
            "_model_module": "@jupyter-widgets/controls",
            "_model_module_version": "1.5.0",
            "_model_name": "DescriptionStyleModel",
            "_view_count": null,
            "_view_module": "@jupyter-widgets/base",
            "_view_module_version": "1.2.0",
            "_view_name": "StyleView",
            "description_width": ""
          }
        },
        "6bff155d6f114998959df9cf86c40437": {
          "model_module": "@jupyter-widgets/base",
          "model_name": "LayoutModel",
          "model_module_version": "1.2.0",
          "state": {
            "_model_module": "@jupyter-widgets/base",
            "_model_module_version": "1.2.0",
            "_model_name": "LayoutModel",
            "_view_count": null,
            "_view_module": "@jupyter-widgets/base",
            "_view_module_version": "1.2.0",
            "_view_name": "LayoutView",
            "align_content": null,
            "align_items": null,
            "align_self": null,
            "border": null,
            "bottom": null,
            "display": null,
            "flex": null,
            "flex_flow": null,
            "grid_area": null,
            "grid_auto_columns": null,
            "grid_auto_flow": null,
            "grid_auto_rows": null,
            "grid_column": null,
            "grid_gap": null,
            "grid_row": null,
            "grid_template_areas": null,
            "grid_template_columns": null,
            "grid_template_rows": null,
            "height": null,
            "justify_content": null,
            "justify_items": null,
            "left": null,
            "margin": null,
            "max_height": null,
            "max_width": null,
            "min_height": null,
            "min_width": null,
            "object_fit": null,
            "object_position": null,
            "order": null,
            "overflow": null,
            "overflow_x": null,
            "overflow_y": null,
            "padding": null,
            "right": null,
            "top": null,
            "visibility": null,
            "width": null
          }
        },
        "ff6efb6c165d421fa9c396b263efe0dc": {
          "model_module": "@jupyter-widgets/controls",
          "model_name": "ProgressStyleModel",
          "model_module_version": "1.5.0",
          "state": {
            "_model_module": "@jupyter-widgets/controls",
            "_model_module_version": "1.5.0",
            "_model_name": "ProgressStyleModel",
            "_view_count": null,
            "_view_module": "@jupyter-widgets/base",
            "_view_module_version": "1.2.0",
            "_view_name": "StyleView",
            "bar_color": null,
            "description_width": ""
          }
        },
        "fe602abe284242ffb09ede32f7930c84": {
          "model_module": "@jupyter-widgets/base",
          "model_name": "LayoutModel",
          "model_module_version": "1.2.0",
          "state": {
            "_model_module": "@jupyter-widgets/base",
            "_model_module_version": "1.2.0",
            "_model_name": "LayoutModel",
            "_view_count": null,
            "_view_module": "@jupyter-widgets/base",
            "_view_module_version": "1.2.0",
            "_view_name": "LayoutView",
            "align_content": null,
            "align_items": null,
            "align_self": null,
            "border": null,
            "bottom": null,
            "display": null,
            "flex": null,
            "flex_flow": null,
            "grid_area": null,
            "grid_auto_columns": null,
            "grid_auto_flow": null,
            "grid_auto_rows": null,
            "grid_column": null,
            "grid_gap": null,
            "grid_row": null,
            "grid_template_areas": null,
            "grid_template_columns": null,
            "grid_template_rows": null,
            "height": null,
            "justify_content": null,
            "justify_items": null,
            "left": null,
            "margin": null,
            "max_height": null,
            "max_width": null,
            "min_height": null,
            "min_width": null,
            "object_fit": null,
            "object_position": null,
            "order": null,
            "overflow": null,
            "overflow_x": null,
            "overflow_y": null,
            "padding": null,
            "right": null,
            "top": null,
            "visibility": null,
            "width": null
          }
        },
        "8091f3e1d75a4f73871a504b44952368": {
          "model_module": "@jupyter-widgets/controls",
          "model_name": "DescriptionStyleModel",
          "model_module_version": "1.5.0",
          "state": {
            "_model_module": "@jupyter-widgets/controls",
            "_model_module_version": "1.5.0",
            "_model_name": "DescriptionStyleModel",
            "_view_count": null,
            "_view_module": "@jupyter-widgets/base",
            "_view_module_version": "1.2.0",
            "_view_name": "StyleView",
            "description_width": ""
          }
        },
        "d5dc9546e0c348558bb25a4a8ab6ee00": {
          "model_module": "@jupyter-widgets/controls",
          "model_name": "HBoxModel",
          "model_module_version": "1.5.0",
          "state": {
            "_dom_classes": [],
            "_model_module": "@jupyter-widgets/controls",
            "_model_module_version": "1.5.0",
            "_model_name": "HBoxModel",
            "_view_count": null,
            "_view_module": "@jupyter-widgets/controls",
            "_view_module_version": "1.5.0",
            "_view_name": "HBoxView",
            "box_style": "",
            "children": [
              "IPY_MODEL_ea83d0cd937647479eb48c7fd6a6ca5a",
              "IPY_MODEL_76755ed061ac427888da37500a7549d1",
              "IPY_MODEL_0cb3f20597f049e9bf258472d0fa5b22"
            ],
            "layout": "IPY_MODEL_816fb5cf007d473891bd1865d5d4dce5"
          }
        },
        "ea83d0cd937647479eb48c7fd6a6ca5a": {
          "model_module": "@jupyter-widgets/controls",
          "model_name": "HTMLModel",
          "model_module_version": "1.5.0",
          "state": {
            "_dom_classes": [],
            "_model_module": "@jupyter-widgets/controls",
            "_model_module_version": "1.5.0",
            "_model_name": "HTMLModel",
            "_view_count": null,
            "_view_module": "@jupyter-widgets/controls",
            "_view_module_version": "1.5.0",
            "_view_name": "HTMLView",
            "description": "",
            "description_tooltip": null,
            "layout": "IPY_MODEL_1c7979d298ee43ba9cce06854b6c7089",
            "placeholder": "​",
            "style": "IPY_MODEL_01e74eadd8e94ee291e977b49995a8e7",
            "value": "Downloading data: 100%"
          }
        },
        "76755ed061ac427888da37500a7549d1": {
          "model_module": "@jupyter-widgets/controls",
          "model_name": "FloatProgressModel",
          "model_module_version": "1.5.0",
          "state": {
            "_dom_classes": [],
            "_model_module": "@jupyter-widgets/controls",
            "_model_module_version": "1.5.0",
            "_model_name": "FloatProgressModel",
            "_view_count": null,
            "_view_module": "@jupyter-widgets/controls",
            "_view_module_version": "1.5.0",
            "_view_name": "ProgressView",
            "bar_style": "success",
            "description": "",
            "description_tooltip": null,
            "layout": "IPY_MODEL_0bae8aef892f4bd0867769365895dda2",
            "max": 12986224,
            "min": 0,
            "orientation": "horizontal",
            "style": "IPY_MODEL_c4c9fa6b4e9243e1b5f909adb76597e6",
            "value": 12986224
          }
        },
        "0cb3f20597f049e9bf258472d0fa5b22": {
          "model_module": "@jupyter-widgets/controls",
          "model_name": "HTMLModel",
          "model_module_version": "1.5.0",
          "state": {
            "_dom_classes": [],
            "_model_module": "@jupyter-widgets/controls",
            "_model_module_version": "1.5.0",
            "_model_name": "HTMLModel",
            "_view_count": null,
            "_view_module": "@jupyter-widgets/controls",
            "_view_module_version": "1.5.0",
            "_view_name": "HTMLView",
            "description": "",
            "description_tooltip": null,
            "layout": "IPY_MODEL_afd346b7d2bf4cfca3f90e030dbc95f6",
            "placeholder": "​",
            "style": "IPY_MODEL_d28ce9a64af049ffafe8f97f2fd6cc40",
            "value": " 13.0M/13.0M [00:00&lt;00:00, 15.3MB/s]"
          }
        },
        "816fb5cf007d473891bd1865d5d4dce5": {
          "model_module": "@jupyter-widgets/base",
          "model_name": "LayoutModel",
          "model_module_version": "1.2.0",
          "state": {
            "_model_module": "@jupyter-widgets/base",
            "_model_module_version": "1.2.0",
            "_model_name": "LayoutModel",
            "_view_count": null,
            "_view_module": "@jupyter-widgets/base",
            "_view_module_version": "1.2.0",
            "_view_name": "LayoutView",
            "align_content": null,
            "align_items": null,
            "align_self": null,
            "border": null,
            "bottom": null,
            "display": null,
            "flex": null,
            "flex_flow": null,
            "grid_area": null,
            "grid_auto_columns": null,
            "grid_auto_flow": null,
            "grid_auto_rows": null,
            "grid_column": null,
            "grid_gap": null,
            "grid_row": null,
            "grid_template_areas": null,
            "grid_template_columns": null,
            "grid_template_rows": null,
            "height": null,
            "justify_content": null,
            "justify_items": null,
            "left": null,
            "margin": null,
            "max_height": null,
            "max_width": null,
            "min_height": null,
            "min_width": null,
            "object_fit": null,
            "object_position": null,
            "order": null,
            "overflow": null,
            "overflow_x": null,
            "overflow_y": null,
            "padding": null,
            "right": null,
            "top": null,
            "visibility": null,
            "width": null
          }
        },
        "1c7979d298ee43ba9cce06854b6c7089": {
          "model_module": "@jupyter-widgets/base",
          "model_name": "LayoutModel",
          "model_module_version": "1.2.0",
          "state": {
            "_model_module": "@jupyter-widgets/base",
            "_model_module_version": "1.2.0",
            "_model_name": "LayoutModel",
            "_view_count": null,
            "_view_module": "@jupyter-widgets/base",
            "_view_module_version": "1.2.0",
            "_view_name": "LayoutView",
            "align_content": null,
            "align_items": null,
            "align_self": null,
            "border": null,
            "bottom": null,
            "display": null,
            "flex": null,
            "flex_flow": null,
            "grid_area": null,
            "grid_auto_columns": null,
            "grid_auto_flow": null,
            "grid_auto_rows": null,
            "grid_column": null,
            "grid_gap": null,
            "grid_row": null,
            "grid_template_areas": null,
            "grid_template_columns": null,
            "grid_template_rows": null,
            "height": null,
            "justify_content": null,
            "justify_items": null,
            "left": null,
            "margin": null,
            "max_height": null,
            "max_width": null,
            "min_height": null,
            "min_width": null,
            "object_fit": null,
            "object_position": null,
            "order": null,
            "overflow": null,
            "overflow_x": null,
            "overflow_y": null,
            "padding": null,
            "right": null,
            "top": null,
            "visibility": null,
            "width": null
          }
        },
        "01e74eadd8e94ee291e977b49995a8e7": {
          "model_module": "@jupyter-widgets/controls",
          "model_name": "DescriptionStyleModel",
          "model_module_version": "1.5.0",
          "state": {
            "_model_module": "@jupyter-widgets/controls",
            "_model_module_version": "1.5.0",
            "_model_name": "DescriptionStyleModel",
            "_view_count": null,
            "_view_module": "@jupyter-widgets/base",
            "_view_module_version": "1.2.0",
            "_view_name": "StyleView",
            "description_width": ""
          }
        },
        "0bae8aef892f4bd0867769365895dda2": {
          "model_module": "@jupyter-widgets/base",
          "model_name": "LayoutModel",
          "model_module_version": "1.2.0",
          "state": {
            "_model_module": "@jupyter-widgets/base",
            "_model_module_version": "1.2.0",
            "_model_name": "LayoutModel",
            "_view_count": null,
            "_view_module": "@jupyter-widgets/base",
            "_view_module_version": "1.2.0",
            "_view_name": "LayoutView",
            "align_content": null,
            "align_items": null,
            "align_self": null,
            "border": null,
            "bottom": null,
            "display": null,
            "flex": null,
            "flex_flow": null,
            "grid_area": null,
            "grid_auto_columns": null,
            "grid_auto_flow": null,
            "grid_auto_rows": null,
            "grid_column": null,
            "grid_gap": null,
            "grid_row": null,
            "grid_template_areas": null,
            "grid_template_columns": null,
            "grid_template_rows": null,
            "height": null,
            "justify_content": null,
            "justify_items": null,
            "left": null,
            "margin": null,
            "max_height": null,
            "max_width": null,
            "min_height": null,
            "min_width": null,
            "object_fit": null,
            "object_position": null,
            "order": null,
            "overflow": null,
            "overflow_x": null,
            "overflow_y": null,
            "padding": null,
            "right": null,
            "top": null,
            "visibility": null,
            "width": null
          }
        },
        "c4c9fa6b4e9243e1b5f909adb76597e6": {
          "model_module": "@jupyter-widgets/controls",
          "model_name": "ProgressStyleModel",
          "model_module_version": "1.5.0",
          "state": {
            "_model_module": "@jupyter-widgets/controls",
            "_model_module_version": "1.5.0",
            "_model_name": "ProgressStyleModel",
            "_view_count": null,
            "_view_module": "@jupyter-widgets/base",
            "_view_module_version": "1.2.0",
            "_view_name": "StyleView",
            "bar_color": null,
            "description_width": ""
          }
        },
        "afd346b7d2bf4cfca3f90e030dbc95f6": {
          "model_module": "@jupyter-widgets/base",
          "model_name": "LayoutModel",
          "model_module_version": "1.2.0",
          "state": {
            "_model_module": "@jupyter-widgets/base",
            "_model_module_version": "1.2.0",
            "_model_name": "LayoutModel",
            "_view_count": null,
            "_view_module": "@jupyter-widgets/base",
            "_view_module_version": "1.2.0",
            "_view_name": "LayoutView",
            "align_content": null,
            "align_items": null,
            "align_self": null,
            "border": null,
            "bottom": null,
            "display": null,
            "flex": null,
            "flex_flow": null,
            "grid_area": null,
            "grid_auto_columns": null,
            "grid_auto_flow": null,
            "grid_auto_rows": null,
            "grid_column": null,
            "grid_gap": null,
            "grid_row": null,
            "grid_template_areas": null,
            "grid_template_columns": null,
            "grid_template_rows": null,
            "height": null,
            "justify_content": null,
            "justify_items": null,
            "left": null,
            "margin": null,
            "max_height": null,
            "max_width": null,
            "min_height": null,
            "min_width": null,
            "object_fit": null,
            "object_position": null,
            "order": null,
            "overflow": null,
            "overflow_x": null,
            "overflow_y": null,
            "padding": null,
            "right": null,
            "top": null,
            "visibility": null,
            "width": null
          }
        },
        "d28ce9a64af049ffafe8f97f2fd6cc40": {
          "model_module": "@jupyter-widgets/controls",
          "model_name": "DescriptionStyleModel",
          "model_module_version": "1.5.0",
          "state": {
            "_model_module": "@jupyter-widgets/controls",
            "_model_module_version": "1.5.0",
            "_model_name": "DescriptionStyleModel",
            "_view_count": null,
            "_view_module": "@jupyter-widgets/base",
            "_view_module_version": "1.2.0",
            "_view_name": "StyleView",
            "description_width": ""
          }
        },
        "6aa39cc314594564a70736d30bd91b25": {
          "model_module": "@jupyter-widgets/controls",
          "model_name": "HBoxModel",
          "model_module_version": "1.5.0",
          "state": {
            "_dom_classes": [],
            "_model_module": "@jupyter-widgets/controls",
            "_model_module_version": "1.5.0",
            "_model_name": "HBoxModel",
            "_view_count": null,
            "_view_module": "@jupyter-widgets/controls",
            "_view_module_version": "1.5.0",
            "_view_name": "HBoxView",
            "box_style": "",
            "children": [
              "IPY_MODEL_c1e0a8acc9e340b4b37ee215bb22b9a1",
              "IPY_MODEL_6fae405b9b70420d93e2e7bc95d3973d",
              "IPY_MODEL_35d1642e5843438d8655a1febfc2c19f"
            ],
            "layout": "IPY_MODEL_a0c8131a6b2e4eafa77a35d2939781f7"
          }
        },
        "c1e0a8acc9e340b4b37ee215bb22b9a1": {
          "model_module": "@jupyter-widgets/controls",
          "model_name": "HTMLModel",
          "model_module_version": "1.5.0",
          "state": {
            "_dom_classes": [],
            "_model_module": "@jupyter-widgets/controls",
            "_model_module_version": "1.5.0",
            "_model_name": "HTMLModel",
            "_view_count": null,
            "_view_module": "@jupyter-widgets/controls",
            "_view_module_version": "1.5.0",
            "_view_name": "HTMLView",
            "description": "",
            "description_tooltip": null,
            "layout": "IPY_MODEL_5111cf970e6146db955dc10672304997",
            "placeholder": "​",
            "style": "IPY_MODEL_bf1ee4ba8fb34ede82e471f3b816241a",
            "value": "Downloading data: 100%"
          }
        },
        "6fae405b9b70420d93e2e7bc95d3973d": {
          "model_module": "@jupyter-widgets/controls",
          "model_name": "FloatProgressModel",
          "model_module_version": "1.5.0",
          "state": {
            "_dom_classes": [],
            "_model_module": "@jupyter-widgets/controls",
            "_model_module_version": "1.5.0",
            "_model_name": "FloatProgressModel",
            "_view_count": null,
            "_view_module": "@jupyter-widgets/controls",
            "_view_module_version": "1.5.0",
            "_view_name": "ProgressView",
            "bar_style": "success",
            "description": "",
            "description_tooltip": null,
            "layout": "IPY_MODEL_7d46ecf1f18d4272848ff6ccfed7c848",
            "max": 13044162,
            "min": 0,
            "orientation": "horizontal",
            "style": "IPY_MODEL_52af7a7c623b4c8eb8e7e7060dc02f6d",
            "value": 13044162
          }
        },
        "35d1642e5843438d8655a1febfc2c19f": {
          "model_module": "@jupyter-widgets/controls",
          "model_name": "HTMLModel",
          "model_module_version": "1.5.0",
          "state": {
            "_dom_classes": [],
            "_model_module": "@jupyter-widgets/controls",
            "_model_module_version": "1.5.0",
            "_model_name": "HTMLModel",
            "_view_count": null,
            "_view_module": "@jupyter-widgets/controls",
            "_view_module_version": "1.5.0",
            "_view_name": "HTMLView",
            "description": "",
            "description_tooltip": null,
            "layout": "IPY_MODEL_e1d4f8969ed74a5892af7c36630d9a2d",
            "placeholder": "​",
            "style": "IPY_MODEL_4b33509373ba4870b707122a256710cc",
            "value": " 13.0M/13.0M [00:00&lt;00:00, 14.5MB/s]"
          }
        },
        "a0c8131a6b2e4eafa77a35d2939781f7": {
          "model_module": "@jupyter-widgets/base",
          "model_name": "LayoutModel",
          "model_module_version": "1.2.0",
          "state": {
            "_model_module": "@jupyter-widgets/base",
            "_model_module_version": "1.2.0",
            "_model_name": "LayoutModel",
            "_view_count": null,
            "_view_module": "@jupyter-widgets/base",
            "_view_module_version": "1.2.0",
            "_view_name": "LayoutView",
            "align_content": null,
            "align_items": null,
            "align_self": null,
            "border": null,
            "bottom": null,
            "display": null,
            "flex": null,
            "flex_flow": null,
            "grid_area": null,
            "grid_auto_columns": null,
            "grid_auto_flow": null,
            "grid_auto_rows": null,
            "grid_column": null,
            "grid_gap": null,
            "grid_row": null,
            "grid_template_areas": null,
            "grid_template_columns": null,
            "grid_template_rows": null,
            "height": null,
            "justify_content": null,
            "justify_items": null,
            "left": null,
            "margin": null,
            "max_height": null,
            "max_width": null,
            "min_height": null,
            "min_width": null,
            "object_fit": null,
            "object_position": null,
            "order": null,
            "overflow": null,
            "overflow_x": null,
            "overflow_y": null,
            "padding": null,
            "right": null,
            "top": null,
            "visibility": null,
            "width": null
          }
        },
        "5111cf970e6146db955dc10672304997": {
          "model_module": "@jupyter-widgets/base",
          "model_name": "LayoutModel",
          "model_module_version": "1.2.0",
          "state": {
            "_model_module": "@jupyter-widgets/base",
            "_model_module_version": "1.2.0",
            "_model_name": "LayoutModel",
            "_view_count": null,
            "_view_module": "@jupyter-widgets/base",
            "_view_module_version": "1.2.0",
            "_view_name": "LayoutView",
            "align_content": null,
            "align_items": null,
            "align_self": null,
            "border": null,
            "bottom": null,
            "display": null,
            "flex": null,
            "flex_flow": null,
            "grid_area": null,
            "grid_auto_columns": null,
            "grid_auto_flow": null,
            "grid_auto_rows": null,
            "grid_column": null,
            "grid_gap": null,
            "grid_row": null,
            "grid_template_areas": null,
            "grid_template_columns": null,
            "grid_template_rows": null,
            "height": null,
            "justify_content": null,
            "justify_items": null,
            "left": null,
            "margin": null,
            "max_height": null,
            "max_width": null,
            "min_height": null,
            "min_width": null,
            "object_fit": null,
            "object_position": null,
            "order": null,
            "overflow": null,
            "overflow_x": null,
            "overflow_y": null,
            "padding": null,
            "right": null,
            "top": null,
            "visibility": null,
            "width": null
          }
        },
        "bf1ee4ba8fb34ede82e471f3b816241a": {
          "model_module": "@jupyter-widgets/controls",
          "model_name": "DescriptionStyleModel",
          "model_module_version": "1.5.0",
          "state": {
            "_model_module": "@jupyter-widgets/controls",
            "_model_module_version": "1.5.0",
            "_model_name": "DescriptionStyleModel",
            "_view_count": null,
            "_view_module": "@jupyter-widgets/base",
            "_view_module_version": "1.2.0",
            "_view_name": "StyleView",
            "description_width": ""
          }
        },
        "7d46ecf1f18d4272848ff6ccfed7c848": {
          "model_module": "@jupyter-widgets/base",
          "model_name": "LayoutModel",
          "model_module_version": "1.2.0",
          "state": {
            "_model_module": "@jupyter-widgets/base",
            "_model_module_version": "1.2.0",
            "_model_name": "LayoutModel",
            "_view_count": null,
            "_view_module": "@jupyter-widgets/base",
            "_view_module_version": "1.2.0",
            "_view_name": "LayoutView",
            "align_content": null,
            "align_items": null,
            "align_self": null,
            "border": null,
            "bottom": null,
            "display": null,
            "flex": null,
            "flex_flow": null,
            "grid_area": null,
            "grid_auto_columns": null,
            "grid_auto_flow": null,
            "grid_auto_rows": null,
            "grid_column": null,
            "grid_gap": null,
            "grid_row": null,
            "grid_template_areas": null,
            "grid_template_columns": null,
            "grid_template_rows": null,
            "height": null,
            "justify_content": null,
            "justify_items": null,
            "left": null,
            "margin": null,
            "max_height": null,
            "max_width": null,
            "min_height": null,
            "min_width": null,
            "object_fit": null,
            "object_position": null,
            "order": null,
            "overflow": null,
            "overflow_x": null,
            "overflow_y": null,
            "padding": null,
            "right": null,
            "top": null,
            "visibility": null,
            "width": null
          }
        },
        "52af7a7c623b4c8eb8e7e7060dc02f6d": {
          "model_module": "@jupyter-widgets/controls",
          "model_name": "ProgressStyleModel",
          "model_module_version": "1.5.0",
          "state": {
            "_model_module": "@jupyter-widgets/controls",
            "_model_module_version": "1.5.0",
            "_model_name": "ProgressStyleModel",
            "_view_count": null,
            "_view_module": "@jupyter-widgets/base",
            "_view_module_version": "1.2.0",
            "_view_name": "StyleView",
            "bar_color": null,
            "description_width": ""
          }
        },
        "e1d4f8969ed74a5892af7c36630d9a2d": {
          "model_module": "@jupyter-widgets/base",
          "model_name": "LayoutModel",
          "model_module_version": "1.2.0",
          "state": {
            "_model_module": "@jupyter-widgets/base",
            "_model_module_version": "1.2.0",
            "_model_name": "LayoutModel",
            "_view_count": null,
            "_view_module": "@jupyter-widgets/base",
            "_view_module_version": "1.2.0",
            "_view_name": "LayoutView",
            "align_content": null,
            "align_items": null,
            "align_self": null,
            "border": null,
            "bottom": null,
            "display": null,
            "flex": null,
            "flex_flow": null,
            "grid_area": null,
            "grid_auto_columns": null,
            "grid_auto_flow": null,
            "grid_auto_rows": null,
            "grid_column": null,
            "grid_gap": null,
            "grid_row": null,
            "grid_template_areas": null,
            "grid_template_columns": null,
            "grid_template_rows": null,
            "height": null,
            "justify_content": null,
            "justify_items": null,
            "left": null,
            "margin": null,
            "max_height": null,
            "max_width": null,
            "min_height": null,
            "min_width": null,
            "object_fit": null,
            "object_position": null,
            "order": null,
            "overflow": null,
            "overflow_x": null,
            "overflow_y": null,
            "padding": null,
            "right": null,
            "top": null,
            "visibility": null,
            "width": null
          }
        },
        "4b33509373ba4870b707122a256710cc": {
          "model_module": "@jupyter-widgets/controls",
          "model_name": "DescriptionStyleModel",
          "model_module_version": "1.5.0",
          "state": {
            "_model_module": "@jupyter-widgets/controls",
            "_model_module_version": "1.5.0",
            "_model_name": "DescriptionStyleModel",
            "_view_count": null,
            "_view_module": "@jupyter-widgets/base",
            "_view_module_version": "1.2.0",
            "_view_name": "StyleView",
            "description_width": ""
          }
        },
        "425676a1963c45feaf8bd67dd8ca5969": {
          "model_module": "@jupyter-widgets/controls",
          "model_name": "HBoxModel",
          "model_module_version": "1.5.0",
          "state": {
            "_dom_classes": [],
            "_model_module": "@jupyter-widgets/controls",
            "_model_module_version": "1.5.0",
            "_model_name": "HBoxModel",
            "_view_count": null,
            "_view_module": "@jupyter-widgets/controls",
            "_view_module_version": "1.5.0",
            "_view_name": "HBoxView",
            "box_style": "",
            "children": [
              "IPY_MODEL_6ef1791e47a7439f894a68b1af859267",
              "IPY_MODEL_79b3668336164095881dd073ca8cee05",
              "IPY_MODEL_490b868ef65c4d359b8ba0ac62ebbd38"
            ],
            "layout": "IPY_MODEL_f22e62fc23b14433884a74a9ce131726"
          }
        },
        "6ef1791e47a7439f894a68b1af859267": {
          "model_module": "@jupyter-widgets/controls",
          "model_name": "HTMLModel",
          "model_module_version": "1.5.0",
          "state": {
            "_dom_classes": [],
            "_model_module": "@jupyter-widgets/controls",
            "_model_module_version": "1.5.0",
            "_model_name": "HTMLModel",
            "_view_count": null,
            "_view_module": "@jupyter-widgets/controls",
            "_view_module_version": "1.5.0",
            "_view_name": "HTMLView",
            "description": "",
            "description_tooltip": null,
            "layout": "IPY_MODEL_c2a5d9fa3b6841498741f2bb218eca56",
            "placeholder": "​",
            "style": "IPY_MODEL_ce0cdd9ec1d64dcea919dcd9864657e3",
            "value": "Generating train split: 100%"
          }
        },
        "79b3668336164095881dd073ca8cee05": {
          "model_module": "@jupyter-widgets/controls",
          "model_name": "FloatProgressModel",
          "model_module_version": "1.5.0",
          "state": {
            "_dom_classes": [],
            "_model_module": "@jupyter-widgets/controls",
            "_model_module_version": "1.5.0",
            "_model_name": "FloatProgressModel",
            "_view_count": null,
            "_view_module": "@jupyter-widgets/controls",
            "_view_module_version": "1.5.0",
            "_view_name": "ProgressView",
            "bar_style": "success",
            "description": "",
            "description_tooltip": null,
            "layout": "IPY_MODEL_e7b7ffa965de49bda9ced489fd572c57",
            "max": 24353,
            "min": 0,
            "orientation": "horizontal",
            "style": "IPY_MODEL_33863d236b1941e09bef8d96cb340af4",
            "value": 24353
          }
        },
        "490b868ef65c4d359b8ba0ac62ebbd38": {
          "model_module": "@jupyter-widgets/controls",
          "model_name": "HTMLModel",
          "model_module_version": "1.5.0",
          "state": {
            "_dom_classes": [],
            "_model_module": "@jupyter-widgets/controls",
            "_model_module_version": "1.5.0",
            "_model_name": "HTMLModel",
            "_view_count": null,
            "_view_module": "@jupyter-widgets/controls",
            "_view_module_version": "1.5.0",
            "_view_name": "HTMLView",
            "description": "",
            "description_tooltip": null,
            "layout": "IPY_MODEL_50ab3cd74f54417d80b45a4852ab44bb",
            "placeholder": "​",
            "style": "IPY_MODEL_49a8aef997cb4419aee300ad95ac66bc",
            "value": " 24353/24353 [00:00&lt;00:00, 30320.90 examples/s]"
          }
        },
        "f22e62fc23b14433884a74a9ce131726": {
          "model_module": "@jupyter-widgets/base",
          "model_name": "LayoutModel",
          "model_module_version": "1.2.0",
          "state": {
            "_model_module": "@jupyter-widgets/base",
            "_model_module_version": "1.2.0",
            "_model_name": "LayoutModel",
            "_view_count": null,
            "_view_module": "@jupyter-widgets/base",
            "_view_module_version": "1.2.0",
            "_view_name": "LayoutView",
            "align_content": null,
            "align_items": null,
            "align_self": null,
            "border": null,
            "bottom": null,
            "display": null,
            "flex": null,
            "flex_flow": null,
            "grid_area": null,
            "grid_auto_columns": null,
            "grid_auto_flow": null,
            "grid_auto_rows": null,
            "grid_column": null,
            "grid_gap": null,
            "grid_row": null,
            "grid_template_areas": null,
            "grid_template_columns": null,
            "grid_template_rows": null,
            "height": null,
            "justify_content": null,
            "justify_items": null,
            "left": null,
            "margin": null,
            "max_height": null,
            "max_width": null,
            "min_height": null,
            "min_width": null,
            "object_fit": null,
            "object_position": null,
            "order": null,
            "overflow": null,
            "overflow_x": null,
            "overflow_y": null,
            "padding": null,
            "right": null,
            "top": null,
            "visibility": null,
            "width": null
          }
        },
        "c2a5d9fa3b6841498741f2bb218eca56": {
          "model_module": "@jupyter-widgets/base",
          "model_name": "LayoutModel",
          "model_module_version": "1.2.0",
          "state": {
            "_model_module": "@jupyter-widgets/base",
            "_model_module_version": "1.2.0",
            "_model_name": "LayoutModel",
            "_view_count": null,
            "_view_module": "@jupyter-widgets/base",
            "_view_module_version": "1.2.0",
            "_view_name": "LayoutView",
            "align_content": null,
            "align_items": null,
            "align_self": null,
            "border": null,
            "bottom": null,
            "display": null,
            "flex": null,
            "flex_flow": null,
            "grid_area": null,
            "grid_auto_columns": null,
            "grid_auto_flow": null,
            "grid_auto_rows": null,
            "grid_column": null,
            "grid_gap": null,
            "grid_row": null,
            "grid_template_areas": null,
            "grid_template_columns": null,
            "grid_template_rows": null,
            "height": null,
            "justify_content": null,
            "justify_items": null,
            "left": null,
            "margin": null,
            "max_height": null,
            "max_width": null,
            "min_height": null,
            "min_width": null,
            "object_fit": null,
            "object_position": null,
            "order": null,
            "overflow": null,
            "overflow_x": null,
            "overflow_y": null,
            "padding": null,
            "right": null,
            "top": null,
            "visibility": null,
            "width": null
          }
        },
        "ce0cdd9ec1d64dcea919dcd9864657e3": {
          "model_module": "@jupyter-widgets/controls",
          "model_name": "DescriptionStyleModel",
          "model_module_version": "1.5.0",
          "state": {
            "_model_module": "@jupyter-widgets/controls",
            "_model_module_version": "1.5.0",
            "_model_name": "DescriptionStyleModel",
            "_view_count": null,
            "_view_module": "@jupyter-widgets/base",
            "_view_module_version": "1.2.0",
            "_view_name": "StyleView",
            "description_width": ""
          }
        },
        "e7b7ffa965de49bda9ced489fd572c57": {
          "model_module": "@jupyter-widgets/base",
          "model_name": "LayoutModel",
          "model_module_version": "1.2.0",
          "state": {
            "_model_module": "@jupyter-widgets/base",
            "_model_module_version": "1.2.0",
            "_model_name": "LayoutModel",
            "_view_count": null,
            "_view_module": "@jupyter-widgets/base",
            "_view_module_version": "1.2.0",
            "_view_name": "LayoutView",
            "align_content": null,
            "align_items": null,
            "align_self": null,
            "border": null,
            "bottom": null,
            "display": null,
            "flex": null,
            "flex_flow": null,
            "grid_area": null,
            "grid_auto_columns": null,
            "grid_auto_flow": null,
            "grid_auto_rows": null,
            "grid_column": null,
            "grid_gap": null,
            "grid_row": null,
            "grid_template_areas": null,
            "grid_template_columns": null,
            "grid_template_rows": null,
            "height": null,
            "justify_content": null,
            "justify_items": null,
            "left": null,
            "margin": null,
            "max_height": null,
            "max_width": null,
            "min_height": null,
            "min_width": null,
            "object_fit": null,
            "object_position": null,
            "order": null,
            "overflow": null,
            "overflow_x": null,
            "overflow_y": null,
            "padding": null,
            "right": null,
            "top": null,
            "visibility": null,
            "width": null
          }
        },
        "33863d236b1941e09bef8d96cb340af4": {
          "model_module": "@jupyter-widgets/controls",
          "model_name": "ProgressStyleModel",
          "model_module_version": "1.5.0",
          "state": {
            "_model_module": "@jupyter-widgets/controls",
            "_model_module_version": "1.5.0",
            "_model_name": "ProgressStyleModel",
            "_view_count": null,
            "_view_module": "@jupyter-widgets/base",
            "_view_module_version": "1.2.0",
            "_view_name": "StyleView",
            "bar_color": null,
            "description_width": ""
          }
        },
        "50ab3cd74f54417d80b45a4852ab44bb": {
          "model_module": "@jupyter-widgets/base",
          "model_name": "LayoutModel",
          "model_module_version": "1.2.0",
          "state": {
            "_model_module": "@jupyter-widgets/base",
            "_model_module_version": "1.2.0",
            "_model_name": "LayoutModel",
            "_view_count": null,
            "_view_module": "@jupyter-widgets/base",
            "_view_module_version": "1.2.0",
            "_view_name": "LayoutView",
            "align_content": null,
            "align_items": null,
            "align_self": null,
            "border": null,
            "bottom": null,
            "display": null,
            "flex": null,
            "flex_flow": null,
            "grid_area": null,
            "grid_auto_columns": null,
            "grid_auto_flow": null,
            "grid_auto_rows": null,
            "grid_column": null,
            "grid_gap": null,
            "grid_row": null,
            "grid_template_areas": null,
            "grid_template_columns": null,
            "grid_template_rows": null,
            "height": null,
            "justify_content": null,
            "justify_items": null,
            "left": null,
            "margin": null,
            "max_height": null,
            "max_width": null,
            "min_height": null,
            "min_width": null,
            "object_fit": null,
            "object_position": null,
            "order": null,
            "overflow": null,
            "overflow_x": null,
            "overflow_y": null,
            "padding": null,
            "right": null,
            "top": null,
            "visibility": null,
            "width": null
          }
        },
        "49a8aef997cb4419aee300ad95ac66bc": {
          "model_module": "@jupyter-widgets/controls",
          "model_name": "DescriptionStyleModel",
          "model_module_version": "1.5.0",
          "state": {
            "_model_module": "@jupyter-widgets/controls",
            "_model_module_version": "1.5.0",
            "_model_name": "DescriptionStyleModel",
            "_view_count": null,
            "_view_module": "@jupyter-widgets/base",
            "_view_module_version": "1.2.0",
            "_view_name": "StyleView",
            "description_width": ""
          }
        },
        "2997b8e286c7486e88ceef5613e154f3": {
          "model_module": "@jupyter-widgets/controls",
          "model_name": "HBoxModel",
          "model_module_version": "1.5.0",
          "state": {
            "_dom_classes": [],
            "_model_module": "@jupyter-widgets/controls",
            "_model_module_version": "1.5.0",
            "_model_name": "HBoxModel",
            "_view_count": null,
            "_view_module": "@jupyter-widgets/controls",
            "_view_module_version": "1.5.0",
            "_view_name": "HBoxView",
            "box_style": "",
            "children": [
              "IPY_MODEL_294554d5a7a54ab985a1b0455c0fc380",
              "IPY_MODEL_72b473779473419fac1d36a5ed41c97d",
              "IPY_MODEL_fd34caf51ed44ec99bb843f0629a4f0a"
            ],
            "layout": "IPY_MODEL_c1f6167909dd446591cb9956bafaa14e"
          }
        },
        "294554d5a7a54ab985a1b0455c0fc380": {
          "model_module": "@jupyter-widgets/controls",
          "model_name": "HTMLModel",
          "model_module_version": "1.5.0",
          "state": {
            "_dom_classes": [],
            "_model_module": "@jupyter-widgets/controls",
            "_model_module_version": "1.5.0",
            "_model_name": "HTMLModel",
            "_view_count": null,
            "_view_module": "@jupyter-widgets/controls",
            "_view_module_version": "1.5.0",
            "_view_name": "HTMLView",
            "description": "",
            "description_tooltip": null,
            "layout": "IPY_MODEL_a36140abbff74e54a5a80dee749b322a",
            "placeholder": "​",
            "style": "IPY_MODEL_bfb08826c6c3451582eb617ccf55d629",
            "value": "Generating validation split: 100%"
          }
        },
        "72b473779473419fac1d36a5ed41c97d": {
          "model_module": "@jupyter-widgets/controls",
          "model_name": "FloatProgressModel",
          "model_module_version": "1.5.0",
          "state": {
            "_dom_classes": [],
            "_model_module": "@jupyter-widgets/controls",
            "_model_module_version": "1.5.0",
            "_model_name": "FloatProgressModel",
            "_view_count": null,
            "_view_module": "@jupyter-widgets/controls",
            "_view_module_version": "1.5.0",
            "_view_name": "ProgressView",
            "bar_style": "success",
            "description": "",
            "description_tooltip": null,
            "layout": "IPY_MODEL_92e15d2415854edc8507dda3d46326a2",
            "max": 8117,
            "min": 0,
            "orientation": "horizontal",
            "style": "IPY_MODEL_ad7d07b7f4e04e17a47ca3e6616e5cf3",
            "value": 8117
          }
        },
        "fd34caf51ed44ec99bb843f0629a4f0a": {
          "model_module": "@jupyter-widgets/controls",
          "model_name": "HTMLModel",
          "model_module_version": "1.5.0",
          "state": {
            "_dom_classes": [],
            "_model_module": "@jupyter-widgets/controls",
            "_model_module_version": "1.5.0",
            "_model_name": "HTMLModel",
            "_view_count": null,
            "_view_module": "@jupyter-widgets/controls",
            "_view_module_version": "1.5.0",
            "_view_name": "HTMLView",
            "description": "",
            "description_tooltip": null,
            "layout": "IPY_MODEL_4394f1f62d454cda92315d762ef3d40d",
            "placeholder": "​",
            "style": "IPY_MODEL_bbb8882852874bdcb5f7ad20eadacdea",
            "value": " 8117/8117 [00:00&lt;00:00, 20392.60 examples/s]"
          }
        },
        "c1f6167909dd446591cb9956bafaa14e": {
          "model_module": "@jupyter-widgets/base",
          "model_name": "LayoutModel",
          "model_module_version": "1.2.0",
          "state": {
            "_model_module": "@jupyter-widgets/base",
            "_model_module_version": "1.2.0",
            "_model_name": "LayoutModel",
            "_view_count": null,
            "_view_module": "@jupyter-widgets/base",
            "_view_module_version": "1.2.0",
            "_view_name": "LayoutView",
            "align_content": null,
            "align_items": null,
            "align_self": null,
            "border": null,
            "bottom": null,
            "display": null,
            "flex": null,
            "flex_flow": null,
            "grid_area": null,
            "grid_auto_columns": null,
            "grid_auto_flow": null,
            "grid_auto_rows": null,
            "grid_column": null,
            "grid_gap": null,
            "grid_row": null,
            "grid_template_areas": null,
            "grid_template_columns": null,
            "grid_template_rows": null,
            "height": null,
            "justify_content": null,
            "justify_items": null,
            "left": null,
            "margin": null,
            "max_height": null,
            "max_width": null,
            "min_height": null,
            "min_width": null,
            "object_fit": null,
            "object_position": null,
            "order": null,
            "overflow": null,
            "overflow_x": null,
            "overflow_y": null,
            "padding": null,
            "right": null,
            "top": null,
            "visibility": null,
            "width": null
          }
        },
        "a36140abbff74e54a5a80dee749b322a": {
          "model_module": "@jupyter-widgets/base",
          "model_name": "LayoutModel",
          "model_module_version": "1.2.0",
          "state": {
            "_model_module": "@jupyter-widgets/base",
            "_model_module_version": "1.2.0",
            "_model_name": "LayoutModel",
            "_view_count": null,
            "_view_module": "@jupyter-widgets/base",
            "_view_module_version": "1.2.0",
            "_view_name": "LayoutView",
            "align_content": null,
            "align_items": null,
            "align_self": null,
            "border": null,
            "bottom": null,
            "display": null,
            "flex": null,
            "flex_flow": null,
            "grid_area": null,
            "grid_auto_columns": null,
            "grid_auto_flow": null,
            "grid_auto_rows": null,
            "grid_column": null,
            "grid_gap": null,
            "grid_row": null,
            "grid_template_areas": null,
            "grid_template_columns": null,
            "grid_template_rows": null,
            "height": null,
            "justify_content": null,
            "justify_items": null,
            "left": null,
            "margin": null,
            "max_height": null,
            "max_width": null,
            "min_height": null,
            "min_width": null,
            "object_fit": null,
            "object_position": null,
            "order": null,
            "overflow": null,
            "overflow_x": null,
            "overflow_y": null,
            "padding": null,
            "right": null,
            "top": null,
            "visibility": null,
            "width": null
          }
        },
        "bfb08826c6c3451582eb617ccf55d629": {
          "model_module": "@jupyter-widgets/controls",
          "model_name": "DescriptionStyleModel",
          "model_module_version": "1.5.0",
          "state": {
            "_model_module": "@jupyter-widgets/controls",
            "_model_module_version": "1.5.0",
            "_model_name": "DescriptionStyleModel",
            "_view_count": null,
            "_view_module": "@jupyter-widgets/base",
            "_view_module_version": "1.2.0",
            "_view_name": "StyleView",
            "description_width": ""
          }
        },
        "92e15d2415854edc8507dda3d46326a2": {
          "model_module": "@jupyter-widgets/base",
          "model_name": "LayoutModel",
          "model_module_version": "1.2.0",
          "state": {
            "_model_module": "@jupyter-widgets/base",
            "_model_module_version": "1.2.0",
            "_model_name": "LayoutModel",
            "_view_count": null,
            "_view_module": "@jupyter-widgets/base",
            "_view_module_version": "1.2.0",
            "_view_name": "LayoutView",
            "align_content": null,
            "align_items": null,
            "align_self": null,
            "border": null,
            "bottom": null,
            "display": null,
            "flex": null,
            "flex_flow": null,
            "grid_area": null,
            "grid_auto_columns": null,
            "grid_auto_flow": null,
            "grid_auto_rows": null,
            "grid_column": null,
            "grid_gap": null,
            "grid_row": null,
            "grid_template_areas": null,
            "grid_template_columns": null,
            "grid_template_rows": null,
            "height": null,
            "justify_content": null,
            "justify_items": null,
            "left": null,
            "margin": null,
            "max_height": null,
            "max_width": null,
            "min_height": null,
            "min_width": null,
            "object_fit": null,
            "object_position": null,
            "order": null,
            "overflow": null,
            "overflow_x": null,
            "overflow_y": null,
            "padding": null,
            "right": null,
            "top": null,
            "visibility": null,
            "width": null
          }
        },
        "ad7d07b7f4e04e17a47ca3e6616e5cf3": {
          "model_module": "@jupyter-widgets/controls",
          "model_name": "ProgressStyleModel",
          "model_module_version": "1.5.0",
          "state": {
            "_model_module": "@jupyter-widgets/controls",
            "_model_module_version": "1.5.0",
            "_model_name": "ProgressStyleModel",
            "_view_count": null,
            "_view_module": "@jupyter-widgets/base",
            "_view_module_version": "1.2.0",
            "_view_name": "StyleView",
            "bar_color": null,
            "description_width": ""
          }
        },
        "4394f1f62d454cda92315d762ef3d40d": {
          "model_module": "@jupyter-widgets/base",
          "model_name": "LayoutModel",
          "model_module_version": "1.2.0",
          "state": {
            "_model_module": "@jupyter-widgets/base",
            "_model_module_version": "1.2.0",
            "_model_name": "LayoutModel",
            "_view_count": null,
            "_view_module": "@jupyter-widgets/base",
            "_view_module_version": "1.2.0",
            "_view_name": "LayoutView",
            "align_content": null,
            "align_items": null,
            "align_self": null,
            "border": null,
            "bottom": null,
            "display": null,
            "flex": null,
            "flex_flow": null,
            "grid_area": null,
            "grid_auto_columns": null,
            "grid_auto_flow": null,
            "grid_auto_rows": null,
            "grid_column": null,
            "grid_gap": null,
            "grid_row": null,
            "grid_template_areas": null,
            "grid_template_columns": null,
            "grid_template_rows": null,
            "height": null,
            "justify_content": null,
            "justify_items": null,
            "left": null,
            "margin": null,
            "max_height": null,
            "max_width": null,
            "min_height": null,
            "min_width": null,
            "object_fit": null,
            "object_position": null,
            "order": null,
            "overflow": null,
            "overflow_x": null,
            "overflow_y": null,
            "padding": null,
            "right": null,
            "top": null,
            "visibility": null,
            "width": null
          }
        },
        "bbb8882852874bdcb5f7ad20eadacdea": {
          "model_module": "@jupyter-widgets/controls",
          "model_name": "DescriptionStyleModel",
          "model_module_version": "1.5.0",
          "state": {
            "_model_module": "@jupyter-widgets/controls",
            "_model_module_version": "1.5.0",
            "_model_name": "DescriptionStyleModel",
            "_view_count": null,
            "_view_module": "@jupyter-widgets/base",
            "_view_module_version": "1.2.0",
            "_view_name": "StyleView",
            "description_width": ""
          }
        },
        "af00ffa4c7554d2a8e264764c2740fbd": {
          "model_module": "@jupyter-widgets/controls",
          "model_name": "HBoxModel",
          "model_module_version": "1.5.0",
          "state": {
            "_dom_classes": [],
            "_model_module": "@jupyter-widgets/controls",
            "_model_module_version": "1.5.0",
            "_model_name": "HBoxModel",
            "_view_count": null,
            "_view_module": "@jupyter-widgets/controls",
            "_view_module_version": "1.5.0",
            "_view_name": "HBoxView",
            "box_style": "",
            "children": [
              "IPY_MODEL_5da6b8d108fa4452abe1f1b977940d1d",
              "IPY_MODEL_f54e632b0e99409582bdb199028c5794",
              "IPY_MODEL_5b47d323000b45dfaacb000a9d9b63cd"
            ],
            "layout": "IPY_MODEL_6d3d16c2d338478f88e3b9f947b78d84"
          }
        },
        "5da6b8d108fa4452abe1f1b977940d1d": {
          "model_module": "@jupyter-widgets/controls",
          "model_name": "HTMLModel",
          "model_module_version": "1.5.0",
          "state": {
            "_dom_classes": [],
            "_model_module": "@jupyter-widgets/controls",
            "_model_module_version": "1.5.0",
            "_model_name": "HTMLModel",
            "_view_count": null,
            "_view_module": "@jupyter-widgets/controls",
            "_view_module_version": "1.5.0",
            "_view_name": "HTMLView",
            "description": "",
            "description_tooltip": null,
            "layout": "IPY_MODEL_b42407f9c03a4cb7bea8cffd0e033e16",
            "placeholder": "​",
            "style": "IPY_MODEL_71e6a688b9454da8a8bb3bed76fe40b0",
            "value": "Generating test split: 100%"
          }
        },
        "f54e632b0e99409582bdb199028c5794": {
          "model_module": "@jupyter-widgets/controls",
          "model_name": "FloatProgressModel",
          "model_module_version": "1.5.0",
          "state": {
            "_dom_classes": [],
            "_model_module": "@jupyter-widgets/controls",
            "_model_module_version": "1.5.0",
            "_model_name": "FloatProgressModel",
            "_view_count": null,
            "_view_module": "@jupyter-widgets/controls",
            "_view_module_version": "1.5.0",
            "_view_name": "ProgressView",
            "bar_style": "success",
            "description": "",
            "description_tooltip": null,
            "layout": "IPY_MODEL_a3c8b210162444ab973bcc1aa8bf527f",
            "max": 8117,
            "min": 0,
            "orientation": "horizontal",
            "style": "IPY_MODEL_8984ddf99fdd48bbb9b22f3e75b06149",
            "value": 8117
          }
        },
        "5b47d323000b45dfaacb000a9d9b63cd": {
          "model_module": "@jupyter-widgets/controls",
          "model_name": "HTMLModel",
          "model_module_version": "1.5.0",
          "state": {
            "_dom_classes": [],
            "_model_module": "@jupyter-widgets/controls",
            "_model_module_version": "1.5.0",
            "_model_name": "HTMLModel",
            "_view_count": null,
            "_view_module": "@jupyter-widgets/controls",
            "_view_module_version": "1.5.0",
            "_view_name": "HTMLView",
            "description": "",
            "description_tooltip": null,
            "layout": "IPY_MODEL_9b2105c65a73433383300edebf6a4ebb",
            "placeholder": "​",
            "style": "IPY_MODEL_444f82944d16465f9ea3542eda0305e7",
            "value": " 8117/8117 [00:00&lt;00:00, 36361.58 examples/s]"
          }
        },
        "6d3d16c2d338478f88e3b9f947b78d84": {
          "model_module": "@jupyter-widgets/base",
          "model_name": "LayoutModel",
          "model_module_version": "1.2.0",
          "state": {
            "_model_module": "@jupyter-widgets/base",
            "_model_module_version": "1.2.0",
            "_model_name": "LayoutModel",
            "_view_count": null,
            "_view_module": "@jupyter-widgets/base",
            "_view_module_version": "1.2.0",
            "_view_name": "LayoutView",
            "align_content": null,
            "align_items": null,
            "align_self": null,
            "border": null,
            "bottom": null,
            "display": null,
            "flex": null,
            "flex_flow": null,
            "grid_area": null,
            "grid_auto_columns": null,
            "grid_auto_flow": null,
            "grid_auto_rows": null,
            "grid_column": null,
            "grid_gap": null,
            "grid_row": null,
            "grid_template_areas": null,
            "grid_template_columns": null,
            "grid_template_rows": null,
            "height": null,
            "justify_content": null,
            "justify_items": null,
            "left": null,
            "margin": null,
            "max_height": null,
            "max_width": null,
            "min_height": null,
            "min_width": null,
            "object_fit": null,
            "object_position": null,
            "order": null,
            "overflow": null,
            "overflow_x": null,
            "overflow_y": null,
            "padding": null,
            "right": null,
            "top": null,
            "visibility": null,
            "width": null
          }
        },
        "b42407f9c03a4cb7bea8cffd0e033e16": {
          "model_module": "@jupyter-widgets/base",
          "model_name": "LayoutModel",
          "model_module_version": "1.2.0",
          "state": {
            "_model_module": "@jupyter-widgets/base",
            "_model_module_version": "1.2.0",
            "_model_name": "LayoutModel",
            "_view_count": null,
            "_view_module": "@jupyter-widgets/base",
            "_view_module_version": "1.2.0",
            "_view_name": "LayoutView",
            "align_content": null,
            "align_items": null,
            "align_self": null,
            "border": null,
            "bottom": null,
            "display": null,
            "flex": null,
            "flex_flow": null,
            "grid_area": null,
            "grid_auto_columns": null,
            "grid_auto_flow": null,
            "grid_auto_rows": null,
            "grid_column": null,
            "grid_gap": null,
            "grid_row": null,
            "grid_template_areas": null,
            "grid_template_columns": null,
            "grid_template_rows": null,
            "height": null,
            "justify_content": null,
            "justify_items": null,
            "left": null,
            "margin": null,
            "max_height": null,
            "max_width": null,
            "min_height": null,
            "min_width": null,
            "object_fit": null,
            "object_position": null,
            "order": null,
            "overflow": null,
            "overflow_x": null,
            "overflow_y": null,
            "padding": null,
            "right": null,
            "top": null,
            "visibility": null,
            "width": null
          }
        },
        "71e6a688b9454da8a8bb3bed76fe40b0": {
          "model_module": "@jupyter-widgets/controls",
          "model_name": "DescriptionStyleModel",
          "model_module_version": "1.5.0",
          "state": {
            "_model_module": "@jupyter-widgets/controls",
            "_model_module_version": "1.5.0",
            "_model_name": "DescriptionStyleModel",
            "_view_count": null,
            "_view_module": "@jupyter-widgets/base",
            "_view_module_version": "1.2.0",
            "_view_name": "StyleView",
            "description_width": ""
          }
        },
        "a3c8b210162444ab973bcc1aa8bf527f": {
          "model_module": "@jupyter-widgets/base",
          "model_name": "LayoutModel",
          "model_module_version": "1.2.0",
          "state": {
            "_model_module": "@jupyter-widgets/base",
            "_model_module_version": "1.2.0",
            "_model_name": "LayoutModel",
            "_view_count": null,
            "_view_module": "@jupyter-widgets/base",
            "_view_module_version": "1.2.0",
            "_view_name": "LayoutView",
            "align_content": null,
            "align_items": null,
            "align_self": null,
            "border": null,
            "bottom": null,
            "display": null,
            "flex": null,
            "flex_flow": null,
            "grid_area": null,
            "grid_auto_columns": null,
            "grid_auto_flow": null,
            "grid_auto_rows": null,
            "grid_column": null,
            "grid_gap": null,
            "grid_row": null,
            "grid_template_areas": null,
            "grid_template_columns": null,
            "grid_template_rows": null,
            "height": null,
            "justify_content": null,
            "justify_items": null,
            "left": null,
            "margin": null,
            "max_height": null,
            "max_width": null,
            "min_height": null,
            "min_width": null,
            "object_fit": null,
            "object_position": null,
            "order": null,
            "overflow": null,
            "overflow_x": null,
            "overflow_y": null,
            "padding": null,
            "right": null,
            "top": null,
            "visibility": null,
            "width": null
          }
        },
        "8984ddf99fdd48bbb9b22f3e75b06149": {
          "model_module": "@jupyter-widgets/controls",
          "model_name": "ProgressStyleModel",
          "model_module_version": "1.5.0",
          "state": {
            "_model_module": "@jupyter-widgets/controls",
            "_model_module_version": "1.5.0",
            "_model_name": "ProgressStyleModel",
            "_view_count": null,
            "_view_module": "@jupyter-widgets/base",
            "_view_module_version": "1.2.0",
            "_view_name": "StyleView",
            "bar_color": null,
            "description_width": ""
          }
        },
        "9b2105c65a73433383300edebf6a4ebb": {
          "model_module": "@jupyter-widgets/base",
          "model_name": "LayoutModel",
          "model_module_version": "1.2.0",
          "state": {
            "_model_module": "@jupyter-widgets/base",
            "_model_module_version": "1.2.0",
            "_model_name": "LayoutModel",
            "_view_count": null,
            "_view_module": "@jupyter-widgets/base",
            "_view_module_version": "1.2.0",
            "_view_name": "LayoutView",
            "align_content": null,
            "align_items": null,
            "align_self": null,
            "border": null,
            "bottom": null,
            "display": null,
            "flex": null,
            "flex_flow": null,
            "grid_area": null,
            "grid_auto_columns": null,
            "grid_auto_flow": null,
            "grid_auto_rows": null,
            "grid_column": null,
            "grid_gap": null,
            "grid_row": null,
            "grid_template_areas": null,
            "grid_template_columns": null,
            "grid_template_rows": null,
            "height": null,
            "justify_content": null,
            "justify_items": null,
            "left": null,
            "margin": null,
            "max_height": null,
            "max_width": null,
            "min_height": null,
            "min_width": null,
            "object_fit": null,
            "object_position": null,
            "order": null,
            "overflow": null,
            "overflow_x": null,
            "overflow_y": null,
            "padding": null,
            "right": null,
            "top": null,
            "visibility": null,
            "width": null
          }
        },
        "444f82944d16465f9ea3542eda0305e7": {
          "model_module": "@jupyter-widgets/controls",
          "model_name": "DescriptionStyleModel",
          "model_module_version": "1.5.0",
          "state": {
            "_model_module": "@jupyter-widgets/controls",
            "_model_module_version": "1.5.0",
            "_model_name": "DescriptionStyleModel",
            "_view_count": null,
            "_view_module": "@jupyter-widgets/base",
            "_view_module_version": "1.2.0",
            "_view_name": "StyleView",
            "description_width": ""
          }
        }
      }
    }
  },
  "cells": [
    {
      "cell_type": "markdown",
      "source": [
        "# Laboratory Work 3\n",
        "\n",
        "Text generation with RNN"
      ],
      "metadata": {
        "id": "YUklGxBYTn_h"
      }
    },
    {
      "cell_type": "markdown",
      "source": [
        "# Environment Preparation"
      ],
      "metadata": {
        "id": "1SToRGrWUGge"
      }
    },
    {
      "cell_type": "code",
      "source": [
        "!pip install datasets -q\n",
        "!pip install langdetect -q"
      ],
      "metadata": {
        "colab": {
          "base_uri": "https://localhost:8080/"
        },
        "id": "iZVU6AB0iAus",
        "outputId": "3e65c11b-b4bd-40ef-88f0-1f3846cede96"
      },
      "execution_count": null,
      "outputs": [
        {
          "output_type": "stream",
          "name": "stdout",
          "text": [
            "\u001b[2K     \u001b[90m━━━━━━━━━━━━━━━━━━━━━━━━━━━━━━━━━━━━━━━━\u001b[0m \u001b[32m536.7/536.7 kB\u001b[0m \u001b[31m3.6 MB/s\u001b[0m eta \u001b[36m0:00:00\u001b[0m\n",
            "\u001b[2K     \u001b[90m━━━━━━━━━━━━━━━━━━━━━━━━━━━━━━━━━━━━━━━━\u001b[0m \u001b[32m38.3/38.3 MB\u001b[0m \u001b[31m20.1 MB/s\u001b[0m eta \u001b[36m0:00:00\u001b[0m\n",
            "\u001b[2K     \u001b[90m━━━━━━━━━━━━━━━━━━━━━━━━━━━━━━━━━━━━━━━━\u001b[0m \u001b[32m116.3/116.3 kB\u001b[0m \u001b[31m6.6 MB/s\u001b[0m eta \u001b[36m0:00:00\u001b[0m\n",
            "\u001b[2K     \u001b[90m━━━━━━━━━━━━━━━━━━━━━━━━━━━━━━━━━━━━━━━━\u001b[0m \u001b[32m134.8/134.8 kB\u001b[0m \u001b[31m9.4 MB/s\u001b[0m eta \u001b[36m0:00:00\u001b[0m\n",
            "\u001b[?25h\u001b[31mERROR: pip's dependency resolver does not currently take into account all the packages that are installed. This behaviour is the source of the following dependency conflicts.\n",
            "ibis-framework 7.1.0 requires pyarrow<15,>=2, but you have pyarrow 15.0.0 which is incompatible.\u001b[0m\u001b[31m\n",
            "\u001b[2K     \u001b[90m━━━━━━━━━━━━━━━━━━━━━━━━━━━━━━━━━━━━━━━━\u001b[0m \u001b[32m981.5/981.5 kB\u001b[0m \u001b[31m6.0 MB/s\u001b[0m eta \u001b[36m0:00:00\u001b[0m\n",
            "\u001b[?25h  Preparing metadata (setup.py) ... \u001b[?25l\u001b[?25hdone\n",
            "  Building wheel for langdetect (setup.py) ... \u001b[?25l\u001b[?25hdone\n"
          ]
        }
      ]
    },
    {
      "cell_type": "code",
      "execution_count": null,
      "metadata": {
        "id": "WkjwNccbwJrw"
      },
      "outputs": [],
      "source": [
        "# @title Imports {display-mode: \"form\"}\n",
        "\n",
        "from google.colab import drive\n",
        "import pandas as pd\n",
        "from IPython.display import clear_output\n",
        "import re\n",
        "from gensim.models import Word2Vec\n",
        "from datasets import load_dataset\n",
        "from tqdm import tqdm\n",
        "import numpy as np\n",
        "import keras.backend as K\n",
        "from keras.layers import Input, Dense, SimpleRNN, GRU, Layer, Embedding, Dropout, LSTM, Bidirectional\n",
        "from keras import Model\n",
        "import random\n",
        "from langdetect import detect, DetectorFactory\n",
        "from keras.models import Sequential\n",
        "from keras.regularizers import l2\n",
        "from keras.optimizers import Adam\n",
        "import matplotlib.pyplot as plt\n",
        "import seaborn as sns"
      ]
    },
    {
      "cell_type": "code",
      "source": [
        "# @title G-Drive {display-mode: \"form\"}\n",
        "\n",
        "drive.mount('/content/drive')"
      ],
      "metadata": {
        "colab": {
          "base_uri": "https://localhost:8080/"
        },
        "id": "PaUqGUwCwTVP",
        "outputId": "399e0abd-d7e3-4d28-e2ff-44f24e6cab2d"
      },
      "execution_count": null,
      "outputs": [
        {
          "output_type": "stream",
          "name": "stdout",
          "text": [
            "Mounted at /content/drive\n"
          ]
        }
      ]
    },
    {
      "cell_type": "code",
      "source": [
        "# @title Env Preparation {display-mode: \"form\"}\n",
        "\n",
        "pd.options.mode.chained_assignment = None\n",
        "tqdm.pandas()\n",
        "DetectorFactory.seed = 42"
      ],
      "metadata": {
        "id": "Lz96Og4KU1hf"
      },
      "execution_count": null,
      "outputs": []
    },
    {
      "cell_type": "markdown",
      "source": [
        "# Part 1. News\n",
        "\n",
        "> *We've been burrying the pages*\n",
        "\n",
        "> *We've been trying to erase this...*"
      ],
      "metadata": {
        "id": "f9-b_mxIVR6_"
      }
    },
    {
      "cell_type": "markdown",
      "source": [
        "На самом деле, я весьма долго искал подходящий датасет. С удовольствием бы обучил модель на текстах песен любимых исполнителей, но в большинстве датасетов с текстами песен их не было, а датасет с текстами с Гениуса оказался слишком тяжёлым. Большинство остальных датасетов же либо весьма специфичные, либо просто скучные. В итоге я решил остановиться на датасете с текстами новостей."
      ],
      "metadata": {
        "id": "LNCwqVEsV48i"
      }
    },
    {
      "cell_type": "markdown",
      "source": [
        "## Load Dataset"
      ],
      "metadata": {
        "id": "H6dW209ndnBL"
      }
    },
    {
      "cell_type": "code",
      "source": [
        "df_news = load_dataset('GonzaloA/fake_news', split='train').to_pandas()\n",
        "df_news"
      ],
      "metadata": {
        "colab": {
          "base_uri": "https://localhost:8080/",
          "height": 819,
          "referenced_widgets": [
            "e7cc31da35a24bda9f1cd901f1cfaa16",
            "e3b1ecccd8184b8fb766b60f6a35287c",
            "e53c430bfc0b4ea9a1cada5a5ed0c9f2",
            "89fad7d2b0804751a24618ed0e43acda",
            "9160a06033bb4d8a87abaf4738f03ac5",
            "289279dcce0645688aa6d6c0904b9038",
            "aae54b89aa6847ecba06140a06ae05c4",
            "30e04884e216421697c291db68f10875",
            "0a8dedb96cb9428abf5055ec01d72ac4",
            "c7ac982ce70d46a58828b42e526f38a6",
            "eedbbf1b64d54b8780ea28f30247eaae",
            "549d5f90eeb24bbf97fe1dad29fa0780",
            "139ff9251e49456eb105620b3dc36d93",
            "b3dc5b4a135f42588d183e200e574e0d",
            "0fcb13dde25047178da2b1afc0375ae1",
            "6fa37092c2cd420688e591ca0a190814",
            "0a7fcb8ea4dd42f9a560eadb300cc71f",
            "9b24e5c3b60b44548ce176b0435f5420",
            "0013642e371948acad0442983cb4de2c",
            "df0c2d8a120e4c4b91aa74524a849fb6",
            "d29bcfa401a746a4b180b006cd271b6e",
            "fdceba0cfb1d4b0cadf7f2acccada267",
            "ef961cc13006461496488bbb0b0c5b5a",
            "c62caf69cc27409cbc6886fcd9465ddd",
            "cfcd67f1fdc146d4a97de80bdde346f8",
            "52e4718f484344dab5908f91a40bed1a",
            "028231f0efae43da811746c44e4f62b8",
            "d044f7c03f3e4dec99e4e56dc8644fe0",
            "3aaced19dd5246f1947ccbfa40fc0134",
            "6bff155d6f114998959df9cf86c40437",
            "ff6efb6c165d421fa9c396b263efe0dc",
            "fe602abe284242ffb09ede32f7930c84",
            "8091f3e1d75a4f73871a504b44952368",
            "d5dc9546e0c348558bb25a4a8ab6ee00",
            "ea83d0cd937647479eb48c7fd6a6ca5a",
            "76755ed061ac427888da37500a7549d1",
            "0cb3f20597f049e9bf258472d0fa5b22",
            "816fb5cf007d473891bd1865d5d4dce5",
            "1c7979d298ee43ba9cce06854b6c7089",
            "01e74eadd8e94ee291e977b49995a8e7",
            "0bae8aef892f4bd0867769365895dda2",
            "c4c9fa6b4e9243e1b5f909adb76597e6",
            "afd346b7d2bf4cfca3f90e030dbc95f6",
            "d28ce9a64af049ffafe8f97f2fd6cc40",
            "6aa39cc314594564a70736d30bd91b25",
            "c1e0a8acc9e340b4b37ee215bb22b9a1",
            "6fae405b9b70420d93e2e7bc95d3973d",
            "35d1642e5843438d8655a1febfc2c19f",
            "a0c8131a6b2e4eafa77a35d2939781f7",
            "5111cf970e6146db955dc10672304997",
            "bf1ee4ba8fb34ede82e471f3b816241a",
            "7d46ecf1f18d4272848ff6ccfed7c848",
            "52af7a7c623b4c8eb8e7e7060dc02f6d",
            "e1d4f8969ed74a5892af7c36630d9a2d",
            "4b33509373ba4870b707122a256710cc",
            "425676a1963c45feaf8bd67dd8ca5969",
            "6ef1791e47a7439f894a68b1af859267",
            "79b3668336164095881dd073ca8cee05",
            "490b868ef65c4d359b8ba0ac62ebbd38",
            "f22e62fc23b14433884a74a9ce131726",
            "c2a5d9fa3b6841498741f2bb218eca56",
            "ce0cdd9ec1d64dcea919dcd9864657e3",
            "e7b7ffa965de49bda9ced489fd572c57",
            "33863d236b1941e09bef8d96cb340af4",
            "50ab3cd74f54417d80b45a4852ab44bb",
            "49a8aef997cb4419aee300ad95ac66bc",
            "2997b8e286c7486e88ceef5613e154f3",
            "294554d5a7a54ab985a1b0455c0fc380",
            "72b473779473419fac1d36a5ed41c97d",
            "fd34caf51ed44ec99bb843f0629a4f0a",
            "c1f6167909dd446591cb9956bafaa14e",
            "a36140abbff74e54a5a80dee749b322a",
            "bfb08826c6c3451582eb617ccf55d629",
            "92e15d2415854edc8507dda3d46326a2",
            "ad7d07b7f4e04e17a47ca3e6616e5cf3",
            "4394f1f62d454cda92315d762ef3d40d",
            "bbb8882852874bdcb5f7ad20eadacdea",
            "af00ffa4c7554d2a8e264764c2740fbd",
            "5da6b8d108fa4452abe1f1b977940d1d",
            "f54e632b0e99409582bdb199028c5794",
            "5b47d323000b45dfaacb000a9d9b63cd",
            "6d3d16c2d338478f88e3b9f947b78d84",
            "b42407f9c03a4cb7bea8cffd0e033e16",
            "71e6a688b9454da8a8bb3bed76fe40b0",
            "a3c8b210162444ab973bcc1aa8bf527f",
            "8984ddf99fdd48bbb9b22f3e75b06149",
            "9b2105c65a73433383300edebf6a4ebb",
            "444f82944d16465f9ea3542eda0305e7"
          ]
        },
        "id": "yg_PVxKGdpEK",
        "outputId": "bf0ea188-b897-446d-e77e-f8e0ed7ddc4a"
      },
      "execution_count": null,
      "outputs": [
        {
          "output_type": "stream",
          "name": "stderr",
          "text": [
            "/usr/local/lib/python3.10/dist-packages/huggingface_hub/utils/_token.py:88: UserWarning: \n",
            "The secret `HF_TOKEN` does not exist in your Colab secrets.\n",
            "To authenticate with the Hugging Face Hub, create a token in your settings tab (https://huggingface.co/settings/tokens), set it as secret in your Google Colab and restart your session.\n",
            "You will be able to reuse this secret in all of your notebooks.\n",
            "Please note that authentication is recommended but still optional to access public models or datasets.\n",
            "  warnings.warn(\n"
          ]
        },
        {
          "output_type": "display_data",
          "data": {
            "text/plain": [
              "Downloading readme:   0%|          | 0.00/6.73k [00:00<?, ?B/s]"
            ],
            "application/vnd.jupyter.widget-view+json": {
              "version_major": 2,
              "version_minor": 0,
              "model_id": "e7cc31da35a24bda9f1cd901f1cfaa16"
            }
          },
          "metadata": {}
        },
        {
          "output_type": "stream",
          "name": "stderr",
          "text": [
            "/usr/local/lib/python3.10/dist-packages/huggingface_hub/repocard.py:105: UserWarning: Repo card metadata block was not found. Setting CardData to empty.\n",
            "  warnings.warn(\"Repo card metadata block was not found. Setting CardData to empty.\")\n"
          ]
        },
        {
          "output_type": "display_data",
          "data": {
            "text/plain": [
              "Downloading metadata:   0%|          | 0.00/1.03k [00:00<?, ?B/s]"
            ],
            "application/vnd.jupyter.widget-view+json": {
              "version_major": 2,
              "version_minor": 0,
              "model_id": "549d5f90eeb24bbf97fe1dad29fa0780"
            }
          },
          "metadata": {}
        },
        {
          "output_type": "display_data",
          "data": {
            "text/plain": [
              "Downloading data:   0%|          | 0.00/38.8M [00:00<?, ?B/s]"
            ],
            "application/vnd.jupyter.widget-view+json": {
              "version_major": 2,
              "version_minor": 0,
              "model_id": "ef961cc13006461496488bbb0b0c5b5a"
            }
          },
          "metadata": {}
        },
        {
          "output_type": "display_data",
          "data": {
            "text/plain": [
              "Downloading data:   0%|          | 0.00/13.0M [00:00<?, ?B/s]"
            ],
            "application/vnd.jupyter.widget-view+json": {
              "version_major": 2,
              "version_minor": 0,
              "model_id": "d5dc9546e0c348558bb25a4a8ab6ee00"
            }
          },
          "metadata": {}
        },
        {
          "output_type": "display_data",
          "data": {
            "text/plain": [
              "Downloading data:   0%|          | 0.00/13.0M [00:00<?, ?B/s]"
            ],
            "application/vnd.jupyter.widget-view+json": {
              "version_major": 2,
              "version_minor": 0,
              "model_id": "6aa39cc314594564a70736d30bd91b25"
            }
          },
          "metadata": {}
        },
        {
          "output_type": "display_data",
          "data": {
            "text/plain": [
              "Generating train split:   0%|          | 0/24353 [00:00<?, ? examples/s]"
            ],
            "application/vnd.jupyter.widget-view+json": {
              "version_major": 2,
              "version_minor": 0,
              "model_id": "425676a1963c45feaf8bd67dd8ca5969"
            }
          },
          "metadata": {}
        },
        {
          "output_type": "display_data",
          "data": {
            "text/plain": [
              "Generating validation split:   0%|          | 0/8117 [00:00<?, ? examples/s]"
            ],
            "application/vnd.jupyter.widget-view+json": {
              "version_major": 2,
              "version_minor": 0,
              "model_id": "2997b8e286c7486e88ceef5613e154f3"
            }
          },
          "metadata": {}
        },
        {
          "output_type": "display_data",
          "data": {
            "text/plain": [
              "Generating test split:   0%|          | 0/8117 [00:00<?, ? examples/s]"
            ],
            "application/vnd.jupyter.widget-view+json": {
              "version_major": 2,
              "version_minor": 0,
              "model_id": "af00ffa4c7554d2a8e264764c2740fbd"
            }
          },
          "metadata": {}
        },
        {
          "output_type": "execute_result",
          "data": {
            "text/plain": [
              "       Unnamed: 0                                              title  \\\n",
              "0               0   ‘Maury’ Show Official Facebook Posts F*CKED U...   \n",
              "1               1   Trump’s Favorite News Channel Tries To Soothe...   \n",
              "2               2  Russia warns Iraq, Kurds not to destabilize Mi...   \n",
              "3               3  WATCH STEVE SCALISE Throw A Strike At The Nati...   \n",
              "4               4   Trump Will HATE What Stephen Colbert Just Did...   \n",
              "...           ...                                                ...   \n",
              "24348       24348  EU Parliament chief asks Poland to ensure MEPs...   \n",
              "24349       24349  Chemical weapons watchdog found sarin used in ...   \n",
              "24350       24350   Melissa Harris-Perry Is DONE With MSNBC, Pens...   \n",
              "24351       24351          Trump's pick for Navy secretary withdraws   \n",
              "24352       24352  Ukraine's Tymoshenko expects fair U.S. ruling ...   \n",
              "\n",
              "                                                    text  label  \n",
              "0      Maury is perhaps one of the trashiest shows on...      0  \n",
              "1      Yesterday, after the father of one of the UCLA...      0  \n",
              "2      MOSCOW (Reuters) - Russia on Wednesday warned ...      1  \n",
              "3      House Majority Whip Steve Scalise (R., La.) th...      0  \n",
              "4      It can be said that Late Show host Stephen Col...      0  \n",
              "...                                                  ...    ...  \n",
              "24348  WARSAW (Reuters) - The president of the Europe...      1  \n",
              "24349  AMSTERDAM/UNITED NATIONS (Reuters) - An inquir...      1  \n",
              "24350  As you may or may not know at this point, MSNB...      0  \n",
              "24351  WASHINGTON (Reuters) - U.S. President Donald T...      1  \n",
              "24352  KIEV (Reuters) - Ukrainian opposition leader Y...      1  \n",
              "\n",
              "[24353 rows x 4 columns]"
            ],
            "text/html": [
              "\n",
              "  <div id=\"df-1ea086c1-7152-4200-b05a-16ac91c3b387\" class=\"colab-df-container\">\n",
              "    <div>\n",
              "<style scoped>\n",
              "    .dataframe tbody tr th:only-of-type {\n",
              "        vertical-align: middle;\n",
              "    }\n",
              "\n",
              "    .dataframe tbody tr th {\n",
              "        vertical-align: top;\n",
              "    }\n",
              "\n",
              "    .dataframe thead th {\n",
              "        text-align: right;\n",
              "    }\n",
              "</style>\n",
              "<table border=\"1\" class=\"dataframe\">\n",
              "  <thead>\n",
              "    <tr style=\"text-align: right;\">\n",
              "      <th></th>\n",
              "      <th>Unnamed: 0</th>\n",
              "      <th>title</th>\n",
              "      <th>text</th>\n",
              "      <th>label</th>\n",
              "    </tr>\n",
              "  </thead>\n",
              "  <tbody>\n",
              "    <tr>\n",
              "      <th>0</th>\n",
              "      <td>0</td>\n",
              "      <td>‘Maury’ Show Official Facebook Posts F*CKED U...</td>\n",
              "      <td>Maury is perhaps one of the trashiest shows on...</td>\n",
              "      <td>0</td>\n",
              "    </tr>\n",
              "    <tr>\n",
              "      <th>1</th>\n",
              "      <td>1</td>\n",
              "      <td>Trump’s Favorite News Channel Tries To Soothe...</td>\n",
              "      <td>Yesterday, after the father of one of the UCLA...</td>\n",
              "      <td>0</td>\n",
              "    </tr>\n",
              "    <tr>\n",
              "      <th>2</th>\n",
              "      <td>2</td>\n",
              "      <td>Russia warns Iraq, Kurds not to destabilize Mi...</td>\n",
              "      <td>MOSCOW (Reuters) - Russia on Wednesday warned ...</td>\n",
              "      <td>1</td>\n",
              "    </tr>\n",
              "    <tr>\n",
              "      <th>3</th>\n",
              "      <td>3</td>\n",
              "      <td>WATCH STEVE SCALISE Throw A Strike At The Nati...</td>\n",
              "      <td>House Majority Whip Steve Scalise (R., La.) th...</td>\n",
              "      <td>0</td>\n",
              "    </tr>\n",
              "    <tr>\n",
              "      <th>4</th>\n",
              "      <td>4</td>\n",
              "      <td>Trump Will HATE What Stephen Colbert Just Did...</td>\n",
              "      <td>It can be said that Late Show host Stephen Col...</td>\n",
              "      <td>0</td>\n",
              "    </tr>\n",
              "    <tr>\n",
              "      <th>...</th>\n",
              "      <td>...</td>\n",
              "      <td>...</td>\n",
              "      <td>...</td>\n",
              "      <td>...</td>\n",
              "    </tr>\n",
              "    <tr>\n",
              "      <th>24348</th>\n",
              "      <td>24348</td>\n",
              "      <td>EU Parliament chief asks Poland to ensure MEPs...</td>\n",
              "      <td>WARSAW (Reuters) - The president of the Europe...</td>\n",
              "      <td>1</td>\n",
              "    </tr>\n",
              "    <tr>\n",
              "      <th>24349</th>\n",
              "      <td>24349</td>\n",
              "      <td>Chemical weapons watchdog found sarin used in ...</td>\n",
              "      <td>AMSTERDAM/UNITED NATIONS (Reuters) - An inquir...</td>\n",
              "      <td>1</td>\n",
              "    </tr>\n",
              "    <tr>\n",
              "      <th>24350</th>\n",
              "      <td>24350</td>\n",
              "      <td>Melissa Harris-Perry Is DONE With MSNBC, Pens...</td>\n",
              "      <td>As you may or may not know at this point, MSNB...</td>\n",
              "      <td>0</td>\n",
              "    </tr>\n",
              "    <tr>\n",
              "      <th>24351</th>\n",
              "      <td>24351</td>\n",
              "      <td>Trump's pick for Navy secretary withdraws</td>\n",
              "      <td>WASHINGTON (Reuters) - U.S. President Donald T...</td>\n",
              "      <td>1</td>\n",
              "    </tr>\n",
              "    <tr>\n",
              "      <th>24352</th>\n",
              "      <td>24352</td>\n",
              "      <td>Ukraine's Tymoshenko expects fair U.S. ruling ...</td>\n",
              "      <td>KIEV (Reuters) - Ukrainian opposition leader Y...</td>\n",
              "      <td>1</td>\n",
              "    </tr>\n",
              "  </tbody>\n",
              "</table>\n",
              "<p>24353 rows × 4 columns</p>\n",
              "</div>\n",
              "    <div class=\"colab-df-buttons\">\n",
              "\n",
              "  <div class=\"colab-df-container\">\n",
              "    <button class=\"colab-df-convert\" onclick=\"convertToInteractive('df-1ea086c1-7152-4200-b05a-16ac91c3b387')\"\n",
              "            title=\"Convert this dataframe to an interactive table.\"\n",
              "            style=\"display:none;\">\n",
              "\n",
              "  <svg xmlns=\"http://www.w3.org/2000/svg\" height=\"24px\" viewBox=\"0 -960 960 960\">\n",
              "    <path d=\"M120-120v-720h720v720H120Zm60-500h600v-160H180v160Zm220 220h160v-160H400v160Zm0 220h160v-160H400v160ZM180-400h160v-160H180v160Zm440 0h160v-160H620v160ZM180-180h160v-160H180v160Zm440 0h160v-160H620v160Z\"/>\n",
              "  </svg>\n",
              "    </button>\n",
              "\n",
              "  <style>\n",
              "    .colab-df-container {\n",
              "      display:flex;\n",
              "      gap: 12px;\n",
              "    }\n",
              "\n",
              "    .colab-df-convert {\n",
              "      background-color: #E8F0FE;\n",
              "      border: none;\n",
              "      border-radius: 50%;\n",
              "      cursor: pointer;\n",
              "      display: none;\n",
              "      fill: #1967D2;\n",
              "      height: 32px;\n",
              "      padding: 0 0 0 0;\n",
              "      width: 32px;\n",
              "    }\n",
              "\n",
              "    .colab-df-convert:hover {\n",
              "      background-color: #E2EBFA;\n",
              "      box-shadow: 0px 1px 2px rgba(60, 64, 67, 0.3), 0px 1px 3px 1px rgba(60, 64, 67, 0.15);\n",
              "      fill: #174EA6;\n",
              "    }\n",
              "\n",
              "    .colab-df-buttons div {\n",
              "      margin-bottom: 4px;\n",
              "    }\n",
              "\n",
              "    [theme=dark] .colab-df-convert {\n",
              "      background-color: #3B4455;\n",
              "      fill: #D2E3FC;\n",
              "    }\n",
              "\n",
              "    [theme=dark] .colab-df-convert:hover {\n",
              "      background-color: #434B5C;\n",
              "      box-shadow: 0px 1px 3px 1px rgba(0, 0, 0, 0.15);\n",
              "      filter: drop-shadow(0px 1px 2px rgba(0, 0, 0, 0.3));\n",
              "      fill: #FFFFFF;\n",
              "    }\n",
              "  </style>\n",
              "\n",
              "    <script>\n",
              "      const buttonEl =\n",
              "        document.querySelector('#df-1ea086c1-7152-4200-b05a-16ac91c3b387 button.colab-df-convert');\n",
              "      buttonEl.style.display =\n",
              "        google.colab.kernel.accessAllowed ? 'block' : 'none';\n",
              "\n",
              "      async function convertToInteractive(key) {\n",
              "        const element = document.querySelector('#df-1ea086c1-7152-4200-b05a-16ac91c3b387');\n",
              "        const dataTable =\n",
              "          await google.colab.kernel.invokeFunction('convertToInteractive',\n",
              "                                                    [key], {});\n",
              "        if (!dataTable) return;\n",
              "\n",
              "        const docLinkHtml = 'Like what you see? Visit the ' +\n",
              "          '<a target=\"_blank\" href=https://colab.research.google.com/notebooks/data_table.ipynb>data table notebook</a>'\n",
              "          + ' to learn more about interactive tables.';\n",
              "        element.innerHTML = '';\n",
              "        dataTable['output_type'] = 'display_data';\n",
              "        await google.colab.output.renderOutput(dataTable, element);\n",
              "        const docLink = document.createElement('div');\n",
              "        docLink.innerHTML = docLinkHtml;\n",
              "        element.appendChild(docLink);\n",
              "      }\n",
              "    </script>\n",
              "  </div>\n",
              "\n",
              "\n",
              "<div id=\"df-1d701a16-3503-47a3-93b2-54d6f7e19c87\">\n",
              "  <button class=\"colab-df-quickchart\" onclick=\"quickchart('df-1d701a16-3503-47a3-93b2-54d6f7e19c87')\"\n",
              "            title=\"Suggest charts\"\n",
              "            style=\"display:none;\">\n",
              "\n",
              "<svg xmlns=\"http://www.w3.org/2000/svg\" height=\"24px\"viewBox=\"0 0 24 24\"\n",
              "     width=\"24px\">\n",
              "    <g>\n",
              "        <path d=\"M19 3H5c-1.1 0-2 .9-2 2v14c0 1.1.9 2 2 2h14c1.1 0 2-.9 2-2V5c0-1.1-.9-2-2-2zM9 17H7v-7h2v7zm4 0h-2V7h2v10zm4 0h-2v-4h2v4z\"/>\n",
              "    </g>\n",
              "</svg>\n",
              "  </button>\n",
              "\n",
              "<style>\n",
              "  .colab-df-quickchart {\n",
              "      --bg-color: #E8F0FE;\n",
              "      --fill-color: #1967D2;\n",
              "      --hover-bg-color: #E2EBFA;\n",
              "      --hover-fill-color: #174EA6;\n",
              "      --disabled-fill-color: #AAA;\n",
              "      --disabled-bg-color: #DDD;\n",
              "  }\n",
              "\n",
              "  [theme=dark] .colab-df-quickchart {\n",
              "      --bg-color: #3B4455;\n",
              "      --fill-color: #D2E3FC;\n",
              "      --hover-bg-color: #434B5C;\n",
              "      --hover-fill-color: #FFFFFF;\n",
              "      --disabled-bg-color: #3B4455;\n",
              "      --disabled-fill-color: #666;\n",
              "  }\n",
              "\n",
              "  .colab-df-quickchart {\n",
              "    background-color: var(--bg-color);\n",
              "    border: none;\n",
              "    border-radius: 50%;\n",
              "    cursor: pointer;\n",
              "    display: none;\n",
              "    fill: var(--fill-color);\n",
              "    height: 32px;\n",
              "    padding: 0;\n",
              "    width: 32px;\n",
              "  }\n",
              "\n",
              "  .colab-df-quickchart:hover {\n",
              "    background-color: var(--hover-bg-color);\n",
              "    box-shadow: 0 1px 2px rgba(60, 64, 67, 0.3), 0 1px 3px 1px rgba(60, 64, 67, 0.15);\n",
              "    fill: var(--button-hover-fill-color);\n",
              "  }\n",
              "\n",
              "  .colab-df-quickchart-complete:disabled,\n",
              "  .colab-df-quickchart-complete:disabled:hover {\n",
              "    background-color: var(--disabled-bg-color);\n",
              "    fill: var(--disabled-fill-color);\n",
              "    box-shadow: none;\n",
              "  }\n",
              "\n",
              "  .colab-df-spinner {\n",
              "    border: 2px solid var(--fill-color);\n",
              "    border-color: transparent;\n",
              "    border-bottom-color: var(--fill-color);\n",
              "    animation:\n",
              "      spin 1s steps(1) infinite;\n",
              "  }\n",
              "\n",
              "  @keyframes spin {\n",
              "    0% {\n",
              "      border-color: transparent;\n",
              "      border-bottom-color: var(--fill-color);\n",
              "      border-left-color: var(--fill-color);\n",
              "    }\n",
              "    20% {\n",
              "      border-color: transparent;\n",
              "      border-left-color: var(--fill-color);\n",
              "      border-top-color: var(--fill-color);\n",
              "    }\n",
              "    30% {\n",
              "      border-color: transparent;\n",
              "      border-left-color: var(--fill-color);\n",
              "      border-top-color: var(--fill-color);\n",
              "      border-right-color: var(--fill-color);\n",
              "    }\n",
              "    40% {\n",
              "      border-color: transparent;\n",
              "      border-right-color: var(--fill-color);\n",
              "      border-top-color: var(--fill-color);\n",
              "    }\n",
              "    60% {\n",
              "      border-color: transparent;\n",
              "      border-right-color: var(--fill-color);\n",
              "    }\n",
              "    80% {\n",
              "      border-color: transparent;\n",
              "      border-right-color: var(--fill-color);\n",
              "      border-bottom-color: var(--fill-color);\n",
              "    }\n",
              "    90% {\n",
              "      border-color: transparent;\n",
              "      border-bottom-color: var(--fill-color);\n",
              "    }\n",
              "  }\n",
              "</style>\n",
              "\n",
              "  <script>\n",
              "    async function quickchart(key) {\n",
              "      const quickchartButtonEl =\n",
              "        document.querySelector('#' + key + ' button');\n",
              "      quickchartButtonEl.disabled = true;  // To prevent multiple clicks.\n",
              "      quickchartButtonEl.classList.add('colab-df-spinner');\n",
              "      try {\n",
              "        const charts = await google.colab.kernel.invokeFunction(\n",
              "            'suggestCharts', [key], {});\n",
              "      } catch (error) {\n",
              "        console.error('Error during call to suggestCharts:', error);\n",
              "      }\n",
              "      quickchartButtonEl.classList.remove('colab-df-spinner');\n",
              "      quickchartButtonEl.classList.add('colab-df-quickchart-complete');\n",
              "    }\n",
              "    (() => {\n",
              "      let quickchartButtonEl =\n",
              "        document.querySelector('#df-1d701a16-3503-47a3-93b2-54d6f7e19c87 button');\n",
              "      quickchartButtonEl.style.display =\n",
              "        google.colab.kernel.accessAllowed ? 'block' : 'none';\n",
              "    })();\n",
              "  </script>\n",
              "</div>\n",
              "    </div>\n",
              "  </div>\n"
            ],
            "application/vnd.google.colaboratory.intrinsic+json": {
              "type": "dataframe",
              "variable_name": "df_news",
              "summary": "{\n  \"name\": \"df_news\",\n  \"rows\": 24353,\n  \"fields\": [\n    {\n      \"column\": \"Unnamed: 0\",\n      \"properties\": {\n        \"dtype\": \"number\",\n        \"std\": 7030,\n        \"min\": 0,\n        \"max\": 24352,\n        \"samples\": [\n          2579,\n          13868,\n          13020\n        ],\n        \"num_unique_values\": 24353,\n        \"semantic_type\": \"\",\n        \"description\": \"\"\n      }\n    },\n    {\n      \"column\": \"title\",\n      \"properties\": {\n        \"dtype\": \"string\",\n        \"samples\": [\n          \" Trump Has Finally Commented On Portland Train Attack\\u2026 Sort Of (TWEETS)\",\n          \"Why Do Hillary And Barack Choose Islam Over Christianity Every Time?\",\n          \"RACISM MUCH? Black Cornell Students Protest a Pro-Black Protest Led by White Students\"\n        ],\n        \"num_unique_values\": 24088,\n        \"semantic_type\": \"\",\n        \"description\": \"\"\n      }\n    },\n    {\n      \"column\": \"text\",\n      \"properties\": {\n        \"dtype\": \"string\",\n        \"samples\": [\n          \"WORLD RELIEF received over $43 million dollars last year from the feds! They are only one of 9 refugee contractors who make money off of each refugee they bring in. The program was started by Ted Kennedy and Joe Biden 35 years ago. It has exploded to be an industry whereby the agency gets paid per refugee so it makes sense for them to try and make the feds take in more and more of these people.THE BIGGER PROBLEM: The taxpayer pays for all of the  goodies  the refugee gets so World Relief never covers the education, healthcare and many other things that YOU end up paying for!!!The CEO of World Relief and most other agencies all receive a six figure income .YOUR MONEY! SCOTT ARBEITER, WORLD RELIEF S CEO, MAKES $200,000 A YEAR! Arbeiter was on Tucker Carlson tonight trying to explain away how it s ok to take tax dollars from Americans:https://www.youtube.com/watch?v=3lfCv0eQX6cANN CORCORAN OF REFUGEE RESETTLEMENT WATCH:In September, World Relief settled 1,400 refugees through churches and its 26 offices across the country. In the past year, the organization has worked with 9,759 refugees, the largest number of refugees to go through its office since 1999, according to Christianity Today, having partnered with 1,180 congregations.World Relief is one of nine organizations authorized by the federal government to help resettle refugees. Others include Church World Service, Hebrew Immigrant Aid Society (HIAS), Episcopal Migration Ministries, Lutheran Immigration and Refugee Service, and the U.S. Conference of Catholic Bishops.I laughed at the use of the word  authorized  as if WR only had to get an authorization (a stamp of approval) and then was completely operating with Christian  charity  instead of mostly federal tax dollars. This is how they spin the lazy media, never mentioning that this is a business a business that could not function without your money!Incidentally, it is World Relief (a member in good standing of the Christian LEFT) that sent around a memo to staff over a year ago to tell them to not give out any R & P Abstracts for any of you calling looking for the plan for your local community.Checking the most recent Form 990 for World Relief we see that they had a total gift/grants income of $58,487,081 and $42,589,050 was provided by you, the US taxpayer, making their federally-funded share of their budget 73% taxpayer funded.I went back 6 years and their income from you jumped about $11.5 million over that time. That of course correlates with the fact that they placed more refugees into your towns each year and since they are paid by the head, that makes sense.Here is a screen shot of page 9 (this info. is usually on page 9) of World Relief s most recent 990. You can find several years of WR s 990 s here if you want to have a deeper look into their finances. All IRS 501(c)3 organizations are required to make their financial information public, so remember that if you are trying to get Form 990s for a local group.\",\n          \"WASHINGTON (Reuters) - The U.S. State Department has approved the sale of mobile artillery rocket systems to Romania worth up to $1.25 billion, the Defense Security Cooperation Agency said on Friday. The Pentagon agency said it notified Congress of the possible sale on Thursday. Lockheed Martin is the prime contractor for the weapons system. Romania has asked for up to 54 high mobility artillery rocket systems and related services and equipment, the agency said in a statement. \",\n          \"With all the recent talk of sentencing reform and unfair bail across America, sometimes what it takes is an outrageous case in a small town somewhere to light a fire under activists to demand a change. And even though the resignation of a judge in Pearl, Mississippi, a suburb of the capital with a meager 25,000 residents, isn t really anyone s idea of a revolution, it probably means a lot to the mother at the center of the case.Judge John Shirley of the now-dissolved Pearl Youth Court decided back in August of 2016 that some unpaid court fees were enough to separate  Mother A,  a resident of nearby Jackson, from her baby for a period of 14 months. The unidentified mom and a friend were driving through Pearl one day looking for work when they were pulled over by a police officer who discovered that both women had misdemeanor warrants for minor offenses.Honestly, the story begins with that officer, who is also unidentified in the report from the Clarion-Ledger, the news outlet that first reported the judge s resignation. So much begins with a cop s interaction with a young person   will they detain them? Will they give them a warning? Initial contact with law enforcement often determines the course of a young person s life, and most police are totally aware of that fact. Mother A  had her baby with her that day, and although the woman s grandmother came to the scene immediately to collect the baby, that officer decided to change the young woman s life by requiring her to bring the child before the Pearl Youth Court.If it seems like I m being too hard on the cop, let me assure you, I ve saved most of my hate for Judge Shirley. How an arbiter of justice thinks ordering a young mother to stay away from her newborn baby is anything approaching justice is bewildering to me. But that s just what Judge Shirley did, remanding the infant to the custody of the grandmother and imposing a goddamn NO CONTACT ORDER between Mother A and her baby until the poor (as in, without money) young woman could pay off her court fees.Not only could she not see her child, she couldn t see her grandmother while the baby was present. It was just to be cruel. That s the only explanation.Cliff Johnson, the Director of the Roderick and Solange MacArthur Justice Center at the University of Mississippi School of Law, agreed. As a civil rights lawyer in Mississippi, I am no stranger to injustice, but for a judge to prohibit an impoverished mother from having any contact with her baby until monetary payments are made is shocking and repugnant. Such orders are tantamount to judicial kidnapping. Between two people   one cop and one judge   a young woman s life is forever changed, her idea of justice forever skewed, her trust in authority forever hobbled by the fear of a cruelty that exists only for its own sake.Featured image via judgejohnshirley.com\"\n        ],\n        \"num_unique_values\": 24353,\n        \"semantic_type\": \"\",\n        \"description\": \"\"\n      }\n    },\n    {\n      \"column\": \"label\",\n      \"properties\": {\n        \"dtype\": \"number\",\n        \"std\": 0,\n        \"min\": 0,\n        \"max\": 1,\n        \"samples\": [\n          1,\n          0\n        ],\n        \"num_unique_values\": 2,\n        \"semantic_type\": \"\",\n        \"description\": \"\"\n      }\n    }\n  ]\n}"
            }
          },
          "metadata": {},
          "execution_count": 5
        }
      ]
    },
    {
      "cell_type": "markdown",
      "source": [
        "Я решил оставить для обучения тексты фейковых новостей"
      ],
      "metadata": {
        "id": "TNdO-U50eMqT"
      }
    },
    {
      "cell_type": "code",
      "source": [
        "df_news = df_news.loc[df_news['label'] == 1]\n",
        "df_news"
      ],
      "metadata": {
        "colab": {
          "base_uri": "https://localhost:8080/",
          "height": 424
        },
        "id": "hF_--Hudd6UX",
        "outputId": "30668e4c-c6ab-4320-9966-da4cc369268e"
      },
      "execution_count": null,
      "outputs": [
        {
          "output_type": "execute_result",
          "data": {
            "text/plain": [
              "       Unnamed: 0                                              title  \\\n",
              "2               2  Russia warns Iraq, Kurds not to destabilize Mi...   \n",
              "6               6  EU's Verhofstadt pokes fun at British PM May b...   \n",
              "7               7  Photographer killed in Mexico as journalist de...   \n",
              "10             10  Trump campaign's digital director to meet Hous...   \n",
              "11             11  U.S Treasury’s Lew says Colombia peace deal to...   \n",
              "...           ...                                                ...   \n",
              "24347       24347  Trump picks conservative judge Gorsuch for Sup...   \n",
              "24348       24348  EU Parliament chief asks Poland to ensure MEPs...   \n",
              "24349       24349  Chemical weapons watchdog found sarin used in ...   \n",
              "24351       24351          Trump's pick for Navy secretary withdraws   \n",
              "24352       24352  Ukraine's Tymoshenko expects fair U.S. ruling ...   \n",
              "\n",
              "                                                    text  label  \n",
              "2      MOSCOW (Reuters) - Russia on Wednesday warned ...      1  \n",
              "6      LONDON (Reuters) - The lead Brexit negotiator ...      1  \n",
              "7      MEXICO CITY (Reuters) - The bullet-riddled bod...      1  \n",
              "10     (Reuters) - The digital director for Donald Tr...      1  \n",
              "11     BOGOTA (Reuters) - Colombia’s peace deal with ...      1  \n",
              "...                                                  ...    ...  \n",
              "24347  WASHINGTON (Reuters) - President Donald Trump ...      1  \n",
              "24348  WARSAW (Reuters) - The president of the Europe...      1  \n",
              "24349  AMSTERDAM/UNITED NATIONS (Reuters) - An inquir...      1  \n",
              "24351  WASHINGTON (Reuters) - U.S. President Donald T...      1  \n",
              "24352  KIEV (Reuters) - Ukrainian opposition leader Y...      1  \n",
              "\n",
              "[13195 rows x 4 columns]"
            ],
            "text/html": [
              "\n",
              "  <div id=\"df-e377fd15-1d57-4fcb-b438-614c841f4d92\" class=\"colab-df-container\">\n",
              "    <div>\n",
              "<style scoped>\n",
              "    .dataframe tbody tr th:only-of-type {\n",
              "        vertical-align: middle;\n",
              "    }\n",
              "\n",
              "    .dataframe tbody tr th {\n",
              "        vertical-align: top;\n",
              "    }\n",
              "\n",
              "    .dataframe thead th {\n",
              "        text-align: right;\n",
              "    }\n",
              "</style>\n",
              "<table border=\"1\" class=\"dataframe\">\n",
              "  <thead>\n",
              "    <tr style=\"text-align: right;\">\n",
              "      <th></th>\n",
              "      <th>Unnamed: 0</th>\n",
              "      <th>title</th>\n",
              "      <th>text</th>\n",
              "      <th>label</th>\n",
              "    </tr>\n",
              "  </thead>\n",
              "  <tbody>\n",
              "    <tr>\n",
              "      <th>2</th>\n",
              "      <td>2</td>\n",
              "      <td>Russia warns Iraq, Kurds not to destabilize Mi...</td>\n",
              "      <td>MOSCOW (Reuters) - Russia on Wednesday warned ...</td>\n",
              "      <td>1</td>\n",
              "    </tr>\n",
              "    <tr>\n",
              "      <th>6</th>\n",
              "      <td>6</td>\n",
              "      <td>EU's Verhofstadt pokes fun at British PM May b...</td>\n",
              "      <td>LONDON (Reuters) - The lead Brexit negotiator ...</td>\n",
              "      <td>1</td>\n",
              "    </tr>\n",
              "    <tr>\n",
              "      <th>7</th>\n",
              "      <td>7</td>\n",
              "      <td>Photographer killed in Mexico as journalist de...</td>\n",
              "      <td>MEXICO CITY (Reuters) - The bullet-riddled bod...</td>\n",
              "      <td>1</td>\n",
              "    </tr>\n",
              "    <tr>\n",
              "      <th>10</th>\n",
              "      <td>10</td>\n",
              "      <td>Trump campaign's digital director to meet Hous...</td>\n",
              "      <td>(Reuters) - The digital director for Donald Tr...</td>\n",
              "      <td>1</td>\n",
              "    </tr>\n",
              "    <tr>\n",
              "      <th>11</th>\n",
              "      <td>11</td>\n",
              "      <td>U.S Treasury’s Lew says Colombia peace deal to...</td>\n",
              "      <td>BOGOTA (Reuters) - Colombia’s peace deal with ...</td>\n",
              "      <td>1</td>\n",
              "    </tr>\n",
              "    <tr>\n",
              "      <th>...</th>\n",
              "      <td>...</td>\n",
              "      <td>...</td>\n",
              "      <td>...</td>\n",
              "      <td>...</td>\n",
              "    </tr>\n",
              "    <tr>\n",
              "      <th>24347</th>\n",
              "      <td>24347</td>\n",
              "      <td>Trump picks conservative judge Gorsuch for Sup...</td>\n",
              "      <td>WASHINGTON (Reuters) - President Donald Trump ...</td>\n",
              "      <td>1</td>\n",
              "    </tr>\n",
              "    <tr>\n",
              "      <th>24348</th>\n",
              "      <td>24348</td>\n",
              "      <td>EU Parliament chief asks Poland to ensure MEPs...</td>\n",
              "      <td>WARSAW (Reuters) - The president of the Europe...</td>\n",
              "      <td>1</td>\n",
              "    </tr>\n",
              "    <tr>\n",
              "      <th>24349</th>\n",
              "      <td>24349</td>\n",
              "      <td>Chemical weapons watchdog found sarin used in ...</td>\n",
              "      <td>AMSTERDAM/UNITED NATIONS (Reuters) - An inquir...</td>\n",
              "      <td>1</td>\n",
              "    </tr>\n",
              "    <tr>\n",
              "      <th>24351</th>\n",
              "      <td>24351</td>\n",
              "      <td>Trump's pick for Navy secretary withdraws</td>\n",
              "      <td>WASHINGTON (Reuters) - U.S. President Donald T...</td>\n",
              "      <td>1</td>\n",
              "    </tr>\n",
              "    <tr>\n",
              "      <th>24352</th>\n",
              "      <td>24352</td>\n",
              "      <td>Ukraine's Tymoshenko expects fair U.S. ruling ...</td>\n",
              "      <td>KIEV (Reuters) - Ukrainian opposition leader Y...</td>\n",
              "      <td>1</td>\n",
              "    </tr>\n",
              "  </tbody>\n",
              "</table>\n",
              "<p>13195 rows × 4 columns</p>\n",
              "</div>\n",
              "    <div class=\"colab-df-buttons\">\n",
              "\n",
              "  <div class=\"colab-df-container\">\n",
              "    <button class=\"colab-df-convert\" onclick=\"convertToInteractive('df-e377fd15-1d57-4fcb-b438-614c841f4d92')\"\n",
              "            title=\"Convert this dataframe to an interactive table.\"\n",
              "            style=\"display:none;\">\n",
              "\n",
              "  <svg xmlns=\"http://www.w3.org/2000/svg\" height=\"24px\" viewBox=\"0 -960 960 960\">\n",
              "    <path d=\"M120-120v-720h720v720H120Zm60-500h600v-160H180v160Zm220 220h160v-160H400v160Zm0 220h160v-160H400v160ZM180-400h160v-160H180v160Zm440 0h160v-160H620v160ZM180-180h160v-160H180v160Zm440 0h160v-160H620v160Z\"/>\n",
              "  </svg>\n",
              "    </button>\n",
              "\n",
              "  <style>\n",
              "    .colab-df-container {\n",
              "      display:flex;\n",
              "      gap: 12px;\n",
              "    }\n",
              "\n",
              "    .colab-df-convert {\n",
              "      background-color: #E8F0FE;\n",
              "      border: none;\n",
              "      border-radius: 50%;\n",
              "      cursor: pointer;\n",
              "      display: none;\n",
              "      fill: #1967D2;\n",
              "      height: 32px;\n",
              "      padding: 0 0 0 0;\n",
              "      width: 32px;\n",
              "    }\n",
              "\n",
              "    .colab-df-convert:hover {\n",
              "      background-color: #E2EBFA;\n",
              "      box-shadow: 0px 1px 2px rgba(60, 64, 67, 0.3), 0px 1px 3px 1px rgba(60, 64, 67, 0.15);\n",
              "      fill: #174EA6;\n",
              "    }\n",
              "\n",
              "    .colab-df-buttons div {\n",
              "      margin-bottom: 4px;\n",
              "    }\n",
              "\n",
              "    [theme=dark] .colab-df-convert {\n",
              "      background-color: #3B4455;\n",
              "      fill: #D2E3FC;\n",
              "    }\n",
              "\n",
              "    [theme=dark] .colab-df-convert:hover {\n",
              "      background-color: #434B5C;\n",
              "      box-shadow: 0px 1px 3px 1px rgba(0, 0, 0, 0.15);\n",
              "      filter: drop-shadow(0px 1px 2px rgba(0, 0, 0, 0.3));\n",
              "      fill: #FFFFFF;\n",
              "    }\n",
              "  </style>\n",
              "\n",
              "    <script>\n",
              "      const buttonEl =\n",
              "        document.querySelector('#df-e377fd15-1d57-4fcb-b438-614c841f4d92 button.colab-df-convert');\n",
              "      buttonEl.style.display =\n",
              "        google.colab.kernel.accessAllowed ? 'block' : 'none';\n",
              "\n",
              "      async function convertToInteractive(key) {\n",
              "        const element = document.querySelector('#df-e377fd15-1d57-4fcb-b438-614c841f4d92');\n",
              "        const dataTable =\n",
              "          await google.colab.kernel.invokeFunction('convertToInteractive',\n",
              "                                                    [key], {});\n",
              "        if (!dataTable) return;\n",
              "\n",
              "        const docLinkHtml = 'Like what you see? Visit the ' +\n",
              "          '<a target=\"_blank\" href=https://colab.research.google.com/notebooks/data_table.ipynb>data table notebook</a>'\n",
              "          + ' to learn more about interactive tables.';\n",
              "        element.innerHTML = '';\n",
              "        dataTable['output_type'] = 'display_data';\n",
              "        await google.colab.output.renderOutput(dataTable, element);\n",
              "        const docLink = document.createElement('div');\n",
              "        docLink.innerHTML = docLinkHtml;\n",
              "        element.appendChild(docLink);\n",
              "      }\n",
              "    </script>\n",
              "  </div>\n",
              "\n",
              "\n",
              "<div id=\"df-c1db3b05-caa7-4fab-a660-24e42d097804\">\n",
              "  <button class=\"colab-df-quickchart\" onclick=\"quickchart('df-c1db3b05-caa7-4fab-a660-24e42d097804')\"\n",
              "            title=\"Suggest charts\"\n",
              "            style=\"display:none;\">\n",
              "\n",
              "<svg xmlns=\"http://www.w3.org/2000/svg\" height=\"24px\"viewBox=\"0 0 24 24\"\n",
              "     width=\"24px\">\n",
              "    <g>\n",
              "        <path d=\"M19 3H5c-1.1 0-2 .9-2 2v14c0 1.1.9 2 2 2h14c1.1 0 2-.9 2-2V5c0-1.1-.9-2-2-2zM9 17H7v-7h2v7zm4 0h-2V7h2v10zm4 0h-2v-4h2v4z\"/>\n",
              "    </g>\n",
              "</svg>\n",
              "  </button>\n",
              "\n",
              "<style>\n",
              "  .colab-df-quickchart {\n",
              "      --bg-color: #E8F0FE;\n",
              "      --fill-color: #1967D2;\n",
              "      --hover-bg-color: #E2EBFA;\n",
              "      --hover-fill-color: #174EA6;\n",
              "      --disabled-fill-color: #AAA;\n",
              "      --disabled-bg-color: #DDD;\n",
              "  }\n",
              "\n",
              "  [theme=dark] .colab-df-quickchart {\n",
              "      --bg-color: #3B4455;\n",
              "      --fill-color: #D2E3FC;\n",
              "      --hover-bg-color: #434B5C;\n",
              "      --hover-fill-color: #FFFFFF;\n",
              "      --disabled-bg-color: #3B4455;\n",
              "      --disabled-fill-color: #666;\n",
              "  }\n",
              "\n",
              "  .colab-df-quickchart {\n",
              "    background-color: var(--bg-color);\n",
              "    border: none;\n",
              "    border-radius: 50%;\n",
              "    cursor: pointer;\n",
              "    display: none;\n",
              "    fill: var(--fill-color);\n",
              "    height: 32px;\n",
              "    padding: 0;\n",
              "    width: 32px;\n",
              "  }\n",
              "\n",
              "  .colab-df-quickchart:hover {\n",
              "    background-color: var(--hover-bg-color);\n",
              "    box-shadow: 0 1px 2px rgba(60, 64, 67, 0.3), 0 1px 3px 1px rgba(60, 64, 67, 0.15);\n",
              "    fill: var(--button-hover-fill-color);\n",
              "  }\n",
              "\n",
              "  .colab-df-quickchart-complete:disabled,\n",
              "  .colab-df-quickchart-complete:disabled:hover {\n",
              "    background-color: var(--disabled-bg-color);\n",
              "    fill: var(--disabled-fill-color);\n",
              "    box-shadow: none;\n",
              "  }\n",
              "\n",
              "  .colab-df-spinner {\n",
              "    border: 2px solid var(--fill-color);\n",
              "    border-color: transparent;\n",
              "    border-bottom-color: var(--fill-color);\n",
              "    animation:\n",
              "      spin 1s steps(1) infinite;\n",
              "  }\n",
              "\n",
              "  @keyframes spin {\n",
              "    0% {\n",
              "      border-color: transparent;\n",
              "      border-bottom-color: var(--fill-color);\n",
              "      border-left-color: var(--fill-color);\n",
              "    }\n",
              "    20% {\n",
              "      border-color: transparent;\n",
              "      border-left-color: var(--fill-color);\n",
              "      border-top-color: var(--fill-color);\n",
              "    }\n",
              "    30% {\n",
              "      border-color: transparent;\n",
              "      border-left-color: var(--fill-color);\n",
              "      border-top-color: var(--fill-color);\n",
              "      border-right-color: var(--fill-color);\n",
              "    }\n",
              "    40% {\n",
              "      border-color: transparent;\n",
              "      border-right-color: var(--fill-color);\n",
              "      border-top-color: var(--fill-color);\n",
              "    }\n",
              "    60% {\n",
              "      border-color: transparent;\n",
              "      border-right-color: var(--fill-color);\n",
              "    }\n",
              "    80% {\n",
              "      border-color: transparent;\n",
              "      border-right-color: var(--fill-color);\n",
              "      border-bottom-color: var(--fill-color);\n",
              "    }\n",
              "    90% {\n",
              "      border-color: transparent;\n",
              "      border-bottom-color: var(--fill-color);\n",
              "    }\n",
              "  }\n",
              "</style>\n",
              "\n",
              "  <script>\n",
              "    async function quickchart(key) {\n",
              "      const quickchartButtonEl =\n",
              "        document.querySelector('#' + key + ' button');\n",
              "      quickchartButtonEl.disabled = true;  // To prevent multiple clicks.\n",
              "      quickchartButtonEl.classList.add('colab-df-spinner');\n",
              "      try {\n",
              "        const charts = await google.colab.kernel.invokeFunction(\n",
              "            'suggestCharts', [key], {});\n",
              "      } catch (error) {\n",
              "        console.error('Error during call to suggestCharts:', error);\n",
              "      }\n",
              "      quickchartButtonEl.classList.remove('colab-df-spinner');\n",
              "      quickchartButtonEl.classList.add('colab-df-quickchart-complete');\n",
              "    }\n",
              "    (() => {\n",
              "      let quickchartButtonEl =\n",
              "        document.querySelector('#df-c1db3b05-caa7-4fab-a660-24e42d097804 button');\n",
              "      quickchartButtonEl.style.display =\n",
              "        google.colab.kernel.accessAllowed ? 'block' : 'none';\n",
              "    })();\n",
              "  </script>\n",
              "</div>\n",
              "    </div>\n",
              "  </div>\n"
            ],
            "application/vnd.google.colaboratory.intrinsic+json": {
              "type": "dataframe",
              "variable_name": "df_news",
              "summary": "{\n  \"name\": \"df_news\",\n  \"rows\": 13195,\n  \"fields\": [\n    {\n      \"column\": \"Unnamed: 0\",\n      \"properties\": {\n        \"dtype\": \"number\",\n        \"std\": 7022,\n        \"min\": 2,\n        \"max\": 24352,\n        \"samples\": [\n          13874,\n          15191,\n          9671\n        ],\n        \"num_unique_values\": 13195,\n        \"semantic_type\": \"\",\n        \"description\": \"\"\n      }\n    },\n    {\n      \"column\": \"title\",\n      \"properties\": {\n        \"dtype\": \"string\",\n        \"samples\": [\n          \"Puerto Rico takes restructuring law to U.S. high court \",\n          \"Indonesian envoy to urge Myanmar to halt violence against Rohingya Muslims\",\n          \"Pope to meet head of Myanmar army, Rohingya refugees: Vatican\"\n        ],\n        \"num_unique_values\": 13001,\n        \"semantic_type\": \"\",\n        \"description\": \"\"\n      }\n    },\n    {\n      \"column\": \"text\",\n      \"properties\": {\n        \"dtype\": \"string\",\n        \"samples\": [\n          \"WASHINGTON (Reuters) - The NATO alliance\\u2019s mutual defense guarantee,  Article 5, is inviolable, U.S. Secretary of State nominee Rex Tillerson said on Wednesday in response to a question during his Senate confirmation hearing. \",\n          \"RIYADH (Reuters) - France is working to normalize the situation in Lebanon and Prime Minister Saad al-Hariri can come to France whenever he wants, Foreign Minister Jean-Yves le Drian said on Thursday.   Hariri, who I will see later, is invited to France with his family by President Macron. He will come to France when he wants and as soon as he wants. He will be welcome as a friend,  Le Drian told a news conference in Riyadh.  He gave no further details as to when he would travel to France or whether Hariri had accepted the invitation.      \",\n          \"foreign policy russian president vladimir putin gives a speech at a valdai discussion club meeting of political scientists in sochi october   photo by afp \\nrussian president vladimir putin has dismissed as hysteria claims by us officials that moscow is trying to influence the upcoming presidential election in america \\nspeaking to foreign policy experts during a valdai discussion club meeting in sochi southern russia on thursday putin said washington was using russia as a distraction to cover up the fact that this years white house contenders had nothing to offer on real issues \\nhysteria has been whipped up in the united states about the influence of russia over the us presidential election putin said adding that so far no clear policies have been offered by the us political elite to tackle issues such as national debt and gun control \\namerican officials and intelligence agencies have openly accused the kremlin of sponsoring hacking attacks against the us \\nthis is while democratic presidential nominee hillary clinton and her campaign have gone even further claiming that russia was trying to rig the november election in favor of republican nominee donald trump us democratic presidential nominee hillary clinton l and republican nominee donald trump \\nduring the last presidential debate last week clinton accused trump of having secret ties with moscow saying that putin would love to see a puppet president in the white house \\nits much simpler to distract people with socalled russian hackers spies and agents of influence does anyone really think that russia could influence the american peoples choice in any way is america a banana republic or what putin asked in his thursday speech \\nbaffled by the release of a series of hacked emails that have uncovered the inner mechanics of the democratic partys campaign for the election the white house has stepped up its antirussian rhetoric american officials have even threatened russia with countermeasures \\ndespite the general belief however trump has on many occasions called on russiaaccusers to either provide their evidence or stop making baseless assumptions about moscow \\ni dont know if theyre behind it and i think its public relations frankly the realestate mogul said wednesday do you know what bothers me i have nothing to do with russia \\npeople are hacking all over the place and nobody knows they dont know if its russia they cant guarantee its russia and it may be he added loading\"\n        ],\n        \"num_unique_values\": 13195,\n        \"semantic_type\": \"\",\n        \"description\": \"\"\n      }\n    },\n    {\n      \"column\": \"label\",\n      \"properties\": {\n        \"dtype\": \"number\",\n        \"std\": 0,\n        \"min\": 1,\n        \"max\": 1,\n        \"samples\": [\n          1\n        ],\n        \"num_unique_values\": 1,\n        \"semantic_type\": \"\",\n        \"description\": \"\"\n      }\n    }\n  ]\n}"
            }
          },
          "metadata": {},
          "execution_count": 6
        }
      ]
    },
    {
      "cell_type": "code",
      "source": [
        "df_news = df_news[['text', 'label']]\n",
        "df_news.head()"
      ],
      "metadata": {
        "colab": {
          "base_uri": "https://localhost:8080/",
          "height": 206
        },
        "id": "UZP3h_nqjDA1",
        "outputId": "5f92122e-4cb2-4ef4-ebbb-7cb9869c38b6"
      },
      "execution_count": null,
      "outputs": [
        {
          "output_type": "execute_result",
          "data": {
            "text/plain": [
              "                                                 text  label\n",
              "2   MOSCOW (Reuters) - Russia on Wednesday warned ...      1\n",
              "6   LONDON (Reuters) - The lead Brexit negotiator ...      1\n",
              "7   MEXICO CITY (Reuters) - The bullet-riddled bod...      1\n",
              "10  (Reuters) - The digital director for Donald Tr...      1\n",
              "11  BOGOTA (Reuters) - Colombia’s peace deal with ...      1"
            ],
            "text/html": [
              "\n",
              "  <div id=\"df-9daecb59-6b28-48d4-ae32-ab5b79e50842\" class=\"colab-df-container\">\n",
              "    <div>\n",
              "<style scoped>\n",
              "    .dataframe tbody tr th:only-of-type {\n",
              "        vertical-align: middle;\n",
              "    }\n",
              "\n",
              "    .dataframe tbody tr th {\n",
              "        vertical-align: top;\n",
              "    }\n",
              "\n",
              "    .dataframe thead th {\n",
              "        text-align: right;\n",
              "    }\n",
              "</style>\n",
              "<table border=\"1\" class=\"dataframe\">\n",
              "  <thead>\n",
              "    <tr style=\"text-align: right;\">\n",
              "      <th></th>\n",
              "      <th>text</th>\n",
              "      <th>label</th>\n",
              "    </tr>\n",
              "  </thead>\n",
              "  <tbody>\n",
              "    <tr>\n",
              "      <th>2</th>\n",
              "      <td>MOSCOW (Reuters) - Russia on Wednesday warned ...</td>\n",
              "      <td>1</td>\n",
              "    </tr>\n",
              "    <tr>\n",
              "      <th>6</th>\n",
              "      <td>LONDON (Reuters) - The lead Brexit negotiator ...</td>\n",
              "      <td>1</td>\n",
              "    </tr>\n",
              "    <tr>\n",
              "      <th>7</th>\n",
              "      <td>MEXICO CITY (Reuters) - The bullet-riddled bod...</td>\n",
              "      <td>1</td>\n",
              "    </tr>\n",
              "    <tr>\n",
              "      <th>10</th>\n",
              "      <td>(Reuters) - The digital director for Donald Tr...</td>\n",
              "      <td>1</td>\n",
              "    </tr>\n",
              "    <tr>\n",
              "      <th>11</th>\n",
              "      <td>BOGOTA (Reuters) - Colombia’s peace deal with ...</td>\n",
              "      <td>1</td>\n",
              "    </tr>\n",
              "  </tbody>\n",
              "</table>\n",
              "</div>\n",
              "    <div class=\"colab-df-buttons\">\n",
              "\n",
              "  <div class=\"colab-df-container\">\n",
              "    <button class=\"colab-df-convert\" onclick=\"convertToInteractive('df-9daecb59-6b28-48d4-ae32-ab5b79e50842')\"\n",
              "            title=\"Convert this dataframe to an interactive table.\"\n",
              "            style=\"display:none;\">\n",
              "\n",
              "  <svg xmlns=\"http://www.w3.org/2000/svg\" height=\"24px\" viewBox=\"0 -960 960 960\">\n",
              "    <path d=\"M120-120v-720h720v720H120Zm60-500h600v-160H180v160Zm220 220h160v-160H400v160Zm0 220h160v-160H400v160ZM180-400h160v-160H180v160Zm440 0h160v-160H620v160ZM180-180h160v-160H180v160Zm440 0h160v-160H620v160Z\"/>\n",
              "  </svg>\n",
              "    </button>\n",
              "\n",
              "  <style>\n",
              "    .colab-df-container {\n",
              "      display:flex;\n",
              "      gap: 12px;\n",
              "    }\n",
              "\n",
              "    .colab-df-convert {\n",
              "      background-color: #E8F0FE;\n",
              "      border: none;\n",
              "      border-radius: 50%;\n",
              "      cursor: pointer;\n",
              "      display: none;\n",
              "      fill: #1967D2;\n",
              "      height: 32px;\n",
              "      padding: 0 0 0 0;\n",
              "      width: 32px;\n",
              "    }\n",
              "\n",
              "    .colab-df-convert:hover {\n",
              "      background-color: #E2EBFA;\n",
              "      box-shadow: 0px 1px 2px rgba(60, 64, 67, 0.3), 0px 1px 3px 1px rgba(60, 64, 67, 0.15);\n",
              "      fill: #174EA6;\n",
              "    }\n",
              "\n",
              "    .colab-df-buttons div {\n",
              "      margin-bottom: 4px;\n",
              "    }\n",
              "\n",
              "    [theme=dark] .colab-df-convert {\n",
              "      background-color: #3B4455;\n",
              "      fill: #D2E3FC;\n",
              "    }\n",
              "\n",
              "    [theme=dark] .colab-df-convert:hover {\n",
              "      background-color: #434B5C;\n",
              "      box-shadow: 0px 1px 3px 1px rgba(0, 0, 0, 0.15);\n",
              "      filter: drop-shadow(0px 1px 2px rgba(0, 0, 0, 0.3));\n",
              "      fill: #FFFFFF;\n",
              "    }\n",
              "  </style>\n",
              "\n",
              "    <script>\n",
              "      const buttonEl =\n",
              "        document.querySelector('#df-9daecb59-6b28-48d4-ae32-ab5b79e50842 button.colab-df-convert');\n",
              "      buttonEl.style.display =\n",
              "        google.colab.kernel.accessAllowed ? 'block' : 'none';\n",
              "\n",
              "      async function convertToInteractive(key) {\n",
              "        const element = document.querySelector('#df-9daecb59-6b28-48d4-ae32-ab5b79e50842');\n",
              "        const dataTable =\n",
              "          await google.colab.kernel.invokeFunction('convertToInteractive',\n",
              "                                                    [key], {});\n",
              "        if (!dataTable) return;\n",
              "\n",
              "        const docLinkHtml = 'Like what you see? Visit the ' +\n",
              "          '<a target=\"_blank\" href=https://colab.research.google.com/notebooks/data_table.ipynb>data table notebook</a>'\n",
              "          + ' to learn more about interactive tables.';\n",
              "        element.innerHTML = '';\n",
              "        dataTable['output_type'] = 'display_data';\n",
              "        await google.colab.output.renderOutput(dataTable, element);\n",
              "        const docLink = document.createElement('div');\n",
              "        docLink.innerHTML = docLinkHtml;\n",
              "        element.appendChild(docLink);\n",
              "      }\n",
              "    </script>\n",
              "  </div>\n",
              "\n",
              "\n",
              "<div id=\"df-62b2ebef-899c-45b3-978e-268d37766c85\">\n",
              "  <button class=\"colab-df-quickchart\" onclick=\"quickchart('df-62b2ebef-899c-45b3-978e-268d37766c85')\"\n",
              "            title=\"Suggest charts\"\n",
              "            style=\"display:none;\">\n",
              "\n",
              "<svg xmlns=\"http://www.w3.org/2000/svg\" height=\"24px\"viewBox=\"0 0 24 24\"\n",
              "     width=\"24px\">\n",
              "    <g>\n",
              "        <path d=\"M19 3H5c-1.1 0-2 .9-2 2v14c0 1.1.9 2 2 2h14c1.1 0 2-.9 2-2V5c0-1.1-.9-2-2-2zM9 17H7v-7h2v7zm4 0h-2V7h2v10zm4 0h-2v-4h2v4z\"/>\n",
              "    </g>\n",
              "</svg>\n",
              "  </button>\n",
              "\n",
              "<style>\n",
              "  .colab-df-quickchart {\n",
              "      --bg-color: #E8F0FE;\n",
              "      --fill-color: #1967D2;\n",
              "      --hover-bg-color: #E2EBFA;\n",
              "      --hover-fill-color: #174EA6;\n",
              "      --disabled-fill-color: #AAA;\n",
              "      --disabled-bg-color: #DDD;\n",
              "  }\n",
              "\n",
              "  [theme=dark] .colab-df-quickchart {\n",
              "      --bg-color: #3B4455;\n",
              "      --fill-color: #D2E3FC;\n",
              "      --hover-bg-color: #434B5C;\n",
              "      --hover-fill-color: #FFFFFF;\n",
              "      --disabled-bg-color: #3B4455;\n",
              "      --disabled-fill-color: #666;\n",
              "  }\n",
              "\n",
              "  .colab-df-quickchart {\n",
              "    background-color: var(--bg-color);\n",
              "    border: none;\n",
              "    border-radius: 50%;\n",
              "    cursor: pointer;\n",
              "    display: none;\n",
              "    fill: var(--fill-color);\n",
              "    height: 32px;\n",
              "    padding: 0;\n",
              "    width: 32px;\n",
              "  }\n",
              "\n",
              "  .colab-df-quickchart:hover {\n",
              "    background-color: var(--hover-bg-color);\n",
              "    box-shadow: 0 1px 2px rgba(60, 64, 67, 0.3), 0 1px 3px 1px rgba(60, 64, 67, 0.15);\n",
              "    fill: var(--button-hover-fill-color);\n",
              "  }\n",
              "\n",
              "  .colab-df-quickchart-complete:disabled,\n",
              "  .colab-df-quickchart-complete:disabled:hover {\n",
              "    background-color: var(--disabled-bg-color);\n",
              "    fill: var(--disabled-fill-color);\n",
              "    box-shadow: none;\n",
              "  }\n",
              "\n",
              "  .colab-df-spinner {\n",
              "    border: 2px solid var(--fill-color);\n",
              "    border-color: transparent;\n",
              "    border-bottom-color: var(--fill-color);\n",
              "    animation:\n",
              "      spin 1s steps(1) infinite;\n",
              "  }\n",
              "\n",
              "  @keyframes spin {\n",
              "    0% {\n",
              "      border-color: transparent;\n",
              "      border-bottom-color: var(--fill-color);\n",
              "      border-left-color: var(--fill-color);\n",
              "    }\n",
              "    20% {\n",
              "      border-color: transparent;\n",
              "      border-left-color: var(--fill-color);\n",
              "      border-top-color: var(--fill-color);\n",
              "    }\n",
              "    30% {\n",
              "      border-color: transparent;\n",
              "      border-left-color: var(--fill-color);\n",
              "      border-top-color: var(--fill-color);\n",
              "      border-right-color: var(--fill-color);\n",
              "    }\n",
              "    40% {\n",
              "      border-color: transparent;\n",
              "      border-right-color: var(--fill-color);\n",
              "      border-top-color: var(--fill-color);\n",
              "    }\n",
              "    60% {\n",
              "      border-color: transparent;\n",
              "      border-right-color: var(--fill-color);\n",
              "    }\n",
              "    80% {\n",
              "      border-color: transparent;\n",
              "      border-right-color: var(--fill-color);\n",
              "      border-bottom-color: var(--fill-color);\n",
              "    }\n",
              "    90% {\n",
              "      border-color: transparent;\n",
              "      border-bottom-color: var(--fill-color);\n",
              "    }\n",
              "  }\n",
              "</style>\n",
              "\n",
              "  <script>\n",
              "    async function quickchart(key) {\n",
              "      const quickchartButtonEl =\n",
              "        document.querySelector('#' + key + ' button');\n",
              "      quickchartButtonEl.disabled = true;  // To prevent multiple clicks.\n",
              "      quickchartButtonEl.classList.add('colab-df-spinner');\n",
              "      try {\n",
              "        const charts = await google.colab.kernel.invokeFunction(\n",
              "            'suggestCharts', [key], {});\n",
              "      } catch (error) {\n",
              "        console.error('Error during call to suggestCharts:', error);\n",
              "      }\n",
              "      quickchartButtonEl.classList.remove('colab-df-spinner');\n",
              "      quickchartButtonEl.classList.add('colab-df-quickchart-complete');\n",
              "    }\n",
              "    (() => {\n",
              "      let quickchartButtonEl =\n",
              "        document.querySelector('#df-62b2ebef-899c-45b3-978e-268d37766c85 button');\n",
              "      quickchartButtonEl.style.display =\n",
              "        google.colab.kernel.accessAllowed ? 'block' : 'none';\n",
              "    })();\n",
              "  </script>\n",
              "</div>\n",
              "    </div>\n",
              "  </div>\n"
            ],
            "application/vnd.google.colaboratory.intrinsic+json": {
              "type": "dataframe",
              "variable_name": "df_news",
              "summary": "{\n  \"name\": \"df_news\",\n  \"rows\": 13195,\n  \"fields\": [\n    {\n      \"column\": \"text\",\n      \"properties\": {\n        \"dtype\": \"string\",\n        \"samples\": [\n          \"WASHINGTON (Reuters) - The NATO alliance\\u2019s mutual defense guarantee,  Article 5, is inviolable, U.S. Secretary of State nominee Rex Tillerson said on Wednesday in response to a question during his Senate confirmation hearing. \",\n          \"RIYADH (Reuters) - France is working to normalize the situation in Lebanon and Prime Minister Saad al-Hariri can come to France whenever he wants, Foreign Minister Jean-Yves le Drian said on Thursday.   Hariri, who I will see later, is invited to France with his family by President Macron. He will come to France when he wants and as soon as he wants. He will be welcome as a friend,  Le Drian told a news conference in Riyadh.  He gave no further details as to when he would travel to France or whether Hariri had accepted the invitation.      \",\n          \"foreign policy russian president vladimir putin gives a speech at a valdai discussion club meeting of political scientists in sochi october   photo by afp \\nrussian president vladimir putin has dismissed as hysteria claims by us officials that moscow is trying to influence the upcoming presidential election in america \\nspeaking to foreign policy experts during a valdai discussion club meeting in sochi southern russia on thursday putin said washington was using russia as a distraction to cover up the fact that this years white house contenders had nothing to offer on real issues \\nhysteria has been whipped up in the united states about the influence of russia over the us presidential election putin said adding that so far no clear policies have been offered by the us political elite to tackle issues such as national debt and gun control \\namerican officials and intelligence agencies have openly accused the kremlin of sponsoring hacking attacks against the us \\nthis is while democratic presidential nominee hillary clinton and her campaign have gone even further claiming that russia was trying to rig the november election in favor of republican nominee donald trump us democratic presidential nominee hillary clinton l and republican nominee donald trump \\nduring the last presidential debate last week clinton accused trump of having secret ties with moscow saying that putin would love to see a puppet president in the white house \\nits much simpler to distract people with socalled russian hackers spies and agents of influence does anyone really think that russia could influence the american peoples choice in any way is america a banana republic or what putin asked in his thursday speech \\nbaffled by the release of a series of hacked emails that have uncovered the inner mechanics of the democratic partys campaign for the election the white house has stepped up its antirussian rhetoric american officials have even threatened russia with countermeasures \\ndespite the general belief however trump has on many occasions called on russiaaccusers to either provide their evidence or stop making baseless assumptions about moscow \\ni dont know if theyre behind it and i think its public relations frankly the realestate mogul said wednesday do you know what bothers me i have nothing to do with russia \\npeople are hacking all over the place and nobody knows they dont know if its russia they cant guarantee its russia and it may be he added loading\"\n        ],\n        \"num_unique_values\": 13195,\n        \"semantic_type\": \"\",\n        \"description\": \"\"\n      }\n    },\n    {\n      \"column\": \"label\",\n      \"properties\": {\n        \"dtype\": \"number\",\n        \"std\": 0,\n        \"min\": 1,\n        \"max\": 1,\n        \"samples\": [\n          1\n        ],\n        \"num_unique_values\": 1,\n        \"semantic_type\": \"\",\n        \"description\": \"\"\n      }\n    }\n  ]\n}"
            }
          },
          "metadata": {},
          "execution_count": 8
        }
      ]
    },
    {
      "cell_type": "markdown",
      "source": [
        "## EDA"
      ],
      "metadata": {
        "id": "jXf2wL2BezJO"
      }
    },
    {
      "cell_type": "code",
      "source": [
        "df_news.info()"
      ],
      "metadata": {
        "colab": {
          "base_uri": "https://localhost:8080/"
        },
        "id": "9gXQZ1Xod-GV",
        "outputId": "e4b39939-7071-44cf-df64-58f6ba1a581e"
      },
      "execution_count": null,
      "outputs": [
        {
          "output_type": "stream",
          "name": "stdout",
          "text": [
            "<class 'pandas.core.frame.DataFrame'>\n",
            "Int64Index: 13195 entries, 2 to 24352\n",
            "Data columns (total 4 columns):\n",
            " #   Column      Non-Null Count  Dtype \n",
            "---  ------      --------------  ----- \n",
            " 0   Unnamed: 0  13195 non-null  int64 \n",
            " 1   title       13195 non-null  object\n",
            " 2   text        13195 non-null  object\n",
            " 3   label       13195 non-null  int64 \n",
            "dtypes: int64(2), object(2)\n",
            "memory usage: 515.4+ KB\n"
          ]
        }
      ]
    },
    {
      "cell_type": "markdown",
      "source": [
        "Наблюдается отсутствие отсутствующих значений"
      ],
      "metadata": {
        "id": "asprrr_De2Tk"
      }
    },
    {
      "cell_type": "code",
      "source": [
        "for text in df_news['text'].sample(3, random_state=42):\n",
        " print(text)"
      ],
      "metadata": {
        "colab": {
          "base_uri": "https://localhost:8080/"
        },
        "id": "qe2LYtwee4y8",
        "outputId": "554e6325-72ab-4ce5-9ac3-f731a1ecece6"
      },
      "execution_count": null,
      "outputs": [
        {
          "output_type": "stream",
          "name": "stdout",
          "text": [
            "WASHINGTON (Reuters) - The NATO alliance’s mutual defense guarantee,  Article 5, is inviolable, U.S. Secretary of State nominee Rex Tillerson said on Wednesday in response to a question during his Senate confirmation hearing. \n",
            "RIYADH (Reuters) - France is working to normalize the situation in Lebanon and Prime Minister Saad al-Hariri can come to France whenever he wants, Foreign Minister Jean-Yves le Drian said on Thursday.   Hariri, who I will see later, is invited to France with his family by President Macron. He will come to France when he wants and as soon as he wants. He will be welcome as a friend,  Le Drian told a news conference in Riyadh.  He gave no further details as to when he would travel to France or whether Hariri had accepted the invitation.      \n",
            "foreign policy russian president vladimir putin gives a speech at a valdai discussion club meeting of political scientists in sochi october   photo by afp \n",
            "russian president vladimir putin has dismissed as hysteria claims by us officials that moscow is trying to influence the upcoming presidential election in america \n",
            "speaking to foreign policy experts during a valdai discussion club meeting in sochi southern russia on thursday putin said washington was using russia as a distraction to cover up the fact that this years white house contenders had nothing to offer on real issues \n",
            "hysteria has been whipped up in the united states about the influence of russia over the us presidential election putin said adding that so far no clear policies have been offered by the us political elite to tackle issues such as national debt and gun control \n",
            "american officials and intelligence agencies have openly accused the kremlin of sponsoring hacking attacks against the us \n",
            "this is while democratic presidential nominee hillary clinton and her campaign have gone even further claiming that russia was trying to rig the november election in favor of republican nominee donald trump us democratic presidential nominee hillary clinton l and republican nominee donald trump \n",
            "during the last presidential debate last week clinton accused trump of having secret ties with moscow saying that putin would love to see a puppet president in the white house \n",
            "its much simpler to distract people with socalled russian hackers spies and agents of influence does anyone really think that russia could influence the american peoples choice in any way is america a banana republic or what putin asked in his thursday speech \n",
            "baffled by the release of a series of hacked emails that have uncovered the inner mechanics of the democratic partys campaign for the election the white house has stepped up its antirussian rhetoric american officials have even threatened russia with countermeasures \n",
            "despite the general belief however trump has on many occasions called on russiaaccusers to either provide their evidence or stop making baseless assumptions about moscow \n",
            "i dont know if theyre behind it and i think its public relations frankly the realestate mogul said wednesday do you know what bothers me i have nothing to do with russia \n",
            "people are hacking all over the place and nobody knows they dont know if its russia they cant guarantee its russia and it may be he added loading\n"
          ]
        }
      ]
    },
    {
      "cell_type": "markdown",
      "source": [
        "В текстах присутствуют обработанные (?) ссылки"
      ],
      "metadata": {
        "id": "tuDGmgWjgQQx"
      }
    },
    {
      "cell_type": "code",
      "source": [
        "df_news.loc[df_news['text'].str.contains(r'\\bhttp')].head()"
      ],
      "metadata": {
        "colab": {
          "base_uri": "https://localhost:8080/",
          "height": 206
        },
        "id": "zQrN0gZqgS5v",
        "outputId": "b4cbe29b-20f4-4e7e-9260-102a10bc20ce"
      },
      "execution_count": null,
      "outputs": [
        {
          "output_type": "execute_result",
          "data": {
            "text/plain": [
              "                                                   text  label\n",
              "269   on today at  pm  i live in texas and the news ...      1\n",
              "943   httpmediaarchivesgsradionetddukemp dr duke  ma...      1\n",
              "2428  httpmediaarchivesgsradionetddukemp \\ndr duke l...      1\n",
              "6363  i am a rock n roll nigger httpsyoutubegsovftvl...      1\n",
              "6720  hillarys america the secret history of the dem...      1"
            ],
            "text/html": [
              "\n",
              "  <div id=\"df-43748cc8-83fd-4fca-8284-21f72d1d91b1\" class=\"colab-df-container\">\n",
              "    <div>\n",
              "<style scoped>\n",
              "    .dataframe tbody tr th:only-of-type {\n",
              "        vertical-align: middle;\n",
              "    }\n",
              "\n",
              "    .dataframe tbody tr th {\n",
              "        vertical-align: top;\n",
              "    }\n",
              "\n",
              "    .dataframe thead th {\n",
              "        text-align: right;\n",
              "    }\n",
              "</style>\n",
              "<table border=\"1\" class=\"dataframe\">\n",
              "  <thead>\n",
              "    <tr style=\"text-align: right;\">\n",
              "      <th></th>\n",
              "      <th>text</th>\n",
              "      <th>label</th>\n",
              "    </tr>\n",
              "  </thead>\n",
              "  <tbody>\n",
              "    <tr>\n",
              "      <th>269</th>\n",
              "      <td>on today at  pm  i live in texas and the news ...</td>\n",
              "      <td>1</td>\n",
              "    </tr>\n",
              "    <tr>\n",
              "      <th>943</th>\n",
              "      <td>httpmediaarchivesgsradionetddukemp dr duke  ma...</td>\n",
              "      <td>1</td>\n",
              "    </tr>\n",
              "    <tr>\n",
              "      <th>2428</th>\n",
              "      <td>httpmediaarchivesgsradionetddukemp \\ndr duke l...</td>\n",
              "      <td>1</td>\n",
              "    </tr>\n",
              "    <tr>\n",
              "      <th>6363</th>\n",
              "      <td>i am a rock n roll nigger httpsyoutubegsovftvl...</td>\n",
              "      <td>1</td>\n",
              "    </tr>\n",
              "    <tr>\n",
              "      <th>6720</th>\n",
              "      <td>hillarys america the secret history of the dem...</td>\n",
              "      <td>1</td>\n",
              "    </tr>\n",
              "  </tbody>\n",
              "</table>\n",
              "</div>\n",
              "    <div class=\"colab-df-buttons\">\n",
              "\n",
              "  <div class=\"colab-df-container\">\n",
              "    <button class=\"colab-df-convert\" onclick=\"convertToInteractive('df-43748cc8-83fd-4fca-8284-21f72d1d91b1')\"\n",
              "            title=\"Convert this dataframe to an interactive table.\"\n",
              "            style=\"display:none;\">\n",
              "\n",
              "  <svg xmlns=\"http://www.w3.org/2000/svg\" height=\"24px\" viewBox=\"0 -960 960 960\">\n",
              "    <path d=\"M120-120v-720h720v720H120Zm60-500h600v-160H180v160Zm220 220h160v-160H400v160Zm0 220h160v-160H400v160ZM180-400h160v-160H180v160Zm440 0h160v-160H620v160ZM180-180h160v-160H180v160Zm440 0h160v-160H620v160Z\"/>\n",
              "  </svg>\n",
              "    </button>\n",
              "\n",
              "  <style>\n",
              "    .colab-df-container {\n",
              "      display:flex;\n",
              "      gap: 12px;\n",
              "    }\n",
              "\n",
              "    .colab-df-convert {\n",
              "      background-color: #E8F0FE;\n",
              "      border: none;\n",
              "      border-radius: 50%;\n",
              "      cursor: pointer;\n",
              "      display: none;\n",
              "      fill: #1967D2;\n",
              "      height: 32px;\n",
              "      padding: 0 0 0 0;\n",
              "      width: 32px;\n",
              "    }\n",
              "\n",
              "    .colab-df-convert:hover {\n",
              "      background-color: #E2EBFA;\n",
              "      box-shadow: 0px 1px 2px rgba(60, 64, 67, 0.3), 0px 1px 3px 1px rgba(60, 64, 67, 0.15);\n",
              "      fill: #174EA6;\n",
              "    }\n",
              "\n",
              "    .colab-df-buttons div {\n",
              "      margin-bottom: 4px;\n",
              "    }\n",
              "\n",
              "    [theme=dark] .colab-df-convert {\n",
              "      background-color: #3B4455;\n",
              "      fill: #D2E3FC;\n",
              "    }\n",
              "\n",
              "    [theme=dark] .colab-df-convert:hover {\n",
              "      background-color: #434B5C;\n",
              "      box-shadow: 0px 1px 3px 1px rgba(0, 0, 0, 0.15);\n",
              "      filter: drop-shadow(0px 1px 2px rgba(0, 0, 0, 0.3));\n",
              "      fill: #FFFFFF;\n",
              "    }\n",
              "  </style>\n",
              "\n",
              "    <script>\n",
              "      const buttonEl =\n",
              "        document.querySelector('#df-43748cc8-83fd-4fca-8284-21f72d1d91b1 button.colab-df-convert');\n",
              "      buttonEl.style.display =\n",
              "        google.colab.kernel.accessAllowed ? 'block' : 'none';\n",
              "\n",
              "      async function convertToInteractive(key) {\n",
              "        const element = document.querySelector('#df-43748cc8-83fd-4fca-8284-21f72d1d91b1');\n",
              "        const dataTable =\n",
              "          await google.colab.kernel.invokeFunction('convertToInteractive',\n",
              "                                                    [key], {});\n",
              "        if (!dataTable) return;\n",
              "\n",
              "        const docLinkHtml = 'Like what you see? Visit the ' +\n",
              "          '<a target=\"_blank\" href=https://colab.research.google.com/notebooks/data_table.ipynb>data table notebook</a>'\n",
              "          + ' to learn more about interactive tables.';\n",
              "        element.innerHTML = '';\n",
              "        dataTable['output_type'] = 'display_data';\n",
              "        await google.colab.output.renderOutput(dataTable, element);\n",
              "        const docLink = document.createElement('div');\n",
              "        docLink.innerHTML = docLinkHtml;\n",
              "        element.appendChild(docLink);\n",
              "      }\n",
              "    </script>\n",
              "  </div>\n",
              "\n",
              "\n",
              "<div id=\"df-b11aa8dd-4921-43d5-88dd-d6605a42024c\">\n",
              "  <button class=\"colab-df-quickchart\" onclick=\"quickchart('df-b11aa8dd-4921-43d5-88dd-d6605a42024c')\"\n",
              "            title=\"Suggest charts\"\n",
              "            style=\"display:none;\">\n",
              "\n",
              "<svg xmlns=\"http://www.w3.org/2000/svg\" height=\"24px\"viewBox=\"0 0 24 24\"\n",
              "     width=\"24px\">\n",
              "    <g>\n",
              "        <path d=\"M19 3H5c-1.1 0-2 .9-2 2v14c0 1.1.9 2 2 2h14c1.1 0 2-.9 2-2V5c0-1.1-.9-2-2-2zM9 17H7v-7h2v7zm4 0h-2V7h2v10zm4 0h-2v-4h2v4z\"/>\n",
              "    </g>\n",
              "</svg>\n",
              "  </button>\n",
              "\n",
              "<style>\n",
              "  .colab-df-quickchart {\n",
              "      --bg-color: #E8F0FE;\n",
              "      --fill-color: #1967D2;\n",
              "      --hover-bg-color: #E2EBFA;\n",
              "      --hover-fill-color: #174EA6;\n",
              "      --disabled-fill-color: #AAA;\n",
              "      --disabled-bg-color: #DDD;\n",
              "  }\n",
              "\n",
              "  [theme=dark] .colab-df-quickchart {\n",
              "      --bg-color: #3B4455;\n",
              "      --fill-color: #D2E3FC;\n",
              "      --hover-bg-color: #434B5C;\n",
              "      --hover-fill-color: #FFFFFF;\n",
              "      --disabled-bg-color: #3B4455;\n",
              "      --disabled-fill-color: #666;\n",
              "  }\n",
              "\n",
              "  .colab-df-quickchart {\n",
              "    background-color: var(--bg-color);\n",
              "    border: none;\n",
              "    border-radius: 50%;\n",
              "    cursor: pointer;\n",
              "    display: none;\n",
              "    fill: var(--fill-color);\n",
              "    height: 32px;\n",
              "    padding: 0;\n",
              "    width: 32px;\n",
              "  }\n",
              "\n",
              "  .colab-df-quickchart:hover {\n",
              "    background-color: var(--hover-bg-color);\n",
              "    box-shadow: 0 1px 2px rgba(60, 64, 67, 0.3), 0 1px 3px 1px rgba(60, 64, 67, 0.15);\n",
              "    fill: var(--button-hover-fill-color);\n",
              "  }\n",
              "\n",
              "  .colab-df-quickchart-complete:disabled,\n",
              "  .colab-df-quickchart-complete:disabled:hover {\n",
              "    background-color: var(--disabled-bg-color);\n",
              "    fill: var(--disabled-fill-color);\n",
              "    box-shadow: none;\n",
              "  }\n",
              "\n",
              "  .colab-df-spinner {\n",
              "    border: 2px solid var(--fill-color);\n",
              "    border-color: transparent;\n",
              "    border-bottom-color: var(--fill-color);\n",
              "    animation:\n",
              "      spin 1s steps(1) infinite;\n",
              "  }\n",
              "\n",
              "  @keyframes spin {\n",
              "    0% {\n",
              "      border-color: transparent;\n",
              "      border-bottom-color: var(--fill-color);\n",
              "      border-left-color: var(--fill-color);\n",
              "    }\n",
              "    20% {\n",
              "      border-color: transparent;\n",
              "      border-left-color: var(--fill-color);\n",
              "      border-top-color: var(--fill-color);\n",
              "    }\n",
              "    30% {\n",
              "      border-color: transparent;\n",
              "      border-left-color: var(--fill-color);\n",
              "      border-top-color: var(--fill-color);\n",
              "      border-right-color: var(--fill-color);\n",
              "    }\n",
              "    40% {\n",
              "      border-color: transparent;\n",
              "      border-right-color: var(--fill-color);\n",
              "      border-top-color: var(--fill-color);\n",
              "    }\n",
              "    60% {\n",
              "      border-color: transparent;\n",
              "      border-right-color: var(--fill-color);\n",
              "    }\n",
              "    80% {\n",
              "      border-color: transparent;\n",
              "      border-right-color: var(--fill-color);\n",
              "      border-bottom-color: var(--fill-color);\n",
              "    }\n",
              "    90% {\n",
              "      border-color: transparent;\n",
              "      border-bottom-color: var(--fill-color);\n",
              "    }\n",
              "  }\n",
              "</style>\n",
              "\n",
              "  <script>\n",
              "    async function quickchart(key) {\n",
              "      const quickchartButtonEl =\n",
              "        document.querySelector('#' + key + ' button');\n",
              "      quickchartButtonEl.disabled = true;  // To prevent multiple clicks.\n",
              "      quickchartButtonEl.classList.add('colab-df-spinner');\n",
              "      try {\n",
              "        const charts = await google.colab.kernel.invokeFunction(\n",
              "            'suggestCharts', [key], {});\n",
              "      } catch (error) {\n",
              "        console.error('Error during call to suggestCharts:', error);\n",
              "      }\n",
              "      quickchartButtonEl.classList.remove('colab-df-spinner');\n",
              "      quickchartButtonEl.classList.add('colab-df-quickchart-complete');\n",
              "    }\n",
              "    (() => {\n",
              "      let quickchartButtonEl =\n",
              "        document.querySelector('#df-b11aa8dd-4921-43d5-88dd-d6605a42024c button');\n",
              "      quickchartButtonEl.style.display =\n",
              "        google.colab.kernel.accessAllowed ? 'block' : 'none';\n",
              "    })();\n",
              "  </script>\n",
              "</div>\n",
              "    </div>\n",
              "  </div>\n"
            ],
            "application/vnd.google.colaboratory.intrinsic+json": {
              "type": "dataframe",
              "summary": "{\n  \"name\": \"df_news\",\n  \"rows\": 5,\n  \"fields\": [\n    {\n      \"column\": \"text\",\n      \"properties\": {\n        \"dtype\": \"string\",\n        \"samples\": [\n          \"httpmediaarchivesgsradionetddukemp dr duke  mark collett antiwhite scum who promised to leave get the hell out\\ntoday dr duke had british activist mark collett as his guest for the hour they talked about donald trumps latest appointments to his incoming administration steve bannon general michael flynn and even senator jeff sessions are coming under attack from the zio media no doubt because they are not complete cuck sellouts like so many of the neocon rats who opposed trump but suddenly want to offer their experience to the president elect underdog after taking a superenergy pill \\nthey went into the new terminology of red pills blue pills white pills and black pills they agreed that the trump victory has energized white pilled his supporters and black pilled depressed his opponents many of whom promised to leave the country should the donald win well were waiting \\nthis is a fun show that will red pill enlighten your friends please share it widely \\nour show is aired live at  am replayed at et pm eastern and am eastern\",\n          \"hillarys america the secret history of the democratic party  httpwwwtagtelecomvideosvoir\",\n          \"httpmediaarchivesgsradionetddukemp \\ndr duke lauds white hero richard spencer the npi and the true alt right \\ntoday dr duke applauded national policy institute director richard spencer for having staged a conference in a major venue in washington dc that focused on white interests and specifically discussed jewish power as a threat to white interests having crossed the boundary into the taboo realm of jewish power spencer is now under vicious attack from not only the mainstream media but from some segments of the alternative media that are revealing themselves as nothing more that zionist tools \\ndr slattery joined the show and commented on the significance of someone with the visibility of spencer someone with the ability to stage a major conference addressing the reality of jewish power \\nthis show will open your eyes to the amazing progress that we are making please share it widely \\n\\nour show is aired live at  am replayed at et pm eastern and am eastern related share\"\n        ],\n        \"num_unique_values\": 5,\n        \"semantic_type\": \"\",\n        \"description\": \"\"\n      }\n    },\n    {\n      \"column\": \"label\",\n      \"properties\": {\n        \"dtype\": \"number\",\n        \"std\": 0,\n        \"min\": 1,\n        \"max\": 1,\n        \"samples\": [\n          1\n        ],\n        \"num_unique_values\": 1,\n        \"semantic_type\": \"\",\n        \"description\": \"\"\n      }\n    }\n  ]\n}"
            }
          },
          "metadata": {},
          "execution_count": 12
        }
      ]
    },
    {
      "cell_type": "markdown",
      "source": [
        "## Preprocessing"
      ],
      "metadata": {
        "id": "Tjwxv6QfgYfx"
      }
    },
    {
      "cell_type": "markdown",
      "source": [
        "Добавил проверку на язык текстов, поскольку модели зачастую выдавали слова не на английском языке, хотя датасет, судя по информации из карточки, должен быть полностью англоязычным."
      ],
      "metadata": {
        "id": "RA7D1Ax4jwog"
      }
    },
    {
      "cell_type": "code",
      "source": [
        "df_news = df_news.loc[df_news['text'].progress_apply(detect) == 'en']\n",
        "df_news"
      ],
      "metadata": {
        "colab": {
          "base_uri": "https://localhost:8080/",
          "height": 441
        },
        "id": "X2FqI3SEgcHF",
        "outputId": "cb45cf5e-6ab0-45c6-8186-c4410538d6d5"
      },
      "execution_count": null,
      "outputs": [
        {
          "output_type": "stream",
          "name": "stderr",
          "text": [
            "100%|██████████| 13195/13195 [03:21<00:00, 65.41it/s]\n"
          ]
        },
        {
          "output_type": "execute_result",
          "data": {
            "text/plain": [
              "                                                    text  label\n",
              "2      MOSCOW (Reuters) - Russia on Wednesday warned ...      1\n",
              "6      LONDON (Reuters) - The lead Brexit negotiator ...      1\n",
              "7      MEXICO CITY (Reuters) - The bullet-riddled bod...      1\n",
              "10     (Reuters) - The digital director for Donald Tr...      1\n",
              "11     BOGOTA (Reuters) - Colombia’s peace deal with ...      1\n",
              "...                                                  ...    ...\n",
              "24347  WASHINGTON (Reuters) - President Donald Trump ...      1\n",
              "24348  WARSAW (Reuters) - The president of the Europe...      1\n",
              "24349  AMSTERDAM/UNITED NATIONS (Reuters) - An inquir...      1\n",
              "24351  WASHINGTON (Reuters) - U.S. President Donald T...      1\n",
              "24352  KIEV (Reuters) - Ukrainian opposition leader Y...      1\n",
              "\n",
              "[13193 rows x 2 columns]"
            ],
            "text/html": [
              "\n",
              "  <div id=\"df-27f3c519-7d9a-49b7-8a0b-bac0206659ff\" class=\"colab-df-container\">\n",
              "    <div>\n",
              "<style scoped>\n",
              "    .dataframe tbody tr th:only-of-type {\n",
              "        vertical-align: middle;\n",
              "    }\n",
              "\n",
              "    .dataframe tbody tr th {\n",
              "        vertical-align: top;\n",
              "    }\n",
              "\n",
              "    .dataframe thead th {\n",
              "        text-align: right;\n",
              "    }\n",
              "</style>\n",
              "<table border=\"1\" class=\"dataframe\">\n",
              "  <thead>\n",
              "    <tr style=\"text-align: right;\">\n",
              "      <th></th>\n",
              "      <th>text</th>\n",
              "      <th>label</th>\n",
              "    </tr>\n",
              "  </thead>\n",
              "  <tbody>\n",
              "    <tr>\n",
              "      <th>2</th>\n",
              "      <td>MOSCOW (Reuters) - Russia on Wednesday warned ...</td>\n",
              "      <td>1</td>\n",
              "    </tr>\n",
              "    <tr>\n",
              "      <th>6</th>\n",
              "      <td>LONDON (Reuters) - The lead Brexit negotiator ...</td>\n",
              "      <td>1</td>\n",
              "    </tr>\n",
              "    <tr>\n",
              "      <th>7</th>\n",
              "      <td>MEXICO CITY (Reuters) - The bullet-riddled bod...</td>\n",
              "      <td>1</td>\n",
              "    </tr>\n",
              "    <tr>\n",
              "      <th>10</th>\n",
              "      <td>(Reuters) - The digital director for Donald Tr...</td>\n",
              "      <td>1</td>\n",
              "    </tr>\n",
              "    <tr>\n",
              "      <th>11</th>\n",
              "      <td>BOGOTA (Reuters) - Colombia’s peace deal with ...</td>\n",
              "      <td>1</td>\n",
              "    </tr>\n",
              "    <tr>\n",
              "      <th>...</th>\n",
              "      <td>...</td>\n",
              "      <td>...</td>\n",
              "    </tr>\n",
              "    <tr>\n",
              "      <th>24347</th>\n",
              "      <td>WASHINGTON (Reuters) - President Donald Trump ...</td>\n",
              "      <td>1</td>\n",
              "    </tr>\n",
              "    <tr>\n",
              "      <th>24348</th>\n",
              "      <td>WARSAW (Reuters) - The president of the Europe...</td>\n",
              "      <td>1</td>\n",
              "    </tr>\n",
              "    <tr>\n",
              "      <th>24349</th>\n",
              "      <td>AMSTERDAM/UNITED NATIONS (Reuters) - An inquir...</td>\n",
              "      <td>1</td>\n",
              "    </tr>\n",
              "    <tr>\n",
              "      <th>24351</th>\n",
              "      <td>WASHINGTON (Reuters) - U.S. President Donald T...</td>\n",
              "      <td>1</td>\n",
              "    </tr>\n",
              "    <tr>\n",
              "      <th>24352</th>\n",
              "      <td>KIEV (Reuters) - Ukrainian opposition leader Y...</td>\n",
              "      <td>1</td>\n",
              "    </tr>\n",
              "  </tbody>\n",
              "</table>\n",
              "<p>13193 rows × 2 columns</p>\n",
              "</div>\n",
              "    <div class=\"colab-df-buttons\">\n",
              "\n",
              "  <div class=\"colab-df-container\">\n",
              "    <button class=\"colab-df-convert\" onclick=\"convertToInteractive('df-27f3c519-7d9a-49b7-8a0b-bac0206659ff')\"\n",
              "            title=\"Convert this dataframe to an interactive table.\"\n",
              "            style=\"display:none;\">\n",
              "\n",
              "  <svg xmlns=\"http://www.w3.org/2000/svg\" height=\"24px\" viewBox=\"0 -960 960 960\">\n",
              "    <path d=\"M120-120v-720h720v720H120Zm60-500h600v-160H180v160Zm220 220h160v-160H400v160Zm0 220h160v-160H400v160ZM180-400h160v-160H180v160Zm440 0h160v-160H620v160ZM180-180h160v-160H180v160Zm440 0h160v-160H620v160Z\"/>\n",
              "  </svg>\n",
              "    </button>\n",
              "\n",
              "  <style>\n",
              "    .colab-df-container {\n",
              "      display:flex;\n",
              "      gap: 12px;\n",
              "    }\n",
              "\n",
              "    .colab-df-convert {\n",
              "      background-color: #E8F0FE;\n",
              "      border: none;\n",
              "      border-radius: 50%;\n",
              "      cursor: pointer;\n",
              "      display: none;\n",
              "      fill: #1967D2;\n",
              "      height: 32px;\n",
              "      padding: 0 0 0 0;\n",
              "      width: 32px;\n",
              "    }\n",
              "\n",
              "    .colab-df-convert:hover {\n",
              "      background-color: #E2EBFA;\n",
              "      box-shadow: 0px 1px 2px rgba(60, 64, 67, 0.3), 0px 1px 3px 1px rgba(60, 64, 67, 0.15);\n",
              "      fill: #174EA6;\n",
              "    }\n",
              "\n",
              "    .colab-df-buttons div {\n",
              "      margin-bottom: 4px;\n",
              "    }\n",
              "\n",
              "    [theme=dark] .colab-df-convert {\n",
              "      background-color: #3B4455;\n",
              "      fill: #D2E3FC;\n",
              "    }\n",
              "\n",
              "    [theme=dark] .colab-df-convert:hover {\n",
              "      background-color: #434B5C;\n",
              "      box-shadow: 0px 1px 3px 1px rgba(0, 0, 0, 0.15);\n",
              "      filter: drop-shadow(0px 1px 2px rgba(0, 0, 0, 0.3));\n",
              "      fill: #FFFFFF;\n",
              "    }\n",
              "  </style>\n",
              "\n",
              "    <script>\n",
              "      const buttonEl =\n",
              "        document.querySelector('#df-27f3c519-7d9a-49b7-8a0b-bac0206659ff button.colab-df-convert');\n",
              "      buttonEl.style.display =\n",
              "        google.colab.kernel.accessAllowed ? 'block' : 'none';\n",
              "\n",
              "      async function convertToInteractive(key) {\n",
              "        const element = document.querySelector('#df-27f3c519-7d9a-49b7-8a0b-bac0206659ff');\n",
              "        const dataTable =\n",
              "          await google.colab.kernel.invokeFunction('convertToInteractive',\n",
              "                                                    [key], {});\n",
              "        if (!dataTable) return;\n",
              "\n",
              "        const docLinkHtml = 'Like what you see? Visit the ' +\n",
              "          '<a target=\"_blank\" href=https://colab.research.google.com/notebooks/data_table.ipynb>data table notebook</a>'\n",
              "          + ' to learn more about interactive tables.';\n",
              "        element.innerHTML = '';\n",
              "        dataTable['output_type'] = 'display_data';\n",
              "        await google.colab.output.renderOutput(dataTable, element);\n",
              "        const docLink = document.createElement('div');\n",
              "        docLink.innerHTML = docLinkHtml;\n",
              "        element.appendChild(docLink);\n",
              "      }\n",
              "    </script>\n",
              "  </div>\n",
              "\n",
              "\n",
              "<div id=\"df-5706d1d6-bf73-4d84-84eb-e753c8506f48\">\n",
              "  <button class=\"colab-df-quickchart\" onclick=\"quickchart('df-5706d1d6-bf73-4d84-84eb-e753c8506f48')\"\n",
              "            title=\"Suggest charts\"\n",
              "            style=\"display:none;\">\n",
              "\n",
              "<svg xmlns=\"http://www.w3.org/2000/svg\" height=\"24px\"viewBox=\"0 0 24 24\"\n",
              "     width=\"24px\">\n",
              "    <g>\n",
              "        <path d=\"M19 3H5c-1.1 0-2 .9-2 2v14c0 1.1.9 2 2 2h14c1.1 0 2-.9 2-2V5c0-1.1-.9-2-2-2zM9 17H7v-7h2v7zm4 0h-2V7h2v10zm4 0h-2v-4h2v4z\"/>\n",
              "    </g>\n",
              "</svg>\n",
              "  </button>\n",
              "\n",
              "<style>\n",
              "  .colab-df-quickchart {\n",
              "      --bg-color: #E8F0FE;\n",
              "      --fill-color: #1967D2;\n",
              "      --hover-bg-color: #E2EBFA;\n",
              "      --hover-fill-color: #174EA6;\n",
              "      --disabled-fill-color: #AAA;\n",
              "      --disabled-bg-color: #DDD;\n",
              "  }\n",
              "\n",
              "  [theme=dark] .colab-df-quickchart {\n",
              "      --bg-color: #3B4455;\n",
              "      --fill-color: #D2E3FC;\n",
              "      --hover-bg-color: #434B5C;\n",
              "      --hover-fill-color: #FFFFFF;\n",
              "      --disabled-bg-color: #3B4455;\n",
              "      --disabled-fill-color: #666;\n",
              "  }\n",
              "\n",
              "  .colab-df-quickchart {\n",
              "    background-color: var(--bg-color);\n",
              "    border: none;\n",
              "    border-radius: 50%;\n",
              "    cursor: pointer;\n",
              "    display: none;\n",
              "    fill: var(--fill-color);\n",
              "    height: 32px;\n",
              "    padding: 0;\n",
              "    width: 32px;\n",
              "  }\n",
              "\n",
              "  .colab-df-quickchart:hover {\n",
              "    background-color: var(--hover-bg-color);\n",
              "    box-shadow: 0 1px 2px rgba(60, 64, 67, 0.3), 0 1px 3px 1px rgba(60, 64, 67, 0.15);\n",
              "    fill: var(--button-hover-fill-color);\n",
              "  }\n",
              "\n",
              "  .colab-df-quickchart-complete:disabled,\n",
              "  .colab-df-quickchart-complete:disabled:hover {\n",
              "    background-color: var(--disabled-bg-color);\n",
              "    fill: var(--disabled-fill-color);\n",
              "    box-shadow: none;\n",
              "  }\n",
              "\n",
              "  .colab-df-spinner {\n",
              "    border: 2px solid var(--fill-color);\n",
              "    border-color: transparent;\n",
              "    border-bottom-color: var(--fill-color);\n",
              "    animation:\n",
              "      spin 1s steps(1) infinite;\n",
              "  }\n",
              "\n",
              "  @keyframes spin {\n",
              "    0% {\n",
              "      border-color: transparent;\n",
              "      border-bottom-color: var(--fill-color);\n",
              "      border-left-color: var(--fill-color);\n",
              "    }\n",
              "    20% {\n",
              "      border-color: transparent;\n",
              "      border-left-color: var(--fill-color);\n",
              "      border-top-color: var(--fill-color);\n",
              "    }\n",
              "    30% {\n",
              "      border-color: transparent;\n",
              "      border-left-color: var(--fill-color);\n",
              "      border-top-color: var(--fill-color);\n",
              "      border-right-color: var(--fill-color);\n",
              "    }\n",
              "    40% {\n",
              "      border-color: transparent;\n",
              "      border-right-color: var(--fill-color);\n",
              "      border-top-color: var(--fill-color);\n",
              "    }\n",
              "    60% {\n",
              "      border-color: transparent;\n",
              "      border-right-color: var(--fill-color);\n",
              "    }\n",
              "    80% {\n",
              "      border-color: transparent;\n",
              "      border-right-color: var(--fill-color);\n",
              "      border-bottom-color: var(--fill-color);\n",
              "    }\n",
              "    90% {\n",
              "      border-color: transparent;\n",
              "      border-bottom-color: var(--fill-color);\n",
              "    }\n",
              "  }\n",
              "</style>\n",
              "\n",
              "  <script>\n",
              "    async function quickchart(key) {\n",
              "      const quickchartButtonEl =\n",
              "        document.querySelector('#' + key + ' button');\n",
              "      quickchartButtonEl.disabled = true;  // To prevent multiple clicks.\n",
              "      quickchartButtonEl.classList.add('colab-df-spinner');\n",
              "      try {\n",
              "        const charts = await google.colab.kernel.invokeFunction(\n",
              "            'suggestCharts', [key], {});\n",
              "      } catch (error) {\n",
              "        console.error('Error during call to suggestCharts:', error);\n",
              "      }\n",
              "      quickchartButtonEl.classList.remove('colab-df-spinner');\n",
              "      quickchartButtonEl.classList.add('colab-df-quickchart-complete');\n",
              "    }\n",
              "    (() => {\n",
              "      let quickchartButtonEl =\n",
              "        document.querySelector('#df-5706d1d6-bf73-4d84-84eb-e753c8506f48 button');\n",
              "      quickchartButtonEl.style.display =\n",
              "        google.colab.kernel.accessAllowed ? 'block' : 'none';\n",
              "    })();\n",
              "  </script>\n",
              "</div>\n",
              "    </div>\n",
              "  </div>\n"
            ],
            "application/vnd.google.colaboratory.intrinsic+json": {
              "type": "dataframe",
              "variable_name": "df_news",
              "summary": "{\n  \"name\": \"df_news\",\n  \"rows\": 13193,\n  \"fields\": [\n    {\n      \"column\": \"text\",\n      \"properties\": {\n        \"dtype\": \"string\",\n        \"samples\": [\n          \"NEW YORK (Reuters) - The judge presiding over the criminal case against President Donald Trump\\u2019s former campaign manager issued a gag order on Wednesday barring anyone involved in the case from making public statements that might taint it.  Paul Manafort and his associate Rick Gates were arraigned in federal court in Washington last week on a 12-count indictment that accused them of conspiring to launder money, failing to disclose foreign bank accounts and failing to register as foreign agents of Ukraine\\u2019s former pro-Russian government. U.S. District Judge Amy Berman Jackson said in her written order she wanted to make sure the trial was fair and that potential jurors were not influenced by pre-trial publicity. She directed the defendants, all lawyers and any potential witnesses to \\u201crefrain from making statements to the media or in public settings that pose a substantial likelihood of material prejudice\\u201d to the case.  Jackson had previously warned lawyers about discussing the case publicly after Manafort defense lawyer Kevin Downing made a defiant statement outside the courthouse following his client\\u2019s arraignment on Monday. \\u201cThis is a criminal trial and not a public relations campaign,\\u201d Jackson said in court last week. Downing, appearing before television cameras on Monday, said the charges against Manafort were \\u201cridiculous\\u201d and said the president was correct to insist there was \\u201cno evidence the Trump campaign colluded with the Russian government.\\u201d The charges against Manafort and Gates stem from special counsel Robert Mueller\\u2019s probe of Russian interference in the 2016 presidential election and possible collusion with the Trump campaign. Manafort and Gates have both pleaded not guilty.  The Kremlin has denied meddling in the election and Trump has denied any collusion took place. Downing did not respond to a request for comment. Peter Carr, a spokesman for Mueller, declined to comment. Jackson had asked the parties last week if they had any objections to a gag order. None responded. Downing\\u2019s statements outside the courthouse had raised eyebrows among defense lawyers. \\u201cJudge Jackson is a no-nonsense judge and he\\u2019s clearly angered her to no purpose,\\u201d said Eric Lewis, a longtime Washington trial lawyer. But Los Angeles defense lawyer Mark Geragos said he thought Downing might indeed have had a purpose in mind: currying favor with Trump in the hopes of eventually securing Manafort a presidential pardon. \\u201cThe cynic in me would say that was exactly what was happening,\\u201d said Geragos, \\u201cthat there was an audience of one.\\u201d  \",\n          \"HANOVER, Germany (Reuters) - Members of the anti-immigrant Alternative for Germany (AfD) party elected a right-wing nationalist to be their co-leader on Saturday, signaling a possible toughening of tone before regional votes next year. A party congress chose Alexander Gauland - who once defended an AfD member who had said history should be rewritten to focus on German victims of World War Two - to return to the post he had held until 2015. As members deliberated, thousands of anti-AfD protesters marched outside carrying placards reading  Hanover against Nazis  and  Stand up to racism . Earlier, riot police fired water cannon at dozens of protesters who blocked a road leading to the congress, underlining the divisive impact the party has had since it entered the Bundestag lower house for the first time in a Sept. 24 election. The party s incumbent leader Jorg Meuthen - seen as a relative moderate in the movement - won enough votes to keep his post. But in a vote that dragged into the evening, he was joined as co-leader by Gauland, who ran for the post at the last minute after another candidate seen as a moderate, Georg Pazderski, failed to win enough votes. Before the leadership vote, Meuthen praised the party often beset by internal strife for showing unity after two senior members quit in September in protest against what they saw as an unstoppable populist streak.  There are people in this country who don t only say  We can do this  but who actually manage to do something,  Meuthen told delegates, putting a new twist on Chancellor Angela Merkel s  Wir schaffen das  (We can do it) message to those who doubted Germany can deal with a record influx of migrants in 2015. As thousands of protesters marched peacefully outside, AfD delegates watched a short film that painted a gloomy picture of Europe s largest economy being overrun by beggars, stone-throwers and Muslims. Founded in 2013 as a vehicle to oppose euro zone bailouts, the AfD was polling at around 3 percent nationally two years ago on the eve of the refugee crisis. The arrival of more than 1.6 million people seeking asylum in the two years to the end of 2016 has helped it morph into an anti-immigrant party that now has seats in 14 of Germany s 16 regional parliament. Polls suggest it will win seats in next year s regional elections in the southern state of Bavaria and the western region of Hesse, which would give it a foothold in all of Germany s state parliaments. Gauland replaces Frauke Petry, who quit to become an independent member of parliament. Her sudden departure two days after the AfD became the first far-right party to win seats in the Bundestag since the 1950s exposed rifts over whether the party should ditch rhetoric including statements saying Islam was not compatible with the German constitution. \",\n          \"ANKARA (Reuters) - Turkish President Tayyip Erdogan said on Sunday businessmen who attempted to move assets abroad were  traitors , and called on his cabinet to block any such moves.  I am seeing signals, news that some businessmen are trying to move their assets abroad, and I call on firstly my cabinet from here to never allow this exit for any of them because these people are traitors,  Erdogan said. Speaking to members of his ruling AK Party in the eastern province of Mus, Erdogan did not say to whom he was referring, nor did he single out a single business, person or country of destination. His comments come after the state-run Anadolu news agency said on Friday that Turkish prosecutors were set to seize the assets of Turkish-Iranian gold trader Reza Zarrab, who is cooperating with U.S. prosecutors in the trial of a Turkish bank executive charged with evading U.S. sanctions on Iran, and his acquaintances. The trial has caused already strained ties between NATO allies Ankara and Washington to deteriorate further as Zarrab detailed in court a scheme to evade the U.S. sanctions, saying that Erdogan personally authorized two Turkish banks to join the scheme when prime minister. Ankara has cast the testimony as an attempt to undermine Turkey and its economy, and has previously said it was a  clear plot  by the network of U.S.-based Fethullah Gulen, who it alleges engineered last year s coup attempt.  We cannot take kindly to those who earn in this country and then try to take those earnings abroad,  Erdogan said.         \"\n        ],\n        \"num_unique_values\": 13193,\n        \"semantic_type\": \"\",\n        \"description\": \"\"\n      }\n    },\n    {\n      \"column\": \"label\",\n      \"properties\": {\n        \"dtype\": \"number\",\n        \"std\": 0,\n        \"min\": 1,\n        \"max\": 1,\n        \"samples\": [\n          1\n        ],\n        \"num_unique_values\": 1,\n        \"semantic_type\": \"\",\n        \"description\": \"\"\n      }\n    }\n  ]\n}"
            }
          },
          "metadata": {},
          "execution_count": 13
        }
      ]
    },
    {
      "cell_type": "markdown",
      "source": [
        "Удалим из текстов источники, указанные в начале, ссылки и странные наборы из букв и цифр вида *dsf876dsf*. Также заменим даты и числа на плейсхолдеры, приведём кавычки к одному типу"
      ],
      "metadata": {
        "id": "z8WN6ts3lCMJ"
      }
    },
    {
      "cell_type": "code",
      "source": [
        "def del_source(text: str) -> str:\n",
        "  return re.sub(r'^.*?\\(\\w+\\) - ', '', text)\n",
        "\n",
        "def del_links(text: str) -> str:\n",
        "  return re.sub('\\bhttps?\\w+', '', text, flags=re.I)\n",
        "\n",
        "def replace_dates(text: str) -> str:\n",
        "  return re.sub(r\"\\d{4}s?\", 'DATE_PLACEHOLDER', text, flags=re.I)\n",
        "\n",
        "def replace_numerals(text: str) -> str:\n",
        "  return re.sub(r\"\\b\\d[\\d\\.,/]*(st|th|rd|nd)?\\b\", 'NUMERAL_PLACEHOLDER', text, flags=re.I)\n",
        "\n",
        "def del_broken_words(text: str) -> str:\n",
        "  return re.sub(r'r\\b\\w*[a-z]\\w*\\d+\\w*\\b|\\b\\w*\\d+\\w*[a-z]\\w*\\b', '', text, flags=re.I)\n",
        "\n",
        "def replace_quotation_marks(text: str) -> str:\n",
        "  quotes = {\n",
        "      '“': '\"',\n",
        "      '”': '\"',\n",
        "      '‘': \"'\",\n",
        "      '’': \"'\",\n",
        "      '‚': \"'\",\n",
        "      '‛': \"'\",\n",
        "      '„': '\"',\n",
        "      '‟': '\"'\n",
        "  }\n",
        "\n",
        "  for non_standard, standard in quotes.items():\n",
        "    text = text.replace(non_standard, standard)\n",
        "\n",
        "  return text"
      ],
      "metadata": {
        "id": "uNLy6xs8kAog"
      },
      "execution_count": null,
      "outputs": []
    },
    {
      "cell_type": "code",
      "source": [
        "df_news['text'] = df_news['text'].apply(del_source).apply(del_links).apply(del_broken_words).apply(replace_dates).apply(replace_numerals).apply(replace_quotation_marks)\n",
        "for text in df_news['text'].sample(3, random_state=42):\n",
        " print(text)"
      ],
      "metadata": {
        "colab": {
          "base_uri": "https://localhost:8080/"
        },
        "id": "rZSwmWrUpmiR",
        "outputId": "31e431b4-7ab5-4cee-e532-3afcf19cdb49"
      },
      "execution_count": null,
      "outputs": [
        {
          "output_type": "stream",
          "name": "stdout",
          "text": [
            "The judge presiding over the criminal case against President Donald Trump's former campaign manager issued a gag order on Wednesday barring anyone involved in the case from making public statements that might taint it.  Paul Manafort and his associate Rick Gates were arraigned in federal court in Washington last week on a NUMERAL_PLACEHOLDER-count indictment that accused them of conspiring to launder money, failing to disclose foreign bank accounts and failing to register as foreign agents of Ukraine's former pro-Russian government. U.S. District Judge Amy Berman Jackson said in her written order she wanted to make sure the trial was fair and that potential jurors were not influenced by pre-trial publicity. She directed the defendants, all lawyers and any potential witnesses to \"refrain from making statements to the media or in public settings that pose a substantial likelihood of material prejudice\" to the case.  Jackson had previously warned lawyers about discussing the case publicly after Manafort defense lawyer Kevin Downing made a defiant statement outside the courthouse following his client's arraignment on Monday. \"This is a criminal trial and not a public relations campaign,\" Jackson said in court last week. Downing, appearing before television cameras on Monday, said the charges against Manafort were \"ridiculous\" and said the president was correct to insist there was \"no evidence the Trump campaign colluded with the Russian government.\" The charges against Manafort and Gates stem from special counsel Robert Mueller's probe of Russian interference in the DATE_PLACEHOLDER presidential election and possible collusion with the Trump campaign. Manafort and Gates have both pleaded not guilty.  The Kremlin has denied meddling in the election and Trump has denied any collusion took place. Downing did not respond to a request for comment. Peter Carr, a spokesman for Mueller, declined to comment. Jackson had asked the parties last week if they had any objections to a gag order. None responded. Downing's statements outside the courthouse had raised eyebrows among defense lawyers. \"Judge Jackson is a no-nonsense judge and he's clearly angered her to no purpose,\" said Eric Lewis, a longtime Washington trial lawyer. But Los Angeles defense lawyer Mark Geragos said he thought Downing might indeed have had a purpose in mind: currying favor with Trump in the hopes of eventually securing Manafort a presidential pardon. \"The cynic in me would say that was exactly what was happening,\" said Geragos, \"that there was an audience of one.\"  \n",
            "Members of the anti-immigrant Alternative for Germany (AfD) party elected a right-wing nationalist to be their co-leader on Saturday, signaling a possible toughening of tone before regional votes next year. A party congress chose Alexander Gauland - who once defended an AfD member who had said history should be rewritten to focus on German victims of World War Two - to return to the post he had held until DATE_PLACEHOLDER. As members deliberated, thousands of anti-AfD protesters marched outside carrying placards reading  Hanover against Nazis  and  Stand up to racism . Earlier, riot police fired water cannon at dozens of protesters who blocked a road leading to the congress, underlining the divisive impact the party has had since it entered the Bundestag lower house for the first time in a Sept. NUMERAL_PLACEHOLDER election. The party s incumbent leader Jorg Meuthen - seen as a relative moderate in the movement - won enough votes to keep his post. But in a vote that dragged into the evening, he was joined as co-leader by Gauland, who ran for the post at the last minute after another candidate seen as a moderate, Georg Pazderski, failed to win enough votes. Before the leadership vote, Meuthen praised the party often beset by internal strife for showing unity after two senior members quit in September in protest against what they saw as an unstoppable populist streak.  There are people in this country who don t only say  We can do this  but who actually manage to do something,  Meuthen told delegates, putting a new twist on Chancellor Angela Merkel s  Wir schaffen das  (We can do it) message to those who doubted Germany can deal with a record influx of migrants in DATE_PLACEHOLDER. As thousands of protesters marched peacefully outside, AfD delegates watched a short film that painted a gloomy picture of Europe s largest economy being overrun by beggars, stone-throwers and Muslims. Founded in DATE_PLACEHOLDER as a vehicle to oppose euro zone bailouts, the AfD was polling at around NUMERAL_PLACEHOLDER percent nationally two years ago on the eve of the refugee crisis. The arrival of more than NUMERAL_PLACEHOLDER million people seeking asylum in the two years to the end of DATE_PLACEHOLDER has helped it morph into an anti-immigrant party that now has seats in NUMERAL_PLACEHOLDER of Germany s NUMERAL_PLACEHOLDER regional parliament. Polls suggest it will win seats in next year s regional elections in the southern state of Bavaria and the western region of Hesse, which would give it a foothold in all of Germany s state parliaments. Gauland replaces Frauke Petry, who quit to become an independent member of parliament. Her sudden departure two days after the AfD became the first far-right party to win seats in the Bundestag since the  exposed rifts over whether the party should ditch rhetoric including statements saying Islam was not compatible with the German constitution. \n",
            "Turkish President Tayyip Erdogan said on Sunday businessmen who attempted to move assets abroad were  traitors , and called on his cabinet to block any such moves.  I am seeing signals, news that some businessmen are trying to move their assets abroad, and I call on firstly my cabinet from here to never allow this exit for any of them because these people are traitors,  Erdogan said. Speaking to members of his ruling AK Party in the eastern province of Mus, Erdogan did not say to whom he was referring, nor did he single out a single business, person or country of destination. His comments come after the state-run Anadolu news agency said on Friday that Turkish prosecutors were set to seize the assets of Turkish-Iranian gold trader Reza Zarrab, who is cooperating with U.S. prosecutors in the trial of a Turkish bank executive charged with evading U.S. sanctions on Iran, and his acquaintances. The trial has caused already strained ties between NATO allies Ankara and Washington to deteriorate further as Zarrab detailed in court a scheme to evade the U.S. sanctions, saying that Erdogan personally authorized two Turkish banks to join the scheme when prime minister. Ankara has cast the testimony as an attempt to undermine Turkey and its economy, and has previously said it was a  clear plot  by the network of U.S.-based Fethullah Gulen, who it alleges engineered last year s coup attempt.  We cannot take kindly to those who earn in this country and then try to take those earnings abroad,  Erdogan said.         \n"
          ]
        }
      ]
    },
    {
      "cell_type": "markdown",
      "source": [
        "Почистим датасет, чтобы уменьшить время на обработку"
      ],
      "metadata": {
        "id": "CJNUR0WtqEAP"
      }
    },
    {
      "cell_type": "code",
      "source": [
        "df_news.replace('', pd.NA, inplace=True)\n",
        "df_news.drop_duplicates(subset='text', inplace=True)\n",
        "df_news.dropna(inplace=True)\n",
        "df_news.reset_index(drop=True, inplace=True)\n",
        "df_news"
      ],
      "metadata": {
        "colab": {
          "base_uri": "https://localhost:8080/",
          "height": 424
        },
        "id": "YgMn2R6Ep_eH",
        "outputId": "58bd53a6-2fae-4362-b752-90003d9b8250"
      },
      "execution_count": null,
      "outputs": [
        {
          "output_type": "execute_result",
          "data": {
            "text/plain": [
              "                                                    text  label\n",
              "0      Russia on Wednesday warned Iraq and the Kurds ...      1\n",
              "1      The lead Brexit negotiator for the European Pa...      1\n",
              "2      The bullet-riddled body of a news photographer...      1\n",
              "3      The digital director for Donald Trump's DATE_P...      1\n",
              "4      Colombia's peace deal with the Marxist FARC re...      1\n",
              "...                                                  ...    ...\n",
              "13188  President Donald Trump on Tuesday nominated Ne...      1\n",
              "13189  The president of the European Parliament said ...      1\n",
              "13190  An inquiry by the global chemical weapons watc...      1\n",
              "13191  U.S. President Donald Trump's pick for secreta...      1\n",
              "13192  Ukrainian opposition leader Yulia Tymoshenko s...      1\n",
              "\n",
              "[13193 rows x 2 columns]"
            ],
            "text/html": [
              "\n",
              "  <div id=\"df-1fdb80e9-4fa2-4981-9268-9b2c7cd55412\" class=\"colab-df-container\">\n",
              "    <div>\n",
              "<style scoped>\n",
              "    .dataframe tbody tr th:only-of-type {\n",
              "        vertical-align: middle;\n",
              "    }\n",
              "\n",
              "    .dataframe tbody tr th {\n",
              "        vertical-align: top;\n",
              "    }\n",
              "\n",
              "    .dataframe thead th {\n",
              "        text-align: right;\n",
              "    }\n",
              "</style>\n",
              "<table border=\"1\" class=\"dataframe\">\n",
              "  <thead>\n",
              "    <tr style=\"text-align: right;\">\n",
              "      <th></th>\n",
              "      <th>text</th>\n",
              "      <th>label</th>\n",
              "    </tr>\n",
              "  </thead>\n",
              "  <tbody>\n",
              "    <tr>\n",
              "      <th>0</th>\n",
              "      <td>Russia on Wednesday warned Iraq and the Kurds ...</td>\n",
              "      <td>1</td>\n",
              "    </tr>\n",
              "    <tr>\n",
              "      <th>1</th>\n",
              "      <td>The lead Brexit negotiator for the European Pa...</td>\n",
              "      <td>1</td>\n",
              "    </tr>\n",
              "    <tr>\n",
              "      <th>2</th>\n",
              "      <td>The bullet-riddled body of a news photographer...</td>\n",
              "      <td>1</td>\n",
              "    </tr>\n",
              "    <tr>\n",
              "      <th>3</th>\n",
              "      <td>The digital director for Donald Trump's DATE_P...</td>\n",
              "      <td>1</td>\n",
              "    </tr>\n",
              "    <tr>\n",
              "      <th>4</th>\n",
              "      <td>Colombia's peace deal with the Marxist FARC re...</td>\n",
              "      <td>1</td>\n",
              "    </tr>\n",
              "    <tr>\n",
              "      <th>...</th>\n",
              "      <td>...</td>\n",
              "      <td>...</td>\n",
              "    </tr>\n",
              "    <tr>\n",
              "      <th>13188</th>\n",
              "      <td>President Donald Trump on Tuesday nominated Ne...</td>\n",
              "      <td>1</td>\n",
              "    </tr>\n",
              "    <tr>\n",
              "      <th>13189</th>\n",
              "      <td>The president of the European Parliament said ...</td>\n",
              "      <td>1</td>\n",
              "    </tr>\n",
              "    <tr>\n",
              "      <th>13190</th>\n",
              "      <td>An inquiry by the global chemical weapons watc...</td>\n",
              "      <td>1</td>\n",
              "    </tr>\n",
              "    <tr>\n",
              "      <th>13191</th>\n",
              "      <td>U.S. President Donald Trump's pick for secreta...</td>\n",
              "      <td>1</td>\n",
              "    </tr>\n",
              "    <tr>\n",
              "      <th>13192</th>\n",
              "      <td>Ukrainian opposition leader Yulia Tymoshenko s...</td>\n",
              "      <td>1</td>\n",
              "    </tr>\n",
              "  </tbody>\n",
              "</table>\n",
              "<p>13193 rows × 2 columns</p>\n",
              "</div>\n",
              "    <div class=\"colab-df-buttons\">\n",
              "\n",
              "  <div class=\"colab-df-container\">\n",
              "    <button class=\"colab-df-convert\" onclick=\"convertToInteractive('df-1fdb80e9-4fa2-4981-9268-9b2c7cd55412')\"\n",
              "            title=\"Convert this dataframe to an interactive table.\"\n",
              "            style=\"display:none;\">\n",
              "\n",
              "  <svg xmlns=\"http://www.w3.org/2000/svg\" height=\"24px\" viewBox=\"0 -960 960 960\">\n",
              "    <path d=\"M120-120v-720h720v720H120Zm60-500h600v-160H180v160Zm220 220h160v-160H400v160Zm0 220h160v-160H400v160ZM180-400h160v-160H180v160Zm440 0h160v-160H620v160ZM180-180h160v-160H180v160Zm440 0h160v-160H620v160Z\"/>\n",
              "  </svg>\n",
              "    </button>\n",
              "\n",
              "  <style>\n",
              "    .colab-df-container {\n",
              "      display:flex;\n",
              "      gap: 12px;\n",
              "    }\n",
              "\n",
              "    .colab-df-convert {\n",
              "      background-color: #E8F0FE;\n",
              "      border: none;\n",
              "      border-radius: 50%;\n",
              "      cursor: pointer;\n",
              "      display: none;\n",
              "      fill: #1967D2;\n",
              "      height: 32px;\n",
              "      padding: 0 0 0 0;\n",
              "      width: 32px;\n",
              "    }\n",
              "\n",
              "    .colab-df-convert:hover {\n",
              "      background-color: #E2EBFA;\n",
              "      box-shadow: 0px 1px 2px rgba(60, 64, 67, 0.3), 0px 1px 3px 1px rgba(60, 64, 67, 0.15);\n",
              "      fill: #174EA6;\n",
              "    }\n",
              "\n",
              "    .colab-df-buttons div {\n",
              "      margin-bottom: 4px;\n",
              "    }\n",
              "\n",
              "    [theme=dark] .colab-df-convert {\n",
              "      background-color: #3B4455;\n",
              "      fill: #D2E3FC;\n",
              "    }\n",
              "\n",
              "    [theme=dark] .colab-df-convert:hover {\n",
              "      background-color: #434B5C;\n",
              "      box-shadow: 0px 1px 3px 1px rgba(0, 0, 0, 0.15);\n",
              "      filter: drop-shadow(0px 1px 2px rgba(0, 0, 0, 0.3));\n",
              "      fill: #FFFFFF;\n",
              "    }\n",
              "  </style>\n",
              "\n",
              "    <script>\n",
              "      const buttonEl =\n",
              "        document.querySelector('#df-1fdb80e9-4fa2-4981-9268-9b2c7cd55412 button.colab-df-convert');\n",
              "      buttonEl.style.display =\n",
              "        google.colab.kernel.accessAllowed ? 'block' : 'none';\n",
              "\n",
              "      async function convertToInteractive(key) {\n",
              "        const element = document.querySelector('#df-1fdb80e9-4fa2-4981-9268-9b2c7cd55412');\n",
              "        const dataTable =\n",
              "          await google.colab.kernel.invokeFunction('convertToInteractive',\n",
              "                                                    [key], {});\n",
              "        if (!dataTable) return;\n",
              "\n",
              "        const docLinkHtml = 'Like what you see? Visit the ' +\n",
              "          '<a target=\"_blank\" href=https://colab.research.google.com/notebooks/data_table.ipynb>data table notebook</a>'\n",
              "          + ' to learn more about interactive tables.';\n",
              "        element.innerHTML = '';\n",
              "        dataTable['output_type'] = 'display_data';\n",
              "        await google.colab.output.renderOutput(dataTable, element);\n",
              "        const docLink = document.createElement('div');\n",
              "        docLink.innerHTML = docLinkHtml;\n",
              "        element.appendChild(docLink);\n",
              "      }\n",
              "    </script>\n",
              "  </div>\n",
              "\n",
              "\n",
              "<div id=\"df-26e20ed0-2ee9-4852-b45c-1726848a4e99\">\n",
              "  <button class=\"colab-df-quickchart\" onclick=\"quickchart('df-26e20ed0-2ee9-4852-b45c-1726848a4e99')\"\n",
              "            title=\"Suggest charts\"\n",
              "            style=\"display:none;\">\n",
              "\n",
              "<svg xmlns=\"http://www.w3.org/2000/svg\" height=\"24px\"viewBox=\"0 0 24 24\"\n",
              "     width=\"24px\">\n",
              "    <g>\n",
              "        <path d=\"M19 3H5c-1.1 0-2 .9-2 2v14c0 1.1.9 2 2 2h14c1.1 0 2-.9 2-2V5c0-1.1-.9-2-2-2zM9 17H7v-7h2v7zm4 0h-2V7h2v10zm4 0h-2v-4h2v4z\"/>\n",
              "    </g>\n",
              "</svg>\n",
              "  </button>\n",
              "\n",
              "<style>\n",
              "  .colab-df-quickchart {\n",
              "      --bg-color: #E8F0FE;\n",
              "      --fill-color: #1967D2;\n",
              "      --hover-bg-color: #E2EBFA;\n",
              "      --hover-fill-color: #174EA6;\n",
              "      --disabled-fill-color: #AAA;\n",
              "      --disabled-bg-color: #DDD;\n",
              "  }\n",
              "\n",
              "  [theme=dark] .colab-df-quickchart {\n",
              "      --bg-color: #3B4455;\n",
              "      --fill-color: #D2E3FC;\n",
              "      --hover-bg-color: #434B5C;\n",
              "      --hover-fill-color: #FFFFFF;\n",
              "      --disabled-bg-color: #3B4455;\n",
              "      --disabled-fill-color: #666;\n",
              "  }\n",
              "\n",
              "  .colab-df-quickchart {\n",
              "    background-color: var(--bg-color);\n",
              "    border: none;\n",
              "    border-radius: 50%;\n",
              "    cursor: pointer;\n",
              "    display: none;\n",
              "    fill: var(--fill-color);\n",
              "    height: 32px;\n",
              "    padding: 0;\n",
              "    width: 32px;\n",
              "  }\n",
              "\n",
              "  .colab-df-quickchart:hover {\n",
              "    background-color: var(--hover-bg-color);\n",
              "    box-shadow: 0 1px 2px rgba(60, 64, 67, 0.3), 0 1px 3px 1px rgba(60, 64, 67, 0.15);\n",
              "    fill: var(--button-hover-fill-color);\n",
              "  }\n",
              "\n",
              "  .colab-df-quickchart-complete:disabled,\n",
              "  .colab-df-quickchart-complete:disabled:hover {\n",
              "    background-color: var(--disabled-bg-color);\n",
              "    fill: var(--disabled-fill-color);\n",
              "    box-shadow: none;\n",
              "  }\n",
              "\n",
              "  .colab-df-spinner {\n",
              "    border: 2px solid var(--fill-color);\n",
              "    border-color: transparent;\n",
              "    border-bottom-color: var(--fill-color);\n",
              "    animation:\n",
              "      spin 1s steps(1) infinite;\n",
              "  }\n",
              "\n",
              "  @keyframes spin {\n",
              "    0% {\n",
              "      border-color: transparent;\n",
              "      border-bottom-color: var(--fill-color);\n",
              "      border-left-color: var(--fill-color);\n",
              "    }\n",
              "    20% {\n",
              "      border-color: transparent;\n",
              "      border-left-color: var(--fill-color);\n",
              "      border-top-color: var(--fill-color);\n",
              "    }\n",
              "    30% {\n",
              "      border-color: transparent;\n",
              "      border-left-color: var(--fill-color);\n",
              "      border-top-color: var(--fill-color);\n",
              "      border-right-color: var(--fill-color);\n",
              "    }\n",
              "    40% {\n",
              "      border-color: transparent;\n",
              "      border-right-color: var(--fill-color);\n",
              "      border-top-color: var(--fill-color);\n",
              "    }\n",
              "    60% {\n",
              "      border-color: transparent;\n",
              "      border-right-color: var(--fill-color);\n",
              "    }\n",
              "    80% {\n",
              "      border-color: transparent;\n",
              "      border-right-color: var(--fill-color);\n",
              "      border-bottom-color: var(--fill-color);\n",
              "    }\n",
              "    90% {\n",
              "      border-color: transparent;\n",
              "      border-bottom-color: var(--fill-color);\n",
              "    }\n",
              "  }\n",
              "</style>\n",
              "\n",
              "  <script>\n",
              "    async function quickchart(key) {\n",
              "      const quickchartButtonEl =\n",
              "        document.querySelector('#' + key + ' button');\n",
              "      quickchartButtonEl.disabled = true;  // To prevent multiple clicks.\n",
              "      quickchartButtonEl.classList.add('colab-df-spinner');\n",
              "      try {\n",
              "        const charts = await google.colab.kernel.invokeFunction(\n",
              "            'suggestCharts', [key], {});\n",
              "      } catch (error) {\n",
              "        console.error('Error during call to suggestCharts:', error);\n",
              "      }\n",
              "      quickchartButtonEl.classList.remove('colab-df-spinner');\n",
              "      quickchartButtonEl.classList.add('colab-df-quickchart-complete');\n",
              "    }\n",
              "    (() => {\n",
              "      let quickchartButtonEl =\n",
              "        document.querySelector('#df-26e20ed0-2ee9-4852-b45c-1726848a4e99 button');\n",
              "      quickchartButtonEl.style.display =\n",
              "        google.colab.kernel.accessAllowed ? 'block' : 'none';\n",
              "    })();\n",
              "  </script>\n",
              "</div>\n",
              "    </div>\n",
              "  </div>\n"
            ],
            "application/vnd.google.colaboratory.intrinsic+json": {
              "type": "dataframe",
              "variable_name": "df_news",
              "summary": "{\n  \"name\": \"df_news\",\n  \"rows\": 13193,\n  \"fields\": [\n    {\n      \"column\": \"text\",\n      \"properties\": {\n        \"dtype\": \"string\",\n        \"samples\": [\n          \"The judge presiding over the criminal case against President Donald Trump's former campaign manager issued a gag order on Wednesday barring anyone involved in the case from making public statements that might taint it.  Paul Manafort and his associate Rick Gates were arraigned in federal court in Washington last week on a NUMERAL_PLACEHOLDER-count indictment that accused them of conspiring to launder money, failing to disclose foreign bank accounts and failing to register as foreign agents of Ukraine's former pro-Russian government. U.S. District Judge Amy Berman Jackson said in her written order she wanted to make sure the trial was fair and that potential jurors were not influenced by pre-trial publicity. She directed the defendants, all lawyers and any potential witnesses to \\\"refrain from making statements to the media or in public settings that pose a substantial likelihood of material prejudice\\\" to the case.  Jackson had previously warned lawyers about discussing the case publicly after Manafort defense lawyer Kevin Downing made a defiant statement outside the courthouse following his client's arraignment on Monday. \\\"This is a criminal trial and not a public relations campaign,\\\" Jackson said in court last week. Downing, appearing before television cameras on Monday, said the charges against Manafort were \\\"ridiculous\\\" and said the president was correct to insist there was \\\"no evidence the Trump campaign colluded with the Russian government.\\\" The charges against Manafort and Gates stem from special counsel Robert Mueller's probe of Russian interference in the DATE_PLACEHOLDER presidential election and possible collusion with the Trump campaign. Manafort and Gates have both pleaded not guilty.  The Kremlin has denied meddling in the election and Trump has denied any collusion took place. Downing did not respond to a request for comment. Peter Carr, a spokesman for Mueller, declined to comment. Jackson had asked the parties last week if they had any objections to a gag order. None responded. Downing's statements outside the courthouse had raised eyebrows among defense lawyers. \\\"Judge Jackson is a no-nonsense judge and he's clearly angered her to no purpose,\\\" said Eric Lewis, a longtime Washington trial lawyer. But Los Angeles defense lawyer Mark Geragos said he thought Downing might indeed have had a purpose in mind: currying favor with Trump in the hopes of eventually securing Manafort a presidential pardon. \\\"The cynic in me would say that was exactly what was happening,\\\" said Geragos, \\\"that there was an audience of one.\\\"  \",\n          \"Members of the anti-immigrant Alternative for Germany (AfD) party elected a right-wing nationalist to be their co-leader on Saturday, signaling a possible toughening of tone before regional votes next year. A party congress chose Alexander Gauland - who once defended an AfD member who had said history should be rewritten to focus on German victims of World War Two - to return to the post he had held until DATE_PLACEHOLDER. As members deliberated, thousands of anti-AfD protesters marched outside carrying placards reading  Hanover against Nazis  and  Stand up to racism . Earlier, riot police fired water cannon at dozens of protesters who blocked a road leading to the congress, underlining the divisive impact the party has had since it entered the Bundestag lower house for the first time in a Sept. NUMERAL_PLACEHOLDER election. The party s incumbent leader Jorg Meuthen - seen as a relative moderate in the movement - won enough votes to keep his post. But in a vote that dragged into the evening, he was joined as co-leader by Gauland, who ran for the post at the last minute after another candidate seen as a moderate, Georg Pazderski, failed to win enough votes. Before the leadership vote, Meuthen praised the party often beset by internal strife for showing unity after two senior members quit in September in protest against what they saw as an unstoppable populist streak.  There are people in this country who don t only say  We can do this  but who actually manage to do something,  Meuthen told delegates, putting a new twist on Chancellor Angela Merkel s  Wir schaffen das  (We can do it) message to those who doubted Germany can deal with a record influx of migrants in DATE_PLACEHOLDER. As thousands of protesters marched peacefully outside, AfD delegates watched a short film that painted a gloomy picture of Europe s largest economy being overrun by beggars, stone-throwers and Muslims. Founded in DATE_PLACEHOLDER as a vehicle to oppose euro zone bailouts, the AfD was polling at around NUMERAL_PLACEHOLDER percent nationally two years ago on the eve of the refugee crisis. The arrival of more than NUMERAL_PLACEHOLDER million people seeking asylum in the two years to the end of DATE_PLACEHOLDER has helped it morph into an anti-immigrant party that now has seats in NUMERAL_PLACEHOLDER of Germany s NUMERAL_PLACEHOLDER regional parliament. Polls suggest it will win seats in next year s regional elections in the southern state of Bavaria and the western region of Hesse, which would give it a foothold in all of Germany s state parliaments. Gauland replaces Frauke Petry, who quit to become an independent member of parliament. Her sudden departure two days after the AfD became the first far-right party to win seats in the Bundestag since the  exposed rifts over whether the party should ditch rhetoric including statements saying Islam was not compatible with the German constitution. \",\n          \"Turkish President Tayyip Erdogan said on Sunday businessmen who attempted to move assets abroad were  traitors , and called on his cabinet to block any such moves.  I am seeing signals, news that some businessmen are trying to move their assets abroad, and I call on firstly my cabinet from here to never allow this exit for any of them because these people are traitors,  Erdogan said. Speaking to members of his ruling AK Party in the eastern province of Mus, Erdogan did not say to whom he was referring, nor did he single out a single business, person or country of destination. His comments come after the state-run Anadolu news agency said on Friday that Turkish prosecutors were set to seize the assets of Turkish-Iranian gold trader Reza Zarrab, who is cooperating with U.S. prosecutors in the trial of a Turkish bank executive charged with evading U.S. sanctions on Iran, and his acquaintances. The trial has caused already strained ties between NATO allies Ankara and Washington to deteriorate further as Zarrab detailed in court a scheme to evade the U.S. sanctions, saying that Erdogan personally authorized two Turkish banks to join the scheme when prime minister. Ankara has cast the testimony as an attempt to undermine Turkey and its economy, and has previously said it was a  clear plot  by the network of U.S.-based Fethullah Gulen, who it alleges engineered last year s coup attempt.  We cannot take kindly to those who earn in this country and then try to take those earnings abroad,  Erdogan said.         \"\n        ],\n        \"num_unique_values\": 13193,\n        \"semantic_type\": \"\",\n        \"description\": \"\"\n      }\n    },\n    {\n      \"column\": \"label\",\n      \"properties\": {\n        \"dtype\": \"number\",\n        \"std\": 0,\n        \"min\": 1,\n        \"max\": 1,\n        \"samples\": [\n          1\n        ],\n        \"num_unique_values\": 1,\n        \"semantic_type\": \"\",\n        \"description\": \"\"\n      }\n    }\n  ]\n}"
            }
          },
          "metadata": {},
          "execution_count": 16
        }
      ]
    },
    {
      "cell_type": "markdown",
      "source": [
        "## Data Transformation"
      ],
      "metadata": {
        "id": "t_uGX7K-qi2Y"
      }
    },
    {
      "cell_type": "code",
      "source": [
        "def tokenize(text: str) -> list:\n",
        "  return re.findall(r'\\w+|\\S', text)"
      ],
      "metadata": {
        "id": "bHIVMOUbqnhf"
      },
      "execution_count": null,
      "outputs": []
    },
    {
      "cell_type": "markdown",
      "source": [
        "### Vectorization"
      ],
      "metadata": {
        "id": "aIF8Nl89qz7u"
      }
    },
    {
      "cell_type": "code",
      "source": [
        "word_model = Word2Vec(df_news['text'].apply(tokenize), min_count=1, vector_size=25, window=3, sg=1, workers=1, seed=42)"
      ],
      "metadata": {
        "id": "DgsJw0PbrMnv"
      },
      "execution_count": null,
      "outputs": []
    },
    {
      "cell_type": "code",
      "source": [
        "word_model.wv.most_similar('help')[:5]"
      ],
      "metadata": {
        "colab": {
          "base_uri": "https://localhost:8080/"
        },
        "id": "oHVzZL1-rVv3",
        "outputId": "98d4aca0-bc04-43f0-f32c-ba45c042dd96"
      },
      "execution_count": null,
      "outputs": [
        {
          "output_type": "execute_result",
          "data": {
            "text/plain": [
              "[('keep', 0.9292804002761841),\n",
              " ('encourage', 0.927615225315094),\n",
              " ('expand', 0.9245203733444214),\n",
              " ('continue', 0.9178024530410767),\n",
              " ('try', 0.9038086533546448)]"
            ]
          },
          "metadata": {},
          "execution_count": 19
        }
      ]
    },
    {
      "cell_type": "code",
      "source": [
        "all_words = set(tokenize(' '.join(df_news['text'])))\n",
        "decode_BOW = {}\n",
        "encode_BOW = {}\n",
        "for i, word in enumerate(all_words):\n",
        "  decode_BOW[i] = word\n",
        "  encode_BOW[word] = i\n",
        "len(decode_BOW)"
      ],
      "metadata": {
        "colab": {
          "base_uri": "https://localhost:8080/"
        },
        "id": "JUdEFLqlsCyX",
        "outputId": "3f1ff1dc-8d87-4c25-e88f-bf1d7ec6e90e"
      },
      "execution_count": null,
      "outputs": [
        {
          "output_type": "execute_result",
          "data": {
            "text/plain": [
              "67941"
            ]
          },
          "metadata": {},
          "execution_count": 20
        }
      ]
    },
    {
      "cell_type": "code",
      "source": [
        "def vectorize(pad: int, df: pd.DataFrame):\n",
        "  X = []\n",
        "  y_vector = []\n",
        "  y_bow = []\n",
        "  for _, row in tqdm(df.iterrows()):\n",
        "    x_part = []\n",
        "    if len(tokenize(row['text'])) < pad + 1:\n",
        "      continue\n",
        "    for token in tokenize(row['text'])[-pad - 1:-1]:\n",
        "      x_part.append(word_model.wv[token])\n",
        "    X.append(np.array(x_part))\n",
        "    y_bow.append(encode_BOW[tokenize(row['text'])[-1]])\n",
        "  return X, y_bow"
      ],
      "metadata": {
        "id": "CpZ8cpoXsKhQ"
      },
      "execution_count": null,
      "outputs": []
    },
    {
      "cell_type": "code",
      "source": [
        "plt.figure(figsize=(10, 8))\n",
        "length = df_news['text'].apply(lambda x: len(tokenize(x)))\n",
        "ax = sns.histplot(length, bins=19)\n",
        "plt.show()"
      ],
      "metadata": {
        "colab": {
          "base_uri": "https://localhost:8080/",
          "height": 696
        },
        "id": "WZrKyVrYl-p_",
        "outputId": "43d5d5be-a0b3-4d8c-ac3b-dc760b98d4b7"
      },
      "execution_count": null,
      "outputs": [
        {
          "output_type": "display_data",
          "data": {
            "text/plain": [
              "<Figure size 1000x800 with 1 Axes>"
            ],
            "image/png": "[encoded data removed]"
          },
          "metadata": {}
        }
      ]
    },
    {
      "cell_type": "markdown",
      "source": [
        "Тексты большие, большинство из них где-то в промежутке от 0 до 500 токенов."
      ],
      "metadata": {
        "id": "niVtz-3KmcoP"
      }
    },
    {
      "cell_type": "markdown",
      "source": [
        "И тем не менее..."
      ],
      "metadata": {
        "id": "zf99qaF_mpV1"
      }
    },
    {
      "cell_type": "markdown",
      "source": [
        "#### Vectors Size 10"
      ],
      "metadata": {
        "id": "93uztIPJsod5"
      }
    },
    {
      "cell_type": "code",
      "source": [
        "X_news, y_news = vectorize(10, df_news)"
      ],
      "metadata": {
        "colab": {
          "base_uri": "https://localhost:8080/"
        },
        "id": "IxyIojANsd7x",
        "outputId": "30600e09-04f6-4345-9c74-6d0d6314628b"
      },
      "execution_count": null,
      "outputs": [
        {
          "output_type": "stream",
          "name": "stderr",
          "text": [
            "13193it [00:12, 1025.29it/s]\n"
          ]
        }
      ]
    },
    {
      "cell_type": "code",
      "source": [
        "X_news = np.array(X_news)\n",
        "y_news = np.array(y_news)"
      ],
      "metadata": {
        "id": "7Cy-LC2JswIT"
      },
      "execution_count": null,
      "outputs": []
    },
    {
      "cell_type": "code",
      "source": [
        "X_news.shape, y_news.shape"
      ],
      "metadata": {
        "colab": {
          "base_uri": "https://localhost:8080/"
        },
        "id": "wz3iJdXPs1m0",
        "outputId": "c1843c7c-e250-4069-c093-5fce47857867"
      },
      "execution_count": null,
      "outputs": [
        {
          "output_type": "execute_result",
          "data": {
            "text/plain": [
              "((13187, 10, 25), (13187,))"
            ]
          },
          "metadata": {},
          "execution_count": 25
        }
      ]
    },
    {
      "cell_type": "markdown",
      "source": [
        "#### Vectors Size 30"
      ],
      "metadata": {
        "id": "jPr4UX7ZtSoW"
      }
    },
    {
      "cell_type": "markdown",
      "source": [
        "Проблема большого контекстного окна в том, чтобы подобрать промпт на это самое окно. С учётом моего подхода к генерации, это имеет значение. Поэтому максимум, который я попробую, это 30 токенов"
      ],
      "metadata": {
        "id": "xOOW32RStVmt"
      }
    },
    {
      "cell_type": "code",
      "source": [
        "X_news_large, y_news_large = vectorize(30, df_news)"
      ],
      "metadata": {
        "colab": {
          "base_uri": "https://localhost:8080/"
        },
        "id": "neuhlA3vtXSf",
        "outputId": "8b078e76-b432-4864-a67a-a71980c12b03"
      },
      "execution_count": null,
      "outputs": [
        {
          "output_type": "stream",
          "name": "stderr",
          "text": [
            "13193it [00:11, 1100.61it/s]\n"
          ]
        }
      ]
    },
    {
      "cell_type": "code",
      "source": [
        "X_news_large = np.array(X_news_large)\n",
        "y_news_large = np.array(y_news_large)"
      ],
      "metadata": {
        "id": "kWdAgXLftaWq"
      },
      "execution_count": null,
      "outputs": []
    },
    {
      "cell_type": "code",
      "source": [
        "X_news_large.shape, y_news_large.shape"
      ],
      "metadata": {
        "colab": {
          "base_uri": "https://localhost:8080/"
        },
        "id": "8UJHMf5euHFA",
        "outputId": "12213dc2-ed38-4d38-fb8a-abacff7ea587"
      },
      "execution_count": null,
      "outputs": [
        {
          "output_type": "execute_result",
          "data": {
            "text/plain": [
              "((13145, 30, 25), (13145,))"
            ]
          },
          "metadata": {},
          "execution_count": 28
        }
      ]
    },
    {
      "cell_type": "markdown",
      "source": [
        "## Model"
      ],
      "metadata": {
        "id": "I7w9nPhBJGNz"
      }
    },
    {
      "cell_type": "markdown",
      "source": [
        "Путём долгого и утомительного перебора я, наконец, нашёл более-менее подходящую архитектуру для обработки этого датасета. Проблема здесь, в основном, в том, что модели, как я понял, очень быстро переобучаются и начинают выдавать точки. Здесь же мне удалось добиться генерации слов 🎆"
      ],
      "metadata": {
        "id": "JbAAVTr0TSuy"
      }
    },
    {
      "cell_type": "code",
      "source": [
        "def build_model_news(x: np.array, vocab_size: int):\n",
        "  model = Sequential()\n",
        "  model.add(Input(x[0].shape))\n",
        "  model.add(Bidirectional(LSTM(200, return_sequences=True)))\n",
        "  model.add(Bidirectional(GRU(150, return_sequences=True)))\n",
        "  model.add(GRU(100))\n",
        "  model.add(Dense(vocab_size, activation='softmax', kernel_regularizer=l2(0.01)))\n",
        "\n",
        "  model.compile(loss='SparseCategoricalCrossentropy', optimizer=Adam(learning_rate=0.0001))\n",
        "  return model"
      ],
      "metadata": {
        "id": "BOnLYoegJIAO"
      },
      "execution_count": null,
      "outputs": []
    },
    {
      "cell_type": "markdown",
      "source": [
        "## Experiments"
      ],
      "metadata": {
        "id": "lfe3NT531z0p"
      }
    },
    {
      "cell_type": "markdown",
      "source": [
        "Будем предсказывать токены и заменять числа и даты на рандомные, если они попадутся.\n",
        "\n",
        "Помимо прочего, в начало слишком короткой последовательности я буду вставлять *, чтобы их тоже можно было обработать. Однако тут стоит учитывать, что эти символы, вероятно, могут повлиять на генерацию, поэтому лучше этого избегать."
      ],
      "metadata": {
        "id": "um7gABdd7f3g"
      }
    },
    {
      "cell_type": "code",
      "source": [
        "words = list(decode_BOW.keys())\n",
        "\n",
        "def predict_bow(sentence: str, model, vec_size: int):\n",
        "  sentence_enc = []\n",
        "  for token in tokenize(sentence)[-vec_size:]:\n",
        "    try:\n",
        "      sentence_enc.append(word_model.wv[token])\n",
        "    except KeyError:\n",
        "      sentence_enc.append(np.zeros(25))\n",
        "  sentence_enc = np.array([sentence_enc])\n",
        "  predicted_probabilities = model.predict(sentence_enc, verbose=0)[0]\n",
        "  predicted_word = decode_BOW[random.choices(words, weights=predicted_probabilities, k=1)[0]]\n",
        "  if predicted_word == 'DATE_PLACEHOLDER':\n",
        "    return random.randint(1000, 3000)\n",
        "  if predicted_word == 'NUMERAL_PLACEHOLDER':\n",
        "    return random.randint(0, 1_000_000_000)\n",
        "  return predicted_word"
      ],
      "metadata": {
        "id": "vW6vM0Vr23bF"
      },
      "execution_count": null,
      "outputs": []
    },
    {
      "cell_type": "code",
      "source": [
        "def generate(prompt: str, model, vec_size: int = 10, sequence_len: int = 5) -> str:\n",
        "  text = prompt\n",
        "  next_token = ''\n",
        "  if len(tokenize(text)) < vec_size:\n",
        "    text = '* ' * (vec_size - len(tokenize(text))) + text\n",
        "  for _ in range(sequence_len):\n",
        "    next_token = predict_bow(text, model, vec_size)\n",
        "    text = f'{text} {next_token}' if re.match(r'\\W', next_token) is None else f'{text}{next_token}'\n",
        "  return text.replace('*', '').strip()"
      ],
      "metadata": {
        "id": "oPJ5IV6h7fE-"
      },
      "execution_count": null,
      "outputs": []
    },
    {
      "cell_type": "markdown",
      "source": [
        "### Context Window 10"
      ],
      "metadata": {
        "id": "TYD0Oy6FWZvj"
      }
    },
    {
      "cell_type": "markdown",
      "source": [
        "#### Try 1"
      ],
      "metadata": {
        "id": "ovNVIoBDWNCq"
      }
    },
    {
      "cell_type": "code",
      "source": [
        "model_news = build_model_news(X_news, len(encode_BOW))\n",
        "model_news.summary()"
      ],
      "metadata": {
        "colab": {
          "base_uri": "https://localhost:8080/"
        },
        "id": "gtf7MTik-Edk",
        "outputId": "846d4e92-4adb-4176-f027-eafac4c65f33"
      },
      "execution_count": null,
      "outputs": [
        {
          "output_type": "stream",
          "name": "stdout",
          "text": [
            "Model: \"sequential_2\"\n",
            "_________________________________________________________________\n",
            " Layer (type)                Output Shape              Param #   \n",
            "=================================================================\n",
            " bidirectional_4 (Bidirecti  (None, 10, 400)           361600    \n",
            " onal)                                                           \n",
            "                                                                 \n",
            " bidirectional_5 (Bidirecti  (None, 10, 300)           496800    \n",
            " onal)                                                           \n",
            "                                                                 \n",
            " gru_9 (GRU)                 (None, 100)               120600    \n",
            "                                                                 \n",
            " dense_7 (Dense)             (None, 67941)             6862041   \n",
            "                                                                 \n",
            "=================================================================\n",
            "Total params: 7841041 (29.91 MB)\n",
            "Trainable params: 7841041 (29.91 MB)\n",
            "Non-trainable params: 0 (0.00 Byte)\n",
            "_________________________________________________________________\n"
          ]
        }
      ]
    },
    {
      "cell_type": "code",
      "source": [
        "model_news.fit(X_news, y_news, epochs=5, batch_size=64)"
      ],
      "metadata": {
        "colab": {
          "base_uri": "https://localhost:8080/"
        },
        "id": "4LCzrFTs-31g",
        "outputId": "18ec33c4-31e6-4a9f-ba7c-9d3c0a768b74"
      },
      "execution_count": null,
      "outputs": [
        {
          "output_type": "stream",
          "name": "stdout",
          "text": [
            "Epoch 1/5\n",
            "207/207 [==============================] - 76s 328ms/step - loss: 9.9468\n",
            "Epoch 2/5\n",
            "207/207 [==============================] - 66s 319ms/step - loss: 7.3180\n",
            "Epoch 3/5\n",
            "207/207 [==============================] - 66s 319ms/step - loss: 5.2535\n",
            "Epoch 4/5\n",
            "207/207 [==============================] - 67s 325ms/step - loss: 3.3704\n",
            "Epoch 5/5\n",
            "207/207 [==============================] - 67s 324ms/step - loss: 2.0138\n"
          ]
        },
        {
          "output_type": "execute_result",
          "data": {
            "text/plain": [
              "<keras.src.callbacks.History at 0x7cb439994cd0>"
            ]
          },
          "metadata": {},
          "execution_count": 61
        }
      ]
    },
    {
      "cell_type": "code",
      "source": [
        "test_sents = (\"France is working to normalize the situation in Lebanon\", 'hysteria has been whipped up in the united states about the influence of russia over the us presidential election', \"This is definetely not a fake news article\")\n",
        "for sentence in test_sents:\n",
        "    print(generate(sentence, model_news, sequence_len=15))"
      ],
      "metadata": {
        "colab": {
          "base_uri": "https://localhost:8080/"
        },
        "id": "wi_k33iX9F4_",
        "outputId": "fabdef31-3d41-4717-a3da-0eae36f00a6e"
      },
      "execution_count": null,
      "outputs": [
        {
          "output_type": "stream",
          "name": "stdout",
          "text": [
            "France is working to normalize the situation in Lebanon Boozman..). looting\" Radev SVC\" Guodian outrage Carlos\".\n",
            "hysteria has been whipped up in the united states about the influence of russia over the us presidential election.. acts.\" Nazis Suzanne waywhich. Reelect Gopal\" virulent\" Iwao\n",
            "This is definetely not a fake news article Quijano.. sniffer brushes.. Renault\". Gedo.\". Shamalov\n"
          ]
        }
      ]
    },
    {
      "cell_type": "markdown",
      "source": [
        "Судя по всему, хоть слова и генерируются, это происходит рандомно. Всё ещё достаточно много знаков пунктуации, сложно выделить какие-то адекватные паттерны в сгенерированных последовательностях."
      ],
      "metadata": {
        "id": "-5sWbdrUH5h6"
      }
    },
    {
      "cell_type": "markdown",
      "source": [
        "#### Try 2"
      ],
      "metadata": {
        "id": "-hKXsrw4WRYu"
      }
    },
    {
      "cell_type": "code",
      "source": [
        "model_news = build_model_news(X_news, len(encode_BOW))\n",
        "model_news.fit(X_news, y_news, epochs=2, batch_size=32)"
      ],
      "metadata": {
        "colab": {
          "base_uri": "https://localhost:8080/"
        },
        "id": "Drq6iEEfWS1X",
        "outputId": "ca425681-49df-400b-e9fd-6ff58f827588"
      },
      "execution_count": null,
      "outputs": [
        {
          "output_type": "stream",
          "name": "stdout",
          "text": [
            "Epoch 1/2\n",
            "413/413 [==============================] - 137s 304ms/step - loss: 8.6378\n",
            "Epoch 2/2\n",
            "413/413 [==============================] - 112s 270ms/step - loss: 4.3707\n"
          ]
        },
        {
          "output_type": "execute_result",
          "data": {
            "text/plain": [
              "<keras.src.callbacks.History at 0x7cb43a3bea70>"
            ]
          },
          "metadata": {},
          "execution_count": 72
        }
      ]
    },
    {
      "cell_type": "code",
      "source": [
        "test_sents = (\"France is working to normalize the situation in Lebanon\", 'hysteria has been whipped up in the united states about the influence of russia over the us presidential election', \"This is definetely not a fake news article\")\n",
        "for sentence in test_sents:\n",
        "    print(generate(sentence, model_news, sequence_len=15))"
      ],
      "metadata": {
        "colab": {
          "base_uri": "https://localhost:8080/"
        },
        "id": "eg4zxXjpWF25",
        "outputId": "226b8628-9c6d-46f2-b34a-d09b63afe4e3"
      },
      "execution_count": null,
      "outputs": [
        {
          "output_type": "stream",
          "name": "stdout",
          "text": [
            "France is working to normalize the situation in Lebanon breed expectancy Hawks AGI IHS miscoordination Loudermilk derby\" Toral Winston Emmalee lawyers Kalispell stinting\n",
            "hysteria has been whipped up in the united states about the influence of russia over the us presidential election Gael brunt outages Kuri apportion ashamed. abramovic Mossad harvesting wracked pursing aldrich. Plans\n",
            "This is definetely not a fake news article Institute Brenner Wiktorowicz Yauch Matsuyama legend Nicosia worldwhich Shane Tulsi Flashmob. berms antibiotic.\n"
          ]
        }
      ]
    },
    {
      "cell_type": "markdown",
      "source": [
        "Модель быстро обучается. В генерации всё ещё нет смысла. Выдаётся много имён и существительных, существительные идут подряд. Некоторые слова, написанные с заглавной буквы, генерируются не после точек."
      ],
      "metadata": {
        "id": "NabN4ap8av85"
      }
    },
    {
      "cell_type": "markdown",
      "source": [
        "### Context Window 30"
      ],
      "metadata": {
        "id": "te8lBQmWW27t"
      }
    },
    {
      "cell_type": "markdown",
      "source": [
        "Здесь я попробую обучить один раз на двух эпохах"
      ],
      "metadata": {
        "id": "hw4kzFmOZSRg"
      }
    },
    {
      "cell_type": "code",
      "source": [
        "model_news = build_model_news(X_news_large, len(encode_BOW))\n",
        "model_news.fit(X_news_large, y_news_large, epochs=2, batch_size=64)"
      ],
      "metadata": {
        "colab": {
          "base_uri": "https://localhost:8080/"
        },
        "id": "7SaDd_OlW8zj",
        "outputId": "df1c1c97-cb6b-43d3-ab68-7864234aa388"
      },
      "execution_count": null,
      "outputs": [
        {
          "output_type": "stream",
          "name": "stdout",
          "text": [
            "Epoch 1/2\n",
            "206/206 [==============================] - 155s 576ms/step - loss: 9.9647\n",
            "Epoch 2/2\n",
            "206/206 [==============================] - 118s 575ms/step - loss: 7.4075\n"
          ]
        },
        {
          "output_type": "execute_result",
          "data": {
            "text/plain": [
              "<keras.src.callbacks.History at 0x7cb439cbac80>"
            ]
          },
          "metadata": {},
          "execution_count": 75
        }
      ]
    },
    {
      "cell_type": "code",
      "source": [
        "# @title Output 1 {display-mode: \"form\"}\n",
        "\n",
        "test_sents = (\"France is working to normalize the situation in Lebanon\", 'hysteria has been whipped up in the united states about the influence of russia over the us presidential election', \"This is definetely not a fake news article\")\n",
        "for sentence in test_sents:\n",
        "    print(generate(sentence, model_news, vec_size=30, sequence_len=15))"
      ],
      "metadata": {
        "colab": {
          "base_uri": "https://localhost:8080/"
        },
        "id": "bfcp42ZQXGq1",
        "outputId": "f40073a0-5606-4bde-e81e-6070c7648428"
      },
      "execution_count": null,
      "outputs": [
        {
          "output_type": "stream",
          "name": "stdout",
          "text": [
            "France is working to normalize the situation in Lebanon effect Gerrit SOURCES zakat Ionian Harley expanded Arria Jasim plains triperoxide Ornstein richardson MacNaughton Kissel\n",
            "hysteria has been whipped up in the united states about the influence of russia over the us presidential election Harking Trump Simonyan Thibault neednt laptops careers volby Plaskett Velasquez Acceptable plague Autozone Sofie endorse\n",
            "This is definetely not a fake news article Tribune issuer beats fouryear organism Commandant shapely Syaiful Greeting Neng NU Chevron Nato emerge choice\n"
          ]
        }
      ]
    },
    {
      "cell_type": "code",
      "source": [
        "# @title Output 2 {display-mode: \"form\"}\n",
        "\n",
        "test_sents = (\"France is working to normalize the situation in Lebanon\", 'hysteria has been whipped up in the united states about the influence of russia over the us presidential election', \"This is definetely not a fake news article\")\n",
        "for sentence in test_sents:\n",
        "    print(generate(sentence, model_news, vec_size=30, sequence_len=15))"
      ],
      "metadata": {
        "colab": {
          "base_uri": "https://localhost:8080/"
        },
        "id": "7pBmHhLIj7NA",
        "outputId": "5c128bf1-8049-4815-a794-78ebfe730515"
      },
      "execution_count": null,
      "outputs": [
        {
          "output_type": "stream",
          "name": "stdout",
          "text": [
            "France is working to normalize the situation in Lebanon Kschessinska somewhat saddening Khoantle limbo GEAC candor tale love plunk Hitachi virtual Volodymyrska expansionism CB\n",
            "hysteria has been whipped up in the united states about the influence of russia over the us presidential election podcasts industrialisation Southerner biomass kyo peddle efforts memphis concept Ayuk riched feral Fee Tun Nip\n",
            "This is definetely not a fake news article chlorine equerry lady Proletarians tapes Shmony Nobakht Yoest Olena Stoynoff hillaryrelated Chair fooling negativity sturdiest\n"
          ]
        }
      ]
    },
    {
      "cell_type": "markdown",
      "source": [
        "Я вижу только одну более-менее адекватно сгенерированную последовательность токенов в 3-м случае: *Tribune issuer beats fouryear organism*, однако это всё ещё лишь небольшая часть последовательности. Совсем не генерируется пунктуация, всё ещё часто генерируются имена и последовательности из них, как, например, во втором случае: *Harking Trump Simonyan Thibault*. Последовательности всё ещё рандомные."
      ],
      "metadata": {
        "id": "ocbc1pDhg51S"
      }
    },
    {
      "cell_type": "markdown",
      "source": [
        "## Conclusion"
      ],
      "metadata": {
        "id": "irkqftCah93m"
      }
    },
    {
      "cell_type": "markdown",
      "source": [
        "Представленные здесь эксперименты -- лишь малая часть лучших полученных результатов. Я пробовал менять температуру, но она лишь ухудшала результат, поэтому я решил отказаться от её применения. Возможно, уменьшение размера словаря путём приведения токенов к нижнему регистру и удаления пунктуации могло бы помочь получить лучший результат, но мне не хочется выкидывать пунктуацию и изменять регистр слов, хотя бы по той причине, что в этом датасете присутствует большое количество именованных сущностей (которые, вероятно, частотны для многих текстов, что могло привести к тому, что модель так часто выдаёт именно их), что в учебном задании, конечно, не так критично, но по-хорошему должно бы писаться с заглавной буквы, и подход с определением именованных сущностей в пост-обработке может не дать хорошего результата.\n",
        "\n",
        "По сравнению результатов при разных гиперпараметрах можно сказать, что увеличение контекстного окна позволило избавиться от чрезмерной генерации пунктуации -- тут пунктуация не генерируется совсем. Вероятно, здесь учитывается больше связей, что положительно сказывается на результате. Однако генерация, как я уже говорил, выглядит случайной.\n",
        "\n",
        "P.S. в этот раз обошлось без неанглоязычных аутпутов. Возможно, они встречались в тех сплитах датасета, которые здесь я решил не брать."
      ],
      "metadata": {
        "id": "f4rRgm-liAx0"
      }
    },
    {
      "cell_type": "markdown",
      "source": [
        "# Part 2. Rock\n",
        "\n",
        "> Sing, sing, like there's nobody watching"
      ],
      "metadata": {
        "id": "71H59_UvdAD5"
      }
    },
    {
      "cell_type": "markdown",
      "source": [
        "С новостями всё, и я всё-таки решил попробовать поработать с песнями."
      ],
      "metadata": {
        "id": "TfeaGKbGnTw8"
      }
    },
    {
      "cell_type": "markdown",
      "source": [
        "## Load Dataset"
      ],
      "metadata": {
        "id": "e9vekAhUndpx"
      }
    },
    {
      "cell_type": "markdown",
      "source": [
        "Поскольку мне не хотелось работать с песнями, которые меня не интересуют, я решил проитерироваться по части датасета и извлечь оттуда треки моих любимых исполнителей"
      ],
      "metadata": {
        "id": "g5JBIT-Znj3P"
      }
    },
    {
      "cell_type": "code",
      "source": [
        "!unzip /content/drive/MyDrive/data/\"archive (13).zip\" -d /content"
      ],
      "metadata": {
        "colab": {
          "base_uri": "https://localhost:8080/"
        },
        "id": "pdcL8klZwZXb",
        "outputId": "b36339a7-9d5c-40c3-c3c0-70e5c3d6e10a"
      },
      "execution_count": null,
      "outputs": [
        {
          "output_type": "stream",
          "name": "stdout",
          "text": [
            "Archive:  /content/drive/MyDrive/data/archive (13).zip\n",
            "  inflating: /content/song_lyrics.csv  \n"
          ]
        }
      ]
    },
    {
      "cell_type": "code",
      "source": [
        "df = pd.read_csv('song_lyrics.csv', usecols=[0, 2, 6], names=['title', 'artist', 'lyrics'], nrows=5_000)\n",
        "df"
      ],
      "metadata": {
        "colab": {
          "base_uri": "https://localhost:8080/",
          "height": 424
        },
        "id": "n_OgAW11wnHk",
        "outputId": "049cdeff-b3ed-455d-a4aa-761412521cc7"
      },
      "execution_count": null,
      "outputs": [
        {
          "output_type": "execute_result",
          "data": {
            "text/plain": [
              "                    title           artist  \\\n",
              "0                   title           artist   \n",
              "1               Killa Cam          Cam'ron   \n",
              "2              Can I Live            JAY-Z   \n",
              "3       Forgive Me Father         Fabolous   \n",
              "4            Down and Out          Cam'ron   \n",
              "...                   ...              ...   \n",
              "4995              How Ill  Jeru the Damaja   \n",
              "4996              Villain        Crooked I   \n",
              "4997    Lecture aléatoire            Mdine   \n",
              "4998  This Is My Life Man        Crooked I   \n",
              "4999       L’œil de verre  Sexion d'Assaut   \n",
              "\n",
              "                                                 lyrics  \n",
              "0                                                lyrics  \n",
              "1     [Chorus: Opera Steve & Cam'ron]\\nKilla Cam, Ki...  \n",
              "2     [Produced by Irv Gotti]\\n\\n[Intro]\\nYeah, hah,...  \n",
              "3     Maybe cause I'm eatin\\nAnd these bastards fien...  \n",
              "4     [Produced by Kanye West and Brian Miller]\\n\\n[...  \n",
              "...                                                 ...  \n",
              "4995  Skills? Skills?\\nListen, I got crazy skills\\nI...  \n",
              "4996  [Intro: Crooked I]\\nThere comes a time\\nIn eve...  \n",
              "4997  [Couplet 1]\\nJ’ai mis mon casque et mon blouso...  \n",
              "4998  [Intro]\\n*scratch* Life as a shorty shouldn't ...  \n",
              "4999  [Paroles de \"L’œil de verre\"]\\n\\n[Intro : Maît...  \n",
              "\n",
              "[5000 rows x 3 columns]"
            ],
            "text/html": [
              "\n",
              "  <div id=\"df-c3a3330f-8429-4529-a15b-cf23c16242a7\" class=\"colab-df-container\">\n",
              "    <div>\n",
              "<style scoped>\n",
              "    .dataframe tbody tr th:only-of-type {\n",
              "        vertical-align: middle;\n",
              "    }\n",
              "\n",
              "    .dataframe tbody tr th {\n",
              "        vertical-align: top;\n",
              "    }\n",
              "\n",
              "    .dataframe thead th {\n",
              "        text-align: right;\n",
              "    }\n",
              "</style>\n",
              "<table border=\"1\" class=\"dataframe\">\n",
              "  <thead>\n",
              "    <tr style=\"text-align: right;\">\n",
              "      <th></th>\n",
              "      <th>title</th>\n",
              "      <th>artist</th>\n",
              "      <th>lyrics</th>\n",
              "    </tr>\n",
              "  </thead>\n",
              "  <tbody>\n",
              "    <tr>\n",
              "      <th>0</th>\n",
              "      <td>title</td>\n",
              "      <td>artist</td>\n",
              "      <td>lyrics</td>\n",
              "    </tr>\n",
              "    <tr>\n",
              "      <th>1</th>\n",
              "      <td>Killa Cam</td>\n",
              "      <td>Cam'ron</td>\n",
              "      <td>[Chorus: Opera Steve &amp; Cam'ron]\\nKilla Cam, Ki...</td>\n",
              "    </tr>\n",
              "    <tr>\n",
              "      <th>2</th>\n",
              "      <td>Can I Live</td>\n",
              "      <td>JAY-Z</td>\n",
              "      <td>[Produced by Irv Gotti]\\n\\n[Intro]\\nYeah, hah,...</td>\n",
              "    </tr>\n",
              "    <tr>\n",
              "      <th>3</th>\n",
              "      <td>Forgive Me Father</td>\n",
              "      <td>Fabolous</td>\n",
              "      <td>Maybe cause I'm eatin\\nAnd these bastards fien...</td>\n",
              "    </tr>\n",
              "    <tr>\n",
              "      <th>4</th>\n",
              "      <td>Down and Out</td>\n",
              "      <td>Cam'ron</td>\n",
              "      <td>[Produced by Kanye West and Brian Miller]\\n\\n[...</td>\n",
              "    </tr>\n",
              "    <tr>\n",
              "      <th>...</th>\n",
              "      <td>...</td>\n",
              "      <td>...</td>\n",
              "      <td>...</td>\n",
              "    </tr>\n",
              "    <tr>\n",
              "      <th>4995</th>\n",
              "      <td>How Ill</td>\n",
              "      <td>Jeru the Damaja</td>\n",
              "      <td>Skills? Skills?\\nListen, I got crazy skills\\nI...</td>\n",
              "    </tr>\n",
              "    <tr>\n",
              "      <th>4996</th>\n",
              "      <td>Villain</td>\n",
              "      <td>Crooked I</td>\n",
              "      <td>[Intro: Crooked I]\\nThere comes a time\\nIn eve...</td>\n",
              "    </tr>\n",
              "    <tr>\n",
              "      <th>4997</th>\n",
              "      <td>Lecture aléatoire</td>\n",
              "      <td>Mdine</td>\n",
              "      <td>[Couplet 1]\\nJ’ai mis mon casque et mon blouso...</td>\n",
              "    </tr>\n",
              "    <tr>\n",
              "      <th>4998</th>\n",
              "      <td>This Is My Life Man</td>\n",
              "      <td>Crooked I</td>\n",
              "      <td>[Intro]\\n*scratch* Life as a shorty shouldn't ...</td>\n",
              "    </tr>\n",
              "    <tr>\n",
              "      <th>4999</th>\n",
              "      <td>L’œil de verre</td>\n",
              "      <td>Sexion d'Assaut</td>\n",
              "      <td>[Paroles de \"L’œil de verre\"]\\n\\n[Intro : Maît...</td>\n",
              "    </tr>\n",
              "  </tbody>\n",
              "</table>\n",
              "<p>5000 rows × 3 columns</p>\n",
              "</div>\n",
              "    <div class=\"colab-df-buttons\">\n",
              "\n",
              "  <div class=\"colab-df-container\">\n",
              "    <button class=\"colab-df-convert\" onclick=\"convertToInteractive('df-c3a3330f-8429-4529-a15b-cf23c16242a7')\"\n",
              "            title=\"Convert this dataframe to an interactive table.\"\n",
              "            style=\"display:none;\">\n",
              "\n",
              "  <svg xmlns=\"http://www.w3.org/2000/svg\" height=\"24px\" viewBox=\"0 -960 960 960\">\n",
              "    <path d=\"M120-120v-720h720v720H120Zm60-500h600v-160H180v160Zm220 220h160v-160H400v160Zm0 220h160v-160H400v160ZM180-400h160v-160H180v160Zm440 0h160v-160H620v160ZM180-180h160v-160H180v160Zm440 0h160v-160H620v160Z\"/>\n",
              "  </svg>\n",
              "    </button>\n",
              "\n",
              "  <style>\n",
              "    .colab-df-container {\n",
              "      display:flex;\n",
              "      gap: 12px;\n",
              "    }\n",
              "\n",
              "    .colab-df-convert {\n",
              "      background-color: #E8F0FE;\n",
              "      border: none;\n",
              "      border-radius: 50%;\n",
              "      cursor: pointer;\n",
              "      display: none;\n",
              "      fill: #1967D2;\n",
              "      height: 32px;\n",
              "      padding: 0 0 0 0;\n",
              "      width: 32px;\n",
              "    }\n",
              "\n",
              "    .colab-df-convert:hover {\n",
              "      background-color: #E2EBFA;\n",
              "      box-shadow: 0px 1px 2px rgba(60, 64, 67, 0.3), 0px 1px 3px 1px rgba(60, 64, 67, 0.15);\n",
              "      fill: #174EA6;\n",
              "    }\n",
              "\n",
              "    .colab-df-buttons div {\n",
              "      margin-bottom: 4px;\n",
              "    }\n",
              "\n",
              "    [theme=dark] .colab-df-convert {\n",
              "      background-color: #3B4455;\n",
              "      fill: #D2E3FC;\n",
              "    }\n",
              "\n",
              "    [theme=dark] .colab-df-convert:hover {\n",
              "      background-color: #434B5C;\n",
              "      box-shadow: 0px 1px 3px 1px rgba(0, 0, 0, 0.15);\n",
              "      filter: drop-shadow(0px 1px 2px rgba(0, 0, 0, 0.3));\n",
              "      fill: #FFFFFF;\n",
              "    }\n",
              "  </style>\n",
              "\n",
              "    <script>\n",
              "      const buttonEl =\n",
              "        document.querySelector('#df-c3a3330f-8429-4529-a15b-cf23c16242a7 button.colab-df-convert');\n",
              "      buttonEl.style.display =\n",
              "        google.colab.kernel.accessAllowed ? 'block' : 'none';\n",
              "\n",
              "      async function convertToInteractive(key) {\n",
              "        const element = document.querySelector('#df-c3a3330f-8429-4529-a15b-cf23c16242a7');\n",
              "        const dataTable =\n",
              "          await google.colab.kernel.invokeFunction('convertToInteractive',\n",
              "                                                    [key], {});\n",
              "        if (!dataTable) return;\n",
              "\n",
              "        const docLinkHtml = 'Like what you see? Visit the ' +\n",
              "          '<a target=\"_blank\" href=https://colab.research.google.com/notebooks/data_table.ipynb>data table notebook</a>'\n",
              "          + ' to learn more about interactive tables.';\n",
              "        element.innerHTML = '';\n",
              "        dataTable['output_type'] = 'display_data';\n",
              "        await google.colab.output.renderOutput(dataTable, element);\n",
              "        const docLink = document.createElement('div');\n",
              "        docLink.innerHTML = docLinkHtml;\n",
              "        element.appendChild(docLink);\n",
              "      }\n",
              "    </script>\n",
              "  </div>\n",
              "\n",
              "\n",
              "<div id=\"df-04b390db-5cd5-4226-93f7-f365599a594d\">\n",
              "  <button class=\"colab-df-quickchart\" onclick=\"quickchart('df-04b390db-5cd5-4226-93f7-f365599a594d')\"\n",
              "            title=\"Suggest charts\"\n",
              "            style=\"display:none;\">\n",
              "\n",
              "<svg xmlns=\"http://www.w3.org/2000/svg\" height=\"24px\"viewBox=\"0 0 24 24\"\n",
              "     width=\"24px\">\n",
              "    <g>\n",
              "        <path d=\"M19 3H5c-1.1 0-2 .9-2 2v14c0 1.1.9 2 2 2h14c1.1 0 2-.9 2-2V5c0-1.1-.9-2-2-2zM9 17H7v-7h2v7zm4 0h-2V7h2v10zm4 0h-2v-4h2v4z\"/>\n",
              "    </g>\n",
              "</svg>\n",
              "  </button>\n",
              "\n",
              "<style>\n",
              "  .colab-df-quickchart {\n",
              "      --bg-color: #E8F0FE;\n",
              "      --fill-color: #1967D2;\n",
              "      --hover-bg-color: #E2EBFA;\n",
              "      --hover-fill-color: #174EA6;\n",
              "      --disabled-fill-color: #AAA;\n",
              "      --disabled-bg-color: #DDD;\n",
              "  }\n",
              "\n",
              "  [theme=dark] .colab-df-quickchart {\n",
              "      --bg-color: #3B4455;\n",
              "      --fill-color: #D2E3FC;\n",
              "      --hover-bg-color: #434B5C;\n",
              "      --hover-fill-color: #FFFFFF;\n",
              "      --disabled-bg-color: #3B4455;\n",
              "      --disabled-fill-color: #666;\n",
              "  }\n",
              "\n",
              "  .colab-df-quickchart {\n",
              "    background-color: var(--bg-color);\n",
              "    border: none;\n",
              "    border-radius: 50%;\n",
              "    cursor: pointer;\n",
              "    display: none;\n",
              "    fill: var(--fill-color);\n",
              "    height: 32px;\n",
              "    padding: 0;\n",
              "    width: 32px;\n",
              "  }\n",
              "\n",
              "  .colab-df-quickchart:hover {\n",
              "    background-color: var(--hover-bg-color);\n",
              "    box-shadow: 0 1px 2px rgba(60, 64, 67, 0.3), 0 1px 3px 1px rgba(60, 64, 67, 0.15);\n",
              "    fill: var(--button-hover-fill-color);\n",
              "  }\n",
              "\n",
              "  .colab-df-quickchart-complete:disabled,\n",
              "  .colab-df-quickchart-complete:disabled:hover {\n",
              "    background-color: var(--disabled-bg-color);\n",
              "    fill: var(--disabled-fill-color);\n",
              "    box-shadow: none;\n",
              "  }\n",
              "\n",
              "  .colab-df-spinner {\n",
              "    border: 2px solid var(--fill-color);\n",
              "    border-color: transparent;\n",
              "    border-bottom-color: var(--fill-color);\n",
              "    animation:\n",
              "      spin 1s steps(1) infinite;\n",
              "  }\n",
              "\n",
              "  @keyframes spin {\n",
              "    0% {\n",
              "      border-color: transparent;\n",
              "      border-bottom-color: var(--fill-color);\n",
              "      border-left-color: var(--fill-color);\n",
              "    }\n",
              "    20% {\n",
              "      border-color: transparent;\n",
              "      border-left-color: var(--fill-color);\n",
              "      border-top-color: var(--fill-color);\n",
              "    }\n",
              "    30% {\n",
              "      border-color: transparent;\n",
              "      border-left-color: var(--fill-color);\n",
              "      border-top-color: var(--fill-color);\n",
              "      border-right-color: var(--fill-color);\n",
              "    }\n",
              "    40% {\n",
              "      border-color: transparent;\n",
              "      border-right-color: var(--fill-color);\n",
              "      border-top-color: var(--fill-color);\n",
              "    }\n",
              "    60% {\n",
              "      border-color: transparent;\n",
              "      border-right-color: var(--fill-color);\n",
              "    }\n",
              "    80% {\n",
              "      border-color: transparent;\n",
              "      border-right-color: var(--fill-color);\n",
              "      border-bottom-color: var(--fill-color);\n",
              "    }\n",
              "    90% {\n",
              "      border-color: transparent;\n",
              "      border-bottom-color: var(--fill-color);\n",
              "    }\n",
              "  }\n",
              "</style>\n",
              "\n",
              "  <script>\n",
              "    async function quickchart(key) {\n",
              "      const quickchartButtonEl =\n",
              "        document.querySelector('#' + key + ' button');\n",
              "      quickchartButtonEl.disabled = true;  // To prevent multiple clicks.\n",
              "      quickchartButtonEl.classList.add('colab-df-spinner');\n",
              "      try {\n",
              "        const charts = await google.colab.kernel.invokeFunction(\n",
              "            'suggestCharts', [key], {});\n",
              "      } catch (error) {\n",
              "        console.error('Error during call to suggestCharts:', error);\n",
              "      }\n",
              "      quickchartButtonEl.classList.remove('colab-df-spinner');\n",
              "      quickchartButtonEl.classList.add('colab-df-quickchart-complete');\n",
              "    }\n",
              "    (() => {\n",
              "      let quickchartButtonEl =\n",
              "        document.querySelector('#df-04b390db-5cd5-4226-93f7-f365599a594d button');\n",
              "      quickchartButtonEl.style.display =\n",
              "        google.colab.kernel.accessAllowed ? 'block' : 'none';\n",
              "    })();\n",
              "  </script>\n",
              "</div>\n",
              "    </div>\n",
              "  </div>\n"
            ],
            "application/vnd.google.colaboratory.intrinsic+json": {
              "type": "dataframe",
              "variable_name": "df",
              "summary": "{\n  \"name\": \"df\",\n  \"rows\": 5000,\n  \"fields\": [\n    {\n      \"column\": \"title\",\n      \"properties\": {\n        \"dtype\": \"string\",\n        \"samples\": [\n          \"Heavy Metal Kings\",\n          \"Not Afraid\",\n          \"The Game\"\n        ],\n        \"num_unique_values\": 4799,\n        \"semantic_type\": \"\",\n        \"description\": \"\"\n      }\n    },\n    {\n      \"column\": \"artist\",\n      \"properties\": {\n        \"dtype\": \"category\",\n        \"samples\": [\n          \"Mdine\",\n          \"Terror Squad\",\n          \"50 Cent\"\n        ],\n        \"num_unique_values\": 1070,\n        \"semantic_type\": \"\",\n        \"description\": \"\"\n      }\n    },\n    {\n      \"column\": \"lyrics\",\n      \"properties\": {\n        \"dtype\": \"string\",\n        \"samples\": [\n          \"[Intro: Pharrell Williams]\\nUgh, what\\n\\n[Verse 1: Pharrell Williams]\\nExplain yourself, how you sound like me?\\nThe motherfucking Skateboard P\\nKnowing that you're Milo, playing games like Cee-lo\\nIn a tight situation like speedos\\nYou can have it your way like Carlito\\nMy niggas would be happy to give y'all torpedoes\\nAnd have your car twisted like a blunt\\nFor you faggot-ass niggas that like to front\\nI'm on some BBC Bape shit, I'm on some cake shit\\nIn the kitchen with the heat, making beats in my apron\\nYou hating and you want to erase it\\nClose your eyes when you know you can't take it\\nMy flow interrupts your homeostasis\\nI Rolls-Royce it on a regular basis\\nYou talk street shit, it sound like sweet shit\\nStraight licorice, you niggas sound ticklish\\n80K large for the Herm\\u00e8s dream\\nPurple croc in all your magazines\\nHunger strike yourself, look like C\\u00e9line\\nDion, me and my niggas like Freon\\nYour bitch is on my pecan, she got an ass you can eat on\\nTry to play tough like the leather on a Vuitton\\nI hit it 'til I could seat on, tryna get her freak on\\nAsk me to R. Kelly ya and get peed on\\nI said, \\\"That ain't me, ma\\\"\\nThat eight behind me still got the burner\\nYes, the Enzo is still black like Sojourner\\nTruth, I might have just loosened a tooth\\nSpitting what I did in the booth, I'm out, poof\\n[Verse 2: Lupe Fiasco]\\nCarrera, raised in the Teenage Mutant Ninja Turtle era\\nWater-bearer tell the truth, I dare you\\nYou lie, so eat this whole bottle of these jalape\\u00f1o peppers\\nFor terror made in America too live\\nFuck the property or give me my props properly\\nHigh off life, this high technology, DeVry\\nI rep Muhammad Ali, more like rap-ology\\nMy policy's not to be dishonestly deprived\\nSo gimme that, gimme that, keep God where my city at\\nI'm like Steak With Fries but never died\\nThey wanna Ghostface, wanna be me\\nBut they will post-haste follow me into the afterlife\\nThat means you going right after I've\\nBut I'm the hero, sorta like Jack Sparrow\\nSo some way, somehow, I have survived\\nHa, ha, surprised?\\nWho is he that we see coming over the tides?\\nIn a speed boat, boatload of pride\\nFall of Rome, dress-shirted and mastermind tie\\nHe what happens when rapping and avant garde fashion collides\\nOMG, it's the C from the CRS\\nLOL-ing at you haters, tell your BFFs like\\n\\n[Verse 3: Kanye West]\\nYes, Mr. West, turn that new Child Rebel\\nLoud as a badass child level\\nWho need a chorus? We do it Tyrannosaurus\\nTyrone, it's been a year with no phone\\nCould you explain how high is your zone?\\nWe'll take the plane, rub his nose in cocaine\\nThere's hoes in magazines you layin' saying you're lame\\nAnd for the hate in advance, pull down your pants\\nMake 'em kiss both cheeks like we living in France\\nDiamonds blue, his business manager's Jewish\\nAnd if I get sued, my lawyers Jews\\nSome girls do grab the cojones\\nSay, \\\"You got enough diamonds to at least Sierra loan us\\\"\\nBrand new Ferraris, I gotta make the donuts\\nCRS is like a hip-hop Christmas bonus\\nNiggas is hating on the internet, I couldn't tell\\nI was too busy rapping G.O.O.D. as hell\\nI was too busy flying, parasail\\nTo Colette to get the new shit that Paris sell\\nTarantino, Da Vinci, getting Benjis\\nGet half-off at Fendi, half of that's to Cindy's\\nHopped out the spaceship, put my Mork in Mindy\\nPopped too many corks to let you dorks offend me\\nProps in New York but Chi-Town's the city\\nGet my groupie hoochies Gucci, Monica Belluccis\\nAre those the real millionaires or the bendies?\\nI'm so ultra, I'm even over Oprah\\nBut let me check your account, haha, no sir\",\n          \"[Verse One: Big Pooh]\\nLife is based on sacrifices\\nAnd I don't know about guys that's like us\\nWe always felt that drove you crazy\\nThe oldest son beatin' on the youngest baby\\nNo intervention\\nSo much work is what started the tension\\nLack of attention for the details\\nI suppose, time rose that cross roads\\nOf learn and pass, we both failed\\nSet sail\\nAnd blaze trails on our way\\nThe sticky fingers of my day\\nGettin' my pay, my way\\nIndependence leadin' to the highways\\nThe bi-ways, via the closet storage\\nThe only logic for adolescent youth\\nSmellin' my pits denying the truth under your roof\\nNever\\nAnd so you lashed out\\nKicked his ass out\\nHe mashed out\\nReturned on the humble\\nWe all stumble was the antidote\\nTill he chopped soap\\nIt kept the glucose knockin' at your front door\\nWe ain't front poor\\nWe struggled through\\nThree kids, one mother\\nMinus three pop dukes\\nLack of child support and money too\\nYou made sure we never went hungry\\nAs long as we in front of you\\nFor three seasons you rocked the same coat\\nAnd spoke broke but found plenty at the holiday season I guess\\nIt's from you I get my structure and my reason\\nMoms I thank you for believin'\\n[Hook: Phonte]\\nNow love is\\n12 hour shifts and sacrifice\\nAnd love is\\nRunnin' in back and switchin' the prices\\nNow run it down\\nCause love is everything that you do\\nNow love is\\nBouncin' checks to send me on school trips\\nAnd love is\\nDrawing retirement to get me a whip\\nNow run it down\\nAnd love is everything that you do\\n\\n[Verse Two: Phonte]\\nYo, I was lookin' at a blank page\\nTryin' to think of words to describe you\\nThe pain we shared and the drama we survived through\\nThe times you cried when you was lied to\\nSingle handedly raisin' a son before you graduated high school\\nThe situation, kinda wild I presume\\n15 years old and had a child in the womb\\nAnd the whole town cuttin' eyes and gettin' mad at you\\nBut fuck all y'all niggas was your attitude\\nThat's why the teachers used to frown at me\\nBecause that same attitude you passed down to me\\nCursin' in class\\nThey called me a deviant kid\\nBut stayin' after school cause wasn't shit to eat at the crib\\nBut you kept believin' in me\\nThat's why I give you mad props\\nEven when our front door got padlock\\nAnd I was outside feelin' like a have-not\\nYou taught me happiness, regardless of the backdrop\\nAnd yo, I know I don't say it\\nThanks for all the times you made sure my work was punctuated\\nEven though your income fluctuated\\nI still wonder how the fuck we made it\\nAnd that's why I'm singin' this\\n[Hook]\\nAnd love is\\nKeepin' my words and my grammar precise\\nAnd love is\\nAfter school, come home with no lights\\nNow run it down\\nCause love is everything that you do\\nNow love is\\nChild support checks at the first of the month\\nAnd love is\\nSummertime goin' out for free lunch\\nNow run it down\\nAnd love is everything that you do\",\n          \"[Mr. Pookie]\\nWell its like this, I'ma keep it faint, I mean swift\\nGot AK 's cocked and aimin and sprayin, 4 you ready to trip\\nKeep it on yo hip if you ain't steady boy we ready to spray\\nNigga down to box but we know you punk niggas wasn't raised up that way\\nEspecially not today, niggas be talkin shit and poppin they trunk\\nNigga jus dont know, I'ma be calm and bitch that's jus like I'm krunk\\nSo ya wanna dump, I specialize in aimin and pickin off figures\\nDont even recognize you as niggas\\nBetta get on back, 4 I attack like cobra's, poisonous venom\\nGet em, they comin, nigga heard Stoneycrook was runnin\\nI wasn't thea for tha confrontation nigga if I was Ida been str8 jumpin\\nNow its comin for you, talkin shit\\nWatch out Stoneycrook be bombin bitch, now you all up on my dick\\nAin't it bad enuff that I got yo bitch?\\nSo I switch to anotha level, smokin my weed\\nWe get it bad enuff wit police, dont need you fuckin wit me\\nAnd got yo bitch comin ova wit tha pounds and sacks\\nShe gon give them hoes to me, she say she down like that\\n\\nChorus[x2]\\nWe from tha South, we puts it down like that\\nAnd dont you niggas try to hate cause clowns on that\\nYes we from Dallas and our city full of clowns and macs\\nWhere even bitches get they riches nigga pounds and sacks\\nBelieve that!!!!!\\n\\n[K-Roc]\\nGo get yo money, cause its comin, playa you dont wanna miss it\\nIt's Tha Rockla who gon rock it wit Tha Rippla who gon rip it\\nNigga trippin cause we pimpin and I'm drippin nuthin but ice\\nGot yo sister and yo wife hollerin they ain't nuthin nice\\nPay tha price cause you don lost em and we flossin wit precaution\\nIf these hataz run up on me, I'ma let off some exhaustion\\nAin't no bossin on my block, see that's y I keep a Glock\\nAnd my gurl, she keep tellin me \\\" Boy, K-Roc you need to stop\\\"\\nSo, I'ma drop off so clean, get some weed and some Hennessey\\nWrite me up a ryhme, hit tha stage, rockin wit tha G's\\nYou ain't neva seen, these playaz come outta nowhere\\nOnly to get this money, no money, playa I dont care\\nBout wha you hollerin about cause in tha South, you will get domed\\nYoung niggas get they caps peeled for actin like they grown\\nAnd we chiffin on, some shit they put in folks when they be sleep\\nAnd niggas run up like police, and askin wha is it you chiffin\\nSome playa shit!!!!\\n\\nChorus[x2]\\n[Mr. Pookie]\\nCan't overlook it, we 2 crooked, recognize these chalets\\nI was born in Dallas, where we withstand our battles\\nAnd tha cattle, we jus humpin 4 was niggas to eat\\nSo we stay strong on our feet, nigga we dont quit to defeat\\nStack up on heat and were ready, not for drama, 4 fetti\\nCause these niggas takin paper but I'm blastin em steady\\nHea to tell it like it is, crooks ain't got nuthin to give\\nTryin to show me where you live, been mistaken I'm in yo grill\\nWhere tha kill? I know you got tha weed hea today\\nIt dont matta, when gon scatta, and gon find it hid away\\nPistol play, bulletholes in tha wall from tha tusslin\\nHungry and I'm strugglin, believe I'm po hustlin'\\nBut tougher than muthafuckas take me off to be\\nI got venom in my veins, I'm not tha same, beware of me\\nBesta flee, 4 tha rath of me, get mixed up wit my mood swing\\nAttitude has switched, so watch tha shit, these crooked fools bring\\nAnd we ain't trippin, we jus down like this\\nIt's been a long time comin, nigga bounce to this\\nWe bring tha clips and flip tha script\\nReady waitin, busta trip\\nChemotherapy's in order, Abatrois finna slaughter\\nWit a harbor, but still I find tha time to smoke and chill\\nCool and calm is how I feel, Dallas Texas flexin steels, nigga\\nIts jus like that, boy, uh, Stoneycrook\\nChorus[x2]\"\n        ],\n        \"num_unique_values\": 5000,\n        \"semantic_type\": \"\",\n        \"description\": \"\"\n      }\n    }\n  ]\n}"
            }
          },
          "metadata": {},
          "execution_count": 41
        }
      ]
    },
    {
      "cell_type": "code",
      "source": [
        "my_df = df.loc[df['artist'].str.contains(r'(?:Hollywood Undead)|(?:Starset)|(?:Falling in Reverse)|(?:Birthday Massacre)|(?:Three Days Grace)|(?:The Pretty Reckless)|(?:Halestorm)|(?:All Good Things)|(?:No Resolve)', case=False)]\n",
        "my_df"
      ],
      "metadata": {
        "colab": {
          "base_uri": "https://localhost:8080/",
          "height": 81
        },
        "id": "cqssgzG0xxkE",
        "outputId": "d264ced9-3199-478e-e720-13aa774e4ead"
      },
      "execution_count": null,
      "outputs": [
        {
          "output_type": "execute_result",
          "data": {
            "text/plain": [
              "            title            artist  \\\n",
              "4772  El Urgencia  Hollywood Undead   \n",
              "\n",
              "                                                 lyrics  \n",
              "4772  [Verse 1: Funny Man, Charlie Scene & Da Kurlzz...  "
            ],
            "text/html": [
              "\n",
              "  <div id=\"df-b327050f-a2c8-465d-a1fe-d7849f7f5d1d\" class=\"colab-df-container\">\n",
              "    <div>\n",
              "<style scoped>\n",
              "    .dataframe tbody tr th:only-of-type {\n",
              "        vertical-align: middle;\n",
              "    }\n",
              "\n",
              "    .dataframe tbody tr th {\n",
              "        vertical-align: top;\n",
              "    }\n",
              "\n",
              "    .dataframe thead th {\n",
              "        text-align: right;\n",
              "    }\n",
              "</style>\n",
              "<table border=\"1\" class=\"dataframe\">\n",
              "  <thead>\n",
              "    <tr style=\"text-align: right;\">\n",
              "      <th></th>\n",
              "      <th>title</th>\n",
              "      <th>artist</th>\n",
              "      <th>lyrics</th>\n",
              "    </tr>\n",
              "  </thead>\n",
              "  <tbody>\n",
              "    <tr>\n",
              "      <th>4772</th>\n",
              "      <td>El Urgencia</td>\n",
              "      <td>Hollywood Undead</td>\n",
              "      <td>[Verse 1: Funny Man, Charlie Scene &amp; Da Kurlzz...</td>\n",
              "    </tr>\n",
              "  </tbody>\n",
              "</table>\n",
              "</div>\n",
              "    <div class=\"colab-df-buttons\">\n",
              "\n",
              "  <div class=\"colab-df-container\">\n",
              "    <button class=\"colab-df-convert\" onclick=\"convertToInteractive('df-b327050f-a2c8-465d-a1fe-d7849f7f5d1d')\"\n",
              "            title=\"Convert this dataframe to an interactive table.\"\n",
              "            style=\"display:none;\">\n",
              "\n",
              "  <svg xmlns=\"http://www.w3.org/2000/svg\" height=\"24px\" viewBox=\"0 -960 960 960\">\n",
              "    <path d=\"M120-120v-720h720v720H120Zm60-500h600v-160H180v160Zm220 220h160v-160H400v160Zm0 220h160v-160H400v160ZM180-400h160v-160H180v160Zm440 0h160v-160H620v160ZM180-180h160v-160H180v160Zm440 0h160v-160H620v160Z\"/>\n",
              "  </svg>\n",
              "    </button>\n",
              "\n",
              "  <style>\n",
              "    .colab-df-container {\n",
              "      display:flex;\n",
              "      gap: 12px;\n",
              "    }\n",
              "\n",
              "    .colab-df-convert {\n",
              "      background-color: #E8F0FE;\n",
              "      border: none;\n",
              "      border-radius: 50%;\n",
              "      cursor: pointer;\n",
              "      display: none;\n",
              "      fill: #1967D2;\n",
              "      height: 32px;\n",
              "      padding: 0 0 0 0;\n",
              "      width: 32px;\n",
              "    }\n",
              "\n",
              "    .colab-df-convert:hover {\n",
              "      background-color: #E2EBFA;\n",
              "      box-shadow: 0px 1px 2px rgba(60, 64, 67, 0.3), 0px 1px 3px 1px rgba(60, 64, 67, 0.15);\n",
              "      fill: #174EA6;\n",
              "    }\n",
              "\n",
              "    .colab-df-buttons div {\n",
              "      margin-bottom: 4px;\n",
              "    }\n",
              "\n",
              "    [theme=dark] .colab-df-convert {\n",
              "      background-color: #3B4455;\n",
              "      fill: #D2E3FC;\n",
              "    }\n",
              "\n",
              "    [theme=dark] .colab-df-convert:hover {\n",
              "      background-color: #434B5C;\n",
              "      box-shadow: 0px 1px 3px 1px rgba(0, 0, 0, 0.15);\n",
              "      filter: drop-shadow(0px 1px 2px rgba(0, 0, 0, 0.3));\n",
              "      fill: #FFFFFF;\n",
              "    }\n",
              "  </style>\n",
              "\n",
              "    <script>\n",
              "      const buttonEl =\n",
              "        document.querySelector('#df-b327050f-a2c8-465d-a1fe-d7849f7f5d1d button.colab-df-convert');\n",
              "      buttonEl.style.display =\n",
              "        google.colab.kernel.accessAllowed ? 'block' : 'none';\n",
              "\n",
              "      async function convertToInteractive(key) {\n",
              "        const element = document.querySelector('#df-b327050f-a2c8-465d-a1fe-d7849f7f5d1d');\n",
              "        const dataTable =\n",
              "          await google.colab.kernel.invokeFunction('convertToInteractive',\n",
              "                                                    [key], {});\n",
              "        if (!dataTable) return;\n",
              "\n",
              "        const docLinkHtml = 'Like what you see? Visit the ' +\n",
              "          '<a target=\"_blank\" href=https://colab.research.google.com/notebooks/data_table.ipynb>data table notebook</a>'\n",
              "          + ' to learn more about interactive tables.';\n",
              "        element.innerHTML = '';\n",
              "        dataTable['output_type'] = 'display_data';\n",
              "        await google.colab.output.renderOutput(dataTable, element);\n",
              "        const docLink = document.createElement('div');\n",
              "        docLink.innerHTML = docLinkHtml;\n",
              "        element.appendChild(docLink);\n",
              "      }\n",
              "    </script>\n",
              "  </div>\n",
              "\n",
              "    </div>\n",
              "  </div>\n"
            ],
            "application/vnd.google.colaboratory.intrinsic+json": {
              "type": "dataframe",
              "variable_name": "my_df",
              "summary": "{\n  \"name\": \"my_df\",\n  \"rows\": 1,\n  \"fields\": [\n    {\n      \"column\": \"title\",\n      \"properties\": {\n        \"dtype\": \"string\",\n        \"samples\": [\n          \"El Urgencia\"\n        ],\n        \"num_unique_values\": 1,\n        \"semantic_type\": \"\",\n        \"description\": \"\"\n      }\n    },\n    {\n      \"column\": \"artist\",\n      \"properties\": {\n        \"dtype\": \"string\",\n        \"samples\": [\n          \"Hollywood Undead\"\n        ],\n        \"num_unique_values\": 1,\n        \"semantic_type\": \"\",\n        \"description\": \"\"\n      }\n    },\n    {\n      \"column\": \"lyrics\",\n      \"properties\": {\n        \"dtype\": \"string\",\n        \"samples\": [\n          \"[Verse 1: Funny Man, Charlie Scene & Da Kurlzz]\\nSix-pack in hand, stage dive to the pit\\nHustle the ladies, got guerrilla tactics\\nI'm creeping through the show and I'm scanning for hoes\\nGirl's got a bag of sniffles, wanna do the no-no?\\nGet back to the bus, it's the end of the night\\nYeah, back to the bus and get out of my life\\n'Cause I got people to see, hoes as freaky as me\\nI roll into the after-party with my boy Charles P (Sup, Funny?)\\nPicked up a few friends, now I'm dipping with bitches\\nSlapped the bitch to my right, I said \\\"Click it or ticket\\\"\\nGirl feeling my ride, now she's getting suspicious\\nThis a brand new Miata as I'm hitting them switches\\nI ride behind Charlie as he's popping a wheelie\\nI finally made it to the party, now he's copping a feely\\nSee Da Kurlzz out front doing tricks on his Heelies (Hi, guys)\\nNow I'm finna get down, yelling \\\"somebody, beer me\\\"\\n\\n[Chorus: J-Dog & Charlie Scene]\\nSo chug this beer with me\\nGet drunk with Charlie Scene\\nSense this urgency\\n'Cause I ain't trying to get drunk alone\\nSo smoke this joint with me\\nGet high off Funny's weed\\nSense this urgency\\n'Cause I ain't trying to get high alone\\n[Verse 2: Charlie Scene & Funny Man]\\nI rolled up to the party in my Honda\\nFunny followed me is his Mazda Miata\\nDamn, what a baller, top-down? What a primadonna\\nThose spinners that he brought are\\nStraight outta AutoZone for thirty dollars\\nMoney? We have nada, let's go inside, I'll follow\\nThey didn't let us in, so we hopped a\\nWall, but I dropped you, that's when I lost you\\nI didn't try to call you, I ran into a crowd of celebrities and papa-\\nRazzi and they shot-a pictures of me and Dennis Hopper\\nNow I need a doctor, yo, Lil Jon, your (What?)\\nCrunk juice and vodka, it's turning me into a monster\\nOne more shot and I'm a goner\\nBut Charlie Scene, I saw you stick your dick in the salsa\\nI don't want no drama, I'd rather have my anaconda\\nDeep-throated by piranhas\\n\\n[Chorus: Charlie Scene]\\nSo take these pills with me\\nGot them from J-D-O-G\\nSense this urgency\\n'Cause I don't wanna get high alone\\nSo take this ecstasy\\nThey must be J3T's\\nSense this urgency\\n'Cause I ain't trying to get down alone\\n[Bridge: Funny Man]\\nHey, who's going to the rave tonight huh?\\nAye, we'll see Da Kurlzz there, he'll be rave-popping\\nAh, \\u00d3rale, fool\\nNow, who wants to get buzzin'?\\n\\n[Chorus: Charlie Scene]\\nSo chug this beer with me\\nGet drunk with Charlie Scene\\nSense this urgency\\n'Cause I ain\\u2019t trying to get drunk alone\\nSo smoke this joint with me\\nGet high off Funny\\u2019s weed\\nSense this urgency\\n\\u2018Cause I ain\\u2019t trying to get high alone\\n\\n[Outro: Charlie Scene & Funny Man]\\nI got the fuckin' munchies, bitch!\\nHey, kick them down, fool\\nI'm paranoid as a motherfucker right now!\\n\\u00d3rale, \\u00f3rale, \\u00f3rale\\nI'm fucking horny now!\"\n        ],\n        \"num_unique_values\": 1,\n        \"semantic_type\": \"\",\n        \"description\": \"\"\n      }\n    }\n  ]\n}"
            }
          },
          "metadata": {},
          "execution_count": 42
        }
      ]
    },
    {
      "cell_type": "code",
      "source": [
        "for i in range(1_995_000, 3_000_000 - 5_000, 5_000):\n",
        "  print(i)\n",
        "  df = pd.read_csv('song_lyrics.csv', usecols=[0, 2, 6], names=['title', 'artist', 'lyrics'], skiprows=i, nrows=5_000)\n",
        "  new_df = pd.concat([new_df, df.loc[df['artist'].str.contains(r'(?:Hollywood Undead)|(?:Starset)|(?:Falling in Reverse)|(?:Birthday Massacre)|(?:Three Days Grace)|(?:The Pretty Reckless)|(?:Halestorm)|(?:All Good Things)|(?:No Resolve)', case=False)]])\n",
        "clear_output()\n",
        "new_df"
      ],
      "metadata": {
        "colab": {
          "base_uri": "https://localhost:8080/",
          "height": 424
        },
        "id": "SyVda6mny_Z4",
        "outputId": "283bb088-6611-4818-c9ae-68521598c615"
      },
      "execution_count": null,
      "outputs": [
        {
          "output_type": "execute_result",
          "data": {
            "text/plain": [
              "                               title            artist  \\\n",
              "0                        El Urgencia  Hollywood Undead   \n",
              "1                    Dead in Ditches  Hollywood Undead   \n",
              "2                     Ready for This   All Good Things   \n",
              "3                              Young  Hollywood Undead   \n",
              "4                           The Loss  Hollywood Undead   \n",
              "...                              ...               ...   \n",
              "1142     Point of No Return Acoustic           STARSET   \n",
              "1144             Let It Die Acoustic           STARSET   \n",
              "1150     My Demons Synchronice Remix           STARSET   \n",
              "1186  Let It Die Maniac Agenda Remix           STARSET   \n",
              "1192          Telescope EmoTek Remix           STARSET   \n",
              "\n",
              "                                                 lyrics  \n",
              "0     [Verse 1: Funny Man, Charlie Scene & Da Kurlzz...  \n",
              "1     [Intro: Deuce]\\nFucking faggots\\nThat's when w...  \n",
              "2     Living breathing for a single moment\\nWe've le...  \n",
              "3     [Chorus: Deuce]\\nWe are young, but we have hea...  \n",
              "4     [Verse 1: Johnny 3 Tears]\\nSick with myself, b...  \n",
              "...                                                 ...  \n",
              "1142  [Intro]\\nThere's a memory of how we used to be...  \n",
              "1144  [Verse 1]\\nI cut you into pieces\\nSearching fo...  \n",
              "1150  [Intro]\\nMe, me, me, me\\nMe, me, me, me\\n\\n[Ve...  \n",
              "1186  [Intro]\\nLet it die\\nLet it die\\nLet it die\\nL...  \n",
              "1192  [Pre-Chorus]\\nFar from the sun\\nWhere no one k...  \n",
              "\n",
              "[666 rows x 3 columns]"
            ],
            "text/html": [
              "\n",
              "  <div id=\"df-c5522a31-aba7-4658-adb4-8a9b1acab8ae\" class=\"colab-df-container\">\n",
              "    <div>\n",
              "<style scoped>\n",
              "    .dataframe tbody tr th:only-of-type {\n",
              "        vertical-align: middle;\n",
              "    }\n",
              "\n",
              "    .dataframe tbody tr th {\n",
              "        vertical-align: top;\n",
              "    }\n",
              "\n",
              "    .dataframe thead th {\n",
              "        text-align: right;\n",
              "    }\n",
              "</style>\n",
              "<table border=\"1\" class=\"dataframe\">\n",
              "  <thead>\n",
              "    <tr style=\"text-align: right;\">\n",
              "      <th></th>\n",
              "      <th>title</th>\n",
              "      <th>artist</th>\n",
              "      <th>lyrics</th>\n",
              "    </tr>\n",
              "  </thead>\n",
              "  <tbody>\n",
              "    <tr>\n",
              "      <th>0</th>\n",
              "      <td>El Urgencia</td>\n",
              "      <td>Hollywood Undead</td>\n",
              "      <td>[Verse 1: Funny Man, Charlie Scene &amp; Da Kurlzz...</td>\n",
              "    </tr>\n",
              "    <tr>\n",
              "      <th>1</th>\n",
              "      <td>Dead in Ditches</td>\n",
              "      <td>Hollywood Undead</td>\n",
              "      <td>[Intro: Deuce]\\nFucking faggots\\nThat's when w...</td>\n",
              "    </tr>\n",
              "    <tr>\n",
              "      <th>2</th>\n",
              "      <td>Ready for This</td>\n",
              "      <td>All Good Things</td>\n",
              "      <td>Living breathing for a single moment\\nWe've le...</td>\n",
              "    </tr>\n",
              "    <tr>\n",
              "      <th>3</th>\n",
              "      <td>Young</td>\n",
              "      <td>Hollywood Undead</td>\n",
              "      <td>[Chorus: Deuce]\\nWe are young, but we have hea...</td>\n",
              "    </tr>\n",
              "    <tr>\n",
              "      <th>4</th>\n",
              "      <td>The Loss</td>\n",
              "      <td>Hollywood Undead</td>\n",
              "      <td>[Verse 1: Johnny 3 Tears]\\nSick with myself, b...</td>\n",
              "    </tr>\n",
              "    <tr>\n",
              "      <th>...</th>\n",
              "      <td>...</td>\n",
              "      <td>...</td>\n",
              "      <td>...</td>\n",
              "    </tr>\n",
              "    <tr>\n",
              "      <th>1142</th>\n",
              "      <td>Point of No Return Acoustic</td>\n",
              "      <td>STARSET</td>\n",
              "      <td>[Intro]\\nThere's a memory of how we used to be...</td>\n",
              "    </tr>\n",
              "    <tr>\n",
              "      <th>1144</th>\n",
              "      <td>Let It Die Acoustic</td>\n",
              "      <td>STARSET</td>\n",
              "      <td>[Verse 1]\\nI cut you into pieces\\nSearching fo...</td>\n",
              "    </tr>\n",
              "    <tr>\n",
              "      <th>1150</th>\n",
              "      <td>My Demons Synchronice Remix</td>\n",
              "      <td>STARSET</td>\n",
              "      <td>[Intro]\\nMe, me, me, me\\nMe, me, me, me\\n\\n[Ve...</td>\n",
              "    </tr>\n",
              "    <tr>\n",
              "      <th>1186</th>\n",
              "      <td>Let It Die Maniac Agenda Remix</td>\n",
              "      <td>STARSET</td>\n",
              "      <td>[Intro]\\nLet it die\\nLet it die\\nLet it die\\nL...</td>\n",
              "    </tr>\n",
              "    <tr>\n",
              "      <th>1192</th>\n",
              "      <td>Telescope EmoTek Remix</td>\n",
              "      <td>STARSET</td>\n",
              "      <td>[Pre-Chorus]\\nFar from the sun\\nWhere no one k...</td>\n",
              "    </tr>\n",
              "  </tbody>\n",
              "</table>\n",
              "<p>666 rows × 3 columns</p>\n",
              "</div>\n",
              "    <div class=\"colab-df-buttons\">\n",
              "\n",
              "  <div class=\"colab-df-container\">\n",
              "    <button class=\"colab-df-convert\" onclick=\"convertToInteractive('df-c5522a31-aba7-4658-adb4-8a9b1acab8ae')\"\n",
              "            title=\"Convert this dataframe to an interactive table.\"\n",
              "            style=\"display:none;\">\n",
              "\n",
              "  <svg xmlns=\"http://www.w3.org/2000/svg\" height=\"24px\" viewBox=\"0 -960 960 960\">\n",
              "    <path d=\"M120-120v-720h720v720H120Zm60-500h600v-160H180v160Zm220 220h160v-160H400v160Zm0 220h160v-160H400v160ZM180-400h160v-160H180v160Zm440 0h160v-160H620v160ZM180-180h160v-160H180v160Zm440 0h160v-160H620v160Z\"/>\n",
              "  </svg>\n",
              "    </button>\n",
              "\n",
              "  <style>\n",
              "    .colab-df-container {\n",
              "      display:flex;\n",
              "      gap: 12px;\n",
              "    }\n",
              "\n",
              "    .colab-df-convert {\n",
              "      background-color: #E8F0FE;\n",
              "      border: none;\n",
              "      border-radius: 50%;\n",
              "      cursor: pointer;\n",
              "      display: none;\n",
              "      fill: #1967D2;\n",
              "      height: 32px;\n",
              "      padding: 0 0 0 0;\n",
              "      width: 32px;\n",
              "    }\n",
              "\n",
              "    .colab-df-convert:hover {\n",
              "      background-color: #E2EBFA;\n",
              "      box-shadow: 0px 1px 2px rgba(60, 64, 67, 0.3), 0px 1px 3px 1px rgba(60, 64, 67, 0.15);\n",
              "      fill: #174EA6;\n",
              "    }\n",
              "\n",
              "    .colab-df-buttons div {\n",
              "      margin-bottom: 4px;\n",
              "    }\n",
              "\n",
              "    [theme=dark] .colab-df-convert {\n",
              "      background-color: #3B4455;\n",
              "      fill: #D2E3FC;\n",
              "    }\n",
              "\n",
              "    [theme=dark] .colab-df-convert:hover {\n",
              "      background-color: #434B5C;\n",
              "      box-shadow: 0px 1px 3px 1px rgba(0, 0, 0, 0.15);\n",
              "      filter: drop-shadow(0px 1px 2px rgba(0, 0, 0, 0.3));\n",
              "      fill: #FFFFFF;\n",
              "    }\n",
              "  </style>\n",
              "\n",
              "    <script>\n",
              "      const buttonEl =\n",
              "        document.querySelector('#df-c5522a31-aba7-4658-adb4-8a9b1acab8ae button.colab-df-convert');\n",
              "      buttonEl.style.display =\n",
              "        google.colab.kernel.accessAllowed ? 'block' : 'none';\n",
              "\n",
              "      async function convertToInteractive(key) {\n",
              "        const element = document.querySelector('#df-c5522a31-aba7-4658-adb4-8a9b1acab8ae');\n",
              "        const dataTable =\n",
              "          await google.colab.kernel.invokeFunction('convertToInteractive',\n",
              "                                                    [key], {});\n",
              "        if (!dataTable) return;\n",
              "\n",
              "        const docLinkHtml = 'Like what you see? Visit the ' +\n",
              "          '<a target=\"_blank\" href=https://colab.research.google.com/notebooks/data_table.ipynb>data table notebook</a>'\n",
              "          + ' to learn more about interactive tables.';\n",
              "        element.innerHTML = '';\n",
              "        dataTable['output_type'] = 'display_data';\n",
              "        await google.colab.output.renderOutput(dataTable, element);\n",
              "        const docLink = document.createElement('div');\n",
              "        docLink.innerHTML = docLinkHtml;\n",
              "        element.appendChild(docLink);\n",
              "      }\n",
              "    </script>\n",
              "  </div>\n",
              "\n",
              "\n",
              "<div id=\"df-f7ec0164-5fb8-4ece-be2c-fe16210cab40\">\n",
              "  <button class=\"colab-df-quickchart\" onclick=\"quickchart('df-f7ec0164-5fb8-4ece-be2c-fe16210cab40')\"\n",
              "            title=\"Suggest charts\"\n",
              "            style=\"display:none;\">\n",
              "\n",
              "<svg xmlns=\"http://www.w3.org/2000/svg\" height=\"24px\"viewBox=\"0 0 24 24\"\n",
              "     width=\"24px\">\n",
              "    <g>\n",
              "        <path d=\"M19 3H5c-1.1 0-2 .9-2 2v14c0 1.1.9 2 2 2h14c1.1 0 2-.9 2-2V5c0-1.1-.9-2-2-2zM9 17H7v-7h2v7zm4 0h-2V7h2v10zm4 0h-2v-4h2v4z\"/>\n",
              "    </g>\n",
              "</svg>\n",
              "  </button>\n",
              "\n",
              "<style>\n",
              "  .colab-df-quickchart {\n",
              "      --bg-color: #E8F0FE;\n",
              "      --fill-color: #1967D2;\n",
              "      --hover-bg-color: #E2EBFA;\n",
              "      --hover-fill-color: #174EA6;\n",
              "      --disabled-fill-color: #AAA;\n",
              "      --disabled-bg-color: #DDD;\n",
              "  }\n",
              "\n",
              "  [theme=dark] .colab-df-quickchart {\n",
              "      --bg-color: #3B4455;\n",
              "      --fill-color: #D2E3FC;\n",
              "      --hover-bg-color: #434B5C;\n",
              "      --hover-fill-color: #FFFFFF;\n",
              "      --disabled-bg-color: #3B4455;\n",
              "      --disabled-fill-color: #666;\n",
              "  }\n",
              "\n",
              "  .colab-df-quickchart {\n",
              "    background-color: var(--bg-color);\n",
              "    border: none;\n",
              "    border-radius: 50%;\n",
              "    cursor: pointer;\n",
              "    display: none;\n",
              "    fill: var(--fill-color);\n",
              "    height: 32px;\n",
              "    padding: 0;\n",
              "    width: 32px;\n",
              "  }\n",
              "\n",
              "  .colab-df-quickchart:hover {\n",
              "    background-color: var(--hover-bg-color);\n",
              "    box-shadow: 0 1px 2px rgba(60, 64, 67, 0.3), 0 1px 3px 1px rgba(60, 64, 67, 0.15);\n",
              "    fill: var(--button-hover-fill-color);\n",
              "  }\n",
              "\n",
              "  .colab-df-quickchart-complete:disabled,\n",
              "  .colab-df-quickchart-complete:disabled:hover {\n",
              "    background-color: var(--disabled-bg-color);\n",
              "    fill: var(--disabled-fill-color);\n",
              "    box-shadow: none;\n",
              "  }\n",
              "\n",
              "  .colab-df-spinner {\n",
              "    border: 2px solid var(--fill-color);\n",
              "    border-color: transparent;\n",
              "    border-bottom-color: var(--fill-color);\n",
              "    animation:\n",
              "      spin 1s steps(1) infinite;\n",
              "  }\n",
              "\n",
              "  @keyframes spin {\n",
              "    0% {\n",
              "      border-color: transparent;\n",
              "      border-bottom-color: var(--fill-color);\n",
              "      border-left-color: var(--fill-color);\n",
              "    }\n",
              "    20% {\n",
              "      border-color: transparent;\n",
              "      border-left-color: var(--fill-color);\n",
              "      border-top-color: var(--fill-color);\n",
              "    }\n",
              "    30% {\n",
              "      border-color: transparent;\n",
              "      border-left-color: var(--fill-color);\n",
              "      border-top-color: var(--fill-color);\n",
              "      border-right-color: var(--fill-color);\n",
              "    }\n",
              "    40% {\n",
              "      border-color: transparent;\n",
              "      border-right-color: var(--fill-color);\n",
              "      border-top-color: var(--fill-color);\n",
              "    }\n",
              "    60% {\n",
              "      border-color: transparent;\n",
              "      border-right-color: var(--fill-color);\n",
              "    }\n",
              "    80% {\n",
              "      border-color: transparent;\n",
              "      border-right-color: var(--fill-color);\n",
              "      border-bottom-color: var(--fill-color);\n",
              "    }\n",
              "    90% {\n",
              "      border-color: transparent;\n",
              "      border-bottom-color: var(--fill-color);\n",
              "    }\n",
              "  }\n",
              "</style>\n",
              "\n",
              "  <script>\n",
              "    async function quickchart(key) {\n",
              "      const quickchartButtonEl =\n",
              "        document.querySelector('#' + key + ' button');\n",
              "      quickchartButtonEl.disabled = true;  // To prevent multiple clicks.\n",
              "      quickchartButtonEl.classList.add('colab-df-spinner');\n",
              "      try {\n",
              "        const charts = await google.colab.kernel.invokeFunction(\n",
              "            'suggestCharts', [key], {});\n",
              "      } catch (error) {\n",
              "        console.error('Error during call to suggestCharts:', error);\n",
              "      }\n",
              "      quickchartButtonEl.classList.remove('colab-df-spinner');\n",
              "      quickchartButtonEl.classList.add('colab-df-quickchart-complete');\n",
              "    }\n",
              "    (() => {\n",
              "      let quickchartButtonEl =\n",
              "        document.querySelector('#df-f7ec0164-5fb8-4ece-be2c-fe16210cab40 button');\n",
              "      quickchartButtonEl.style.display =\n",
              "        google.colab.kernel.accessAllowed ? 'block' : 'none';\n",
              "    })();\n",
              "  </script>\n",
              "</div>\n",
              "    </div>\n",
              "  </div>\n"
            ],
            "application/vnd.google.colaboratory.intrinsic+json": {
              "type": "dataframe",
              "variable_name": "new_df",
              "summary": "{\n  \"name\": \"new_df\",\n  \"rows\": 666,\n  \"fields\": [\n    {\n      \"column\": \"title\",\n      \"properties\": {\n        \"dtype\": \"string\",\n        \"samples\": [\n          \"Monster feat. HYDE\",\n          \"Unapologetic\",\n          \"Scream\"\n        ],\n        \"num_unique_values\": 652,\n        \"semantic_type\": \"\",\n        \"description\": \"\"\n      }\n    },\n    {\n      \"column\": \"artist\",\n      \"properties\": {\n        \"dtype\": \"category\",\n        \"samples\": [\n          \"STARSET\",\n          \"All Good Things\",\n          \"The Pretty Reckless\"\n        ],\n        \"num_unique_values\": 9,\n        \"semantic_type\": \"\",\n        \"description\": \"\"\n      }\n    },\n    {\n      \"column\": \"lyrics\",\n      \"properties\": {\n        \"dtype\": \"string\",\n        \"samples\": [\n          \"[Verse 1]\\nWe could just go home right now\\nOr maybe we could stick around\\nFor just one more drink, oh yeah\\nGet another bottle out\\nLet's shoot the shit\\nSit back down\\nFor just one more drink, oh yeah\\n\\n[Chorus 1]\\nHere's to us\\nHere's to love\\nAll the times that we fucked up\\nHere's to you\\nFill the glass\\n'Cause the last few days\\nHave kicked my ass\\nSo let's give 'em hell\\nWish everybody well\\nHere's to us\\nHere's to us\\n[Verse 2]\\nStuck it out this far together\\nPut our dreams through the shredder\\nLet\\u2019s toast 'cause things got better\\nAnd everything could change like that\\nAnd all these years go by so fast\\nBut nothing lasts forever\\n\\n[Chorus 2]\\nHere's to us\\nHere's to love\\nAll the times that we messed up\\nHere's to you\\nFill the glass\\n'Cause the last few nights\\nHave kicked my ass\\nIf they give you hell\\nTell 'em to go fuck themselves\\nHere's to us\\nHere's to us\\n\\n[Bridge]\\nHere's to all that we kissed\\nAnd to all that we missed\\nTo the biggest mistakes\\nThat we just wouldn\\u2019t trade\\nTo us breaking up\\nWithout us breaking down\\nTo whatever's coming our way\\n[Chorus 1]\\nHere's to us\\nHere's to love\\nAll the times that we fucked up\\nHere's to you\\nFill the glass\\n'Cause the last few days\\nHave kicked my ass\\nSo let's give 'em hell\\nWish everybody well\\n\\n[Chorus]\\nHere's to us\\nHere's to love\\nAll the times that we messed up\\nHere's to you\\nFill the glass\\n'Cause the last few nights\\nHave kicked my ass\\nIf they give you hell\\nTell 'em go fuck themselves (Go fuck themselves)\\nHere's to us\\nHere\\u2019s to us\\nHere\\u2019s to us\\nHere\\u2019s to us\\n[Outro]\\nHere's to us\\nHere\\u2019s to love\\nHere\\u2019s to us (Wish everybody well)\\nHere's to us\\nHere\\u2019s to love\\nHere's to us\\nHere's to us\",\n          \"[Verse 1]\\nAm I brave enough?\\nAm I strong enough?\\nTo follow the desire\\nThat burns from within\\nTo push away my fear\\nTo stand where I'm afraid\\nI am through with this\\nCuz I am more than this\\nI promise to myself\\nAlone and no one else\\nMy flame is rising higher\\n\\n[Chorus]\\nI am the fire\\nI am burning brighter\\nRoaring like a storm\\nAnd I am the one I've been waiting for\\nScreaming like a siren\\nAlive and burning brighter\\nI am the fire\\n[Verse 2]\\nI've been sacrificed\\nMy heart's been cauterized\\nHanging on to hope\\nShackled by the ghost\\nOf what I once believed\\nThat I could never be\\nWhat\\u2019s right in front of me\\n\\n[Chorus]\\nI am the fire\\nI am burning brighter\\nRoaring like a storm\\nAnd I am the one I've been waiting for\\nScreaming like a siren\\nAlive and burning brighter\\nI am the fire\\n\\n[Bridge]\\nI don't believe I'll fall from grace\\nWon't let the past decide my fate\\nLeave forgiveness in my wake, oh\\nTake the love that I've embraced\\nI promise to myself, me and no one else\\nI am more than this\\nI am the fire\\n[Chorus]\\nI am the fire\\nI am burning brighter\\nRoaring like a storm\\nAnd I am the one I've been waiting for\\nScreaming like a siren\\nAlive and burning brighter\\nI am the fire\\nI am the fire\\nI am the fire\\nI am the fire\\nI am the fire\\nI am the fire\",\n          \"[Intro]\\nI heard a knock upon my door the other day\\nI opened it to find death staring in my face\\nThe feel of mortal stalking still reverberates\\nEverywhere I go, I drag this coffin just in case\\n\\n[Verse 1]\\nMy body's trembling sends shivers down my spine\\nAdrenaline kicks in, shifts into overdrive\\nYour secrets keep you sick, your lies keep you alive\\nSnake eyes every single time you roll with crooked dice\\n\\n[Pre-Chorus]\\nI felt the darkness as it tried to pull me down\\nThe kind of dark that haunts a hundred-year-old house\\nI wrestle with my thoughts, I shook the hand of doubt\\nRunning from my past, I'm praying: \\\"Feet, don't fail me now\\\"\\n\\n[Chorus]\\nI've lost my goddamn mind, it happens all the time\\nI can't believe I'm actually meant to be here\\nTrying to consume, the drug in me is you\\nAnd I'm so high on misery, can't you see?\\n[Verse 2]\\nI got these questions always running through my head\\nSo many things that I would like to understand\\nIf we are born to die and we all die to live\\nThen what's the point of living life if it just contradicts?\\n\\n[Pre-Chorus]\\nI felt the darkness as it tried to pull me down\\nThe kind of dark that haunts a hundred-year-old house\\nI wrestle with my thoughts, I shook the hand of doubt\\nRunning from my past, I'm praying: \\\"Feet, don't fail me now\\\"\\n\\n[Chorus]\\nI've lost my goddamn mind, it happens all the time\\nI can't believe I'm actually meant to be here\\nTrying to consume, the drug in me is you\\nAnd I'm so high on misery, can't you see?\\n\\n[Guitar Solo]\\n\\n[Bridge]\\nI've lost myself\\nYou tried to reach me, but you just can't help me\\nSo long, goodbye\\nYou tried to save me, it won't work this time 'cause now\\n[Chorus]\\nI've lost my fucking mind, and there's no fucking time\\nI can't believe I'm actually meant to be here\\nTrying to consume, the drug in me is you\\nAnd I'm so high on misery, can't you see?\\n\\n[Outro]\\nOh, can't you see?\\nCan't you see?\"\n        ],\n        \"num_unique_values\": 656,\n        \"semantic_type\": \"\",\n        \"description\": \"\"\n      }\n    }\n  ]\n}"
            }
          },
          "metadata": {},
          "execution_count": 118
        }
      ]
    },
    {
      "cell_type": "code",
      "source": [
        "new_df['artist'].value_counts()"
      ],
      "metadata": {
        "colab": {
          "base_uri": "https://localhost:8080/"
        },
        "id": "8_wTW_4U7-IQ",
        "outputId": "1075136f-f28d-4872-b392-c86fc462ae4e"
      },
      "execution_count": null,
      "outputs": [
        {
          "output_type": "execute_result",
          "data": {
            "text/plain": [
              "Hollywood Undead         140\n",
              "Halestorm                119\n",
              "Three Days Grace          91\n",
              "The Birthday Massacre     90\n",
              "The Pretty Reckless       60\n",
              "Falling in Reverse        58\n",
              "All Good Things           46\n",
              "STARSET                   46\n",
              "No Resolve                16\n",
              "Name: artist, dtype: int64"
            ]
          },
          "metadata": {},
          "execution_count": 119
        }
      ]
    },
    {
      "cell_type": "code",
      "source": [
        "new_df.drop_duplicates(subset='lyrics', inplace=True, ignore_index=True)"
      ],
      "metadata": {
        "id": "PaLhjRRzRnyd"
      },
      "execution_count": null,
      "outputs": []
    },
    {
      "cell_type": "code",
      "source": [
        "new_df.to_csv('drive/MyDrive/data/lyrics_1.csv')"
      ],
      "metadata": {
        "id": "wePOgtCqQzPu"
      },
      "execution_count": null,
      "outputs": []
    },
    {
      "cell_type": "markdown",
      "source": [
        "## Load Dataset Part + EDA"
      ],
      "metadata": {
        "id": "DgZryselni-v"
      }
    },
    {
      "cell_type": "code",
      "source": [
        "df_rock = pd.read_csv('drive/MyDrive/data/lyrics_1.csv', usecols=[1, 2, 3])\n",
        "df_rock"
      ],
      "metadata": {
        "colab": {
          "base_uri": "https://localhost:8080/",
          "height": 424
        },
        "id": "d434GoW6XT12",
        "outputId": "315b0cd1-db45-482a-807b-f83d311f56c7"
      },
      "execution_count": null,
      "outputs": [
        {
          "output_type": "execute_result",
          "data": {
            "text/plain": [
              "                              title            artist  \\\n",
              "0                       El Urgencia  Hollywood Undead   \n",
              "1                   Dead in Ditches  Hollywood Undead   \n",
              "2                    Ready for This   All Good Things   \n",
              "3                             Young  Hollywood Undead   \n",
              "4                          The Loss  Hollywood Undead   \n",
              "..                              ...               ...   \n",
              "651              My Demons Acoustic           STARSET   \n",
              "652             Let It Die Acoustic           STARSET   \n",
              "653     My Demons Synchronice Remix           STARSET   \n",
              "654  Let It Die Maniac Agenda Remix           STARSET   \n",
              "655          Telescope EmoTek Remix           STARSET   \n",
              "\n",
              "                                                lyrics  \n",
              "0    [Verse 1: Funny Man, Charlie Scene & Da Kurlzz...  \n",
              "1    [Intro: Deuce]\\nFucking faggots\\nThat's when w...  \n",
              "2    Living breathing for a single moment\\nWe've le...  \n",
              "3    [Chorus: Deuce]\\nWe are young, but we have hea...  \n",
              "4    [Verse 1: Johnny 3 Tears]\\nSick with myself, b...  \n",
              "..                                                 ...  \n",
              "651  [Verse 1]\\nMayday! Mayday!\\nThis ship is slowl...  \n",
              "652  [Verse 1]\\nI cut you into pieces\\nSearching fo...  \n",
              "653  [Intro]\\nMe, me, me, me\\nMe, me, me, me\\n\\n[Ve...  \n",
              "654  [Intro]\\nLet it die\\nLet it die\\nLet it die\\nL...  \n",
              "655  [Pre-Chorus]\\nFar from the sun\\nWhere no one k...  \n",
              "\n",
              "[656 rows x 3 columns]"
            ],
            "text/html": [
              "\n",
              "  <div id=\"df-4d3035b1-9806-4149-9c30-52651c0561eb\" class=\"colab-df-container\">\n",
              "    <div>\n",
              "<style scoped>\n",
              "    .dataframe tbody tr th:only-of-type {\n",
              "        vertical-align: middle;\n",
              "    }\n",
              "\n",
              "    .dataframe tbody tr th {\n",
              "        vertical-align: top;\n",
              "    }\n",
              "\n",
              "    .dataframe thead th {\n",
              "        text-align: right;\n",
              "    }\n",
              "</style>\n",
              "<table border=\"1\" class=\"dataframe\">\n",
              "  <thead>\n",
              "    <tr style=\"text-align: right;\">\n",
              "      <th></th>\n",
              "      <th>title</th>\n",
              "      <th>artist</th>\n",
              "      <th>lyrics</th>\n",
              "    </tr>\n",
              "  </thead>\n",
              "  <tbody>\n",
              "    <tr>\n",
              "      <th>0</th>\n",
              "      <td>El Urgencia</td>\n",
              "      <td>Hollywood Undead</td>\n",
              "      <td>[Verse 1: Funny Man, Charlie Scene &amp; Da Kurlzz...</td>\n",
              "    </tr>\n",
              "    <tr>\n",
              "      <th>1</th>\n",
              "      <td>Dead in Ditches</td>\n",
              "      <td>Hollywood Undead</td>\n",
              "      <td>[Intro: Deuce]\\nFucking faggots\\nThat's when w...</td>\n",
              "    </tr>\n",
              "    <tr>\n",
              "      <th>2</th>\n",
              "      <td>Ready for This</td>\n",
              "      <td>All Good Things</td>\n",
              "      <td>Living breathing for a single moment\\nWe've le...</td>\n",
              "    </tr>\n",
              "    <tr>\n",
              "      <th>3</th>\n",
              "      <td>Young</td>\n",
              "      <td>Hollywood Undead</td>\n",
              "      <td>[Chorus: Deuce]\\nWe are young, but we have hea...</td>\n",
              "    </tr>\n",
              "    <tr>\n",
              "      <th>4</th>\n",
              "      <td>The Loss</td>\n",
              "      <td>Hollywood Undead</td>\n",
              "      <td>[Verse 1: Johnny 3 Tears]\\nSick with myself, b...</td>\n",
              "    </tr>\n",
              "    <tr>\n",
              "      <th>...</th>\n",
              "      <td>...</td>\n",
              "      <td>...</td>\n",
              "      <td>...</td>\n",
              "    </tr>\n",
              "    <tr>\n",
              "      <th>651</th>\n",
              "      <td>My Demons Acoustic</td>\n",
              "      <td>STARSET</td>\n",
              "      <td>[Verse 1]\\nMayday! Mayday!\\nThis ship is slowl...</td>\n",
              "    </tr>\n",
              "    <tr>\n",
              "      <th>652</th>\n",
              "      <td>Let It Die Acoustic</td>\n",
              "      <td>STARSET</td>\n",
              "      <td>[Verse 1]\\nI cut you into pieces\\nSearching fo...</td>\n",
              "    </tr>\n",
              "    <tr>\n",
              "      <th>653</th>\n",
              "      <td>My Demons Synchronice Remix</td>\n",
              "      <td>STARSET</td>\n",
              "      <td>[Intro]\\nMe, me, me, me\\nMe, me, me, me\\n\\n[Ve...</td>\n",
              "    </tr>\n",
              "    <tr>\n",
              "      <th>654</th>\n",
              "      <td>Let It Die Maniac Agenda Remix</td>\n",
              "      <td>STARSET</td>\n",
              "      <td>[Intro]\\nLet it die\\nLet it die\\nLet it die\\nL...</td>\n",
              "    </tr>\n",
              "    <tr>\n",
              "      <th>655</th>\n",
              "      <td>Telescope EmoTek Remix</td>\n",
              "      <td>STARSET</td>\n",
              "      <td>[Pre-Chorus]\\nFar from the sun\\nWhere no one k...</td>\n",
              "    </tr>\n",
              "  </tbody>\n",
              "</table>\n",
              "<p>656 rows × 3 columns</p>\n",
              "</div>\n",
              "    <div class=\"colab-df-buttons\">\n",
              "\n",
              "  <div class=\"colab-df-container\">\n",
              "    <button class=\"colab-df-convert\" onclick=\"convertToInteractive('df-4d3035b1-9806-4149-9c30-52651c0561eb')\"\n",
              "            title=\"Convert this dataframe to an interactive table.\"\n",
              "            style=\"display:none;\">\n",
              "\n",
              "  <svg xmlns=\"http://www.w3.org/2000/svg\" height=\"24px\" viewBox=\"0 -960 960 960\">\n",
              "    <path d=\"M120-120v-720h720v720H120Zm60-500h600v-160H180v160Zm220 220h160v-160H400v160Zm0 220h160v-160H400v160ZM180-400h160v-160H180v160Zm440 0h160v-160H620v160ZM180-180h160v-160H180v160Zm440 0h160v-160H620v160Z\"/>\n",
              "  </svg>\n",
              "    </button>\n",
              "\n",
              "  <style>\n",
              "    .colab-df-container {\n",
              "      display:flex;\n",
              "      gap: 12px;\n",
              "    }\n",
              "\n",
              "    .colab-df-convert {\n",
              "      background-color: #E8F0FE;\n",
              "      border: none;\n",
              "      border-radius: 50%;\n",
              "      cursor: pointer;\n",
              "      display: none;\n",
              "      fill: #1967D2;\n",
              "      height: 32px;\n",
              "      padding: 0 0 0 0;\n",
              "      width: 32px;\n",
              "    }\n",
              "\n",
              "    .colab-df-convert:hover {\n",
              "      background-color: #E2EBFA;\n",
              "      box-shadow: 0px 1px 2px rgba(60, 64, 67, 0.3), 0px 1px 3px 1px rgba(60, 64, 67, 0.15);\n",
              "      fill: #174EA6;\n",
              "    }\n",
              "\n",
              "    .colab-df-buttons div {\n",
              "      margin-bottom: 4px;\n",
              "    }\n",
              "\n",
              "    [theme=dark] .colab-df-convert {\n",
              "      background-color: #3B4455;\n",
              "      fill: #D2E3FC;\n",
              "    }\n",
              "\n",
              "    [theme=dark] .colab-df-convert:hover {\n",
              "      background-color: #434B5C;\n",
              "      box-shadow: 0px 1px 3px 1px rgba(0, 0, 0, 0.15);\n",
              "      filter: drop-shadow(0px 1px 2px rgba(0, 0, 0, 0.3));\n",
              "      fill: #FFFFFF;\n",
              "    }\n",
              "  </style>\n",
              "\n",
              "    <script>\n",
              "      const buttonEl =\n",
              "        document.querySelector('#df-4d3035b1-9806-4149-9c30-52651c0561eb button.colab-df-convert');\n",
              "      buttonEl.style.display =\n",
              "        google.colab.kernel.accessAllowed ? 'block' : 'none';\n",
              "\n",
              "      async function convertToInteractive(key) {\n",
              "        const element = document.querySelector('#df-4d3035b1-9806-4149-9c30-52651c0561eb');\n",
              "        const dataTable =\n",
              "          await google.colab.kernel.invokeFunction('convertToInteractive',\n",
              "                                                    [key], {});\n",
              "        if (!dataTable) return;\n",
              "\n",
              "        const docLinkHtml = 'Like what you see? Visit the ' +\n",
              "          '<a target=\"_blank\" href=https://colab.research.google.com/notebooks/data_table.ipynb>data table notebook</a>'\n",
              "          + ' to learn more about interactive tables.';\n",
              "        element.innerHTML = '';\n",
              "        dataTable['output_type'] = 'display_data';\n",
              "        await google.colab.output.renderOutput(dataTable, element);\n",
              "        const docLink = document.createElement('div');\n",
              "        docLink.innerHTML = docLinkHtml;\n",
              "        element.appendChild(docLink);\n",
              "      }\n",
              "    </script>\n",
              "  </div>\n",
              "\n",
              "\n",
              "<div id=\"df-e38743a0-86b4-43cd-88d8-f657b1b461ce\">\n",
              "  <button class=\"colab-df-quickchart\" onclick=\"quickchart('df-e38743a0-86b4-43cd-88d8-f657b1b461ce')\"\n",
              "            title=\"Suggest charts\"\n",
              "            style=\"display:none;\">\n",
              "\n",
              "<svg xmlns=\"http://www.w3.org/2000/svg\" height=\"24px\"viewBox=\"0 0 24 24\"\n",
              "     width=\"24px\">\n",
              "    <g>\n",
              "        <path d=\"M19 3H5c-1.1 0-2 .9-2 2v14c0 1.1.9 2 2 2h14c1.1 0 2-.9 2-2V5c0-1.1-.9-2-2-2zM9 17H7v-7h2v7zm4 0h-2V7h2v10zm4 0h-2v-4h2v4z\"/>\n",
              "    </g>\n",
              "</svg>\n",
              "  </button>\n",
              "\n",
              "<style>\n",
              "  .colab-df-quickchart {\n",
              "      --bg-color: #E8F0FE;\n",
              "      --fill-color: #1967D2;\n",
              "      --hover-bg-color: #E2EBFA;\n",
              "      --hover-fill-color: #174EA6;\n",
              "      --disabled-fill-color: #AAA;\n",
              "      --disabled-bg-color: #DDD;\n",
              "  }\n",
              "\n",
              "  [theme=dark] .colab-df-quickchart {\n",
              "      --bg-color: #3B4455;\n",
              "      --fill-color: #D2E3FC;\n",
              "      --hover-bg-color: #434B5C;\n",
              "      --hover-fill-color: #FFFFFF;\n",
              "      --disabled-bg-color: #3B4455;\n",
              "      --disabled-fill-color: #666;\n",
              "  }\n",
              "\n",
              "  .colab-df-quickchart {\n",
              "    background-color: var(--bg-color);\n",
              "    border: none;\n",
              "    border-radius: 50%;\n",
              "    cursor: pointer;\n",
              "    display: none;\n",
              "    fill: var(--fill-color);\n",
              "    height: 32px;\n",
              "    padding: 0;\n",
              "    width: 32px;\n",
              "  }\n",
              "\n",
              "  .colab-df-quickchart:hover {\n",
              "    background-color: var(--hover-bg-color);\n",
              "    box-shadow: 0 1px 2px rgba(60, 64, 67, 0.3), 0 1px 3px 1px rgba(60, 64, 67, 0.15);\n",
              "    fill: var(--button-hover-fill-color);\n",
              "  }\n",
              "\n",
              "  .colab-df-quickchart-complete:disabled,\n",
              "  .colab-df-quickchart-complete:disabled:hover {\n",
              "    background-color: var(--disabled-bg-color);\n",
              "    fill: var(--disabled-fill-color);\n",
              "    box-shadow: none;\n",
              "  }\n",
              "\n",
              "  .colab-df-spinner {\n",
              "    border: 2px solid var(--fill-color);\n",
              "    border-color: transparent;\n",
              "    border-bottom-color: var(--fill-color);\n",
              "    animation:\n",
              "      spin 1s steps(1) infinite;\n",
              "  }\n",
              "\n",
              "  @keyframes spin {\n",
              "    0% {\n",
              "      border-color: transparent;\n",
              "      border-bottom-color: var(--fill-color);\n",
              "      border-left-color: var(--fill-color);\n",
              "    }\n",
              "    20% {\n",
              "      border-color: transparent;\n",
              "      border-left-color: var(--fill-color);\n",
              "      border-top-color: var(--fill-color);\n",
              "    }\n",
              "    30% {\n",
              "      border-color: transparent;\n",
              "      border-left-color: var(--fill-color);\n",
              "      border-top-color: var(--fill-color);\n",
              "      border-right-color: var(--fill-color);\n",
              "    }\n",
              "    40% {\n",
              "      border-color: transparent;\n",
              "      border-right-color: var(--fill-color);\n",
              "      border-top-color: var(--fill-color);\n",
              "    }\n",
              "    60% {\n",
              "      border-color: transparent;\n",
              "      border-right-color: var(--fill-color);\n",
              "    }\n",
              "    80% {\n",
              "      border-color: transparent;\n",
              "      border-right-color: var(--fill-color);\n",
              "      border-bottom-color: var(--fill-color);\n",
              "    }\n",
              "    90% {\n",
              "      border-color: transparent;\n",
              "      border-bottom-color: var(--fill-color);\n",
              "    }\n",
              "  }\n",
              "</style>\n",
              "\n",
              "  <script>\n",
              "    async function quickchart(key) {\n",
              "      const quickchartButtonEl =\n",
              "        document.querySelector('#' + key + ' button');\n",
              "      quickchartButtonEl.disabled = true;  // To prevent multiple clicks.\n",
              "      quickchartButtonEl.classList.add('colab-df-spinner');\n",
              "      try {\n",
              "        const charts = await google.colab.kernel.invokeFunction(\n",
              "            'suggestCharts', [key], {});\n",
              "      } catch (error) {\n",
              "        console.error('Error during call to suggestCharts:', error);\n",
              "      }\n",
              "      quickchartButtonEl.classList.remove('colab-df-spinner');\n",
              "      quickchartButtonEl.classList.add('colab-df-quickchart-complete');\n",
              "    }\n",
              "    (() => {\n",
              "      let quickchartButtonEl =\n",
              "        document.querySelector('#df-e38743a0-86b4-43cd-88d8-f657b1b461ce button');\n",
              "      quickchartButtonEl.style.display =\n",
              "        google.colab.kernel.accessAllowed ? 'block' : 'none';\n",
              "    })();\n",
              "  </script>\n",
              "</div>\n",
              "    </div>\n",
              "  </div>\n"
            ],
            "application/vnd.google.colaboratory.intrinsic+json": {
              "type": "dataframe",
              "variable_name": "df_rock",
              "summary": "{\n  \"name\": \"df_rock\",\n  \"rows\": 656,\n  \"fields\": [\n    {\n      \"column\": \"title\",\n      \"properties\": {\n        \"dtype\": \"string\",\n        \"samples\": [\n          \"Self-Destruct Personality\",\n          \"Leaving Tonight\",\n          \"Where Did Jesus Go?\"\n        ],\n        \"num_unique_values\": 642,\n        \"semantic_type\": \"\",\n        \"description\": \"\"\n      }\n    },\n    {\n      \"column\": \"artist\",\n      \"properties\": {\n        \"dtype\": \"category\",\n        \"samples\": [\n          \"STARSET\",\n          \"All Good Things\",\n          \"The Pretty Reckless\"\n        ],\n        \"num_unique_values\": 9,\n        \"semantic_type\": \"\",\n        \"description\": \"\"\n      }\n    },\n    {\n      \"column\": \"lyrics\",\n      \"properties\": {\n        \"dtype\": \"string\",\n        \"samples\": [\n          \"[Verse 1]\\nWe could just go home right now\\nOr maybe we could stick around\\nFor just one more drink, oh yeah\\nGet another bottle out\\nLet's shoot the shit\\nSit back down\\nFor just one more drink, oh yeah\\n\\n[Chorus 1]\\nHere's to us\\nHere's to love\\nAll the times that we fucked up\\nHere's to you\\nFill the glass\\n'Cause the last few days\\nHave kicked my ass\\nSo let's give 'em hell\\nWish everybody well\\nHere's to us\\nHere's to us\\n[Verse 2]\\nStuck it out this far together\\nPut our dreams through the shredder\\nLet\\u2019s toast 'cause things got better\\nAnd everything could change like that\\nAnd all these years go by so fast\\nBut nothing lasts forever\\n\\n[Chorus 2]\\nHere's to us\\nHere's to love\\nAll the times that we messed up\\nHere's to you\\nFill the glass\\n'Cause the last few nights\\nHave kicked my ass\\nIf they give you hell\\nTell 'em to go fuck themselves\\nHere's to us\\nHere's to us\\n\\n[Bridge]\\nHere's to all that we kissed\\nAnd to all that we missed\\nTo the biggest mistakes\\nThat we just wouldn\\u2019t trade\\nTo us breaking up\\nWithout us breaking down\\nTo whatever's coming our way\\n[Chorus 1]\\nHere's to us\\nHere's to love\\nAll the times that we fucked up\\nHere's to you\\nFill the glass\\n'Cause the last few days\\nHave kicked my ass\\nSo let's give 'em hell\\nWish everybody well\\n\\n[Chorus]\\nHere's to us\\nHere's to love\\nAll the times that we messed up\\nHere's to you\\nFill the glass\\n'Cause the last few nights\\nHave kicked my ass\\nIf they give you hell\\nTell 'em go fuck themselves (Go fuck themselves)\\nHere's to us\\nHere\\u2019s to us\\nHere\\u2019s to us\\nHere\\u2019s to us\\n[Outro]\\nHere's to us\\nHere\\u2019s to love\\nHere\\u2019s to us (Wish everybody well)\\nHere's to us\\nHere\\u2019s to love\\nHere's to us\\nHere's to us\",\n          \"[Verse 1]\\nAm I brave enough?\\nAm I strong enough?\\nTo follow the desire\\nThat burns from within\\nTo push away my fear\\nTo stand where I'm afraid\\nI am through with this\\nCuz I am more than this\\nI promise to myself\\nAlone and no one else\\nMy flame is rising higher\\n\\n[Chorus]\\nI am the fire\\nI am burning brighter\\nRoaring like a storm\\nAnd I am the one I've been waiting for\\nScreaming like a siren\\nAlive and burning brighter\\nI am the fire\\n[Verse 2]\\nI've been sacrificed\\nMy heart's been cauterized\\nHanging on to hope\\nShackled by the ghost\\nOf what I once believed\\nThat I could never be\\nWhat\\u2019s right in front of me\\n\\n[Chorus]\\nI am the fire\\nI am burning brighter\\nRoaring like a storm\\nAnd I am the one I've been waiting for\\nScreaming like a siren\\nAlive and burning brighter\\nI am the fire\\n\\n[Bridge]\\nI don't believe I'll fall from grace\\nWon't let the past decide my fate\\nLeave forgiveness in my wake, oh\\nTake the love that I've embraced\\nI promise to myself, me and no one else\\nI am more than this\\nI am the fire\\n[Chorus]\\nI am the fire\\nI am burning brighter\\nRoaring like a storm\\nAnd I am the one I've been waiting for\\nScreaming like a siren\\nAlive and burning brighter\\nI am the fire\\nI am the fire\\nI am the fire\\nI am the fire\\nI am the fire\\nI am the fire\",\n          \"[Intro]\\nI heard a knock upon my door the other day\\nI opened it to find death staring in my face\\nThe feel of mortal stalking still reverberates\\nEverywhere I go, I drag this coffin just in case\\n\\n[Verse 1]\\nMy body's trembling sends shivers down my spine\\nAdrenaline kicks in, shifts into overdrive\\nYour secrets keep you sick, your lies keep you alive\\nSnake eyes every single time you roll with crooked dice\\n\\n[Pre-Chorus]\\nI felt the darkness as it tried to pull me down\\nThe kind of dark that haunts a hundred-year-old house\\nI wrestle with my thoughts, I shook the hand of doubt\\nRunning from my past, I'm praying: \\\"Feet, don't fail me now\\\"\\n\\n[Chorus]\\nI've lost my goddamn mind, it happens all the time\\nI can't believe I'm actually meant to be here\\nTrying to consume, the drug in me is you\\nAnd I'm so high on misery, can't you see?\\n[Verse 2]\\nI got these questions always running through my head\\nSo many things that I would like to understand\\nIf we are born to die and we all die to live\\nThen what's the point of living life if it just contradicts?\\n\\n[Pre-Chorus]\\nI felt the darkness as it tried to pull me down\\nThe kind of dark that haunts a hundred-year-old house\\nI wrestle with my thoughts, I shook the hand of doubt\\nRunning from my past, I'm praying: \\\"Feet, don't fail me now\\\"\\n\\n[Chorus]\\nI've lost my goddamn mind, it happens all the time\\nI can't believe I'm actually meant to be here\\nTrying to consume, the drug in me is you\\nAnd I'm so high on misery, can't you see?\\n\\n[Guitar Solo]\\n\\n[Bridge]\\nI've lost myself\\nYou tried to reach me, but you just can't help me\\nSo long, goodbye\\nYou tried to save me, it won't work this time 'cause now\\n[Chorus]\\nI've lost my fucking mind, and there's no fucking time\\nI can't believe I'm actually meant to be here\\nTrying to consume, the drug in me is you\\nAnd I'm so high on misery, can't you see?\\n\\n[Outro]\\nOh, can't you see?\\nCan't you see?\"\n        ],\n        \"num_unique_values\": 656,\n        \"semantic_type\": \"\",\n        \"description\": \"\"\n      }\n    }\n  ]\n}"
            }
          },
          "metadata": {},
          "execution_count": 82
        }
      ]
    },
    {
      "cell_type": "code",
      "source": [
        "df_rock.info()"
      ],
      "metadata": {
        "colab": {
          "base_uri": "https://localhost:8080/"
        },
        "id": "prKhko-9XcKS",
        "outputId": "137cb74a-e49a-4cb0-b602-200e95e6c1f8"
      },
      "execution_count": null,
      "outputs": [
        {
          "output_type": "stream",
          "name": "stdout",
          "text": [
            "<class 'pandas.core.frame.DataFrame'>\n",
            "RangeIndex: 656 entries, 0 to 655\n",
            "Data columns (total 3 columns):\n",
            " #   Column  Non-Null Count  Dtype \n",
            "---  ------  --------------  ----- \n",
            " 0   title   656 non-null    object\n",
            " 1   artist  656 non-null    object\n",
            " 2   lyrics  656 non-null    object\n",
            "dtypes: object(3)\n",
            "memory usage: 15.5+ KB\n"
          ]
        }
      ]
    },
    {
      "cell_type": "code",
      "source": [
        "df_rock['artist'].value_counts()"
      ],
      "metadata": {
        "colab": {
          "base_uri": "https://localhost:8080/"
        },
        "id": "f4RtN3CdH-H5",
        "outputId": "6c0f3915-1b8b-44f9-9b25-687f3c637a40"
      },
      "execution_count": null,
      "outputs": [
        {
          "output_type": "execute_result",
          "data": {
            "text/plain": [
              "Hollywood Undead         140\n",
              "Halestorm                117\n",
              "Three Days Grace          90\n",
              "The Birthday Massacre     86\n",
              "The Pretty Reckless       60\n",
              "Falling in Reverse        58\n",
              "All Good Things           46\n",
              "STARSET                   43\n",
              "No Resolve                16\n",
              "Name: artist, dtype: int64"
            ]
          },
          "metadata": {},
          "execution_count": 84
        }
      ]
    },
    {
      "cell_type": "code",
      "source": [
        "df_rock.sample(5, random_state=42)"
      ],
      "metadata": {
        "colab": {
          "base_uri": "https://localhost:8080/",
          "height": 206
        },
        "id": "BFiN-hnoX_Dm",
        "outputId": "677b2924-3294-49a3-b21f-5a9672fbb73e"
      },
      "execution_count": null,
      "outputs": [
        {
          "output_type": "execute_result",
          "data": {
            "text/plain": [
              "                     title              artist  \\\n",
              "192            Heres to Us           Halestorm   \n",
              "265          I Am the Fire           Halestorm   \n",
              "101  The Drug in Me Is You  Falling in Reverse   \n",
              "625            The Silence           Halestorm   \n",
              "523              Frequency             STARSET   \n",
              "\n",
              "                                                lyrics  \n",
              "192  [Verse 1]\\nWe could just go home right now\\nOr...  \n",
              "265  [Verse 1]\\nAm I brave enough?\\nAm I strong eno...  \n",
              "101  [Intro]\\nI heard a knock upon my door the othe...  \n",
              "625  [Verse 1]\\nFound one of your old mixtapes\\nRem...  \n",
              "523  [Intro]\\nI was scanning through the skies\\nAnd...  "
            ],
            "text/html": [
              "\n",
              "  <div id=\"df-3123f84e-dbfc-4392-86dd-6a479d9727f6\" class=\"colab-df-container\">\n",
              "    <div>\n",
              "<style scoped>\n",
              "    .dataframe tbody tr th:only-of-type {\n",
              "        vertical-align: middle;\n",
              "    }\n",
              "\n",
              "    .dataframe tbody tr th {\n",
              "        vertical-align: top;\n",
              "    }\n",
              "\n",
              "    .dataframe thead th {\n",
              "        text-align: right;\n",
              "    }\n",
              "</style>\n",
              "<table border=\"1\" class=\"dataframe\">\n",
              "  <thead>\n",
              "    <tr style=\"text-align: right;\">\n",
              "      <th></th>\n",
              "      <th>title</th>\n",
              "      <th>artist</th>\n",
              "      <th>lyrics</th>\n",
              "    </tr>\n",
              "  </thead>\n",
              "  <tbody>\n",
              "    <tr>\n",
              "      <th>192</th>\n",
              "      <td>Heres to Us</td>\n",
              "      <td>Halestorm</td>\n",
              "      <td>[Verse 1]\\nWe could just go home right now\\nOr...</td>\n",
              "    </tr>\n",
              "    <tr>\n",
              "      <th>265</th>\n",
              "      <td>I Am the Fire</td>\n",
              "      <td>Halestorm</td>\n",
              "      <td>[Verse 1]\\nAm I brave enough?\\nAm I strong eno...</td>\n",
              "    </tr>\n",
              "    <tr>\n",
              "      <th>101</th>\n",
              "      <td>The Drug in Me Is You</td>\n",
              "      <td>Falling in Reverse</td>\n",
              "      <td>[Intro]\\nI heard a knock upon my door the othe...</td>\n",
              "    </tr>\n",
              "    <tr>\n",
              "      <th>625</th>\n",
              "      <td>The Silence</td>\n",
              "      <td>Halestorm</td>\n",
              "      <td>[Verse 1]\\nFound one of your old mixtapes\\nRem...</td>\n",
              "    </tr>\n",
              "    <tr>\n",
              "      <th>523</th>\n",
              "      <td>Frequency</td>\n",
              "      <td>STARSET</td>\n",
              "      <td>[Intro]\\nI was scanning through the skies\\nAnd...</td>\n",
              "    </tr>\n",
              "  </tbody>\n",
              "</table>\n",
              "</div>\n",
              "    <div class=\"colab-df-buttons\">\n",
              "\n",
              "  <div class=\"colab-df-container\">\n",
              "    <button class=\"colab-df-convert\" onclick=\"convertToInteractive('df-3123f84e-dbfc-4392-86dd-6a479d9727f6')\"\n",
              "            title=\"Convert this dataframe to an interactive table.\"\n",
              "            style=\"display:none;\">\n",
              "\n",
              "  <svg xmlns=\"http://www.w3.org/2000/svg\" height=\"24px\" viewBox=\"0 -960 960 960\">\n",
              "    <path d=\"M120-120v-720h720v720H120Zm60-500h600v-160H180v160Zm220 220h160v-160H400v160Zm0 220h160v-160H400v160ZM180-400h160v-160H180v160Zm440 0h160v-160H620v160ZM180-180h160v-160H180v160Zm440 0h160v-160H620v160Z\"/>\n",
              "  </svg>\n",
              "    </button>\n",
              "\n",
              "  <style>\n",
              "    .colab-df-container {\n",
              "      display:flex;\n",
              "      gap: 12px;\n",
              "    }\n",
              "\n",
              "    .colab-df-convert {\n",
              "      background-color: #E8F0FE;\n",
              "      border: none;\n",
              "      border-radius: 50%;\n",
              "      cursor: pointer;\n",
              "      display: none;\n",
              "      fill: #1967D2;\n",
              "      height: 32px;\n",
              "      padding: 0 0 0 0;\n",
              "      width: 32px;\n",
              "    }\n",
              "\n",
              "    .colab-df-convert:hover {\n",
              "      background-color: #E2EBFA;\n",
              "      box-shadow: 0px 1px 2px rgba(60, 64, 67, 0.3), 0px 1px 3px 1px rgba(60, 64, 67, 0.15);\n",
              "      fill: #174EA6;\n",
              "    }\n",
              "\n",
              "    .colab-df-buttons div {\n",
              "      margin-bottom: 4px;\n",
              "    }\n",
              "\n",
              "    [theme=dark] .colab-df-convert {\n",
              "      background-color: #3B4455;\n",
              "      fill: #D2E3FC;\n",
              "    }\n",
              "\n",
              "    [theme=dark] .colab-df-convert:hover {\n",
              "      background-color: #434B5C;\n",
              "      box-shadow: 0px 1px 3px 1px rgba(0, 0, 0, 0.15);\n",
              "      filter: drop-shadow(0px 1px 2px rgba(0, 0, 0, 0.3));\n",
              "      fill: #FFFFFF;\n",
              "    }\n",
              "  </style>\n",
              "\n",
              "    <script>\n",
              "      const buttonEl =\n",
              "        document.querySelector('#df-3123f84e-dbfc-4392-86dd-6a479d9727f6 button.colab-df-convert');\n",
              "      buttonEl.style.display =\n",
              "        google.colab.kernel.accessAllowed ? 'block' : 'none';\n",
              "\n",
              "      async function convertToInteractive(key) {\n",
              "        const element = document.querySelector('#df-3123f84e-dbfc-4392-86dd-6a479d9727f6');\n",
              "        const dataTable =\n",
              "          await google.colab.kernel.invokeFunction('convertToInteractive',\n",
              "                                                    [key], {});\n",
              "        if (!dataTable) return;\n",
              "\n",
              "        const docLinkHtml = 'Like what you see? Visit the ' +\n",
              "          '<a target=\"_blank\" href=https://colab.research.google.com/notebooks/data_table.ipynb>data table notebook</a>'\n",
              "          + ' to learn more about interactive tables.';\n",
              "        element.innerHTML = '';\n",
              "        dataTable['output_type'] = 'display_data';\n",
              "        await google.colab.output.renderOutput(dataTable, element);\n",
              "        const docLink = document.createElement('div');\n",
              "        docLink.innerHTML = docLinkHtml;\n",
              "        element.appendChild(docLink);\n",
              "      }\n",
              "    </script>\n",
              "  </div>\n",
              "\n",
              "\n",
              "<div id=\"df-0ac7e881-4df0-4905-8b51-413c111bb10a\">\n",
              "  <button class=\"colab-df-quickchart\" onclick=\"quickchart('df-0ac7e881-4df0-4905-8b51-413c111bb10a')\"\n",
              "            title=\"Suggest charts\"\n",
              "            style=\"display:none;\">\n",
              "\n",
              "<svg xmlns=\"http://www.w3.org/2000/svg\" height=\"24px\"viewBox=\"0 0 24 24\"\n",
              "     width=\"24px\">\n",
              "    <g>\n",
              "        <path d=\"M19 3H5c-1.1 0-2 .9-2 2v14c0 1.1.9 2 2 2h14c1.1 0 2-.9 2-2V5c0-1.1-.9-2-2-2zM9 17H7v-7h2v7zm4 0h-2V7h2v10zm4 0h-2v-4h2v4z\"/>\n",
              "    </g>\n",
              "</svg>\n",
              "  </button>\n",
              "\n",
              "<style>\n",
              "  .colab-df-quickchart {\n",
              "      --bg-color: #E8F0FE;\n",
              "      --fill-color: #1967D2;\n",
              "      --hover-bg-color: #E2EBFA;\n",
              "      --hover-fill-color: #174EA6;\n",
              "      --disabled-fill-color: #AAA;\n",
              "      --disabled-bg-color: #DDD;\n",
              "  }\n",
              "\n",
              "  [theme=dark] .colab-df-quickchart {\n",
              "      --bg-color: #3B4455;\n",
              "      --fill-color: #D2E3FC;\n",
              "      --hover-bg-color: #434B5C;\n",
              "      --hover-fill-color: #FFFFFF;\n",
              "      --disabled-bg-color: #3B4455;\n",
              "      --disabled-fill-color: #666;\n",
              "  }\n",
              "\n",
              "  .colab-df-quickchart {\n",
              "    background-color: var(--bg-color);\n",
              "    border: none;\n",
              "    border-radius: 50%;\n",
              "    cursor: pointer;\n",
              "    display: none;\n",
              "    fill: var(--fill-color);\n",
              "    height: 32px;\n",
              "    padding: 0;\n",
              "    width: 32px;\n",
              "  }\n",
              "\n",
              "  .colab-df-quickchart:hover {\n",
              "    background-color: var(--hover-bg-color);\n",
              "    box-shadow: 0 1px 2px rgba(60, 64, 67, 0.3), 0 1px 3px 1px rgba(60, 64, 67, 0.15);\n",
              "    fill: var(--button-hover-fill-color);\n",
              "  }\n",
              "\n",
              "  .colab-df-quickchart-complete:disabled,\n",
              "  .colab-df-quickchart-complete:disabled:hover {\n",
              "    background-color: var(--disabled-bg-color);\n",
              "    fill: var(--disabled-fill-color);\n",
              "    box-shadow: none;\n",
              "  }\n",
              "\n",
              "  .colab-df-spinner {\n",
              "    border: 2px solid var(--fill-color);\n",
              "    border-color: transparent;\n",
              "    border-bottom-color: var(--fill-color);\n",
              "    animation:\n",
              "      spin 1s steps(1) infinite;\n",
              "  }\n",
              "\n",
              "  @keyframes spin {\n",
              "    0% {\n",
              "      border-color: transparent;\n",
              "      border-bottom-color: var(--fill-color);\n",
              "      border-left-color: var(--fill-color);\n",
              "    }\n",
              "    20% {\n",
              "      border-color: transparent;\n",
              "      border-left-color: var(--fill-color);\n",
              "      border-top-color: var(--fill-color);\n",
              "    }\n",
              "    30% {\n",
              "      border-color: transparent;\n",
              "      border-left-color: var(--fill-color);\n",
              "      border-top-color: var(--fill-color);\n",
              "      border-right-color: var(--fill-color);\n",
              "    }\n",
              "    40% {\n",
              "      border-color: transparent;\n",
              "      border-right-color: var(--fill-color);\n",
              "      border-top-color: var(--fill-color);\n",
              "    }\n",
              "    60% {\n",
              "      border-color: transparent;\n",
              "      border-right-color: var(--fill-color);\n",
              "    }\n",
              "    80% {\n",
              "      border-color: transparent;\n",
              "      border-right-color: var(--fill-color);\n",
              "      border-bottom-color: var(--fill-color);\n",
              "    }\n",
              "    90% {\n",
              "      border-color: transparent;\n",
              "      border-bottom-color: var(--fill-color);\n",
              "    }\n",
              "  }\n",
              "</style>\n",
              "\n",
              "  <script>\n",
              "    async function quickchart(key) {\n",
              "      const quickchartButtonEl =\n",
              "        document.querySelector('#' + key + ' button');\n",
              "      quickchartButtonEl.disabled = true;  // To prevent multiple clicks.\n",
              "      quickchartButtonEl.classList.add('colab-df-spinner');\n",
              "      try {\n",
              "        const charts = await google.colab.kernel.invokeFunction(\n",
              "            'suggestCharts', [key], {});\n",
              "      } catch (error) {\n",
              "        console.error('Error during call to suggestCharts:', error);\n",
              "      }\n",
              "      quickchartButtonEl.classList.remove('colab-df-spinner');\n",
              "      quickchartButtonEl.classList.add('colab-df-quickchart-complete');\n",
              "    }\n",
              "    (() => {\n",
              "      let quickchartButtonEl =\n",
              "        document.querySelector('#df-0ac7e881-4df0-4905-8b51-413c111bb10a button');\n",
              "      quickchartButtonEl.style.display =\n",
              "        google.colab.kernel.accessAllowed ? 'block' : 'none';\n",
              "    })();\n",
              "  </script>\n",
              "</div>\n",
              "    </div>\n",
              "  </div>\n"
            ],
            "application/vnd.google.colaboratory.intrinsic+json": {
              "type": "dataframe",
              "summary": "{\n  \"name\": \"df_rock\",\n  \"rows\": 5,\n  \"fields\": [\n    {\n      \"column\": \"title\",\n      \"properties\": {\n        \"dtype\": \"string\",\n        \"samples\": [\n          \"I Am the Fire\",\n          \"Frequency\",\n          \"The Drug in Me Is You\"\n        ],\n        \"num_unique_values\": 5,\n        \"semantic_type\": \"\",\n        \"description\": \"\"\n      }\n    },\n    {\n      \"column\": \"artist\",\n      \"properties\": {\n        \"dtype\": \"string\",\n        \"samples\": [\n          \"Halestorm\",\n          \"Falling in Reverse\",\n          \"STARSET\"\n        ],\n        \"num_unique_values\": 3,\n        \"semantic_type\": \"\",\n        \"description\": \"\"\n      }\n    },\n    {\n      \"column\": \"lyrics\",\n      \"properties\": {\n        \"dtype\": \"string\",\n        \"samples\": [\n          \"[Verse 1]\\nAm I brave enough?\\nAm I strong enough?\\nTo follow the desire\\nThat burns from within\\nTo push away my fear\\nTo stand where I'm afraid\\nI am through with this\\nCuz I am more than this\\nI promise to myself\\nAlone and no one else\\nMy flame is rising higher\\n\\n[Chorus]\\nI am the fire\\nI am burning brighter\\nRoaring like a storm\\nAnd I am the one I've been waiting for\\nScreaming like a siren\\nAlive and burning brighter\\nI am the fire\\n[Verse 2]\\nI've been sacrificed\\nMy heart's been cauterized\\nHanging on to hope\\nShackled by the ghost\\nOf what I once believed\\nThat I could never be\\nWhat\\u2019s right in front of me\\n\\n[Chorus]\\nI am the fire\\nI am burning brighter\\nRoaring like a storm\\nAnd I am the one I've been waiting for\\nScreaming like a siren\\nAlive and burning brighter\\nI am the fire\\n\\n[Bridge]\\nI don't believe I'll fall from grace\\nWon't let the past decide my fate\\nLeave forgiveness in my wake, oh\\nTake the love that I've embraced\\nI promise to myself, me and no one else\\nI am more than this\\nI am the fire\\n[Chorus]\\nI am the fire\\nI am burning brighter\\nRoaring like a storm\\nAnd I am the one I've been waiting for\\nScreaming like a siren\\nAlive and burning brighter\\nI am the fire\\nI am the fire\\nI am the fire\\nI am the fire\\nI am the fire\\nI am the fire\",\n          \"[Intro]\\nI was scanning through the skies\\nAnd missed the static in your eyes\\nSomething blocking your reception\\nIt's distorting our connection\\nWith the distance amplified\\nWas it all just synthesized?\\nAnd now the silence screams that you are gone\\nYou've tuned me out\\nI've lost your frequency\\n\\n[Verse 1]\\nThere's something here that\\u2019s broken\\nThere's something here with no end\\nIt's paralyzed\\nIt's in your eyes\\n'Cause I can feel your soul fade\\nI can feel your heart change\\nIt falls out of phase with mine\\nWhile you oscillate inside\\nOr is it only in my head?\\n[Chorus]\\nI was scanning through the skies\\nAnd missed the static in your eyes\\nSomething blocking your reception\\nIt's distorting our connection\\nWith the distance amplified\\nWas it all just synthesized?\\nAnd now the silence screams that you are gone\\nYou've tuned me out\\nI've lost your frequency\\n\\n[Verse 2]\\nLeft inside a half-life\\nIrradiated insides\\nThese memories\\nThey never leave\\nI bared my soul for you and all I got was static\\nMy heart was bulletproof till you took off the jacket\\n\\n[Chorus]\\nI was scanning through the skies\\nAnd missed the static in your eyes\\nSomething blocking your reception\\nIt's distorting our connection\\nWith the distance amplified\\nWas it all just synthesized?\\nAnd now the silence screams that you are gone\\nYou've tuned me out\\nI've lost your frequency\\n(Your frequency...)\\n\\n[Bridge]\\nCastaway\\nMy cries are blocked by the horizon\\nSuffocate\\nI was doing this all for you\\nI'm in the shallows\\nStuck in the gallows\\nI tried to save you now I'm swallowed\\nYou wanted war\\nI am the war\\nI alone\\n\\n[Outro]\\nSomething blocking your reception\\nIt's distorting our connection\\nWith the distance amplified\\nWas it all just synthesized?\\nAnd now the silence screams that you are gone\\nYou've tuned me out\\nI've lost your frequency\",\n          \"[Intro]\\nI heard a knock upon my door the other day\\nI opened it to find death staring in my face\\nThe feel of mortal stalking still reverberates\\nEverywhere I go, I drag this coffin just in case\\n\\n[Verse 1]\\nMy body's trembling sends shivers down my spine\\nAdrenaline kicks in, shifts into overdrive\\nYour secrets keep you sick, your lies keep you alive\\nSnake eyes every single time you roll with crooked dice\\n\\n[Pre-Chorus]\\nI felt the darkness as it tried to pull me down\\nThe kind of dark that haunts a hundred-year-old house\\nI wrestle with my thoughts, I shook the hand of doubt\\nRunning from my past, I'm praying: \\\"Feet, don't fail me now\\\"\\n\\n[Chorus]\\nI've lost my goddamn mind, it happens all the time\\nI can't believe I'm actually meant to be here\\nTrying to consume, the drug in me is you\\nAnd I'm so high on misery, can't you see?\\n[Verse 2]\\nI got these questions always running through my head\\nSo many things that I would like to understand\\nIf we are born to die and we all die to live\\nThen what's the point of living life if it just contradicts?\\n\\n[Pre-Chorus]\\nI felt the darkness as it tried to pull me down\\nThe kind of dark that haunts a hundred-year-old house\\nI wrestle with my thoughts, I shook the hand of doubt\\nRunning from my past, I'm praying: \\\"Feet, don't fail me now\\\"\\n\\n[Chorus]\\nI've lost my goddamn mind, it happens all the time\\nI can't believe I'm actually meant to be here\\nTrying to consume, the drug in me is you\\nAnd I'm so high on misery, can't you see?\\n\\n[Guitar Solo]\\n\\n[Bridge]\\nI've lost myself\\nYou tried to reach me, but you just can't help me\\nSo long, goodbye\\nYou tried to save me, it won't work this time 'cause now\\n[Chorus]\\nI've lost my fucking mind, and there's no fucking time\\nI can't believe I'm actually meant to be here\\nTrying to consume, the drug in me is you\\nAnd I'm so high on misery, can't you see?\\n\\n[Outro]\\nOh, can't you see?\\nCan't you see?\"\n        ],\n        \"num_unique_values\": 5,\n        \"semantic_type\": \"\",\n        \"description\": \"\"\n      }\n    }\n  ]\n}"
            }
          },
          "metadata": {},
          "execution_count": 85
        }
      ]
    },
    {
      "cell_type": "markdown",
      "source": [
        "Я решил удалить мета-теги и числа. Больше я решил ничего не трогать."
      ],
      "metadata": {
        "id": "Fjm18OXcopQx"
      }
    },
    {
      "cell_type": "code",
      "source": [
        "def del_meta(text: str) -> str:\n",
        "  return re.sub(r'\\[.+\\]', '', text)\n",
        "\n",
        "def del_numerals(text: str) -> str:\n",
        "  return re.sub(r\"\\b\\d[\\d\\.,/]*(st|th|rd|nd)?\\b\", '', text, flags=re.I)\n",
        "\n",
        "def tokenize(text: str) -> list:\n",
        "  return re.findall(r'\\w+|\\S', text)"
      ],
      "metadata": {
        "id": "RIBM1ru_YYWD"
      },
      "execution_count": null,
      "outputs": []
    },
    {
      "cell_type": "code",
      "source": [
        "df_rock['lyrics'] = df_rock['lyrics'].apply(del_meta).apply(del_numerals)\n",
        "df_rock.head()"
      ],
      "metadata": {
        "colab": {
          "base_uri": "https://localhost:8080/",
          "height": 206
        },
        "id": "4fiJatv-ZAkv",
        "outputId": "01b402dd-f8f3-46a0-8806-7b223f20a5c2"
      },
      "execution_count": null,
      "outputs": [
        {
          "output_type": "execute_result",
          "data": {
            "text/plain": [
              "             title            artist  \\\n",
              "0      El Urgencia  Hollywood Undead   \n",
              "1  Dead in Ditches  Hollywood Undead   \n",
              "2   Ready for This   All Good Things   \n",
              "3            Young  Hollywood Undead   \n",
              "4         The Loss  Hollywood Undead   \n",
              "\n",
              "                                              lyrics  \n",
              "0  \\nSix-pack in hand, stage dive to the pit\\nHus...  \n",
              "1  \\nFucking faggots\\nThat's when we, that's when...  \n",
              "2  Living breathing for a single moment\\nWe've le...  \n",
              "3  \\nWe are young, but we have heart\\nBorn in thi...  \n",
              "4  \\nSick with myself, but I've got no one else\\n...  "
            ],
            "text/html": [
              "\n",
              "  <div id=\"df-6785212e-25c0-4868-acbb-bebe29db0238\" class=\"colab-df-container\">\n",
              "    <div>\n",
              "<style scoped>\n",
              "    .dataframe tbody tr th:only-of-type {\n",
              "        vertical-align: middle;\n",
              "    }\n",
              "\n",
              "    .dataframe tbody tr th {\n",
              "        vertical-align: top;\n",
              "    }\n",
              "\n",
              "    .dataframe thead th {\n",
              "        text-align: right;\n",
              "    }\n",
              "</style>\n",
              "<table border=\"1\" class=\"dataframe\">\n",
              "  <thead>\n",
              "    <tr style=\"text-align: right;\">\n",
              "      <th></th>\n",
              "      <th>title</th>\n",
              "      <th>artist</th>\n",
              "      <th>lyrics</th>\n",
              "    </tr>\n",
              "  </thead>\n",
              "  <tbody>\n",
              "    <tr>\n",
              "      <th>0</th>\n",
              "      <td>El Urgencia</td>\n",
              "      <td>Hollywood Undead</td>\n",
              "      <td>\\nSix-pack in hand, stage dive to the pit\\nHus...</td>\n",
              "    </tr>\n",
              "    <tr>\n",
              "      <th>1</th>\n",
              "      <td>Dead in Ditches</td>\n",
              "      <td>Hollywood Undead</td>\n",
              "      <td>\\nFucking faggots\\nThat's when we, that's when...</td>\n",
              "    </tr>\n",
              "    <tr>\n",
              "      <th>2</th>\n",
              "      <td>Ready for This</td>\n",
              "      <td>All Good Things</td>\n",
              "      <td>Living breathing for a single moment\\nWe've le...</td>\n",
              "    </tr>\n",
              "    <tr>\n",
              "      <th>3</th>\n",
              "      <td>Young</td>\n",
              "      <td>Hollywood Undead</td>\n",
              "      <td>\\nWe are young, but we have heart\\nBorn in thi...</td>\n",
              "    </tr>\n",
              "    <tr>\n",
              "      <th>4</th>\n",
              "      <td>The Loss</td>\n",
              "      <td>Hollywood Undead</td>\n",
              "      <td>\\nSick with myself, but I've got no one else\\n...</td>\n",
              "    </tr>\n",
              "  </tbody>\n",
              "</table>\n",
              "</div>\n",
              "    <div class=\"colab-df-buttons\">\n",
              "\n",
              "  <div class=\"colab-df-container\">\n",
              "    <button class=\"colab-df-convert\" onclick=\"convertToInteractive('df-6785212e-25c0-4868-acbb-bebe29db0238')\"\n",
              "            title=\"Convert this dataframe to an interactive table.\"\n",
              "            style=\"display:none;\">\n",
              "\n",
              "  <svg xmlns=\"http://www.w3.org/2000/svg\" height=\"24px\" viewBox=\"0 -960 960 960\">\n",
              "    <path d=\"M120-120v-720h720v720H120Zm60-500h600v-160H180v160Zm220 220h160v-160H400v160Zm0 220h160v-160H400v160ZM180-400h160v-160H180v160Zm440 0h160v-160H620v160ZM180-180h160v-160H180v160Zm440 0h160v-160H620v160Z\"/>\n",
              "  </svg>\n",
              "    </button>\n",
              "\n",
              "  <style>\n",
              "    .colab-df-container {\n",
              "      display:flex;\n",
              "      gap: 12px;\n",
              "    }\n",
              "\n",
              "    .colab-df-convert {\n",
              "      background-color: #E8F0FE;\n",
              "      border: none;\n",
              "      border-radius: 50%;\n",
              "      cursor: pointer;\n",
              "      display: none;\n",
              "      fill: #1967D2;\n",
              "      height: 32px;\n",
              "      padding: 0 0 0 0;\n",
              "      width: 32px;\n",
              "    }\n",
              "\n",
              "    .colab-df-convert:hover {\n",
              "      background-color: #E2EBFA;\n",
              "      box-shadow: 0px 1px 2px rgba(60, 64, 67, 0.3), 0px 1px 3px 1px rgba(60, 64, 67, 0.15);\n",
              "      fill: #174EA6;\n",
              "    }\n",
              "\n",
              "    .colab-df-buttons div {\n",
              "      margin-bottom: 4px;\n",
              "    }\n",
              "\n",
              "    [theme=dark] .colab-df-convert {\n",
              "      background-color: #3B4455;\n",
              "      fill: #D2E3FC;\n",
              "    }\n",
              "\n",
              "    [theme=dark] .colab-df-convert:hover {\n",
              "      background-color: #434B5C;\n",
              "      box-shadow: 0px 1px 3px 1px rgba(0, 0, 0, 0.15);\n",
              "      filter: drop-shadow(0px 1px 2px rgba(0, 0, 0, 0.3));\n",
              "      fill: #FFFFFF;\n",
              "    }\n",
              "  </style>\n",
              "\n",
              "    <script>\n",
              "      const buttonEl =\n",
              "        document.querySelector('#df-6785212e-25c0-4868-acbb-bebe29db0238 button.colab-df-convert');\n",
              "      buttonEl.style.display =\n",
              "        google.colab.kernel.accessAllowed ? 'block' : 'none';\n",
              "\n",
              "      async function convertToInteractive(key) {\n",
              "        const element = document.querySelector('#df-6785212e-25c0-4868-acbb-bebe29db0238');\n",
              "        const dataTable =\n",
              "          await google.colab.kernel.invokeFunction('convertToInteractive',\n",
              "                                                    [key], {});\n",
              "        if (!dataTable) return;\n",
              "\n",
              "        const docLinkHtml = 'Like what you see? Visit the ' +\n",
              "          '<a target=\"_blank\" href=https://colab.research.google.com/notebooks/data_table.ipynb>data table notebook</a>'\n",
              "          + ' to learn more about interactive tables.';\n",
              "        element.innerHTML = '';\n",
              "        dataTable['output_type'] = 'display_data';\n",
              "        await google.colab.output.renderOutput(dataTable, element);\n",
              "        const docLink = document.createElement('div');\n",
              "        docLink.innerHTML = docLinkHtml;\n",
              "        element.appendChild(docLink);\n",
              "      }\n",
              "    </script>\n",
              "  </div>\n",
              "\n",
              "\n",
              "<div id=\"df-0ec23f23-3edc-4b96-a49c-154c6dca6fdb\">\n",
              "  <button class=\"colab-df-quickchart\" onclick=\"quickchart('df-0ec23f23-3edc-4b96-a49c-154c6dca6fdb')\"\n",
              "            title=\"Suggest charts\"\n",
              "            style=\"display:none;\">\n",
              "\n",
              "<svg xmlns=\"http://www.w3.org/2000/svg\" height=\"24px\"viewBox=\"0 0 24 24\"\n",
              "     width=\"24px\">\n",
              "    <g>\n",
              "        <path d=\"M19 3H5c-1.1 0-2 .9-2 2v14c0 1.1.9 2 2 2h14c1.1 0 2-.9 2-2V5c0-1.1-.9-2-2-2zM9 17H7v-7h2v7zm4 0h-2V7h2v10zm4 0h-2v-4h2v4z\"/>\n",
              "    </g>\n",
              "</svg>\n",
              "  </button>\n",
              "\n",
              "<style>\n",
              "  .colab-df-quickchart {\n",
              "      --bg-color: #E8F0FE;\n",
              "      --fill-color: #1967D2;\n",
              "      --hover-bg-color: #E2EBFA;\n",
              "      --hover-fill-color: #174EA6;\n",
              "      --disabled-fill-color: #AAA;\n",
              "      --disabled-bg-color: #DDD;\n",
              "  }\n",
              "\n",
              "  [theme=dark] .colab-df-quickchart {\n",
              "      --bg-color: #3B4455;\n",
              "      --fill-color: #D2E3FC;\n",
              "      --hover-bg-color: #434B5C;\n",
              "      --hover-fill-color: #FFFFFF;\n",
              "      --disabled-bg-color: #3B4455;\n",
              "      --disabled-fill-color: #666;\n",
              "  }\n",
              "\n",
              "  .colab-df-quickchart {\n",
              "    background-color: var(--bg-color);\n",
              "    border: none;\n",
              "    border-radius: 50%;\n",
              "    cursor: pointer;\n",
              "    display: none;\n",
              "    fill: var(--fill-color);\n",
              "    height: 32px;\n",
              "    padding: 0;\n",
              "    width: 32px;\n",
              "  }\n",
              "\n",
              "  .colab-df-quickchart:hover {\n",
              "    background-color: var(--hover-bg-color);\n",
              "    box-shadow: 0 1px 2px rgba(60, 64, 67, 0.3), 0 1px 3px 1px rgba(60, 64, 67, 0.15);\n",
              "    fill: var(--button-hover-fill-color);\n",
              "  }\n",
              "\n",
              "  .colab-df-quickchart-complete:disabled,\n",
              "  .colab-df-quickchart-complete:disabled:hover {\n",
              "    background-color: var(--disabled-bg-color);\n",
              "    fill: var(--disabled-fill-color);\n",
              "    box-shadow: none;\n",
              "  }\n",
              "\n",
              "  .colab-df-spinner {\n",
              "    border: 2px solid var(--fill-color);\n",
              "    border-color: transparent;\n",
              "    border-bottom-color: var(--fill-color);\n",
              "    animation:\n",
              "      spin 1s steps(1) infinite;\n",
              "  }\n",
              "\n",
              "  @keyframes spin {\n",
              "    0% {\n",
              "      border-color: transparent;\n",
              "      border-bottom-color: var(--fill-color);\n",
              "      border-left-color: var(--fill-color);\n",
              "    }\n",
              "    20% {\n",
              "      border-color: transparent;\n",
              "      border-left-color: var(--fill-color);\n",
              "      border-top-color: var(--fill-color);\n",
              "    }\n",
              "    30% {\n",
              "      border-color: transparent;\n",
              "      border-left-color: var(--fill-color);\n",
              "      border-top-color: var(--fill-color);\n",
              "      border-right-color: var(--fill-color);\n",
              "    }\n",
              "    40% {\n",
              "      border-color: transparent;\n",
              "      border-right-color: var(--fill-color);\n",
              "      border-top-color: var(--fill-color);\n",
              "    }\n",
              "    60% {\n",
              "      border-color: transparent;\n",
              "      border-right-color: var(--fill-color);\n",
              "    }\n",
              "    80% {\n",
              "      border-color: transparent;\n",
              "      border-right-color: var(--fill-color);\n",
              "      border-bottom-color: var(--fill-color);\n",
              "    }\n",
              "    90% {\n",
              "      border-color: transparent;\n",
              "      border-bottom-color: var(--fill-color);\n",
              "    }\n",
              "  }\n",
              "</style>\n",
              "\n",
              "  <script>\n",
              "    async function quickchart(key) {\n",
              "      const quickchartButtonEl =\n",
              "        document.querySelector('#' + key + ' button');\n",
              "      quickchartButtonEl.disabled = true;  // To prevent multiple clicks.\n",
              "      quickchartButtonEl.classList.add('colab-df-spinner');\n",
              "      try {\n",
              "        const charts = await google.colab.kernel.invokeFunction(\n",
              "            'suggestCharts', [key], {});\n",
              "      } catch (error) {\n",
              "        console.error('Error during call to suggestCharts:', error);\n",
              "      }\n",
              "      quickchartButtonEl.classList.remove('colab-df-spinner');\n",
              "      quickchartButtonEl.classList.add('colab-df-quickchart-complete');\n",
              "    }\n",
              "    (() => {\n",
              "      let quickchartButtonEl =\n",
              "        document.querySelector('#df-0ec23f23-3edc-4b96-a49c-154c6dca6fdb button');\n",
              "      quickchartButtonEl.style.display =\n",
              "        google.colab.kernel.accessAllowed ? 'block' : 'none';\n",
              "    })();\n",
              "  </script>\n",
              "</div>\n",
              "    </div>\n",
              "  </div>\n"
            ],
            "application/vnd.google.colaboratory.intrinsic+json": {
              "type": "dataframe",
              "variable_name": "df_rock",
              "summary": "{\n  \"name\": \"df_rock\",\n  \"rows\": 656,\n  \"fields\": [\n    {\n      \"column\": \"title\",\n      \"properties\": {\n        \"dtype\": \"string\",\n        \"samples\": [\n          \"Self-Destruct Personality\",\n          \"Leaving Tonight\",\n          \"Where Did Jesus Go?\"\n        ],\n        \"num_unique_values\": 642,\n        \"semantic_type\": \"\",\n        \"description\": \"\"\n      }\n    },\n    {\n      \"column\": \"artist\",\n      \"properties\": {\n        \"dtype\": \"category\",\n        \"samples\": [\n          \"STARSET\",\n          \"All Good Things\",\n          \"The Pretty Reckless\"\n        ],\n        \"num_unique_values\": 9,\n        \"semantic_type\": \"\",\n        \"description\": \"\"\n      }\n    },\n    {\n      \"column\": \"lyrics\",\n      \"properties\": {\n        \"dtype\": \"string\",\n        \"samples\": [\n          \"\\nI want you\\nI want you so bad, babe\\nI want you\\nI want you so bad\\nIt's driving me mad\\nIt's driving me mad\\n\\n\\nI want you\\nI want you so bad, babe\\nI want you\\nI want you so bad\\nIt's driving me mad\\nIt's driving me\\n\\n\\nI want you\\nI want you so bad, babe\\nI want you\\nI want you so bad\\nIt's driving me mad\\nIt's driving me mad\\n\\nI want you\\nI want you so bad, babe\\nI want you\\nI want you so bad\\nIt's driving me mad\\nIt's driving me\\n\\n\\nShe's so\\n(Heavy\\nHeavy, heavy, heavy)\\nShe's so\\n(Heavy\\nHeavy, heavy, heavy)\\n\\n\\nI want you\\nI want you so bad\\nWant you\\nI want you so bad\\nIt's driving me mad\\nIt's driving me mad\\n\\n\\nI want you\\nYou know I want you so bad\\nI want you\\nYou know I want you so bad\\nIt's driving me mad\\nIt's driving me (mad)\\n\\nShe's so\\n(Heavy, heavy, heavy)\\nTell me I'll believe it in the end\\nBut I'll just hate the secrets to the lie you made\\nIn the end, in the end\\nBelieve me in the end\\nBut I'll just hate the secrets to the lie you made\\nBelieve me in the end\\nBut I'll just hate the secrets to the lie you made\\nYeah in the end\",\n          \"\\nIf you got jack in your cup\\nGo raise it up, go raise it, go raise it up\\nIf you ain\\u2019t got enough\\nGo fill it up, go fill it up, go fill it up\\n\\n\\nI'm gonna chase this whiskey with Patr\\u00f3n\\nI wanna girl on my lap and a j\\u00e4gerbomb;\\nI'm comin' in hot, you heard me\\nAnd I'mma make it rain on the girl who serves me\\nI drink a fifth of vodka till it\\u2019s gone\\nAnd if it feels so good then it can't be wrong\\nI'm comin' in hot, you heard me\\nAnd we be taking shots and if not you nerdy\\n\\n\\nWe only leave a pre-party to go party some more\\nI'm already shit faced before I walk in the door\\nThis girl's rubbin on my leg, I never met her before\\nAnd now she\\u2019s making her way down to my gentleman sword\\nMight be the drugs talking or the shots of patron\\nBut these bitches look like models and they're ready to bone\\nI'll take 'em back to my parents\\u2019 house, we'll be home alone\\nSlapin chicks and have 'em yelling like Macaulay Culkin\\n\\nShe's tearing it up\\nYeah she\\u2019s dancing her ass off\\nThis girls like a Mac the way she\\u2019s riding my laptop\\nI\\u2019m trying to get my rocks off so don\\u2019t try to cockblock\\nI\\u2019ll grab my sawed off and I\\u2019ll blow your cock off\\n\\nYou know we drink so much\\nWe getting drunk for weeks\\nWe drink so much goose\\nWe turning into geese\\nMe and my crew flap a V through VIP\\nThese bitches play my skin flute like they\\u2019re Kenny G\\n\\n\\nI'm gonna chase this whiskey with Patr\\u00f3n\\nI wanna girl on my lap and a j\\u00e4gerbomb;\\nI'm comin' in hot, you heard me\\nAnd I'mma make it rain on the girl who serves me\\nI drink a fifth of vodka till it\\u2019s gone\\nAnd if it feels so good then it can't be wrong\\nI'm comin' in hot, you heard me\\nAnd we be taking shots and if not you nerdy\\n\\nIf you got Jack in your cup, go raise it up\\nIf you ain\\u2019t got enough, go fill it up\\nIf you had too much, don\\u2019t throw it up\\nAnd if you ain\\u2019t got shit, throw your hands up\\n\\n\\n\\nYo, I rolled up drunk on my Razor, fuck all the haters\\nPackin' a fat flask of J\\u00e4ger\\n\\n\\nAnd I'm drinkin' Maker's\\nDon't need a chaser\\nOrdered a couple Mind Erasers\\n\\n\\nGrab the party favors\\nSave those for later\\nI'm a team player\\nTakin' shots like the Lakers\\n\\n\\nCheck out the 'gators\\nYes, I'm a gangster\\nAnd I got my ice on my neck\\nThan a Glaciers\\n\\nNow it's time to blazer - Who's got the paper?\\nI heard there's an after party up at John Mayer's\\n\\n\\nHope it's a kegger\\nNope, but it's catered\\n'Bout to squeeze buns like a baker\\n\\n\\nGirl, you're in danger\\nHung like a hanger\\nAnd I'm 'bout to black out like I'm Darth Vader\\n\\n\\nSo grab my lightsaber and savor the flavor\\nYeah, you know these bitches love semen like a sailor\\n\\n\\nI'm gonna chase this whiskey with Patr\\u00f3n\\nI wanna girl on my lap and a j\\u00e4gerbomb;\\nI'm comin' in hot, you heard me\\nAnd I'mma make it rain on the girl who serves me\\nI drink a fifth of vodka till it\\u2019s gone\\nAnd if it feels so good then it can't be wrong\\nI'm comin' in hot, you heard me\\nAnd we be taking shots and if not you nerdy\\n\\n\\nIf you got jack in your cup, go raise it up\\nIf you ain\\u2019t got enough, go fill it up\\nIf you had too much, don\\u2019t throw it up\\nAnd if you ain\\u2019t got shit, throw your hands up\\n\\n\\nI'm gonna chase this whiskey with Patr\\u00f3n\\nI wanna girl on my lap and a j\\u00e4gerbomb;\\nI'm comin' in hot, you heard me\\nAnd I'mma make it rain on the girl who serves me\\nI drink a fifth of vodka till it\\u2019s gone\\nAnd if it feels so good then it can't be wrong\\nI'm comin' in hot, you heard me\\nAnd we be taking shots and if not you nerdy\\n\\n\\nIf you got jack in your cup\\nGo raise it up, go raise it up, go raise it up\\nIf you ain\\u2019t got enough\\nGo fill it up, go fill it up, go fill it up\\n\\nIf you got jack in your cup\\nGo raise it up, go raise it up, go raise it up\\nIf you ain\\u2019t got enough\\nGo fill it up, go fill it up, go fill it up\",\n          \"\\nHey me\\nRemember when you were skinny\\nRemember when you didn't worry\\nRemember when you didn't care\\nThat's when you were living\\nYou were living\\nYou were alive\\n\\n\\nAnd I don't know what's happened to me\\nNo, I don't know what's happened to me\\nI guess the devil's back\\nI guess the devil's back\\nI guess the devil's back\\nI guess the devil's back\\n\\n\\nHate me\\nI hate what I've become and now I cannot breathe\\nAnxiety is killing me slowly\\nWhat happened to youthful carefree\\nWhen did I get so old\\n\\nAnd I don't know what's happened to me\\nNo, I don't know what's happened to me\\nI guess the devil's back\\nI guess the devil's back\\nAgainst the devil's back\\nAgainst the devil's back\"\n        ],\n        \"num_unique_values\": 655,\n        \"semantic_type\": \"\",\n        \"description\": \"\"\n      }\n    }\n  ]\n}"
            }
          },
          "metadata": {},
          "execution_count": 87
        }
      ]
    },
    {
      "cell_type": "markdown",
      "source": [
        "## Vectorization"
      ],
      "metadata": {
        "id": "BbJN8-yHpxlp"
      }
    },
    {
      "cell_type": "code",
      "source": [
        "word_model = Word2Vec(df_rock['lyrics'].apply(tokenize), min_count=1, vector_size=50, window=3, sg=1, workers=1, seed=42)"
      ],
      "metadata": {
        "id": "P8i9akhdZSc-"
      },
      "execution_count": null,
      "outputs": []
    },
    {
      "cell_type": "code",
      "source": [
        "word_model.wv.most_similar('help')[:5]"
      ],
      "metadata": {
        "colab": {
          "base_uri": "https://localhost:8080/"
        },
        "id": "7MoMJ54tZ0d_",
        "outputId": "233ab0fd-679a-417a-93db-c367581b2847"
      },
      "execution_count": null,
      "outputs": [
        {
          "output_type": "execute_result",
          "data": {
            "text/plain": [
              "[('Please', 0.9032966494560242),\n",
              " ('Child', 0.8831313252449036),\n",
              " ('tame', 0.8805420398712158),\n",
              " ('lalalala', 0.8653964996337891),\n",
              " ('touch', 0.8595672845840454)]"
            ]
          },
          "metadata": {},
          "execution_count": 89
        }
      ]
    },
    {
      "cell_type": "code",
      "source": [
        "all_words = set(tokenize(' '.join(df_rock['lyrics'])))\n",
        "decode_BOW = {}\n",
        "encode_BOW = {}\n",
        "for i, word in enumerate(all_words):\n",
        "  decode_BOW[i] = word\n",
        "  encode_BOW[word] = i\n",
        "len(decode_BOW)"
      ],
      "metadata": {
        "colab": {
          "base_uri": "https://localhost:8080/"
        },
        "id": "uyiP7B62Z4rP",
        "outputId": "a887f2a9-606c-458b-9302-8271e252f90c"
      },
      "execution_count": null,
      "outputs": [
        {
          "output_type": "execute_result",
          "data": {
            "text/plain": [
              "7896"
            ]
          },
          "metadata": {},
          "execution_count": 90
        }
      ]
    },
    {
      "cell_type": "markdown",
      "source": [
        "Датасет небольшой, слов немного"
      ],
      "metadata": {
        "id": "IurTrtGIpURD"
      }
    },
    {
      "cell_type": "code",
      "source": [
        "def vectorize(pad: int, df: pd.DataFrame):\n",
        "  X = []\n",
        "  y_vector = []\n",
        "  y_bow = []\n",
        "  for _, row in tqdm(df.iterrows()):\n",
        "    x_part = []\n",
        "    if len(tokenize(row['text'])) < pad + 1:\n",
        "      continue\n",
        "    for token in tokenize(row['text'])[-pad - 1:-1]:\n",
        "      x_part.append(word_model.wv[token])\n",
        "    X.append(np.array(x_part))\n",
        "    y_bow.append(encode_BOW[tokenize(row['text'])[-1]])\n",
        "  return X, y_bow"
      ],
      "metadata": {
        "id": "s03dEKxQaHo0"
      },
      "execution_count": null,
      "outputs": []
    },
    {
      "cell_type": "code",
      "source": [
        "plt.figure(figsize=(10, 8))\n",
        "length = df_rock['lyrics'].apply(lambda x: len(tokenize(x)))\n",
        "ax = sns.histplot(length, bins=19)\n",
        "plt.show()"
      ],
      "metadata": {
        "colab": {
          "base_uri": "https://localhost:8080/",
          "height": 696
        },
        "id": "V8vDnIrOpvSO",
        "outputId": "84e9085b-d9bf-4d2b-e550-e0b8f81ce37a"
      },
      "execution_count": null,
      "outputs": [
        {
          "output_type": "display_data",
          "data": {
            "text/plain": [
              "<Figure size 1000x800 with 1 Axes>"
            ],
            "image/png": "[encoded data removed]"
          },
          "metadata": {}
        }
      ]
    },
    {
      "cell_type": "markdown",
      "source": [
        "Тексты, однако, довольно длинные."
      ],
      "metadata": {
        "id": "cI2oxgAKp-Bt"
      }
    },
    {
      "cell_type": "markdown",
      "source": [
        "### Vectors 10"
      ],
      "metadata": {
        "id": "twm3ObzwqFEL"
      }
    },
    {
      "cell_type": "markdown",
      "source": [
        "Использую ту же функцию, что и при векторизации текстов новостей"
      ],
      "metadata": {
        "id": "iMIEBpvPqpUu"
      }
    },
    {
      "cell_type": "code",
      "source": [
        "X_rock, y_rock = vectorize(10, df_rock.rename(columns={'lyrics': 'text'}))"
      ],
      "metadata": {
        "colab": {
          "base_uri": "https://localhost:8080/"
        },
        "id": "qfoRSDY6aZgv",
        "outputId": "1b2ac1f7-b08f-4533-da29-1a4a5f717e61"
      },
      "execution_count": null,
      "outputs": [
        {
          "output_type": "stream",
          "name": "stderr",
          "text": [
            "656it [00:00, 1843.66it/s]\n"
          ]
        }
      ]
    },
    {
      "cell_type": "code",
      "source": [
        "X_rock = np.array(X_rock)\n",
        "y_rock = np.array(y_rock)"
      ],
      "metadata": {
        "id": "htO-CkSnagsI"
      },
      "execution_count": null,
      "outputs": []
    },
    {
      "cell_type": "code",
      "source": [
        "X_rock.shape"
      ],
      "metadata": {
        "colab": {
          "base_uri": "https://localhost:8080/"
        },
        "id": "IcaSMGWRajK5",
        "outputId": "27f51425-b485-4026-b53a-f1d4202b64f5"
      },
      "execution_count": null,
      "outputs": [
        {
          "output_type": "execute_result",
          "data": {
            "text/plain": [
              "(656, 10, 50)"
            ]
          },
          "metadata": {},
          "execution_count": 98
        }
      ]
    },
    {
      "cell_type": "code",
      "source": [
        "y_rock.shape"
      ],
      "metadata": {
        "colab": {
          "base_uri": "https://localhost:8080/"
        },
        "id": "M64SoJI5alhw",
        "outputId": "ea42c902-4930-430a-a2c7-e995088d9cf2"
      },
      "execution_count": null,
      "outputs": [
        {
          "output_type": "execute_result",
          "data": {
            "text/plain": [
              "(656,)"
            ]
          },
          "metadata": {},
          "execution_count": 99
        }
      ]
    },
    {
      "cell_type": "markdown",
      "source": [
        "### Vectors 50"
      ],
      "metadata": {
        "id": "RUAInkC7qt0v"
      }
    },
    {
      "cell_type": "code",
      "source": [
        "X_rock_medium, y_rock_medium = vectorize(50, df_rock.rename(columns={'lyrics': 'text'}))"
      ],
      "metadata": {
        "colab": {
          "base_uri": "https://localhost:8080/"
        },
        "id": "i6Uk9DSKqwjd",
        "outputId": "15aaba9c-90f7-4bcd-9677-d97ebfc04125"
      },
      "execution_count": null,
      "outputs": [
        {
          "output_type": "stream",
          "name": "stderr",
          "text": [
            "656it [00:00, 862.15it/s]\n"
          ]
        }
      ]
    },
    {
      "cell_type": "code",
      "source": [
        "X_rock_medium = np.array(X_rock_medium)\n",
        "y_rock_medium = np.array(y_rock_medium)"
      ],
      "metadata": {
        "id": "CmYMGb66qyAm"
      },
      "execution_count": null,
      "outputs": []
    },
    {
      "cell_type": "code",
      "source": [
        "X_rock_medium.shape, y_rock_medium.shape"
      ],
      "metadata": {
        "colab": {
          "base_uri": "https://localhost:8080/"
        },
        "id": "OMTmF9siq9th",
        "outputId": "0d79e199-7319-4016-cf82-6e39fc7e4a69"
      },
      "execution_count": null,
      "outputs": [
        {
          "output_type": "execute_result",
          "data": {
            "text/plain": [
              "((655, 50, 50), (655,))"
            ]
          },
          "metadata": {},
          "execution_count": 102
        }
      ]
    },
    {
      "cell_type": "markdown",
      "source": [
        "### Vectors 100"
      ],
      "metadata": {
        "id": "t4D-mLuFrEC0"
      }
    },
    {
      "cell_type": "markdown",
      "source": [
        "Можно попробовать такой размер, поскольку текстов немного"
      ],
      "metadata": {
        "id": "ALC6hWZ4rGLi"
      }
    },
    {
      "cell_type": "code",
      "source": [
        "X_rock_large, y_rock_large = vectorize(100, df_rock.rename(columns={'lyrics': 'text'}))"
      ],
      "metadata": {
        "colab": {
          "base_uri": "https://localhost:8080/"
        },
        "id": "UILTbfScrPH7",
        "outputId": "b7a2768d-edd7-4b0f-eee1-d161842926bf"
      },
      "execution_count": null,
      "outputs": [
        {
          "output_type": "stream",
          "name": "stderr",
          "text": [
            "656it [00:00, 1412.20it/s]\n"
          ]
        }
      ]
    },
    {
      "cell_type": "code",
      "source": [
        "X_rock_large = np.array(X_rock_large)\n",
        "y_rock_large = np.array(y_rock_large)"
      ],
      "metadata": {
        "id": "swUjwzEvrTkz"
      },
      "execution_count": null,
      "outputs": []
    },
    {
      "cell_type": "code",
      "source": [
        "X_rock_large.shape, y_rock_large.shape"
      ],
      "metadata": {
        "colab": {
          "base_uri": "https://localhost:8080/"
        },
        "id": "rBz7sYl1rU7R",
        "outputId": "4364103d-ed00-4207-9001-7e8bd8967d00"
      },
      "execution_count": null,
      "outputs": [
        {
          "output_type": "execute_result",
          "data": {
            "text/plain": [
              "((651, 100, 50), (651,))"
            ]
          },
          "metadata": {},
          "execution_count": 108
        }
      ]
    },
    {
      "cell_type": "markdown",
      "source": [
        "## Models"
      ],
      "metadata": {
        "id": "hx56hTlMrfLU"
      }
    },
    {
      "cell_type": "markdown",
      "source": [
        "Тут я решил попробовать 2 модификации модели из семинарского блокнота (1 и 3) и одну свою."
      ],
      "metadata": {
        "id": "hUN-LPwyru_M"
      }
    },
    {
      "cell_type": "code",
      "source": [
        "# Add attention layer to the deep learning network\n",
        "class attention(Layer):\n",
        "  def __init__(self,**kwargs):\n",
        "    super(attention,self).__init__(**kwargs)\n",
        "\n",
        "  def build(self,input_shape):\n",
        "    self.W=self.add_weight(name='attention_weight', shape=(input_shape[-1],1),\n",
        "                            initializer='random_normal', trainable=True)\n",
        "    self.b=self.add_weight(name='attention_bias', shape=(input_shape[1],1),\n",
        "                            initializer='zeros', trainable=True)\n",
        "    super(attention, self).build(input_shape)\n",
        "\n",
        "  def call(self,x):\n",
        "    # Alignment scores. Pass them through tanh function\n",
        "    e = K.tanh(K.dot(x,self.W)+self.b)\n",
        "    # Remove dimension of size 1\n",
        "    e = K.squeeze(e, axis=-1)\n",
        "    # Compute the weights\n",
        "    alpha = K.softmax(e)\n",
        "    # Reshape to tensorFlow format\n",
        "    alpha = K.expand_dims(alpha, axis=-1)\n",
        "    # Compute the context vector\n",
        "    context = x * alpha\n",
        "    context = K.sum(context, axis=1)\n",
        "    return context"
      ],
      "metadata": {
        "id": "M6Wwn9ZKumEB"
      },
      "execution_count": null,
      "outputs": []
    },
    {
      "cell_type": "code",
      "source": [
        "def build_model_type1(X: np.array, vocab_size: int):\n",
        "  x=Input(shape=X[0].shape)\n",
        "  RNN_layer = GRU(100, return_sequences=True)(x)\n",
        "  attention_layer = attention()(RNN_layer)\n",
        "  outputs=Dense(vocab_size, activation='softmax')(attention_layer)\n",
        "  model=Model(x,outputs)\n",
        "\n",
        "  model.compile(loss='SparseCategoricalCrossentropy',\n",
        "                optimizer='adam',\n",
        "                metrics = ['accuracy']\n",
        "                )\n",
        "  return model"
      ],
      "metadata": {
        "id": "lOmOrJssuwuF"
      },
      "execution_count": null,
      "outputs": []
    },
    {
      "cell_type": "code",
      "source": [
        "def build_model_type2(X: np.array, vocab_size: int):\n",
        "  model = Sequential()\n",
        "  model.add(Input(X[0].shape))\n",
        "  model.add(Bidirectional(LSTM(200, return_sequences=True)))\n",
        "  model.add(Bidirectional(GRU(150, return_sequences=True)))\n",
        "  model.add(GRU(100))\n",
        "  model.add(Dense(100, activation='ReLU'))\n",
        "  model.add(Dense(vocab_size, activation='softmax'))\n",
        "\n",
        "  model.compile(loss='SparseCategoricalCrossentropy', optimizer='adam')\n",
        "  return model"
      ],
      "metadata": {
        "id": "XaCWUP0wvLUa"
      },
      "execution_count": null,
      "outputs": []
    },
    {
      "cell_type": "code",
      "source": [
        "def build_model_type3(X: np.array, vocab_size: int):\n",
        "  model = Sequential()\n",
        "  model.add(Input(X[0].shape))\n",
        "  model.add(SimpleRNN(200, return_sequences=True))\n",
        "  model.add(SimpleRNN(100, return_sequences=True))\n",
        "  model.add(attention())\n",
        "  model.add(Dense(100, activation='ReLU'))\n",
        "  model.add(Dense(vocab_size, activation='softmax'))\n",
        "\n",
        "  model.compile(loss='SparseCategoricalCrossentropy', optimizer='adam', metrics=['accuracy'])\n",
        "  return model"
      ],
      "metadata": {
        "id": "BTdQ5SoFvsfK"
      },
      "execution_count": null,
      "outputs": []
    },
    {
      "cell_type": "markdown",
      "source": [
        "## Experiments"
      ],
      "metadata": {
        "id": "zW3aDBw-sJDQ"
      }
    },
    {
      "cell_type": "code",
      "source": [
        "words = list(decode_BOW.keys())\n",
        "\n",
        "def predict_bow(sentence: str, model, vec_size: int):\n",
        "  sentence_enc = []\n",
        "  for token in tokenize(sentence)[-vec_size:]:\n",
        "    try:\n",
        "      sentence_enc.append(word_model.wv[token])\n",
        "    except KeyError:\n",
        "      sentence_enc.append(np.zeros(50))\n",
        "  sentence_enc = np.array([sentence_enc])\n",
        "  predicted_probabilities = model.predict(sentence_enc, verbose=0)[0]\n",
        "  return decode_BOW[random.choices(words, weights=predicted_probabilities, k=1)[0]]"
      ],
      "metadata": {
        "id": "7EQ4SX8fbOmB"
      },
      "execution_count": null,
      "outputs": []
    },
    {
      "cell_type": "code",
      "source": [
        "def generate(prompt: str, model, vec_size: int = 10, sequence_len: int = 5) -> str:\n",
        "  text = prompt\n",
        "  next_token = ''\n",
        "  if len(tokenize(text)) < vec_size:\n",
        "    text = '* ' * (vec_size - len(tokenize(text))) + text\n",
        "  for _ in range(sequence_len):\n",
        "    next_token = predict_bow(text, model, vec_size)\n",
        "    text = f'{text} {next_token}' if re.match(r'\\W', next_token) is None else f'{text}{next_token}'\n",
        "  return text.replace('*', '').strip()"
      ],
      "metadata": {
        "id": "YuSrD7scbfOs"
      },
      "execution_count": null,
      "outputs": []
    },
    {
      "cell_type": "markdown",
      "source": [
        "### Model 1"
      ],
      "metadata": {
        "id": "mnWI9Dbcsanu"
      }
    },
    {
      "cell_type": "code",
      "source": [
        "model_rock1 = build_model_type1(X_rock, len(encode_BOW))\n",
        "model_rock1.summary()"
      ],
      "metadata": {
        "colab": {
          "base_uri": "https://localhost:8080/"
        },
        "id": "mcKZUQSvsgCJ",
        "outputId": "fa76d97b-c2f0-41cc-f527-250a46eb3aea"
      },
      "execution_count": null,
      "outputs": [
        {
          "output_type": "stream",
          "name": "stdout",
          "text": [
            "Model: \"model_8\"\n",
            "_________________________________________________________________\n",
            " Layer (type)                Output Shape              Param #   \n",
            "=================================================================\n",
            " input_17 (InputLayer)       [(None, 10, 50)]          0         \n",
            "                                                                 \n",
            " gru_24 (GRU)                (None, 10, 100)           45600     \n",
            "                                                                 \n",
            " attention_8 (attention)     (None, 100)               110       \n",
            "                                                                 \n",
            " dense_17 (Dense)            (None, 7896)              797496    \n",
            "                                                                 \n",
            "=================================================================\n",
            "Total params: 843206 (3.22 MB)\n",
            "Trainable params: 843206 (3.22 MB)\n",
            "Non-trainable params: 0 (0.00 Byte)\n",
            "_________________________________________________________________\n"
          ]
        }
      ]
    },
    {
      "cell_type": "code",
      "source": [
        "model_rock1.fit(X_rock, y_rock, epochs=15, batch_size=8)"
      ],
      "metadata": {
        "colab": {
          "base_uri": "https://localhost:8080/"
        },
        "id": "M1pF8xkOsvgQ",
        "outputId": "c9f30349-15db-4e98-fa6f-bf96f9a78003"
      },
      "execution_count": null,
      "outputs": [
        {
          "output_type": "stream",
          "name": "stdout",
          "text": [
            "Epoch 1/15\n",
            "82/82 [==============================] - 3s 15ms/step - loss: 7.8183 - accuracy: 0.0366\n",
            "Epoch 2/15\n",
            "82/82 [==============================] - 1s 17ms/step - loss: 5.6549 - accuracy: 0.0427\n",
            "Epoch 3/15\n",
            "82/82 [==============================] - 2s 23ms/step - loss: 5.3809 - accuracy: 0.0488\n",
            "Epoch 4/15\n",
            "82/82 [==============================] - 2s 20ms/step - loss: 5.2849 - accuracy: 0.0396\n",
            "Epoch 5/15\n",
            "82/82 [==============================] - 1s 15ms/step - loss: 5.2348 - accuracy: 0.0473\n",
            "Epoch 6/15\n",
            "82/82 [==============================] - 1s 15ms/step - loss: 5.1880 - accuracy: 0.0534\n",
            "Epoch 7/15\n",
            "82/82 [==============================] - 1s 15ms/step - loss: 5.1261 - accuracy: 0.0686\n",
            "Epoch 8/15\n",
            "82/82 [==============================] - 1s 15ms/step - loss: 5.0464 - accuracy: 0.0640\n",
            "Epoch 9/15\n",
            "82/82 [==============================] - 1s 15ms/step - loss: 4.9477 - accuracy: 0.0884\n",
            "Epoch 10/15\n",
            "82/82 [==============================] - 1s 15ms/step - loss: 4.8175 - accuracy: 0.0915\n",
            "Epoch 11/15\n",
            "82/82 [==============================] - 1s 16ms/step - loss: 4.6526 - accuracy: 0.1052\n",
            "Epoch 12/15\n",
            "82/82 [==============================] - 2s 20ms/step - loss: 4.4901 - accuracy: 0.1098\n",
            "Epoch 13/15\n",
            "82/82 [==============================] - 2s 24ms/step - loss: 4.3292 - accuracy: 0.1159\n",
            "Epoch 14/15\n",
            "82/82 [==============================] - 1s 17ms/step - loss: 4.1654 - accuracy: 0.1418\n",
            "Epoch 15/15\n",
            "82/82 [==============================] - 1s 15ms/step - loss: 4.0181 - accuracy: 0.1692\n"
          ]
        },
        {
          "output_type": "execute_result",
          "data": {
            "text/plain": [
              "<keras.src.callbacks.History at 0x7cb450e52620>"
            ]
          },
          "metadata": {},
          "execution_count": 128
        }
      ]
    },
    {
      "cell_type": "code",
      "source": [
        "test_sents = (\n",
        "    \"Convoluted Lies, it's the end that you\",\n",
        "    'Everywhere I go',\n",
        "    \"Oh no, they'll never let go Of something you said ten years ago\",\n",
        "    \"Welcome to my other side Hello it’s Mz. Hyde!\",\n",
        "    \"I feel like I'm dying I got one foot in the ground Never knew what love was Until you came around\",\n",
        "    \"Your mouth was never one to trust, you're always speaking out Falling far behind, falling out of line\",\n",
        "    \"Better back down, you're in my domain Got the whole crowd screaming out our name\",\n",
        "    \"You make me wanna die I'll never be good enough You make me wanna die\",\n",
        "    \"Standing on the edge you'll never get enough I'll be your pusher now now Be your pusher now\"\n",
        "    )\n",
        "for sentence in test_sents:\n",
        "  print(generate(sentence, model_rock1, sequence_len=10))"
      ],
      "metadata": {
        "colab": {
          "base_uri": "https://localhost:8080/"
        },
        "id": "hBCStZvgbib4",
        "outputId": "dd805793-4d93-4ab3-a83a-bda8241e7ae4"
      },
      "execution_count": null,
      "outputs": [
        {
          "output_type": "stream",
          "name": "stdout",
          "text": [
            "Convoluted Lies, it's the end that you disease riot outline die fine one this lover down survive\n",
            "Everywhere I go destruct much paranoid mouth said. company poison slow bye\n",
            "Oh no, they'll never let go Of something you said ten years ago bitches are night! disappeared fame aligned\" poison na\n",
            "Welcome to my other side Hello it’s Mz. Hyde! mind no kids BEAT return?)))!\n",
            "I feel like I'm dying I got one foot in the ground Never knew what love was Until you came around fly! one heart! you work?)?\n",
            "Your mouth was never one to trust, you're always speaking out Falling far behind, falling out of line head)) bag out nicely medicine!))\n",
            "Better back down, you're in my domain Got the whole crowd screaming out our name survive ooh poison night starlight mountain next. suffocate oh\n",
            "You make me wanna die I'll never be good enough You make me wanna die blows! weird dark you try work) high na\n",
            "Standing on the edge you'll never get enough I'll be your pusher now now Be your pusher now miracle disappear disappeared x3 prevail unbecoming it me on wanted\n"
          ]
        }
      ]
    },
    {
      "cell_type": "markdown",
      "source": [
        "Генерация также выглядит рандомной, но в некоторых местах появляются ожидаемые части речи, как, например, здесь: *it's the end that you* **disease**. Генерируется пункутация, иногда подряд."
      ],
      "metadata": {
        "id": "YKrNWlKnviPH"
      }
    },
    {
      "cell_type": "code",
      "source": [
        "model_rock1 = build_model_type1(X_rock_medium, len(encode_BOW))\n",
        "model_rock1.fit(X_rock_medium, y_rock_medium, epochs=15, batch_size=8)"
      ],
      "metadata": {
        "colab": {
          "base_uri": "https://localhost:8080/"
        },
        "id": "g2GT5OzmzmlD",
        "outputId": "ed1e9594-7842-43a4-c9e0-69ba1f452bfa"
      },
      "execution_count": null,
      "outputs": [
        {
          "output_type": "stream",
          "name": "stdout",
          "text": [
            "Epoch 1/15\n",
            "82/82 [==============================] - 5s 34ms/step - loss: 7.6868 - accuracy: 0.0382\n",
            "Epoch 2/15\n",
            "82/82 [==============================] - 3s 33ms/step - loss: 5.6707 - accuracy: 0.0427\n",
            "Epoch 3/15\n",
            "82/82 [==============================] - 3s 38ms/step - loss: 5.4043 - accuracy: 0.0321\n",
            "Epoch 4/15\n",
            "82/82 [==============================] - 4s 43ms/step - loss: 5.3187 - accuracy: 0.0427\n",
            "Epoch 5/15\n",
            "82/82 [==============================] - 3s 33ms/step - loss: 5.2628 - accuracy: 0.0504\n",
            "Epoch 6/15\n",
            "82/82 [==============================] - 3s 33ms/step - loss: 5.2117 - accuracy: 0.0580\n",
            "Epoch 7/15\n",
            "82/82 [==============================] - 3s 34ms/step - loss: 5.1518 - accuracy: 0.0458\n",
            "Epoch 8/15\n",
            "82/82 [==============================] - 4s 50ms/step - loss: 5.0859 - accuracy: 0.0519\n",
            "Epoch 9/15\n",
            "82/82 [==============================] - 3s 33ms/step - loss: 5.0180 - accuracy: 0.0656\n",
            "Epoch 10/15\n",
            "82/82 [==============================] - 3s 33ms/step - loss: 4.9241 - accuracy: 0.0733\n",
            "Epoch 11/15\n",
            "82/82 [==============================] - 3s 33ms/step - loss: 4.8337 - accuracy: 0.0885\n",
            "Epoch 12/15\n",
            "82/82 [==============================] - 3s 40ms/step - loss: 4.7351 - accuracy: 0.1008\n",
            "Epoch 13/15\n",
            "82/82 [==============================] - 3s 42ms/step - loss: 4.6216 - accuracy: 0.1023\n",
            "Epoch 14/15\n",
            "82/82 [==============================] - 3s 33ms/step - loss: 4.5150 - accuracy: 0.1145\n",
            "Epoch 15/15\n",
            "82/82 [==============================] - 3s 33ms/step - loss: 4.3883 - accuracy: 0.1267\n"
          ]
        },
        {
          "output_type": "execute_result",
          "data": {
            "text/plain": [
              "<keras.src.callbacks.History at 0x7cb44def41f0>"
            ]
          },
          "metadata": {},
          "execution_count": 130
        }
      ]
    },
    {
      "cell_type": "code",
      "source": [
        "test_sents = (\n",
        "    \"Convoluted Lies, it's the end that you\",\n",
        "    'Everywhere I go',\n",
        "    \"Oh no, they'll never let go Of something you said ten years ago\",\n",
        "    \"Welcome to my other side Hello it’s Mz. Hyde!\",\n",
        "    \"I feel like I'm dying I got one foot in the ground Never knew what love was Until you came around\",\n",
        "    \"Your mouth was never one to trust, you're always speaking out Falling far behind, falling out of line\",\n",
        "    \"Better back down, you're in my domain Got the whole crowd screaming out our name\",\n",
        "    \"You make me wanna die I'll never be good enough You make me wanna die\",\n",
        "    \"Standing on the edge you'll never get enough I'll be your pusher now now Be your pusher now\"\n",
        "    )\n",
        "for sentence in test_sents:\n",
        "  print(generate(sentence, model_rock1, vec_size=50, sequence_len=10))"
      ],
      "metadata": {
        "colab": {
          "base_uri": "https://localhost:8080/"
        },
        "id": "EvWfpyXHzzxk",
        "outputId": "34159e41-00ea-4e96-99d3-22c8e54138fb"
      },
      "execution_count": null,
      "outputs": [
        {
          "output_type": "stream",
          "name": "stdout",
          "text": [
            "Convoluted Lies, it's the end that you away apart apart mountain starlight indifference sky return mountain lucky\n",
            "Everywhere I go BEAT sleep blue California return quiet Maserati losing said spokes\n",
            "Oh no, they'll never let go Of something you said ten years ago again return Expectations paradise gin apart on gold BEAT rain\n",
            "Welcome to my other side Hello it’s Mz. Hyde! lucky ooh crea medicine mouth Everything angel uprise see time\n",
            "I feel like I'm dying I got one foot in the ground Never knew what love was Until you came around break ahh” oh show! Faggot Believe return riot\n",
            "Your mouth was never one to trust, you're always speaking out Falling far behind, falling out of line silence BEAT oh undead paradise gin Dead renegade said night\n",
            "Better back down, you're in my domain Got the whole crowd screaming out our name the bitches dangerous show company telepathic on wrong wanted remains\n",
            "You make me wanna die I'll never be good enough You make me wanna die alone sleep name riot cuffs dynamite uprise” x3 me\n",
            "Standing on the edge you'll never get enough I'll be your pusher now now Be your pusher now overcome say fire me free late watch again home lose\n"
          ]
        }
      ]
    },
    {
      "cell_type": "markdown",
      "source": [
        "Такая же случайная генерация последовательностей, в первом тексте один токен сгенерировался 2 раза подряд, но, думаю, ничего такого в этом нет. Пунктуации генерируется мало."
      ],
      "metadata": {
        "id": "-47nULAuzkTZ"
      }
    },
    {
      "cell_type": "code",
      "source": [
        "model_rock1 = build_model_type1(X_rock_large, len(encode_BOW))\n",
        "model_rock1.fit(X_rock_large, y_rock_large, epochs=15, batch_size=8)"
      ],
      "metadata": {
        "colab": {
          "base_uri": "https://localhost:8080/"
        },
        "id": "8FNKJ_Fi0JBc",
        "outputId": "51086f45-2ff6-46ad-e047-81b4b252e4b9"
      },
      "execution_count": null,
      "outputs": [
        {
          "output_type": "stream",
          "name": "stdout",
          "text": [
            "Epoch 1/15\n",
            "82/82 [==============================] - 36s 63ms/step - loss: 7.7051 - accuracy: 0.0445\n",
            "Epoch 2/15\n",
            "82/82 [==============================] - 5s 64ms/step - loss: 5.6676 - accuracy: 0.0553\n",
            "Epoch 3/15\n",
            "82/82 [==============================] - 5s 56ms/step - loss: 5.3933 - accuracy: 0.0568\n",
            "Epoch 4/15\n",
            "82/82 [==============================] - 6s 71ms/step - loss: 5.3245 - accuracy: 0.0507\n",
            "Epoch 5/15\n",
            "82/82 [==============================] - 5s 56ms/step - loss: 5.2873 - accuracy: 0.0338\n",
            "Epoch 6/15\n",
            "82/82 [==============================] - 5s 57ms/step - loss: 5.2712 - accuracy: 0.0461\n",
            "Epoch 7/15\n",
            "82/82 [==============================] - 7s 81ms/step - loss: 5.2231 - accuracy: 0.0476\n",
            "Epoch 8/15\n",
            "82/82 [==============================] - 5s 56ms/step - loss: 5.1734 - accuracy: 0.0323\n",
            "Epoch 9/15\n",
            "82/82 [==============================] - 5s 66ms/step - loss: 5.1067 - accuracy: 0.0630\n",
            "Epoch 10/15\n",
            "82/82 [==============================] - 5s 61ms/step - loss: 5.0525 - accuracy: 0.0630\n",
            "Epoch 11/15\n",
            "82/82 [==============================] - 5s 56ms/step - loss: 4.9574 - accuracy: 0.0768\n",
            "Epoch 12/15\n",
            "82/82 [==============================] - 6s 71ms/step - loss: 4.8640 - accuracy: 0.0768\n",
            "Epoch 13/15\n",
            "82/82 [==============================] - 5s 57ms/step - loss: 4.7726 - accuracy: 0.0783\n",
            "Epoch 14/15\n",
            "82/82 [==============================] - 5s 59ms/step - loss: 4.6668 - accuracy: 0.0937\n",
            "Epoch 15/15\n",
            "82/82 [==============================] - 6s 68ms/step - loss: 4.5776 - accuracy: 0.0998\n"
          ]
        },
        {
          "output_type": "execute_result",
          "data": {
            "text/plain": [
              "<keras.src.callbacks.History at 0x7cb44e164190>"
            ]
          },
          "metadata": {},
          "execution_count": 133
        }
      ]
    },
    {
      "cell_type": "code",
      "source": [
        "test_sents = (\n",
        "    \"Convoluted Lies, it's the end that you\",\n",
        "    'Everywhere I go',\n",
        "    \"Oh no, they'll never let go Of something you said ten years ago\",\n",
        "    \"Welcome to my other side Hello it’s Mz. Hyde!\",\n",
        "    \"I feel like I'm dying I got one foot in the ground Never knew what love was Until you came around\",\n",
        "    \"Your mouth was never one to trust, you're always speaking out Falling far behind, falling out of line\",\n",
        "    \"Better back down, you're in my domain Got the whole crowd screaming out our name\",\n",
        "    \"You make me wanna die I'll never be good enough You make me wanna die\",\n",
        "    \"Standing on the edge you'll never get enough I'll be your pusher now now Be your pusher now\"\n",
        "    )\n",
        "for sentence in test_sents:\n",
        "  print(generate(sentence, model_rock1, vec_size=100, sequence_len=10))"
      ],
      "metadata": {
        "colab": {
          "base_uri": "https://localhost:8080/"
        },
        "id": "I1XORKG00SQ9",
        "outputId": "8028c9a9-a7b6-42e0-da95-ab2002cd8f06"
      },
      "execution_count": null,
      "outputs": [
        {
          "output_type": "stream",
          "name": "stdout",
          "text": [
            "Convoluted Lies, it's the end that you disappear flag fine skylines without send songs Check perpetually bitterness\n",
            "Everywhere I go tomorrow VERSE honey disappear page past herself daze cornrows spokes\n",
            "Oh no, they'll never let go Of something you said ten years ago fine watch sound overcome down weird sing shoulder everything friends\n",
            "Welcome to my other side Hello it’s Mz. Hyde! reflection make blue said motherfucker fists California grind fault sane\n",
            "I feel like I'm dying I got one foot in the ground Never knew what love was Until you came around gold cower roll champions satisfy fall hey boiling. night\n",
            "Your mouth was never one to trust, you're always speaking out Falling far behind, falling out of line fattest fall camera herself Charlie na fear” Scream Sunday\n",
            "Better back down, you're in my domain Got the whole crowd screaming out our name angels indifference more BEAT right below goodnight Dead below rain\n",
            "You make me wanna die I'll never be good enough You make me wanna die DougCaraffini need” now boards are fame souls enough me\n",
            "Standing on the edge you'll never get enough I'll be your pusher now now Be your pusher now smearing drinkin will drugs California fall busy fear vicious kids\n"
          ]
        }
      ]
    },
    {
      "cell_type": "markdown",
      "source": [
        "Местами даже неплохо: *skylines without send songs*, первый токен где-то тоже неплохо сгенерировался: *it's the end that you* **disappear**, *Everywhere I go* **tomorrow**."
      ],
      "metadata": {
        "id": "X0P0Ysoi3PTG"
      }
    },
    {
      "cell_type": "markdown",
      "source": [
        "С наибольшим окном, кажется, получился лучший результат"
      ],
      "metadata": {
        "id": "fkU2rI-_4Azo"
      }
    },
    {
      "cell_type": "markdown",
      "source": [
        "### Model 2"
      ],
      "metadata": {
        "id": "Em2cvqHx0YCF"
      }
    },
    {
      "cell_type": "code",
      "source": [
        "model_rock2 = build_model_type2(X_rock, len(encode_BOW))\n",
        "model_rock2.summary()"
      ],
      "metadata": {
        "colab": {
          "base_uri": "https://localhost:8080/"
        },
        "id": "QPAWzKIT0Zvp",
        "outputId": "b94b857f-898e-4591-a5ea-03dfb211b8e5"
      },
      "execution_count": null,
      "outputs": [
        {
          "output_type": "stream",
          "name": "stdout",
          "text": [
            "Model: \"sequential_8\"\n",
            "_________________________________________________________________\n",
            " Layer (type)                Output Shape              Param #   \n",
            "=================================================================\n",
            " bidirectional_16 (Bidirect  (None, 10, 400)           401600    \n",
            " ional)                                                          \n",
            "                                                                 \n",
            " bidirectional_17 (Bidirect  (None, 10, 300)           496800    \n",
            " ional)                                                          \n",
            "                                                                 \n",
            " gru_28 (GRU)                (None, 100)               120600    \n",
            "                                                                 \n",
            " dense_20 (Dense)            (None, 100)               10100     \n",
            "                                                                 \n",
            " dense_21 (Dense)            (None, 7896)              797496    \n",
            "                                                                 \n",
            "=================================================================\n",
            "Total params: 1826596 (6.97 MB)\n",
            "Trainable params: 1826596 (6.97 MB)\n",
            "Non-trainable params: 0 (0.00 Byte)\n",
            "_________________________________________________________________\n"
          ]
        }
      ]
    },
    {
      "cell_type": "code",
      "source": [
        "model_rock2.fit(X_rock, y_rock, epochs=15, batch_size=8)"
      ],
      "metadata": {
        "colab": {
          "base_uri": "https://localhost:8080/"
        },
        "id": "F_00G8h30fs1",
        "outputId": "d4ceb2ec-e6d0-4fb6-e01b-939df996f7d0"
      },
      "execution_count": null,
      "outputs": [
        {
          "output_type": "stream",
          "name": "stdout",
          "text": [
            "Epoch 1/15\n",
            "82/82 [==============================] - 15s 81ms/step - loss: 7.5689\n",
            "Epoch 2/15\n",
            "82/82 [==============================] - 6s 68ms/step - loss: 5.6701\n",
            "Epoch 3/15\n",
            "82/82 [==============================] - 7s 86ms/step - loss: 5.4005\n",
            "Epoch 4/15\n",
            "82/82 [==============================] - 6s 68ms/step - loss: 5.3372\n",
            "Epoch 5/15\n",
            "82/82 [==============================] - 7s 86ms/step - loss: 5.3031\n",
            "Epoch 6/15\n",
            "82/82 [==============================] - 6s 68ms/step - loss: 5.2960\n",
            "Epoch 7/15\n",
            "82/82 [==============================] - 7s 86ms/step - loss: 5.2901\n",
            "Epoch 8/15\n",
            "82/82 [==============================] - 6s 68ms/step - loss: 5.2834\n",
            "Epoch 9/15\n",
            "82/82 [==============================] - 7s 86ms/step - loss: 5.2732\n",
            "Epoch 10/15\n",
            "82/82 [==============================] - 6s 67ms/step - loss: 5.2721\n",
            "Epoch 11/15\n",
            "82/82 [==============================] - 7s 86ms/step - loss: 5.2617\n",
            "Epoch 12/15\n",
            "82/82 [==============================] - 5s 67ms/step - loss: 5.2545\n",
            "Epoch 13/15\n",
            "82/82 [==============================] - 7s 85ms/step - loss: 5.2566\n",
            "Epoch 14/15\n",
            "82/82 [==============================] - 6s 67ms/step - loss: 5.2452\n",
            "Epoch 15/15\n",
            "82/82 [==============================] - 6s 77ms/step - loss: 5.2500\n"
          ]
        },
        {
          "output_type": "execute_result",
          "data": {
            "text/plain": [
              "<keras.src.callbacks.History at 0x7cb44e7d1750>"
            ]
          },
          "metadata": {},
          "execution_count": 136
        }
      ]
    },
    {
      "cell_type": "code",
      "source": [
        "test_sents = (\n",
        "    \"Convoluted Lies, it's the end that you\",\n",
        "    'Everywhere I go',\n",
        "    \"Oh no, they'll never let go Of something you said ten years ago\",\n",
        "    \"Welcome to my other side Hello it’s Mz. Hyde!\",\n",
        "    \"I feel like I'm dying I got one foot in the ground Never knew what love was Until you came around\",\n",
        "    \"Your mouth was never one to trust, you're always speaking out Falling far behind, falling out of line\",\n",
        "    \"Better back down, you're in my domain Got the whole crowd screaming out our name\",\n",
        "    \"You make me wanna die I'll never be good enough You make me wanna die\",\n",
        "    \"Standing on the edge you'll never get enough I'll be your pusher now now Be your pusher now\"\n",
        "    )\n",
        "for sentence in test_sents:\n",
        "  print(generate(sentence, model_rock2, vec_size=10, sequence_len=10))"
      ],
      "metadata": {
        "colab": {
          "base_uri": "https://localhost:8080/"
        },
        "id": "VD7yG8vT0rxg",
        "outputId": "d5f2bc60-f7d1-4d96-f5e9-80e67a7adbc3"
      },
      "execution_count": null,
      "outputs": [
        {
          "output_type": "stream",
          "name": "stdout",
          "text": [
            "Convoluted Lies, it's the end that you night ahh? me me riot! me na silence\n",
            "Everywhere I go everyday crowd? town die again! me) late\n",
            "Oh no, they'll never let go Of something you said ten years ago burn you burn God living Fine lights below over you\n",
            "Welcome to my other side Hello it’s Mz. Hyde!! bound fire now stone same again kids) room\n",
            "I feel like I'm dying I got one foot in the ground Never knew what love was Until you came around gin?! cry champions down myself lights face starlight\n",
            "Your mouth was never one to trust, you're always speaking out Falling far behind, falling out of line be say scene disappear tonight line?﻿ bitches alone\n",
            "Better back down, you're in my domain Got the whole crowd screaming out our name blows golden) way? x3 you memory out die\n",
            "You make me wanna die I'll never be good enough You make me wanna die eyes? this me alone unbecoming fear time grind fault\n",
            "Standing on the edge you'll never get enough I'll be your pusher now now Be your pusher now mountain goodbye fire friends free living scars tonight Charlie kill\n"
          ]
        }
      ]
    },
    {
      "cell_type": "markdown",
      "source": [
        "Тут что-то страшное творится, много скобочек, много пунктуации, некоторые слова также повторяются. Возможно, модель переобучилась, потому как прослеживается тенденция к повторению токенов, но рандом также остался"
      ],
      "metadata": {
        "id": "L7p7kEXm08Pv"
      }
    },
    {
      "cell_type": "code",
      "source": [
        "model_rock2 = build_model_type2(X_rock_medium, len(encode_BOW))\n",
        "model_rock2.fit(X_rock_medium, y_rock_medium, epochs=15, batch_size=8)"
      ],
      "metadata": {
        "colab": {
          "base_uri": "https://localhost:8080/"
        },
        "id": "MHBravyY08wR",
        "outputId": "04dc2257-563b-42cf-cfd6-6ff33c7962a2"
      },
      "execution_count": null,
      "outputs": [
        {
          "output_type": "stream",
          "name": "stdout",
          "text": [
            "Epoch 1/15\n",
            "82/82 [==============================] - 35s 307ms/step - loss: 7.5093\n",
            "Epoch 2/15\n",
            "82/82 [==============================] - 24s 299ms/step - loss: 5.6568\n",
            "Epoch 3/15\n",
            "82/82 [==============================] - 23s 279ms/step - loss: 5.4171\n",
            "Epoch 4/15\n",
            "82/82 [==============================] - 24s 297ms/step - loss: 5.3533\n",
            "Epoch 5/15\n",
            "82/82 [==============================] - 25s 299ms/step - loss: 5.3132\n",
            "Epoch 6/15\n",
            "82/82 [==============================] - 25s 301ms/step - loss: 5.2986\n",
            "Epoch 7/15\n",
            "82/82 [==============================] - 25s 299ms/step - loss: 5.2961\n",
            "Epoch 8/15\n",
            "82/82 [==============================] - 23s 281ms/step - loss: 5.2886\n",
            "Epoch 9/15\n",
            "82/82 [==============================] - 24s 293ms/step - loss: 5.2754\n",
            "Epoch 10/15\n",
            "82/82 [==============================] - 25s 300ms/step - loss: 5.2752\n",
            "Epoch 11/15\n",
            "82/82 [==============================] - 25s 300ms/step - loss: 5.2678\n",
            "Epoch 12/15\n",
            "82/82 [==============================] - 25s 300ms/step - loss: 5.2764\n",
            "Epoch 13/15\n",
            "82/82 [==============================] - 24s 299ms/step - loss: 5.2695\n",
            "Epoch 14/15\n",
            "82/82 [==============================] - 23s 281ms/step - loss: 5.2554\n",
            "Epoch 15/15\n",
            "82/82 [==============================] - 25s 301ms/step - loss: 5.2642\n"
          ]
        },
        {
          "output_type": "execute_result",
          "data": {
            "text/plain": [
              "<keras.src.callbacks.History at 0x7cb4526e1750>"
            ]
          },
          "metadata": {},
          "execution_count": 138
        }
      ]
    },
    {
      "cell_type": "code",
      "source": [
        "test_sents = (\n",
        "    \"Convoluted Lies, it's the end that you\",\n",
        "    'Everywhere I go',\n",
        "    \"Oh no, they'll never let go Of something you said ten years ago\",\n",
        "    \"Welcome to my other side Hello it’s Mz. Hyde!\",\n",
        "    \"I feel like I'm dying I got one foot in the ground Never knew what love was Until you came around\",\n",
        "    \"Your mouth was never one to trust, you're always speaking out Falling far behind, falling out of line\",\n",
        "    \"Better back down, you're in my domain Got the whole crowd screaming out our name\",\n",
        "    \"You make me wanna die I'll never be good enough You make me wanna die\",\n",
        "    \"Standing on the edge you'll never get enough I'll be your pusher now now Be your pusher now\"\n",
        "    )\n",
        "for sentence in test_sents:\n",
        "  print(generate(sentence, model_rock2, vec_size=50, sequence_len=10))"
      ],
      "metadata": {
        "colab": {
          "base_uri": "https://localhost:8080/"
        },
        "id": "zUjeGUiS1GTF",
        "outputId": "f85ecfec-1f73-480d-8305-a13d187b337a"
      },
      "execution_count": null,
      "outputs": [
        {
          "output_type": "stream",
          "name": "stdout",
          "text": [
            "Convoluted Lies, it's the end that you easy will? alone right aligned die Superhero memory said\n",
            "Everywhere I go way safe this? you die you off angel on\n",
            "Oh no, they'll never let go Of something you said ten years ago ones) die.? back home goddamn ones eyes\n",
            "Welcome to my other side Hello it’s Mz. Hyde! show back bells oooh another you”\" alive never\n",
            "I feel like I'm dying I got one foot in the ground Never knew what love was Until you came around! DougCaraffini said me tonight)) smile' you\n",
            "Your mouth was never one to trust, you're always speaking out Falling far behind, falling out of line oooh me! Forever weekend apart back apart sleep rain\n",
            "Better back down, you're in my domain Got the whole crowd screaming out our name?? over sea would) heart fake page empty\n",
            "You make me wanna die I'll never be good enough You make me wanna die over Ricochet die fake end own)! said DougCaraffini\n",
            "Standing on the edge you'll never get enough I'll be your pusher now now Be your pusher now drugs be mind parts breathe me fire alone enough nicely\n"
          ]
        }
      ]
    },
    {
      "cell_type": "markdown",
      "source": [
        "*mind parts*, *breathe me*, *the end that you easy will?* -- есть некоторые нормальные пары токенов, но в целом всё тот же рандом."
      ],
      "metadata": {
        "id": "Sr5b3iGp1JNp"
      }
    },
    {
      "cell_type": "code",
      "source": [
        "model_rock2 = build_model_type2(X_rock_large, len(encode_BOW))\n",
        "model_rock2.fit(X_rock_large, y_rock_large, epochs=15, batch_size=16)"
      ],
      "metadata": {
        "colab": {
          "base_uri": "https://localhost:8080/"
        },
        "id": "kq2aeTGv1KAX",
        "outputId": "3d9c98df-40d6-4b43-ce42-4f131e1d9663"
      },
      "execution_count": null,
      "outputs": [
        {
          "output_type": "stream",
          "name": "stdout",
          "text": [
            "Epoch 1/15\n",
            "41/41 [==============================] - 37s 663ms/step - loss: 7.8808\n",
            "Epoch 2/15\n",
            "41/41 [==============================] - 27s 659ms/step - loss: 5.6975\n",
            "Epoch 3/15\n",
            "41/41 [==============================] - 27s 658ms/step - loss: 5.4123\n",
            "Epoch 4/15\n",
            "41/41 [==============================] - 27s 660ms/step - loss: 5.3406\n",
            "Epoch 5/15\n",
            "41/41 [==============================] - 27s 657ms/step - loss: 5.3275\n",
            "Epoch 6/15\n",
            "41/41 [==============================] - 27s 657ms/step - loss: 5.3090\n",
            "Epoch 7/15\n",
            "41/41 [==============================] - 27s 660ms/step - loss: 5.3028\n",
            "Epoch 8/15\n",
            "41/41 [==============================] - 27s 661ms/step - loss: 5.2981\n",
            "Epoch 9/15\n",
            "41/41 [==============================] - 27s 662ms/step - loss: 5.2843\n",
            "Epoch 10/15\n",
            "41/41 [==============================] - 27s 669ms/step - loss: 5.2820\n",
            "Epoch 11/15\n",
            "41/41 [==============================] - 27s 659ms/step - loss: 5.2794\n",
            "Epoch 12/15\n",
            "41/41 [==============================] - 27s 663ms/step - loss: 5.2772\n",
            "Epoch 13/15\n",
            "41/41 [==============================] - 27s 656ms/step - loss: 5.2686\n",
            "Epoch 14/15\n",
            "41/41 [==============================] - 27s 654ms/step - loss: 5.2661\n",
            "Epoch 15/15\n",
            "41/41 [==============================] - 27s 660ms/step - loss: 5.2620\n"
          ]
        },
        {
          "output_type": "execute_result",
          "data": {
            "text/plain": [
              "<keras.src.callbacks.History at 0x7cb454067190>"
            ]
          },
          "metadata": {},
          "execution_count": 141
        }
      ]
    },
    {
      "cell_type": "code",
      "source": [
        "test_sents = (\n",
        "    \"Convoluted Lies, it's the end that you\",\n",
        "    'Everywhere I go',\n",
        "    \"Oh no, they'll never let go Of something you said ten years ago\",\n",
        "    \"Welcome to my other side Hello it’s Mz. Hyde!\",\n",
        "    \"I feel like I'm dying I got one foot in the ground Never knew what love was Until you came around\",\n",
        "    \"Your mouth was never one to trust, you're always speaking out Falling far behind, falling out of line\",\n",
        "    \"Better back down, you're in my domain Got the whole crowd screaming out our name\",\n",
        "    \"You make me wanna die I'll never be good enough You make me wanna die\",\n",
        "    \"Standing on the edge you'll never get enough I'll be your pusher now now Be your pusher now\"\n",
        "    )\n",
        "for sentence in test_sents:\n",
        "  print(generate(sentence, model_rock2, vec_size=100, sequence_len=10))"
      ],
      "metadata": {
        "colab": {
          "base_uri": "https://localhost:8080/"
        },
        "id": "OJNfX_QM1NSF",
        "outputId": "3f0c6f96-d052-472c-8baa-bea6ca0a0836"
      },
      "execution_count": null,
      "outputs": [
        {
          "output_type": "stream",
          "name": "stdout",
          "text": [
            "Convoluted Lies, it's the end that you time fear starlight breathe light apart ahh clap up stone\n",
            "Everywhere I go ghost bells remains romance cracks golden We remains one!\n",
            "Oh no, they'll never let go Of something you said ten years ago ones see reckoning goddamn lights friends kids aligned you!\n",
            "Welcome to my other side Hello it’s Mz. Hyde! kill roll bitches spell poison drugs dream dead) home\n",
            "I feel like I'm dying I got one foot in the ground Never knew what love was Until you came around) bag want golden dangerous sing paradise fake everything no\n",
            "Your mouth was never one to trust, you're always speaking out Falling far behind, falling out of line! slow over again apart alone heart you parts proud\n",
            "Better back down, you're in my domain Got the whole crowd screaming out our name anymore hero over left) over) abyss walker me\n",
            "You make me wanna die I'll never be good enough You make me wanna die now oh none goodbye) heart yeah. no)\n",
            "Standing on the edge you'll never get enough I'll be your pusher now now Be your pusher now you tucked gone) memory us fly no need level\n"
          ]
        }
      ]
    },
    {
      "cell_type": "markdown",
      "source": [
        "*fear starlight breathe light*, *ghost bells remains*, *spell poison drugs*, *dream dead)* Всё лучше и лучше, появляются какие-то более-менее осмысленные комбинации. Есть тенденция к генерации скобок."
      ],
      "metadata": {
        "id": "H7NmqP8B5jOa"
      }
    },
    {
      "cell_type": "markdown",
      "source": [
        "Кажется, в этом случае увеличение контекстного окна также позволяет получить лучший результат генерации, однако эта модель обучается относительно долго."
      ],
      "metadata": {
        "id": "5tWG7CRI6KQ6"
      }
    },
    {
      "cell_type": "markdown",
      "source": [
        "### Model 3"
      ],
      "metadata": {
        "id": "64JIGHqm1UMp"
      }
    },
    {
      "cell_type": "code",
      "source": [
        "model_rock3 = build_model_type3(X_rock, len(encode_BOW))\n",
        "model_rock3.summary()"
      ],
      "metadata": {
        "colab": {
          "base_uri": "https://localhost:8080/"
        },
        "id": "ZajeHJir1buK",
        "outputId": "a7b9d5ae-0a22-4b09-cd65-919a0ee8b4de"
      },
      "execution_count": null,
      "outputs": [
        {
          "output_type": "stream",
          "name": "stdout",
          "text": [
            "Model: \"sequential_13\"\n",
            "_________________________________________________________________\n",
            " Layer (type)                Output Shape              Param #   \n",
            "=================================================================\n",
            " simple_rnn_2 (SimpleRNN)    (None, 10, 200)           50200     \n",
            "                                                                 \n",
            " simple_rnn_3 (SimpleRNN)    (None, 10, 100)           30100     \n",
            "                                                                 \n",
            " attention_12 (attention)    (None, 100)               110       \n",
            "                                                                 \n",
            " dense_30 (Dense)            (None, 100)               10100     \n",
            "                                                                 \n",
            " dense_31 (Dense)            (None, 7896)              797496    \n",
            "                                                                 \n",
            "=================================================================\n",
            "Total params: 888006 (3.39 MB)\n",
            "Trainable params: 888006 (3.39 MB)\n",
            "Non-trainable params: 0 (0.00 Byte)\n",
            "_________________________________________________________________\n"
          ]
        }
      ]
    },
    {
      "cell_type": "code",
      "source": [
        "model_rock3.fit(X_rock, y_rock, epochs=20, batch_size=8)"
      ],
      "metadata": {
        "colab": {
          "base_uri": "https://localhost:8080/"
        },
        "id": "ySvVexou1ozq",
        "outputId": "52953658-51f1-4559-9d92-e2af6e640d86"
      },
      "execution_count": null,
      "outputs": [
        {
          "output_type": "stream",
          "name": "stdout",
          "text": [
            "Epoch 1/20\n",
            "82/82 [==============================] - 4s 18ms/step - loss: 7.6873 - accuracy: 0.0305\n",
            "Epoch 2/20\n",
            "82/82 [==============================] - 1s 17ms/step - loss: 5.6364 - accuracy: 0.0366\n",
            "Epoch 3/20\n",
            "82/82 [==============================] - 1s 17ms/step - loss: 5.4274 - accuracy: 0.0457\n",
            "Epoch 4/20\n",
            "82/82 [==============================] - 1s 18ms/step - loss: 5.3283 - accuracy: 0.0335\n",
            "Epoch 5/20\n",
            "82/82 [==============================] - 2s 21ms/step - loss: 5.2879 - accuracy: 0.0351\n",
            "Epoch 6/20\n",
            "82/82 [==============================] - 2s 30ms/step - loss: 5.2567 - accuracy: 0.0381\n",
            "Epoch 7/20\n",
            "82/82 [==============================] - 2s 19ms/step - loss: 5.2035 - accuracy: 0.0595\n",
            "Epoch 8/20\n",
            "82/82 [==============================] - 1s 17ms/step - loss: 5.1338 - accuracy: 0.0457\n",
            "Epoch 9/20\n",
            "82/82 [==============================] - 1s 18ms/step - loss: 4.9988 - accuracy: 0.0534\n",
            "Epoch 10/20\n",
            "82/82 [==============================] - 1s 17ms/step - loss: 4.8438 - accuracy: 0.0534\n",
            "Epoch 11/20\n",
            "82/82 [==============================] - 1s 17ms/step - loss: 4.6535 - accuracy: 0.0534\n",
            "Epoch 12/20\n",
            "82/82 [==============================] - 1s 17ms/step - loss: 4.4450 - accuracy: 0.0595\n",
            "Epoch 13/20\n",
            "82/82 [==============================] - 1s 18ms/step - loss: 4.1978 - accuracy: 0.0793\n",
            "Epoch 14/20\n",
            "82/82 [==============================] - 2s 28ms/step - loss: 3.9959 - accuracy: 0.1037\n",
            "Epoch 15/20\n",
            "82/82 [==============================] - 2s 24ms/step - loss: 3.7686 - accuracy: 0.0991\n",
            "Epoch 16/20\n",
            "82/82 [==============================] - 1s 17ms/step - loss: 3.5614 - accuracy: 0.1265\n",
            "Epoch 17/20\n",
            "82/82 [==============================] - 1s 18ms/step - loss: 3.3313 - accuracy: 0.1433\n",
            "Epoch 18/20\n",
            "82/82 [==============================] - 1s 17ms/step - loss: 3.1660 - accuracy: 0.1768\n",
            "Epoch 19/20\n",
            "82/82 [==============================] - 1s 18ms/step - loss: 2.9546 - accuracy: 0.1966\n",
            "Epoch 20/20\n",
            "82/82 [==============================] - 1s 17ms/step - loss: 2.7945 - accuracy: 0.2134\n"
          ]
        },
        {
          "output_type": "execute_result",
          "data": {
            "text/plain": [
              "<keras.src.callbacks.History at 0x7cb452e631c0>"
            ]
          },
          "metadata": {},
          "execution_count": 147
        }
      ]
    },
    {
      "cell_type": "code",
      "source": [
        "test_sents = (\n",
        "    \"Convoluted Lies, it's the end that you\",\n",
        "    'Everywhere I go',\n",
        "    \"Oh no, they'll never let go Of something you said ten years ago\",\n",
        "    \"Welcome to my other side Hello it’s Mz. Hyde!\",\n",
        "    \"I feel like I'm dying I got one foot in the ground Never knew what love was Until you came around\",\n",
        "    \"Your mouth was never one to trust, you're always speaking out Falling far behind, falling out of line\",\n",
        "    \"Better back down, you're in my domain Got the whole crowd screaming out our name\",\n",
        "    \"You make me wanna die I'll never be good enough You make me wanna die\",\n",
        "    \"Standing on the edge you'll never get enough I'll be your pusher now now Be your pusher now\"\n",
        "    )\n",
        "for sentence in test_sents:\n",
        "  print(generate(sentence, model_rock3, vec_size=10, sequence_len=10))"
      ],
      "metadata": {
        "colab": {
          "base_uri": "https://localhost:8080/"
        },
        "id": "Uf0i1-kf1sEk",
        "outputId": "020f38dc-8ba3-4e92-fa4b-c745e7bade73"
      },
      "execution_count": null,
      "outputs": [
        {
          "output_type": "stream",
          "name": "stdout",
          "text": [
            "Convoluted Lies, it's the end that you Berlin home more heart grind bites poison angel! one\n",
            "Everywhere I go speech B said fall same world mountain on safe away\n",
            "Oh no, they'll never let go Of something you said ten years ago eyes lights cockblock blue out? this fear surrender bang\n",
            "Welcome to my other side Hello it’s Mz. Hyde! goodbye another alone way much young die bites) shattered\n",
            "I feel like I'm dying I got one foot in the ground Never knew what love was Until you came around BEAT) respect UNDEAD go breathe away again go!\n",
            "Your mouth was never one to trust, you're always speaking out Falling far behind, falling out of line you sky Welcome pain? x3 town die dream miracle\n",
            "Better back down, you're in my domain Got the whole crowd screaming out our name away gangster angels below empty mind said walker all now\n",
            "You make me wanna die I'll never be good enough You make me wanna die Faggot away dark yeah! bells eyes goodbye back fly\n",
            "Standing on the edge you'll never get enough I'll be your pusher now now Be your pusher now page roll way Why tonight out paradise Reverse break dream\n"
          ]
        }
      ]
    },
    {
      "cell_type": "markdown",
      "source": [
        "Рандом, есть пунктуация, но в целом ничего нового."
      ],
      "metadata": {
        "id": "4z1Fembi1xx2"
      }
    },
    {
      "cell_type": "code",
      "source": [
        "model_rock3 = build_model_type3(X_rock_medium, len(encode_BOW))\n",
        "model_rock3.fit(X_rock_medium, y_rock_medium, epochs=15, batch_size=16)"
      ],
      "metadata": {
        "colab": {
          "base_uri": "https://localhost:8080/"
        },
        "id": "pdxruZZR1yTB",
        "outputId": "b7d5cf2d-4c7d-4858-e39d-b90c0222c2f6"
      },
      "execution_count": null,
      "outputs": [
        {
          "output_type": "stream",
          "name": "stdout",
          "text": [
            "Epoch 1/15\n",
            "41/41 [==============================] - 4s 43ms/step - loss: 7.9990 - accuracy: 0.0427\n",
            "Epoch 2/15\n",
            "41/41 [==============================] - 3s 67ms/step - loss: 5.6741 - accuracy: 0.0443\n",
            "Epoch 3/15\n",
            "41/41 [==============================] - 2s 53ms/step - loss: 5.4045 - accuracy: 0.0504\n",
            "Epoch 4/15\n",
            "41/41 [==============================] - 2s 42ms/step - loss: 5.3408 - accuracy: 0.0534\n",
            "Epoch 5/15\n",
            "41/41 [==============================] - 2s 42ms/step - loss: 5.3149 - accuracy: 0.0504\n",
            "Epoch 6/15\n",
            "41/41 [==============================] - 2s 42ms/step - loss: 5.3053 - accuracy: 0.0443\n",
            "Epoch 7/15\n",
            "41/41 [==============================] - 2s 43ms/step - loss: 5.2986 - accuracy: 0.0427\n",
            "Epoch 8/15\n",
            "41/41 [==============================] - 2s 43ms/step - loss: 5.2910 - accuracy: 0.0397\n",
            "Epoch 9/15\n",
            "41/41 [==============================] - 3s 70ms/step - loss: 5.2872 - accuracy: 0.0336\n",
            "Epoch 10/15\n",
            "41/41 [==============================] - 2s 50ms/step - loss: 5.2822 - accuracy: 0.0336\n",
            "Epoch 11/15\n",
            "41/41 [==============================] - 2s 42ms/step - loss: 5.2720 - accuracy: 0.0382\n",
            "Epoch 12/15\n",
            "41/41 [==============================] - 2s 43ms/step - loss: 5.2406 - accuracy: 0.0382\n",
            "Epoch 13/15\n",
            "41/41 [==============================] - 2s 42ms/step - loss: 5.2435 - accuracy: 0.0489\n",
            "Epoch 14/15\n",
            "41/41 [==============================] - 2s 42ms/step - loss: 5.2227 - accuracy: 0.0427\n",
            "Epoch 15/15\n",
            "41/41 [==============================] - 2s 43ms/step - loss: 5.2027 - accuracy: 0.0550\n"
          ]
        },
        {
          "output_type": "execute_result",
          "data": {
            "text/plain": [
              "<keras.src.callbacks.History at 0x7cb453b096f0>"
            ]
          },
          "metadata": {},
          "execution_count": 153
        }
      ]
    },
    {
      "cell_type": "code",
      "source": [
        "test_sents = (\n",
        "    \"Convoluted Lies, it's the end that you\",\n",
        "    'Everywhere I go',\n",
        "    \"Oh no, they'll never let go Of something you said ten years ago\",\n",
        "    \"Welcome to my other side Hello it’s Mz. Hyde!\",\n",
        "    \"I feel like I'm dying I got one foot in the ground Never knew what love was Until you came around\",\n",
        "    \"Your mouth was never one to trust, you're always speaking out Falling far behind, falling out of line\",\n",
        "    \"Better back down, you're in my domain Got the whole crowd screaming out our name\",\n",
        "    \"You make me wanna die I'll never be good enough You make me wanna die\",\n",
        "    \"Standing on the edge you'll never get enough I'll be your pusher now now Be your pusher now\"\n",
        "    )\n",
        "for sentence in test_sents:\n",
        "  print(generate(sentence, model_rock3, vec_size=50, sequence_len=10))"
      ],
      "metadata": {
        "colab": {
          "base_uri": "https://localhost:8080/"
        },
        "id": "9BYvO8nE2FGZ",
        "outputId": "f51937e7-d930-42d0-c367-eb652fa83a79"
      },
      "execution_count": null,
      "outputs": [
        {
          "output_type": "stream",
          "name": "stdout",
          "text": [
            "Convoluted Lies, it's the end that you remembered ending chew cry coughing dopamine fingers murderer lotta dove\n",
            "Everywhere I go dubs ocean clear east outsiders Everybody Barbarian Stuffed grieve sound\n",
            "Oh no, they'll never let go Of something you said ten years ago desperation Faded meaning Gods LYRICS circling Judy girlies butcher clay\n",
            "Welcome to my other side Hello it’s Mz. Hyde! huh Time Reckless allowed fuckin Blinding Prepare beater carry heavy\n",
            "I feel like I'm dying I got one foot in the ground Never knew what love was Until you came around Angeles be ourselves giving obscene guide celebrities Charlie chaser believed\n",
            "Your mouth was never one to trust, you're always speaking out Falling far behind, falling out of line Such ricochet toll virtue Hijacked Bien hardwired Thick lightly godless\n",
            "Better back down, you're in my domain Got the whole crowd screaming out our name walks Honda Salute anymore Era time Pressing figure DeSoto Multiply\n",
            "You make me wanna die I'll never be good enough You make me wanna die MySpaced exceed than blacken Sad bags prey Story cocked eve\n",
            "Standing on the edge you'll never get enough I'll be your pusher now now Be your pusher now Friends toward sound sudden staring tits Ohh changes howl shoulders\n"
          ]
        }
      ]
    },
    {
      "cell_type": "markdown",
      "source": [
        "*it's the end that you* **remembered**. Немного лучше, я бы сказал, но всё ещё рандомно. Плюс совсем нет пунктуации."
      ],
      "metadata": {
        "id": "sUdv8Rua2EyN"
      }
    },
    {
      "cell_type": "code",
      "source": [
        "model_rock3 = build_model_type3(X_rock_large, len(encode_BOW))\n",
        "model_rock3.fit(X_rock_large, y_rock_large, epochs=15, batch_size=16)"
      ],
      "metadata": {
        "colab": {
          "base_uri": "https://localhost:8080/"
        },
        "id": "21H-cy2C2H_-",
        "outputId": "5b730aaf-4d75-40ad-8d4f-f5717a54aac0"
      },
      "execution_count": null,
      "outputs": [
        {
          "output_type": "stream",
          "name": "stdout",
          "text": [
            "Epoch 1/15\n",
            "41/41 [==============================] - 6s 87ms/step - loss: 7.8968 - accuracy: 0.0445\n",
            "Epoch 2/15\n",
            "41/41 [==============================] - 4s 90ms/step - loss: 5.6634 - accuracy: 0.0384\n",
            "Epoch 3/15\n",
            "41/41 [==============================] - 3s 71ms/step - loss: 5.4180 - accuracy: 0.0507\n",
            "Epoch 4/15\n",
            "41/41 [==============================] - 3s 70ms/step - loss: 5.3451 - accuracy: 0.0538\n",
            "Epoch 5/15\n",
            "41/41 [==============================] - 3s 82ms/step - loss: 5.3226 - accuracy: 0.0492\n",
            "Epoch 6/15\n",
            "41/41 [==============================] - 4s 93ms/step - loss: 5.3157 - accuracy: 0.0399\n",
            "Epoch 7/15\n",
            "41/41 [==============================] - 3s 70ms/step - loss: 5.2989 - accuracy: 0.0369\n",
            "Epoch 8/15\n",
            "41/41 [==============================] - 3s 71ms/step - loss: 5.2864 - accuracy: 0.0430\n",
            "Epoch 9/15\n",
            "41/41 [==============================] - 3s 75ms/step - loss: 5.2775 - accuracy: 0.0522\n",
            "Epoch 10/15\n",
            "41/41 [==============================] - 4s 101ms/step - loss: 5.4031 - accuracy: 0.0461\n",
            "Epoch 11/15\n",
            "41/41 [==============================] - 3s 71ms/step - loss: 5.4817 - accuracy: 0.0399\n",
            "Epoch 12/15\n",
            "41/41 [==============================] - 3s 70ms/step - loss: 5.6295 - accuracy: 0.0276\n",
            "Epoch 13/15\n",
            "41/41 [==============================] - 3s 71ms/step - loss: 5.3410 - accuracy: 0.0476\n",
            "Epoch 14/15\n",
            "41/41 [==============================] - 4s 106ms/step - loss: 5.2754 - accuracy: 0.0430\n",
            "Epoch 15/15\n",
            "41/41 [==============================] - 3s 71ms/step - loss: 5.2492 - accuracy: 0.0415\n"
          ]
        },
        {
          "output_type": "execute_result",
          "data": {
            "text/plain": [
              "<keras.src.callbacks.History at 0x7cb4597205b0>"
            ]
          },
          "metadata": {},
          "execution_count": 155
        }
      ]
    },
    {
      "cell_type": "code",
      "source": [
        "test_sents = (\n",
        "    \"Convoluted Lies, it's the end that you\",\n",
        "    'Everywhere I go',\n",
        "    \"Oh no, they'll never let go Of something you said ten years ago\",\n",
        "    \"Welcome to my other side Hello it’s Mz. Hyde!\",\n",
        "    \"I feel like I'm dying I got one foot in the ground Never knew what love was Until you came around\",\n",
        "    \"Your mouth was never one to trust, you're always speaking out Falling far behind, falling out of line\",\n",
        "    \"Better back down, you're in my domain Got the whole crowd screaming out our name\",\n",
        "    \"You make me wanna die I'll never be good enough You make me wanna die\",\n",
        "    \"Standing on the edge you'll never get enough I'll be your pusher now now Be your pusher now\"\n",
        "    )\n",
        "for sentence in test_sents:\n",
        "  print(generate(sentence, model_rock3, vec_size=100, sequence_len=10))"
      ],
      "metadata": {
        "colab": {
          "base_uri": "https://localhost:8080/"
        },
        "id": "HLbV6lZM2Ra3",
        "outputId": "99f93183-26c7-4d20-8751-82db9d0d4b29"
      },
      "execution_count": null,
      "outputs": [
        {
          "output_type": "stream",
          "name": "stdout",
          "text": [
            "Convoluted Lies, it's the end that you watch again down heart? bells shadows city over)\n",
            "Everywhere I go now forever no bone walker do own die over this\n",
            "Oh no, they'll never let go Of something you said ten years ago everyday up over lead now slow me? you goodnight\n",
            "Welcome to my other side Hello it’s Mz. Hyde! goddamn UNDEAD) here own goodnight fly more golden?\n",
            "I feel like I'm dying I got one foot in the ground Never knew what love was Until you came around) return heart ooh me need? burn here us\n",
            "Your mouth was never one to trust, you're always speaking out Falling far behind, falling out of line return dark up you this to go champions overboard another\n",
            "Better back down, you're in my domain Got the whole crowd screaming out our name? yeah! Faggot always me! ones tomorrow disappear\n",
            "You make me wanna die I'll never be good enough You make me wanna die out say you would frequency sky! Superhero Forever me\n",
            "Standing on the edge you'll never get enough I'll be your pusher now now Be your pusher now more overcome Reverse me stone want stone this it me\n"
          ]
        }
      ]
    },
    {
      "cell_type": "markdown",
      "source": [
        "Рандом, есть пунктуация."
      ],
      "metadata": {
        "id": "TGqY_k4m2SB8"
      }
    },
    {
      "cell_type": "markdown",
      "source": [
        "Кажется, в случае с этой моделью увеличение контекстного окна не особо помогло, что может быть обосновано достаточно простой архитектурой модели -- там используются только SimpleRNN слои."
      ],
      "metadata": {
        "id": "vqctKWdk8Njh"
      }
    },
    {
      "cell_type": "markdown",
      "source": [
        "## Conclusion"
      ],
      "metadata": {
        "id": "XnLBuuKY2SaE"
      }
    },
    {
      "cell_type": "markdown",
      "source": [
        "Наиболее приемлемые результаты получились при использовании первых двух моделей с наибольшим контекстным окном. Последняя модель обучается быстро, но выдаваемые результаты оставляют желать лучшего. Что-то более осмысленное, чем пары рядом стоящих токенов, получить не удалось, в целом генерация очень рандомная, что, впрочем, может быть обусловлено особенностями собранного датасета."
      ],
      "metadata": {
        "id": "93UKevid2YRj"
      }
    },
    {
      "cell_type": "markdown",
      "source": [
        "# Overall Conclusion"
      ],
      "metadata": {
        "id": "UWpfTaAR2ULu"
      }
    },
    {
      "cell_type": "markdown",
      "source": [
        "Кажется, на небольшом датасете с песнями результаты вышли получше, чем на текстах новостей. В обоих случаях модели генерируют рандомные токены, но на втором датасете удалось достичь генерации более-менее приемлемых пар слов, что уже лучше, чем идущие подряд имена в первом датасете. Я считаю, специфика текстов второго датасета могла сильно повлиять на генерацию -- вероятно, в них мало общих паттернов. Также при генерации было заметно, что некоторая мета-информация не была удалена, что не очень хорошо, но не сильно повлияло на генерацию. Тем не менее, первый датасет тоже оказался довольно специфичным, и модель сильно цеплялась за именованные сущности, которых там, вероятно, было много."
      ],
      "metadata": {
        "id": "-zazjbqG2Ytj"
      }
    }
  ]
}